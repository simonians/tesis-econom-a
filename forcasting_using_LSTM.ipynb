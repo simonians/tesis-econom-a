{
  "cells": [
    {
      "cell_type": "markdown",
      "metadata": {
        "id": "view-in-github",
        "colab_type": "text"
      },
      "source": [
        "<a href=\"https://colab.research.google.com/github/simonians/tesis-economia-fce-unc/blob/colab-project/forcasting_using_LSTM.ipynb\" target=\"_parent\"><img src=\"https://colab.research.google.com/assets/colab-badge.svg\" alt=\"Open In Colab\"/></a>"
      ]
    },
    {
      "cell_type": "markdown",
      "metadata": {
        "id": "TuY-SuKdMMpt"
      },
      "source": [
        "# Stock market forcasting using LSTM Recurrent Neural Networks "
      ]
    },
    {
      "cell_type": "code",
      "execution_count": 1,
      "metadata": {
        "id": "4RZa5VQ_ZeCO"
      },
      "outputs": [],
      "source": [
        "import pandas as pd\n",
        "import numpy as np\n",
        "import matplotlib.pyplot as plt\n",
        "import yfinance as yf\n",
        "import random\n",
        "from functools import reduce\n",
        "from sklearn.preprocessing import MinMaxScaler\n",
        "from sklearn.metrics import r2_score, mean_squared_error"
      ]
    },
    {
      "cell_type": "markdown",
      "metadata": {
        "id": "JB3hoRZYMyie"
      },
      "source": [
        "## Part 1: Data preparing"
      ]
    },
    {
      "cell_type": "markdown",
      "metadata": {
        "id": "yUct8umXNBTH"
      },
      "source": [
        "Primero definimos los tickers que utilizaremos a lo largo del proyecto. Para la estimación y pruebas de la performance de la red, elegiremos 4 tickers de algunas de las empresas más grandes e importantes de diferentes industrias. Los tickers seleccionados son: \n",
        "- GOOGL => Google de la industria tecnológica\n",
        "- JPM => JPMorgan Chase & Co. de la indsutria bancaria\n",
        "- MCD => McDonald's de la industria de comida rápida y real estate\n",
        "- HYG => iShares iBoxx $ High Yield Corporate Bond ETF es un ETF que busca replicar los resultados de inversión de un índice compuesto por bonos corporativos de alto rendimiento denominados en dólares de EE.UU."
      ]
    },
    {
      "cell_type": "code",
      "execution_count": 2,
      "metadata": {
        "id": "vgfLXSB9MGjK"
      },
      "outputs": [],
      "source": [
        "DEFAULT_TICKERS = ['JPM'] #, 'JPM', 'MCD', \"HYG\"\n",
        "START, END = \"2010-01-01\", \"2020-01-01\" # TEMP "
      ]
    },
    {
      "cell_type": "markdown",
      "metadata": {
        "id": "Ism_iCbEalWC"
      },
      "source": [
        "Para las estimaciones trabajaremos con los precios ajustados (adj close).\n",
        "**\"The adjusted closing price amends a stock's closing price to reflect that stock's value after accounting for any corporate actions.\"**"
      ]
    },
    {
      "cell_type": "code",
      "execution_count": 3,
      "metadata": {
        "id": "zdjLeJ2AMw1-"
      },
      "outputs": [],
      "source": [
        "# Use load_ticker to load the ticker information sent as parameter and the industry information price\n",
        "def load_ticker(ticker, industry='SPY', use_industry=False, start=START, end=END):\n",
        "    ticker_data = yf.download(ticker, start=start, end=end)\n",
        "    if use_industry:\n",
        "      ticker_data = ticker_data[['Close', 'Volume', 'High', 'Low']].rename(columns={'Close': 'Close_Price_%s' % (ticker), 'Volume': 'Volume', 'High': 'High_Price', 'Low': 'Low_Price'}) \n",
        "      industry_data = yf.download(industry, start=START, end=END)[['Close']].rename(columns={'Close': 'Close_Price_%s'% (industry)})\n",
        "      ticker_data = pd.merge(ticker_data, industry_data, how='left', on='Date')\n",
        "    else:\n",
        "      ticker_data = ticker_data[['Close', 'Volume', 'High', 'Low']].rename(columns={'Close': 'Close_Price_%s' % (ticker), 'Volume': 'Volume', 'High': 'High_Price', 'Low': 'Low_Price'}) \n",
        "    return ticker_data"
      ]
    },
    {
      "cell_type": "code",
      "execution_count": 4,
      "metadata": {
        "id": "Rqh_-JrX5mRa"
      },
      "outputs": [],
      "source": [
        "def calculate_sma(days, df, ticker):\n",
        "  sma_df = df['Close_Price_%s' % (ticker)].rolling(window=days).mean().to_frame()\n",
        "  return sma_df.rename(columns={'Close_Price_%s' % (ticker):'%s_sma' % (ticker)})"
      ]
    },
    {
      "cell_type": "code",
      "execution_count": 5,
      "metadata": {
        "id": "q6Fp4apVaA3m"
      },
      "outputs": [],
      "source": [
        "def calculate_rsi(df, ticker):\n",
        "    delta = df['Close_Price_%s' % (ticker)].diff()\n",
        "    positive = delta.clip(lower=0)\n",
        "    negative = -delta.clip(upper=0)\n",
        "    ema_positive = positive.ewm(alpha=1/14, min_periods=14).mean()\n",
        "    ema_negative = negative.ewm(alpha=1/14, min_periods=14).mean()\n",
        "    rsi = 100 - 100 / (1 + ema_positive / ema_negative)\n",
        "    rsi = rsi.to_frame()\n",
        "    return rsi.rename(columns={'Close_Price_%s' % (ticker):'%s_rsi' % (ticker)})"
      ]
    },
    {
      "cell_type": "code",
      "execution_count": 6,
      "metadata": {
        "id": "7JXIxlLZaug2"
      },
      "outputs": [],
      "source": [
        "def get_random_ticker(tickers):\n",
        "    \"\"\"\n",
        "    Recibe una lista de tickers y devuelve uno aleatorio.\n",
        "    \"\"\"\n",
        "    return random.choice(tickers)"
      ]
    },
    {
      "cell_type": "code",
      "execution_count": 7,
      "metadata": {
        "colab": {
          "base_uri": "https://localhost:8080/"
        },
        "id": "DVXp8s7baJL_",
        "outputId": "7c76cbde-b8a2-475a-b4d7-d939c81a167f"
      },
      "outputs": [
        {
          "output_type": "stream",
          "name": "stdout",
          "text": [
            "[*********************100%***********************]  1 of 1 completed\n",
            "[*********************100%***********************]  1 of 1 completed\n"
          ]
        }
      ],
      "source": [
        "ticker_name = get_random_ticker(DEFAULT_TICKERS)\n",
        "ticker = load_ticker(ticker_name, use_industry=True)\n",
        "rsi = calculate_rsi(ticker, ticker_name)\n",
        "sma = calculate_sma(20, ticker, ticker_name)"
      ]
    },
    {
      "cell_type": "code",
      "execution_count": 8,
      "metadata": {
        "id": "BtZDe0OE5URL"
      },
      "outputs": [],
      "source": [
        "def merge_dfs(dfs_list):\n",
        "  merged_df = reduce(lambda left, right: pd.merge(left, right, on='Date'), dfs_list)\n",
        "  return merged_df.dropna()"
      ]
    },
    {
      "cell_type": "code",
      "execution_count": 9,
      "metadata": {
        "id": "X8IDyHnsjGpC"
      },
      "outputs": [],
      "source": [
        "ticker_df_final = merge_dfs([ticker, rsi, sma])"
      ]
    },
    {
      "cell_type": "code",
      "execution_count": 10,
      "metadata": {
        "colab": {
          "base_uri": "https://localhost:8080/",
          "height": 693
        },
        "id": "6dVJp3BRbb15",
        "outputId": "ed0fbc32-3796-459c-d806-758d5e3a0a21"
      },
      "outputs": [
        {
          "output_type": "execute_result",
          "data": {
            "text/plain": [
              "            Close_Price_JPM    Volume  High_Price   Low_Price  \\\n",
              "Date                                                            \n",
              "2010-02-01        39.630001  37408200   39.930000   38.950001   \n",
              "2010-02-02        40.549999  45968500   40.680000   39.700001   \n",
              "2010-02-03        40.290001  37373300   41.099998   40.169998   \n",
              "2010-02-04        38.349998  57211800   39.919998   38.349998   \n",
              "2010-02-05        38.299999  75224100   38.880001   37.029999   \n",
              "...                     ...       ...         ...         ...   \n",
              "2019-12-24       137.580002   3324300  137.630005  137.059998   \n",
              "2019-12-26       139.039993   6770900  139.100006  137.779999   \n",
              "2019-12-27       139.139999   7868200  139.770004  138.669998   \n",
              "2019-12-30       138.630005   6963000  140.080002  138.470001   \n",
              "2019-12-31       139.399994   7201600  139.479996  138.289993   \n",
              "\n",
              "            Close_Price_SPY    JPM_rsi     JPM_sma  \n",
              "Date                                                \n",
              "2010-02-01       109.059998  35.773063   42.098500  \n",
              "2010-02-02       110.379997  43.244476   41.983500  \n",
              "2010-02-03       109.830002  41.765795   41.814000  \n",
              "2010-02-04       106.440002  32.763543   41.535500  \n",
              "2010-02-05       106.660004  32.568703   41.211000  \n",
              "...                     ...        ...         ...  \n",
              "2019-12-24       321.230011  68.430560  134.901498  \n",
              "2019-12-26       322.940002  72.464635  135.269998  \n",
              "2019-12-27       322.859985  72.721765  135.623998  \n",
              "2019-12-30       321.079987  69.174194  135.967499  \n",
              "2019-12-31       321.859985  71.439545  136.363998  \n",
              "\n",
              "[2497 rows x 7 columns]"
            ],
            "text/html": [
              "\n",
              "  <div id=\"df-41fac6d7-edf3-4a82-b291-4da25fda0b83\">\n",
              "    <div class=\"colab-df-container\">\n",
              "      <div>\n",
              "<style scoped>\n",
              "    .dataframe tbody tr th:only-of-type {\n",
              "        vertical-align: middle;\n",
              "    }\n",
              "\n",
              "    .dataframe tbody tr th {\n",
              "        vertical-align: top;\n",
              "    }\n",
              "\n",
              "    .dataframe thead th {\n",
              "        text-align: right;\n",
              "    }\n",
              "</style>\n",
              "<table border=\"1\" class=\"dataframe\">\n",
              "  <thead>\n",
              "    <tr style=\"text-align: right;\">\n",
              "      <th></th>\n",
              "      <th>Close_Price_JPM</th>\n",
              "      <th>Volume</th>\n",
              "      <th>High_Price</th>\n",
              "      <th>Low_Price</th>\n",
              "      <th>Close_Price_SPY</th>\n",
              "      <th>JPM_rsi</th>\n",
              "      <th>JPM_sma</th>\n",
              "    </tr>\n",
              "    <tr>\n",
              "      <th>Date</th>\n",
              "      <th></th>\n",
              "      <th></th>\n",
              "      <th></th>\n",
              "      <th></th>\n",
              "      <th></th>\n",
              "      <th></th>\n",
              "      <th></th>\n",
              "    </tr>\n",
              "  </thead>\n",
              "  <tbody>\n",
              "    <tr>\n",
              "      <th>2010-02-01</th>\n",
              "      <td>39.630001</td>\n",
              "      <td>37408200</td>\n",
              "      <td>39.930000</td>\n",
              "      <td>38.950001</td>\n",
              "      <td>109.059998</td>\n",
              "      <td>35.773063</td>\n",
              "      <td>42.098500</td>\n",
              "    </tr>\n",
              "    <tr>\n",
              "      <th>2010-02-02</th>\n",
              "      <td>40.549999</td>\n",
              "      <td>45968500</td>\n",
              "      <td>40.680000</td>\n",
              "      <td>39.700001</td>\n",
              "      <td>110.379997</td>\n",
              "      <td>43.244476</td>\n",
              "      <td>41.983500</td>\n",
              "    </tr>\n",
              "    <tr>\n",
              "      <th>2010-02-03</th>\n",
              "      <td>40.290001</td>\n",
              "      <td>37373300</td>\n",
              "      <td>41.099998</td>\n",
              "      <td>40.169998</td>\n",
              "      <td>109.830002</td>\n",
              "      <td>41.765795</td>\n",
              "      <td>41.814000</td>\n",
              "    </tr>\n",
              "    <tr>\n",
              "      <th>2010-02-04</th>\n",
              "      <td>38.349998</td>\n",
              "      <td>57211800</td>\n",
              "      <td>39.919998</td>\n",
              "      <td>38.349998</td>\n",
              "      <td>106.440002</td>\n",
              "      <td>32.763543</td>\n",
              "      <td>41.535500</td>\n",
              "    </tr>\n",
              "    <tr>\n",
              "      <th>2010-02-05</th>\n",
              "      <td>38.299999</td>\n",
              "      <td>75224100</td>\n",
              "      <td>38.880001</td>\n",
              "      <td>37.029999</td>\n",
              "      <td>106.660004</td>\n",
              "      <td>32.568703</td>\n",
              "      <td>41.211000</td>\n",
              "    </tr>\n",
              "    <tr>\n",
              "      <th>...</th>\n",
              "      <td>...</td>\n",
              "      <td>...</td>\n",
              "      <td>...</td>\n",
              "      <td>...</td>\n",
              "      <td>...</td>\n",
              "      <td>...</td>\n",
              "      <td>...</td>\n",
              "    </tr>\n",
              "    <tr>\n",
              "      <th>2019-12-24</th>\n",
              "      <td>137.580002</td>\n",
              "      <td>3324300</td>\n",
              "      <td>137.630005</td>\n",
              "      <td>137.059998</td>\n",
              "      <td>321.230011</td>\n",
              "      <td>68.430560</td>\n",
              "      <td>134.901498</td>\n",
              "    </tr>\n",
              "    <tr>\n",
              "      <th>2019-12-26</th>\n",
              "      <td>139.039993</td>\n",
              "      <td>6770900</td>\n",
              "      <td>139.100006</td>\n",
              "      <td>137.779999</td>\n",
              "      <td>322.940002</td>\n",
              "      <td>72.464635</td>\n",
              "      <td>135.269998</td>\n",
              "    </tr>\n",
              "    <tr>\n",
              "      <th>2019-12-27</th>\n",
              "      <td>139.139999</td>\n",
              "      <td>7868200</td>\n",
              "      <td>139.770004</td>\n",
              "      <td>138.669998</td>\n",
              "      <td>322.859985</td>\n",
              "      <td>72.721765</td>\n",
              "      <td>135.623998</td>\n",
              "    </tr>\n",
              "    <tr>\n",
              "      <th>2019-12-30</th>\n",
              "      <td>138.630005</td>\n",
              "      <td>6963000</td>\n",
              "      <td>140.080002</td>\n",
              "      <td>138.470001</td>\n",
              "      <td>321.079987</td>\n",
              "      <td>69.174194</td>\n",
              "      <td>135.967499</td>\n",
              "    </tr>\n",
              "    <tr>\n",
              "      <th>2019-12-31</th>\n",
              "      <td>139.399994</td>\n",
              "      <td>7201600</td>\n",
              "      <td>139.479996</td>\n",
              "      <td>138.289993</td>\n",
              "      <td>321.859985</td>\n",
              "      <td>71.439545</td>\n",
              "      <td>136.363998</td>\n",
              "    </tr>\n",
              "  </tbody>\n",
              "</table>\n",
              "<p>2497 rows × 7 columns</p>\n",
              "</div>\n",
              "      <button class=\"colab-df-convert\" onclick=\"convertToInteractive('df-41fac6d7-edf3-4a82-b291-4da25fda0b83')\"\n",
              "              title=\"Convert this dataframe to an interactive table.\"\n",
              "              style=\"display:none;\">\n",
              "        \n",
              "  <svg xmlns=\"http://www.w3.org/2000/svg\" height=\"24px\"viewBox=\"0 0 24 24\"\n",
              "       width=\"24px\">\n",
              "    <path d=\"M0 0h24v24H0V0z\" fill=\"none\"/>\n",
              "    <path d=\"M18.56 5.44l.94 2.06.94-2.06 2.06-.94-2.06-.94-.94-2.06-.94 2.06-2.06.94zm-11 1L8.5 8.5l.94-2.06 2.06-.94-2.06-.94L8.5 2.5l-.94 2.06-2.06.94zm10 10l.94 2.06.94-2.06 2.06-.94-2.06-.94-.94-2.06-.94 2.06-2.06.94z\"/><path d=\"M17.41 7.96l-1.37-1.37c-.4-.4-.92-.59-1.43-.59-.52 0-1.04.2-1.43.59L10.3 9.45l-7.72 7.72c-.78.78-.78 2.05 0 2.83L4 21.41c.39.39.9.59 1.41.59.51 0 1.02-.2 1.41-.59l7.78-7.78 2.81-2.81c.8-.78.8-2.07 0-2.86zM5.41 20L4 18.59l7.72-7.72 1.47 1.35L5.41 20z\"/>\n",
              "  </svg>\n",
              "      </button>\n",
              "      \n",
              "  <style>\n",
              "    .colab-df-container {\n",
              "      display:flex;\n",
              "      flex-wrap:wrap;\n",
              "      gap: 12px;\n",
              "    }\n",
              "\n",
              "    .colab-df-convert {\n",
              "      background-color: #E8F0FE;\n",
              "      border: none;\n",
              "      border-radius: 50%;\n",
              "      cursor: pointer;\n",
              "      display: none;\n",
              "      fill: #1967D2;\n",
              "      height: 32px;\n",
              "      padding: 0 0 0 0;\n",
              "      width: 32px;\n",
              "    }\n",
              "\n",
              "    .colab-df-convert:hover {\n",
              "      background-color: #E2EBFA;\n",
              "      box-shadow: 0px 1px 2px rgba(60, 64, 67, 0.3), 0px 1px 3px 1px rgba(60, 64, 67, 0.15);\n",
              "      fill: #174EA6;\n",
              "    }\n",
              "\n",
              "    [theme=dark] .colab-df-convert {\n",
              "      background-color: #3B4455;\n",
              "      fill: #D2E3FC;\n",
              "    }\n",
              "\n",
              "    [theme=dark] .colab-df-convert:hover {\n",
              "      background-color: #434B5C;\n",
              "      box-shadow: 0px 1px 3px 1px rgba(0, 0, 0, 0.15);\n",
              "      filter: drop-shadow(0px 1px 2px rgba(0, 0, 0, 0.3));\n",
              "      fill: #FFFFFF;\n",
              "    }\n",
              "  </style>\n",
              "\n",
              "      <script>\n",
              "        const buttonEl =\n",
              "          document.querySelector('#df-41fac6d7-edf3-4a82-b291-4da25fda0b83 button.colab-df-convert');\n",
              "        buttonEl.style.display =\n",
              "          google.colab.kernel.accessAllowed ? 'block' : 'none';\n",
              "\n",
              "        async function convertToInteractive(key) {\n",
              "          const element = document.querySelector('#df-41fac6d7-edf3-4a82-b291-4da25fda0b83');\n",
              "          const dataTable =\n",
              "            await google.colab.kernel.invokeFunction('convertToInteractive',\n",
              "                                                     [key], {});\n",
              "          if (!dataTable) return;\n",
              "\n",
              "          const docLinkHtml = 'Like what you see? Visit the ' +\n",
              "            '<a target=\"_blank\" href=https://colab.research.google.com/notebooks/data_table.ipynb>data table notebook</a>'\n",
              "            + ' to learn more about interactive tables.';\n",
              "          element.innerHTML = '';\n",
              "          dataTable['output_type'] = 'display_data';\n",
              "          await google.colab.output.renderOutput(dataTable, element);\n",
              "          const docLink = document.createElement('div');\n",
              "          docLink.innerHTML = docLinkHtml;\n",
              "          element.appendChild(docLink);\n",
              "        }\n",
              "      </script>\n",
              "    </div>\n",
              "  </div>\n",
              "  "
            ]
          },
          "metadata": {},
          "execution_count": 10
        }
      ],
      "source": [
        "ticker_df_final"
      ]
    },
    {
      "cell_type": "markdown",
      "metadata": {
        "id": "SeFhg0EZ63_7"
      },
      "source": [
        "## Part 2: Data processing"
      ]
    },
    {
      "cell_type": "markdown",
      "metadata": {
        "id": "L6UoHjKe7LdG"
      },
      "source": [
        "### Step 1: División conjunto de entrenamiento y test"
      ]
    },
    {
      "cell_type": "markdown",
      "metadata": {
        "id": "0FVuDNRu8B6y"
      },
      "source": [
        "Primer punto es la separación del total de datos en un conjunto de entrenamiento y uno para testeo / pruebas. Para esto definimos una función que recibe como parámetro el dataframe a separar y un valor (entre 0-1) que representa el porcentaje del df que queremos utilizar para entrenamiento."
      ]
    },
    {
      "cell_type": "code",
      "execution_count": 11,
      "metadata": {
        "id": "7YGIV69b68gG"
      },
      "outputs": [],
      "source": [
        "def train_test_split(df, percentage_for_training=0.8):\n",
        "  # Cálculo del índice correspondiente al 80% de las filas\n",
        "  index_percentage = int(len(df) * percentage_for_training)\n",
        "\n",
        "  # División del DataFrame en dos partes: entrenamiento y prueba\n",
        "  train_df = df[:index_percentage]\n",
        "  test_df = df[index_percentage:]\n",
        "  return train_df, test_df"
      ]
    },
    {
      "cell_type": "code",
      "execution_count": 12,
      "metadata": {
        "id": "DGJmUClL7zCg"
      },
      "outputs": [],
      "source": [
        "train_df, test_df = train_test_split(ticker_df_final)"
      ]
    },
    {
      "cell_type": "code",
      "execution_count": 13,
      "metadata": {
        "colab": {
          "base_uri": "https://localhost:8080/",
          "height": 472
        },
        "id": "5eofdsyBGtLq",
        "outputId": "2282fd30-3684-4a32-91c3-e89481fed14b"
      },
      "outputs": [
        {
          "output_type": "display_data",
          "data": {
            "text/plain": [
              "<Figure size 640x480 with 1 Axes>"
            ],
            "image/png": "[encoded data removed]"
          },
          "metadata": {}
        }
      ],
      "source": [
        "plt.plot(train_df['Close_Price_%s' % (ticker_name)], color = 'red', label = 'Train DF')\n",
        "plt.plot(test_df['Close_Price_%s' % (ticker_name)], color = 'blue', label = 'Test DF')\n",
        "plt.title('Stock Price Visualization')\n",
        "plt.xlabel('Time')\n",
        "plt.ylabel('jpm Stock Price')\n",
        "plt.legend()\n",
        "plt.show()"
      ]
    },
    {
      "cell_type": "markdown",
      "metadata": {
        "id": "O3HWmgBxBN7o"
      },
      "source": [
        "### Step 2: Feature scaling"
      ]
    },
    {
      "cell_type": "code",
      "execution_count": 14,
      "metadata": {
        "id": "g2tqH8yw1UJP"
      },
      "outputs": [],
      "source": [
        "scaler = MinMaxScaler(feature_range = (0,1))"
      ]
    },
    {
      "cell_type": "code",
      "execution_count": 15,
      "metadata": {
        "id": "ec2_1gv65XVQ"
      },
      "outputs": [],
      "source": [
        "def make_normalization(df_to_normalize, scaler):\n",
        "  return scaler.fit_transform(df_to_normalize)"
      ]
    },
    {
      "cell_type": "markdown",
      "metadata": {
        "id": "hEHFILSoEziu"
      },
      "source": [
        "Normalización del df de entrenamiento. Creamos una función que retornará, para cada fila del df pasado por parámetro, el valor valor normalizado, es decir:\n",
        "  - Para cada columna de la fila del df, restarle el mínimo y devidirlo por la diferencia entre el maximo y el mínimo del conjunto (de la columna bajo análisis).\n",
        "Para esto, creamos una función que la denominamos normalization(), que recibe por parámetro un dataframe a normalizar. Utiliza como método de normalización el MinMaxScaler de la librería sklearn."
      ]
    },
    {
      "cell_type": "code",
      "execution_count": 16,
      "metadata": {
        "id": "4afhdGyXBThu"
      },
      "outputs": [],
      "source": [
        "training_set_scaled = make_normalization(train_df, scaler)"
      ]
    },
    {
      "cell_type": "code",
      "execution_count": null,
      "metadata": {
        "id": "3VKfcGjnmw8U"
      },
      "outputs": [],
      "source": [
        "train_df"
      ]
    },
    {
      "cell_type": "code",
      "execution_count": 18,
      "metadata": {
        "colab": {
          "base_uri": "https://localhost:8080/",
          "height": 488
        },
        "id": "YtEl7lfiJFsx",
        "outputId": "c436e8cf-b5c4-43ba-8658-db3a945f7be6"
      },
      "outputs": [
        {
          "output_type": "execute_result",
          "data": {
            "text/plain": [
              "      Close_Price    Volume  High_Price  Low_Price  Close_Price_Industry  \\\n",
              "0        0.139474  0.157893    0.133498   0.138146              0.040493   \n",
              "1        0.150880  0.197967    0.142769   0.147480              0.048285   \n",
              "2        0.147657  0.157730    0.147960   0.153329              0.045039   \n",
              "3        0.123605  0.250600    0.133375   0.130678              0.025028   \n",
              "4        0.122985  0.334922    0.120519   0.114250              0.026327   \n",
              "...           ...       ...         ...        ...                   ...   \n",
              "1992     0.984503  0.017605    0.972930   0.987057              0.977923   \n",
              "1993     0.973965  0.024557    0.978368   0.984319              0.971962   \n",
              "1994     0.986486  0.046340    0.975154   0.982701              0.983236   \n",
              "1995     0.987850  0.038485    0.980964   0.991039              0.993271   \n",
              "1996     1.000000  0.043413    1.000000   1.000000              1.000000   \n",
              "\n",
              "           rsi       sma  \n",
              "0     0.275810  0.146004  \n",
              "1     0.380581  0.144482  \n",
              "2     0.359846  0.142240  \n",
              "3     0.233607  0.138556  \n",
              "4     0.230875  0.134264  \n",
              "...        ...       ...  \n",
              "1992  0.679587  0.993379  \n",
              "1993  0.610527  0.994980  \n",
              "1994  0.660852  0.997070  \n",
              "1995  0.666174  0.997804  \n",
              "1996  0.712156  1.000000  \n",
              "\n",
              "[1997 rows x 7 columns]"
            ],
            "text/html": [
              "\n",
              "  <div id=\"df-58a96f41-90cd-4168-a379-24fc15077130\">\n",
              "    <div class=\"colab-df-container\">\n",
              "      <div>\n",
              "<style scoped>\n",
              "    .dataframe tbody tr th:only-of-type {\n",
              "        vertical-align: middle;\n",
              "    }\n",
              "\n",
              "    .dataframe tbody tr th {\n",
              "        vertical-align: top;\n",
              "    }\n",
              "\n",
              "    .dataframe thead th {\n",
              "        text-align: right;\n",
              "    }\n",
              "</style>\n",
              "<table border=\"1\" class=\"dataframe\">\n",
              "  <thead>\n",
              "    <tr style=\"text-align: right;\">\n",
              "      <th></th>\n",
              "      <th>Close_Price</th>\n",
              "      <th>Volume</th>\n",
              "      <th>High_Price</th>\n",
              "      <th>Low_Price</th>\n",
              "      <th>Close_Price_Industry</th>\n",
              "      <th>rsi</th>\n",
              "      <th>sma</th>\n",
              "    </tr>\n",
              "  </thead>\n",
              "  <tbody>\n",
              "    <tr>\n",
              "      <th>0</th>\n",
              "      <td>0.139474</td>\n",
              "      <td>0.157893</td>\n",
              "      <td>0.133498</td>\n",
              "      <td>0.138146</td>\n",
              "      <td>0.040493</td>\n",
              "      <td>0.275810</td>\n",
              "      <td>0.146004</td>\n",
              "    </tr>\n",
              "    <tr>\n",
              "      <th>1</th>\n",
              "      <td>0.150880</td>\n",
              "      <td>0.197967</td>\n",
              "      <td>0.142769</td>\n",
              "      <td>0.147480</td>\n",
              "      <td>0.048285</td>\n",
              "      <td>0.380581</td>\n",
              "      <td>0.144482</td>\n",
              "    </tr>\n",
              "    <tr>\n",
              "      <th>2</th>\n",
              "      <td>0.147657</td>\n",
              "      <td>0.157730</td>\n",
              "      <td>0.147960</td>\n",
              "      <td>0.153329</td>\n",
              "      <td>0.045039</td>\n",
              "      <td>0.359846</td>\n",
              "      <td>0.142240</td>\n",
              "    </tr>\n",
              "    <tr>\n",
              "      <th>3</th>\n",
              "      <td>0.123605</td>\n",
              "      <td>0.250600</td>\n",
              "      <td>0.133375</td>\n",
              "      <td>0.130678</td>\n",
              "      <td>0.025028</td>\n",
              "      <td>0.233607</td>\n",
              "      <td>0.138556</td>\n",
              "    </tr>\n",
              "    <tr>\n",
              "      <th>4</th>\n",
              "      <td>0.122985</td>\n",
              "      <td>0.334922</td>\n",
              "      <td>0.120519</td>\n",
              "      <td>0.114250</td>\n",
              "      <td>0.026327</td>\n",
              "      <td>0.230875</td>\n",
              "      <td>0.134264</td>\n",
              "    </tr>\n",
              "    <tr>\n",
              "      <th>...</th>\n",
              "      <td>...</td>\n",
              "      <td>...</td>\n",
              "      <td>...</td>\n",
              "      <td>...</td>\n",
              "      <td>...</td>\n",
              "      <td>...</td>\n",
              "      <td>...</td>\n",
              "    </tr>\n",
              "    <tr>\n",
              "      <th>1992</th>\n",
              "      <td>0.984503</td>\n",
              "      <td>0.017605</td>\n",
              "      <td>0.972930</td>\n",
              "      <td>0.987057</td>\n",
              "      <td>0.977923</td>\n",
              "      <td>0.679587</td>\n",
              "      <td>0.993379</td>\n",
              "    </tr>\n",
              "    <tr>\n",
              "      <th>1993</th>\n",
              "      <td>0.973965</td>\n",
              "      <td>0.024557</td>\n",
              "      <td>0.978368</td>\n",
              "      <td>0.984319</td>\n",
              "      <td>0.971962</td>\n",
              "      <td>0.610527</td>\n",
              "      <td>0.994980</td>\n",
              "    </tr>\n",
              "    <tr>\n",
              "      <th>1994</th>\n",
              "      <td>0.986486</td>\n",
              "      <td>0.046340</td>\n",
              "      <td>0.975154</td>\n",
              "      <td>0.982701</td>\n",
              "      <td>0.983236</td>\n",
              "      <td>0.660852</td>\n",
              "      <td>0.997070</td>\n",
              "    </tr>\n",
              "    <tr>\n",
              "      <th>1995</th>\n",
              "      <td>0.987850</td>\n",
              "      <td>0.038485</td>\n",
              "      <td>0.980964</td>\n",
              "      <td>0.991039</td>\n",
              "      <td>0.993271</td>\n",
              "      <td>0.666174</td>\n",
              "      <td>0.997804</td>\n",
              "    </tr>\n",
              "    <tr>\n",
              "      <th>1996</th>\n",
              "      <td>1.000000</td>\n",
              "      <td>0.043413</td>\n",
              "      <td>1.000000</td>\n",
              "      <td>1.000000</td>\n",
              "      <td>1.000000</td>\n",
              "      <td>0.712156</td>\n",
              "      <td>1.000000</td>\n",
              "    </tr>\n",
              "  </tbody>\n",
              "</table>\n",
              "<p>1997 rows × 7 columns</p>\n",
              "</div>\n",
              "      <button class=\"colab-df-convert\" onclick=\"convertToInteractive('df-58a96f41-90cd-4168-a379-24fc15077130')\"\n",
              "              title=\"Convert this dataframe to an interactive table.\"\n",
              "              style=\"display:none;\">\n",
              "        \n",
              "  <svg xmlns=\"http://www.w3.org/2000/svg\" height=\"24px\"viewBox=\"0 0 24 24\"\n",
              "       width=\"24px\">\n",
              "    <path d=\"M0 0h24v24H0V0z\" fill=\"none\"/>\n",
              "    <path d=\"M18.56 5.44l.94 2.06.94-2.06 2.06-.94-2.06-.94-.94-2.06-.94 2.06-2.06.94zm-11 1L8.5 8.5l.94-2.06 2.06-.94-2.06-.94L8.5 2.5l-.94 2.06-2.06.94zm10 10l.94 2.06.94-2.06 2.06-.94-2.06-.94-.94-2.06-.94 2.06-2.06.94z\"/><path d=\"M17.41 7.96l-1.37-1.37c-.4-.4-.92-.59-1.43-.59-.52 0-1.04.2-1.43.59L10.3 9.45l-7.72 7.72c-.78.78-.78 2.05 0 2.83L4 21.41c.39.39.9.59 1.41.59.51 0 1.02-.2 1.41-.59l7.78-7.78 2.81-2.81c.8-.78.8-2.07 0-2.86zM5.41 20L4 18.59l7.72-7.72 1.47 1.35L5.41 20z\"/>\n",
              "  </svg>\n",
              "      </button>\n",
              "      \n",
              "  <style>\n",
              "    .colab-df-container {\n",
              "      display:flex;\n",
              "      flex-wrap:wrap;\n",
              "      gap: 12px;\n",
              "    }\n",
              "\n",
              "    .colab-df-convert {\n",
              "      background-color: #E8F0FE;\n",
              "      border: none;\n",
              "      border-radius: 50%;\n",
              "      cursor: pointer;\n",
              "      display: none;\n",
              "      fill: #1967D2;\n",
              "      height: 32px;\n",
              "      padding: 0 0 0 0;\n",
              "      width: 32px;\n",
              "    }\n",
              "\n",
              "    .colab-df-convert:hover {\n",
              "      background-color: #E2EBFA;\n",
              "      box-shadow: 0px 1px 2px rgba(60, 64, 67, 0.3), 0px 1px 3px 1px rgba(60, 64, 67, 0.15);\n",
              "      fill: #174EA6;\n",
              "    }\n",
              "\n",
              "    [theme=dark] .colab-df-convert {\n",
              "      background-color: #3B4455;\n",
              "      fill: #D2E3FC;\n",
              "    }\n",
              "\n",
              "    [theme=dark] .colab-df-convert:hover {\n",
              "      background-color: #434B5C;\n",
              "      box-shadow: 0px 1px 3px 1px rgba(0, 0, 0, 0.15);\n",
              "      filter: drop-shadow(0px 1px 2px rgba(0, 0, 0, 0.3));\n",
              "      fill: #FFFFFF;\n",
              "    }\n",
              "  </style>\n",
              "\n",
              "      <script>\n",
              "        const buttonEl =\n",
              "          document.querySelector('#df-58a96f41-90cd-4168-a379-24fc15077130 button.colab-df-convert');\n",
              "        buttonEl.style.display =\n",
              "          google.colab.kernel.accessAllowed ? 'block' : 'none';\n",
              "\n",
              "        async function convertToInteractive(key) {\n",
              "          const element = document.querySelector('#df-58a96f41-90cd-4168-a379-24fc15077130');\n",
              "          const dataTable =\n",
              "            await google.colab.kernel.invokeFunction('convertToInteractive',\n",
              "                                                     [key], {});\n",
              "          if (!dataTable) return;\n",
              "\n",
              "          const docLinkHtml = 'Like what you see? Visit the ' +\n",
              "            '<a target=\"_blank\" href=https://colab.research.google.com/notebooks/data_table.ipynb>data table notebook</a>'\n",
              "            + ' to learn more about interactive tables.';\n",
              "          element.innerHTML = '';\n",
              "          dataTable['output_type'] = 'display_data';\n",
              "          await google.colab.output.renderOutput(dataTable, element);\n",
              "          const docLink = document.createElement('div');\n",
              "          docLink.innerHTML = docLinkHtml;\n",
              "          element.appendChild(docLink);\n",
              "        }\n",
              "      </script>\n",
              "    </div>\n",
              "  </div>\n",
              "  "
            ]
          },
          "metadata": {},
          "execution_count": 18
        }
      ],
      "source": [
        "column_names = ['Close_Price',\t'Volume',\t'High_Price',\t'Low_Price', 'Close_Price_Industry',\t'rsi',\t'sma']\n",
        "training_set_scaled_df = pd.DataFrame(training_set_scaled, columns=column_names)\n",
        "training_set_scaled_df"
      ]
    },
    {
      "cell_type": "markdown",
      "metadata": {
        "id": "N3f_z4WzFODU"
      },
      "source": [
        "### Step 3: Creatring data structure - feature matrix and target vector"
      ]
    },
    {
      "cell_type": "markdown",
      "metadata": {
        "id": "Rd7sTnIRKxGw"
      },
      "source": [
        "Al crear la estructura de datos lo que hacemos es crear dos arrays, X_train, y_train, donde:\n",
        "- X_train => es un vector de tantos elementos como el conjunto de entrenamiento, donde cada elemento representa 60 jornadas previas operadas que se utilizarán como input para el calculo del output del precio de la jornada estimada. Entre los inputs se encuentra el precio de cierre, volumen operado, precio máximo de la jornada, precio mínimo de la jornada, precio de cierre del SPY, el valor del RSI y SMA.  \n",
        "- y_train => array donde cada elemento representa el valor del precio de la acción en la jornada estimada, es decir el precio de cierre del día siguiente para cada fila del conjunto de entrenamiento"
      ]
    },
    {
      "cell_type": "code",
      "execution_count": 19,
      "metadata": {
        "id": "TKSIPPbPGooP"
      },
      "outputs": [],
      "source": [
        "def feature_matrix_target_vector_split(training_set):\n",
        "    X_train = []\n",
        "    y_train = []\n",
        "    timesteps = 60\n",
        "    total_times = len(training_set)\n",
        "    for step in range(timesteps, total_times):\n",
        "        X_train.append(training_set[step-timesteps:step, :]) # appendo los 60 valores de las variables independientes previas al precio que estoy estimando\n",
        "        y_train.append(training_set[step, 0]) # appendo el precio de la estimación\n",
        "    X_train, y_train = np.array(X_train), np.array(y_train)\n",
        "    return X_train, y_train"
      ]
    },
    {
      "cell_type": "code",
      "execution_count": 20,
      "metadata": {
        "id": "nrn21lgbMJub"
      },
      "outputs": [],
      "source": [
        "X_train, y_train = feature_matrix_target_vector_split(training_set_scaled)"
      ]
    },
    {
      "cell_type": "code",
      "execution_count": 21,
      "metadata": {
        "colab": {
          "base_uri": "https://localhost:8080/",
          "height": 488
        },
        "id": "_Vi0qVr-apyi",
        "outputId": "38419594-7f21-49f9-e7e9-5ef2b73b64bb"
      },
      "outputs": [
        {
          "output_type": "execute_result",
          "data": {
            "text/plain": [
              "    Close_Price    Volume  High_Price  Low_Price  Close_Price_Industry  \\\n",
              "0      0.139474  0.157893    0.133498   0.138146              0.040493   \n",
              "1      0.150880  0.197967    0.142769   0.147480              0.048285   \n",
              "2      0.147657  0.157730    0.147960   0.153329              0.045039   \n",
              "3      0.123605  0.250600    0.133375   0.130678              0.025028   \n",
              "4      0.122985  0.334922    0.120519   0.114250              0.026327   \n",
              "..          ...       ...         ...        ...                   ...   \n",
              "56     0.202827  0.278525    0.197651   0.201369              0.111091   \n",
              "57     0.205306  0.134840    0.197033   0.204107              0.115755   \n",
              "58     0.192289  0.183552    0.193820   0.197635              0.113039   \n",
              "59     0.173940  0.293127    0.188381   0.179838              0.096098   \n",
              "60     0.186958  0.210187    0.180222   0.185812              0.101411   \n",
              "\n",
              "         rsi       sma  \n",
              "0   0.275810  0.146004  \n",
              "1   0.380581  0.144482  \n",
              "2   0.359846  0.142240  \n",
              "3   0.233607  0.138556  \n",
              "4   0.230875  0.134264  \n",
              "..       ...       ...  \n",
              "56  0.448428  0.192341  \n",
              "57  0.469315  0.192341  \n",
              "58  0.372291  0.191594  \n",
              "59  0.267724  0.189973  \n",
              "60  0.374803  0.189232  \n",
              "\n",
              "[61 rows x 7 columns]"
            ],
            "text/html": [
              "\n",
              "  <div id=\"df-ba7a8967-546f-4109-b59c-f58792073b0b\">\n",
              "    <div class=\"colab-df-container\">\n",
              "      <div>\n",
              "<style scoped>\n",
              "    .dataframe tbody tr th:only-of-type {\n",
              "        vertical-align: middle;\n",
              "    }\n",
              "\n",
              "    .dataframe tbody tr th {\n",
              "        vertical-align: top;\n",
              "    }\n",
              "\n",
              "    .dataframe thead th {\n",
              "        text-align: right;\n",
              "    }\n",
              "</style>\n",
              "<table border=\"1\" class=\"dataframe\">\n",
              "  <thead>\n",
              "    <tr style=\"text-align: right;\">\n",
              "      <th></th>\n",
              "      <th>Close_Price</th>\n",
              "      <th>Volume</th>\n",
              "      <th>High_Price</th>\n",
              "      <th>Low_Price</th>\n",
              "      <th>Close_Price_Industry</th>\n",
              "      <th>rsi</th>\n",
              "      <th>sma</th>\n",
              "    </tr>\n",
              "  </thead>\n",
              "  <tbody>\n",
              "    <tr>\n",
              "      <th>0</th>\n",
              "      <td>0.139474</td>\n",
              "      <td>0.157893</td>\n",
              "      <td>0.133498</td>\n",
              "      <td>0.138146</td>\n",
              "      <td>0.040493</td>\n",
              "      <td>0.275810</td>\n",
              "      <td>0.146004</td>\n",
              "    </tr>\n",
              "    <tr>\n",
              "      <th>1</th>\n",
              "      <td>0.150880</td>\n",
              "      <td>0.197967</td>\n",
              "      <td>0.142769</td>\n",
              "      <td>0.147480</td>\n",
              "      <td>0.048285</td>\n",
              "      <td>0.380581</td>\n",
              "      <td>0.144482</td>\n",
              "    </tr>\n",
              "    <tr>\n",
              "      <th>2</th>\n",
              "      <td>0.147657</td>\n",
              "      <td>0.157730</td>\n",
              "      <td>0.147960</td>\n",
              "      <td>0.153329</td>\n",
              "      <td>0.045039</td>\n",
              "      <td>0.359846</td>\n",
              "      <td>0.142240</td>\n",
              "    </tr>\n",
              "    <tr>\n",
              "      <th>3</th>\n",
              "      <td>0.123605</td>\n",
              "      <td>0.250600</td>\n",
              "      <td>0.133375</td>\n",
              "      <td>0.130678</td>\n",
              "      <td>0.025028</td>\n",
              "      <td>0.233607</td>\n",
              "      <td>0.138556</td>\n",
              "    </tr>\n",
              "    <tr>\n",
              "      <th>4</th>\n",
              "      <td>0.122985</td>\n",
              "      <td>0.334922</td>\n",
              "      <td>0.120519</td>\n",
              "      <td>0.114250</td>\n",
              "      <td>0.026327</td>\n",
              "      <td>0.230875</td>\n",
              "      <td>0.134264</td>\n",
              "    </tr>\n",
              "    <tr>\n",
              "      <th>...</th>\n",
              "      <td>...</td>\n",
              "      <td>...</td>\n",
              "      <td>...</td>\n",
              "      <td>...</td>\n",
              "      <td>...</td>\n",
              "      <td>...</td>\n",
              "      <td>...</td>\n",
              "    </tr>\n",
              "    <tr>\n",
              "      <th>56</th>\n",
              "      <td>0.202827</td>\n",
              "      <td>0.278525</td>\n",
              "      <td>0.197651</td>\n",
              "      <td>0.201369</td>\n",
              "      <td>0.111091</td>\n",
              "      <td>0.448428</td>\n",
              "      <td>0.192341</td>\n",
              "    </tr>\n",
              "    <tr>\n",
              "      <th>57</th>\n",
              "      <td>0.205306</td>\n",
              "      <td>0.134840</td>\n",
              "      <td>0.197033</td>\n",
              "      <td>0.204107</td>\n",
              "      <td>0.115755</td>\n",
              "      <td>0.469315</td>\n",
              "      <td>0.192341</td>\n",
              "    </tr>\n",
              "    <tr>\n",
              "      <th>58</th>\n",
              "      <td>0.192289</td>\n",
              "      <td>0.183552</td>\n",
              "      <td>0.193820</td>\n",
              "      <td>0.197635</td>\n",
              "      <td>0.113039</td>\n",
              "      <td>0.372291</td>\n",
              "      <td>0.191594</td>\n",
              "    </tr>\n",
              "    <tr>\n",
              "      <th>59</th>\n",
              "      <td>0.173940</td>\n",
              "      <td>0.293127</td>\n",
              "      <td>0.188381</td>\n",
              "      <td>0.179838</td>\n",
              "      <td>0.096098</td>\n",
              "      <td>0.267724</td>\n",
              "      <td>0.189973</td>\n",
              "    </tr>\n",
              "    <tr>\n",
              "      <th>60</th>\n",
              "      <td>0.186958</td>\n",
              "      <td>0.210187</td>\n",
              "      <td>0.180222</td>\n",
              "      <td>0.185812</td>\n",
              "      <td>0.101411</td>\n",
              "      <td>0.374803</td>\n",
              "      <td>0.189232</td>\n",
              "    </tr>\n",
              "  </tbody>\n",
              "</table>\n",
              "<p>61 rows × 7 columns</p>\n",
              "</div>\n",
              "      <button class=\"colab-df-convert\" onclick=\"convertToInteractive('df-ba7a8967-546f-4109-b59c-f58792073b0b')\"\n",
              "              title=\"Convert this dataframe to an interactive table.\"\n",
              "              style=\"display:none;\">\n",
              "        \n",
              "  <svg xmlns=\"http://www.w3.org/2000/svg\" height=\"24px\"viewBox=\"0 0 24 24\"\n",
              "       width=\"24px\">\n",
              "    <path d=\"M0 0h24v24H0V0z\" fill=\"none\"/>\n",
              "    <path d=\"M18.56 5.44l.94 2.06.94-2.06 2.06-.94-2.06-.94-.94-2.06-.94 2.06-2.06.94zm-11 1L8.5 8.5l.94-2.06 2.06-.94-2.06-.94L8.5 2.5l-.94 2.06-2.06.94zm10 10l.94 2.06.94-2.06 2.06-.94-2.06-.94-.94-2.06-.94 2.06-2.06.94z\"/><path d=\"M17.41 7.96l-1.37-1.37c-.4-.4-.92-.59-1.43-.59-.52 0-1.04.2-1.43.59L10.3 9.45l-7.72 7.72c-.78.78-.78 2.05 0 2.83L4 21.41c.39.39.9.59 1.41.59.51 0 1.02-.2 1.41-.59l7.78-7.78 2.81-2.81c.8-.78.8-2.07 0-2.86zM5.41 20L4 18.59l7.72-7.72 1.47 1.35L5.41 20z\"/>\n",
              "  </svg>\n",
              "      </button>\n",
              "      \n",
              "  <style>\n",
              "    .colab-df-container {\n",
              "      display:flex;\n",
              "      flex-wrap:wrap;\n",
              "      gap: 12px;\n",
              "    }\n",
              "\n",
              "    .colab-df-convert {\n",
              "      background-color: #E8F0FE;\n",
              "      border: none;\n",
              "      border-radius: 50%;\n",
              "      cursor: pointer;\n",
              "      display: none;\n",
              "      fill: #1967D2;\n",
              "      height: 32px;\n",
              "      padding: 0 0 0 0;\n",
              "      width: 32px;\n",
              "    }\n",
              "\n",
              "    .colab-df-convert:hover {\n",
              "      background-color: #E2EBFA;\n",
              "      box-shadow: 0px 1px 2px rgba(60, 64, 67, 0.3), 0px 1px 3px 1px rgba(60, 64, 67, 0.15);\n",
              "      fill: #174EA6;\n",
              "    }\n",
              "\n",
              "    [theme=dark] .colab-df-convert {\n",
              "      background-color: #3B4455;\n",
              "      fill: #D2E3FC;\n",
              "    }\n",
              "\n",
              "    [theme=dark] .colab-df-convert:hover {\n",
              "      background-color: #434B5C;\n",
              "      box-shadow: 0px 1px 3px 1px rgba(0, 0, 0, 0.15);\n",
              "      filter: drop-shadow(0px 1px 2px rgba(0, 0, 0, 0.3));\n",
              "      fill: #FFFFFF;\n",
              "    }\n",
              "  </style>\n",
              "\n",
              "      <script>\n",
              "        const buttonEl =\n",
              "          document.querySelector('#df-ba7a8967-546f-4109-b59c-f58792073b0b button.colab-df-convert');\n",
              "        buttonEl.style.display =\n",
              "          google.colab.kernel.accessAllowed ? 'block' : 'none';\n",
              "\n",
              "        async function convertToInteractive(key) {\n",
              "          const element = document.querySelector('#df-ba7a8967-546f-4109-b59c-f58792073b0b');\n",
              "          const dataTable =\n",
              "            await google.colab.kernel.invokeFunction('convertToInteractive',\n",
              "                                                     [key], {});\n",
              "          if (!dataTable) return;\n",
              "\n",
              "          const docLinkHtml = 'Like what you see? Visit the ' +\n",
              "            '<a target=\"_blank\" href=https://colab.research.google.com/notebooks/data_table.ipynb>data table notebook</a>'\n",
              "            + ' to learn more about interactive tables.';\n",
              "          element.innerHTML = '';\n",
              "          dataTable['output_type'] = 'display_data';\n",
              "          await google.colab.output.renderOutput(dataTable, element);\n",
              "          const docLink = document.createElement('div');\n",
              "          docLink.innerHTML = docLinkHtml;\n",
              "          element.appendChild(docLink);\n",
              "        }\n",
              "      </script>\n",
              "    </div>\n",
              "  </div>\n",
              "  "
            ]
          },
          "metadata": {},
          "execution_count": 21
        }
      ],
      "source": [
        "training_set_scaled_df.head(61)"
      ]
    },
    {
      "cell_type": "code",
      "execution_count": null,
      "metadata": {
        "id": "DVqbMTeW4-Xh"
      },
      "outputs": [],
      "source": [
        "X_train"
      ]
    },
    {
      "cell_type": "markdown",
      "metadata": {
        "id": "S73dzH23Mjhi"
      },
      "source": [
        "### Step 4: Reshaping data"
      ]
    },
    {
      "cell_type": "markdown",
      "metadata": {
        "id": "wrPeRkGJdqD-"
      },
      "source": [
        "El objetivo de esta sección es transformar los valores de entrada y salida (matríz de características y el vector de etiquetas) en un formato adecuado para poder ser procesdos por la red. Así en nuestro caso tendremos lo siguiente:\n",
        "- La matriz de características (jpm_X_train) debe tener tres dimensiones: número de observaciones, timestep y número de variables de entrada. En este caso, tenemos X_train con forma (número de observaciones, 60, 7) que representa la información de las 60 jornadas previas con 7 variables de entrada para cada observación.\n",
        "- La matriz de etiquetas (jpm_y_train) debe tener dos dimensiones: número de observaciones y número de variables de salida. En este caso, tenemos y_train con forma (número de observaciones, 1) que representa el valor del precio de cierre para cada observación."
      ]
    },
    {
      "cell_type": "code",
      "execution_count": 23,
      "metadata": {
        "colab": {
          "base_uri": "https://localhost:8080/"
        },
        "id": "9UzF-HJTdnGz",
        "outputId": "9ba1b1a9-2f5e-4ee5-b6ae-40d1c1fefe4d"
      },
      "outputs": [
        {
          "output_type": "stream",
          "name": "stdout",
          "text": [
            "Reshaping feature matrix.\n",
            "The first value is the batch size, the second value is the timesteps and the third value is the indicators.\n",
            "   X_train.shape[0] = 1937 \n",
            "   X_train.shape[1] = 60\n",
            "   X_train.shape[2] = 7\n"
          ]
        }
      ],
      "source": [
        "X_train = np.reshape(X_train, (X_train.shape[0], X_train.shape[1], X_train.shape[2]))\n",
        "reshapingMsg = \"Reshaping feature matrix.\\nThe first value is the batch size, the second value is the timesteps and the third value is the indicators.\\n   X_train.shape[0] = {shape_cero} \\n   X_train.shape[1] = {shape_one}\\n   X_train.shape[2] = {shape_two}\".format(shape_cero=X_train.shape[0], shape_one = X_train.shape[1], shape_two=X_train.shape[2])\n",
        "print(f\"{reshapingMsg}\")"
      ]
    },
    {
      "cell_type": "code",
      "execution_count": 24,
      "metadata": {
        "colab": {
          "base_uri": "https://localhost:8080/"
        },
        "id": "Ymwc_rpYfHJd",
        "outputId": "202a1dac-e7a8-4856-c0b7-8c6add974d32"
      },
      "outputs": [
        {
          "output_type": "stream",
          "name": "stdout",
          "text": [
            "Reshaping target vector.\n",
            "The first value is the batch size and the second is the number of outputs.\n",
            "   y_train.shape[0] = 1937 \n",
            "   y_train.shape[1] = 1\n"
          ]
        }
      ],
      "source": [
        "y_train = np.reshape(y_train, (y_train.shape[0], 1))\n",
        "reshapingMsg = \"Reshaping target vector.\\nThe first value is the batch size and the second is the number of outputs.\\n   y_train.shape[0] = {shape_cero} \\n   y_train.shape[1] = {shape_one}\".format(shape_cero=y_train.shape[0], shape_one = y_train.shape[1])\n",
        "print(f\"{reshapingMsg}\")"
      ]
    },
    {
      "cell_type": "markdown",
      "metadata": {
        "id": "kqo1ZaA2_O7E"
      },
      "source": [
        "## Part 3: Building the RNN"
      ]
    },
    {
      "cell_type": "markdown",
      "metadata": {
        "id": "ceD1qPQ5BvB-"
      },
      "source": [
        "### First step: Importing libraries"
      ]
    },
    {
      "cell_type": "markdown",
      "metadata": {
        "id": "bOz-BWFN_VdU"
      },
      "source": [
        "Para la construcción de la arquitectura de nuestra RNN importaremos: \n",
        "\n",
        "\n",
        "*   Sequential => Nos permitirá crear un objeto de red neuronal que simule una secuencia de capas (hidden layers)\n",
        "*   Dense => Es la clase que permite confeccionar la capa de salida (output layer). Es una fully connected layer y nos permite ajustar la salida de la red al tamaño deseado.\n",
        "*   LSTM => Para añadir las capas LSTM. \n",
        "*   Dropout => Regularización de droput, usado para evitar el overfitting. "
      ]
    },
    {
      "cell_type": "code",
      "execution_count": 385,
      "metadata": {
        "id": "xPxmiBaEA7V2"
      },
      "outputs": [],
      "source": [
        "from keras.models import Sequential\n",
        "from keras.layers import Dense\n",
        "from keras.layers import LSTM\n",
        "from keras.layers import Dropout\n",
        "from keras.optimizers import Adam,RMSprop,SGD"
      ]
    },
    {
      "cell_type": "markdown",
      "metadata": {
        "id": "SNaosWtcB0_A"
      },
      "source": [
        "### Second step: Initialising the RNN"
      ]
    },
    {
      "cell_type": "markdown",
      "metadata": {
        "id": "IWw_OX_8B_dD"
      },
      "source": [
        "El regressor es un objeto de una capa Secuencial. A diferencia de las ANN o CNN, en RNN a este objeto lo llamamos Regressor y no Clasificator porque lo que buscamos es predecir un valor continuo (en nuestro caso el precio de una acción) y no una clasificación de objetos."
      ]
    },
    {
      "cell_type": "code",
      "execution_count": 386,
      "metadata": {
        "id": "gWS7WiTgCAL_"
      },
      "outputs": [],
      "source": [
        "regressor = Sequential()"
      ]
    },
    {
      "cell_type": "markdown",
      "metadata": {
        "id": "udGKD7AwF4qz"
      },
      "source": [
        "### Third step: Adding the first hidden layer"
      ]
    },
    {
      "cell_type": "markdown",
      "metadata": {
        "id": "yl34mzNnGFbQ"
      },
      "source": [
        "El paso siguiente es añadir la primera capa a la secuencia de capas definidas previamente (junto con un poco de regularización para evitar el overfitting). \n",
        "Esta primera capa será una LSTM layer. Sobre esta primera capa deberemos definir:\n",
        "\n",
        "*   El primer argumento es el número de unidades de memoria (más conocidas como neuronas) que tendrá la primera capa. Como captar las tendencias de la cotización de una acción es bastante complejo, necesitaremos tener una alta dimensionalidad y por ende un alto numero de neuronas en cada una de las capas LSTM. Por esta razón el número elegido será 50. De utilizar un número bajo de neuronas (por ej 5) no serían bien captados los movimientos ascendentes y descendentes del precio de las acciones. \n",
        "*   El segundo es un booleano (return_sequences) que básicamente indica si habrá una nueva capa LSTM próxima, por ende lo colocaremos en TRUE (utlizaremos una red neuronal LSTM apilada o stack neural networks)\n",
        "*   El tercer parámetro es el input_shape que básciamente es la forma de entrada que se creo con el reshape previo por ende contendrá el número de observaciones, steptimes y las características. \n",
        "Luego de agregado de la capa LSTM hay que agregar la regularización de abandono (dropout) que cuenta únicamente con un argumento que es la tasa de dropout y que indica el número de neuronas que se están dispuestas a eliminar para hacer esa regularización (se recominda usar una tasa del 20%) lo que implicará que el 20% de las neuronas, en nuestro caso 10, se dejarán de lado para el forwardpropagation y el backpropagation. Esas neuronas que se eliminan son seleccionadas aleatoriamente. Con esto se busca que la red sea menos sensible a pequeñas perturbaciones y ayuda a prevenir el sobreajuste. Esta técnica ayuda a la red a generalizar mejor los datos de prueba, lo que significa que puede realizar mejores predicciones en datos que no ha visto antes."
      ]
    },
    {
      "cell_type": "code",
      "execution_count": 387,
      "metadata": {
        "id": "krnwiELlGGrL"
      },
      "outputs": [],
      "source": [
        "#regressor.add(LSTM(units = 50, return_sequences = True, input_shape = (X_train.shape[1], X_train.shape[2])))\n",
        "regressor.add(LSTM(units = 50, return_sequences = False, input_shape = (X_train.shape[1], X_train.shape[2])))\n",
        "regressor.add(Dropout(0.2))"
      ]
    },
    {
      "cell_type": "markdown",
      "metadata": {
        "id": "V6FFj5K-H0eU"
      },
      "source": [
        "### Fourth step: Adding the rest hidden layers"
      ]
    },
    {
      "cell_type": "markdown",
      "metadata": {
        "id": "XUuL29pjIPLT"
      },
      "source": [
        "Como estas son capas intermediasm no hará falta añadir input_layers ya que se añaden automáticamente con el compilado de capas"
      ]
    },
    {
      "cell_type": "code",
      "execution_count": 388,
      "metadata": {
        "id": "iWJaavQ-IZ9k"
      },
      "outputs": [],
      "source": [
        "#hidden_layers_to_add = 2\n",
        "#for i in range(hidden_layers_to_add):\n",
        "#  regressor.add(LSTM(units = 50, return_sequences = True))\n",
        "#  regressor.add(Dropout(0.2))"
      ]
    },
    {
      "cell_type": "markdown",
      "metadata": {
        "id": "fy1rbjxzJAO2"
      },
      "source": [
        "### Fifth step: Adding the last hidden layer "
      ]
    },
    {
      "cell_type": "markdown",
      "metadata": {
        "id": "EnwNjZavJNcP"
      },
      "source": [
        "La última capa sólo se elimina el return_sequences, ya que ahora toma el valor FALSE (valor por defecto) ya que no se añadirá otra LSTM layer sino que únicamente se añadirá una capa de salida. "
      ]
    },
    {
      "cell_type": "code",
      "execution_count": 389,
      "metadata": {
        "id": "enSJ5BKVJKI4"
      },
      "outputs": [],
      "source": [
        "#regressor.add(LSTM(units = 50))\n",
        "#regressor.add(Dropout(0.2))"
      ]
    },
    {
      "cell_type": "markdown",
      "metadata": {
        "id": "htMv506HJS0G"
      },
      "source": [
        "### Sixth step: Adding output layer"
      ]
    },
    {
      "cell_type": "markdown",
      "metadata": {
        "id": "dpuiijwibv4p"
      },
      "source": [
        "Como capa de salida usamos una fully connected layer porque la capa de salida está totalmente conectada a la última LSTM y usaremos la clase Dense de Keras. \n",
        "El argumento que hay que pasar es el número de unidades (units) que básicamente son la cantidad de neuronas. Dado que lo que estamos intentando predecir es un precio, un valor continuo y único, el número de neuronas será igual a la unidad (tiene una única dimensión)."
      ]
    },
    {
      "cell_type": "code",
      "execution_count": 390,
      "metadata": {
        "id": "ai9E4Bnfbw7x"
      },
      "outputs": [],
      "source": [
        "regressor.add(Dense(units = 1))"
      ]
    },
    {
      "cell_type": "markdown",
      "metadata": {
        "id": "vOLBuwRIJXK5"
      },
      "source": [
        "### Last step: Compiling the RNN"
      ]
    },
    {
      "cell_type": "markdown",
      "metadata": {
        "id": "rD9AJcN-ceDg"
      },
      "source": [
        "En la compilación necesitamos elegir el optimizer y la función de pérdida utilizada para calcular el error.\n",
        "\n",
        "Keras nos surgiere utilizar como algorítmo de optimización RMSProp, pero probando descrubirmos que para nuestro problema una mejor opción era utilizar el algorítmo ADAM (es muy potente y seguro).\n",
        "En este caso para la loss-function no se utiliza la entropía cruzda, ya que estamos ante un problema de regresión y necesitamos predecir un valor continuo y la loss-function correcta es la mean_squared_error.\n",
        "\n",
        "El algoritmo de optimización Adam es popular debido a que combina las ventajas del algoritmo de descenso de gradiente estocástico (SGD) y el algoritmo Adagrad. Además, se adapta a la tasa de aprendizaje de forma adaptativa y mantiene una estimación de momento de primer y segundo orden de los gradientes.\n",
        "\n",
        "La función de pérdida MSE es una buena opción para problemas de regresión ya que penaliza fuertemente las grandes diferencias entre las predicciones y las etiquetas, lo que puede llevar a una mejor convergencia del modelo."
      ]
    },
    {
      "cell_type": "code",
      "execution_count": 391,
      "metadata": {
        "id": "yZ-69kd0cevC"
      },
      "outputs": [],
      "source": [
        "lr = 0.001\n",
        "opt = Adam(learning_rate=lr)\n",
        "regressor.compile(optimizer = opt, loss = 'mean_squared_error')"
      ]
    },
    {
      "cell_type": "markdown",
      "metadata": {
        "id": "ZgvOOtDeNeYD"
      },
      "source": [
        "## Part 4: Fitting the RNN"
      ]
    },
    {
      "cell_type": "markdown",
      "metadata": {
        "id": "Pf_rrTjFNmpf"
      },
      "source": [
        "Para el fitting de la red neuronal necesitamos pasar 4 atributos:\n",
        "\n",
        "- El conjunto de entrenamiento (en nuestor caso la lista de precios de apertura normalizada)\n",
        "- El segundo atributo son los outputs para el conjunto de entrenamiento, es decir el resultante en T+1 para los 60 valores previamente operados.\n",
        "- El tercer valor es el número de veces que se presentará todo el conjunto de datos de entrenamiento a la red neuronal durante el entrenamiento. Si el número de épocas es demasiado bajo, la red neuronal puede no haber tenido suficiente tiempo para aprender patrones en los datos. Por otro lado, si el número de épocas es demasiado alto, la red neuronal puede ajustarse demasiado a los datos de entrenamiento y no generalizar bien a los datos nuevos\n",
        "- Por último para entrenar la red necesitamos definir el batch_size o cantidad de lotes, que se refiere a la cantidad de ejemplos de entrenamiento que se propagan a través de la red neuronal antes de que se actualicen los pesos. Un tamaño de lote demasiado grande puede hacer que la memoria de la computadora se llene y ralentizar el entrenamiento, mientras que un tamaño de lote demasiado pequeño puede hacer que el entrenamiento sea ineficiente."
      ]
    },
    {
      "cell_type": "markdown",
      "metadata": {
        "id": "TT6HSWLtk7v4"
      },
      "source": [
        "Setearemos inicialmente los valores del número de épocas y del tamaño de lotes"
      ]
    },
    {
      "cell_type": "code",
      "execution_count": 325,
      "metadata": {
        "id": "3kQHoJ1Dk2dU"
      },
      "outputs": [],
      "source": [
        "num_epochs = 50\n",
        "batch_size = 64"
      ]
    },
    {
      "cell_type": "markdown",
      "source": [
        "Corremos la red:"
      ],
      "metadata": {
        "id": "vpq31Rfb7qlp"
      }
    },
    {
      "cell_type": "code",
      "execution_count": 317,
      "metadata": {
        "colab": {
          "base_uri": "https://localhost:8080/",
          "height": 389
        },
        "id": "BRlqBFC7OjLj",
        "outputId": "9b2da699-2f21-4f61-a32d-356db1347932"
      },
      "outputs": [
        {
          "output_type": "stream",
          "name": "stdout",
          "text": [
            "Epoch 1/50\n",
            "31/31 [==============================] - 3s 37ms/step - loss: 1.4518\n",
            "Epoch 2/50\n",
            "15/31 [=============>................] - ETA: 0s - loss: 0.0862"
          ]
        },
        {
          "output_type": "error",
          "ename": "KeyboardInterrupt",
          "evalue": "ignored",
          "traceback": [
            "\u001b[0;31m---------------------------------------------------------------------------\u001b[0m",
            "\u001b[0;31mKeyboardInterrupt\u001b[0m                         Traceback (most recent call last)",
            "\u001b[0;32m<ipython-input-317-7a864e802247>\u001b[0m in \u001b[0;36m<cell line: 1>\u001b[0;34m()\u001b[0m\n\u001b[0;32m----> 1\u001b[0;31m \u001b[0mregressor\u001b[0m\u001b[0;34m.\u001b[0m\u001b[0mfit\u001b[0m\u001b[0;34m(\u001b[0m\u001b[0mX_train\u001b[0m\u001b[0;34m,\u001b[0m \u001b[0my_train\u001b[0m\u001b[0;34m,\u001b[0m \u001b[0mepochs\u001b[0m \u001b[0;34m=\u001b[0m \u001b[0mnum_epochs\u001b[0m\u001b[0;34m,\u001b[0m \u001b[0mbatch_size\u001b[0m \u001b[0;34m=\u001b[0m \u001b[0mbatch_size\u001b[0m\u001b[0;34m)\u001b[0m\u001b[0;34m\u001b[0m\u001b[0;34m\u001b[0m\u001b[0m\n\u001b[0m",
            "\u001b[0;32m/usr/local/lib/python3.10/dist-packages/keras/utils/traceback_utils.py\u001b[0m in \u001b[0;36merror_handler\u001b[0;34m(*args, **kwargs)\u001b[0m\n\u001b[1;32m     63\u001b[0m         \u001b[0mfiltered_tb\u001b[0m \u001b[0;34m=\u001b[0m \u001b[0;32mNone\u001b[0m\u001b[0;34m\u001b[0m\u001b[0;34m\u001b[0m\u001b[0m\n\u001b[1;32m     64\u001b[0m         \u001b[0;32mtry\u001b[0m\u001b[0;34m:\u001b[0m\u001b[0;34m\u001b[0m\u001b[0;34m\u001b[0m\u001b[0m\n\u001b[0;32m---> 65\u001b[0;31m             \u001b[0;32mreturn\u001b[0m \u001b[0mfn\u001b[0m\u001b[0;34m(\u001b[0m\u001b[0;34m*\u001b[0m\u001b[0margs\u001b[0m\u001b[0;34m,\u001b[0m \u001b[0;34m**\u001b[0m\u001b[0mkwargs\u001b[0m\u001b[0;34m)\u001b[0m\u001b[0;34m\u001b[0m\u001b[0;34m\u001b[0m\u001b[0m\n\u001b[0m\u001b[1;32m     66\u001b[0m         \u001b[0;32mexcept\u001b[0m \u001b[0mException\u001b[0m \u001b[0;32mas\u001b[0m \u001b[0me\u001b[0m\u001b[0;34m:\u001b[0m\u001b[0;34m\u001b[0m\u001b[0;34m\u001b[0m\u001b[0m\n\u001b[1;32m     67\u001b[0m             \u001b[0mfiltered_tb\u001b[0m \u001b[0;34m=\u001b[0m \u001b[0m_process_traceback_frames\u001b[0m\u001b[0;34m(\u001b[0m\u001b[0me\u001b[0m\u001b[0;34m.\u001b[0m\u001b[0m__traceback__\u001b[0m\u001b[0;34m)\u001b[0m\u001b[0;34m\u001b[0m\u001b[0;34m\u001b[0m\u001b[0m\n",
            "\u001b[0;32m/usr/local/lib/python3.10/dist-packages/keras/engine/training.py\u001b[0m in \u001b[0;36mfit\u001b[0;34m(self, x, y, batch_size, epochs, verbose, callbacks, validation_split, validation_data, shuffle, class_weight, sample_weight, initial_epoch, steps_per_epoch, validation_steps, validation_batch_size, validation_freq, max_queue_size, workers, use_multiprocessing)\u001b[0m\n\u001b[1;32m   1683\u001b[0m                         ):\n\u001b[1;32m   1684\u001b[0m                             \u001b[0mcallbacks\u001b[0m\u001b[0;34m.\u001b[0m\u001b[0mon_train_batch_begin\u001b[0m\u001b[0;34m(\u001b[0m\u001b[0mstep\u001b[0m\u001b[0;34m)\u001b[0m\u001b[0;34m\u001b[0m\u001b[0;34m\u001b[0m\u001b[0m\n\u001b[0;32m-> 1685\u001b[0;31m                             \u001b[0mtmp_logs\u001b[0m \u001b[0;34m=\u001b[0m \u001b[0mself\u001b[0m\u001b[0;34m.\u001b[0m\u001b[0mtrain_function\u001b[0m\u001b[0;34m(\u001b[0m\u001b[0miterator\u001b[0m\u001b[0;34m)\u001b[0m\u001b[0;34m\u001b[0m\u001b[0;34m\u001b[0m\u001b[0m\n\u001b[0m\u001b[1;32m   1686\u001b[0m                             \u001b[0;32mif\u001b[0m \u001b[0mdata_handler\u001b[0m\u001b[0;34m.\u001b[0m\u001b[0mshould_sync\u001b[0m\u001b[0;34m:\u001b[0m\u001b[0;34m\u001b[0m\u001b[0;34m\u001b[0m\u001b[0m\n\u001b[1;32m   1687\u001b[0m                                 \u001b[0mcontext\u001b[0m\u001b[0;34m.\u001b[0m\u001b[0masync_wait\u001b[0m\u001b[0;34m(\u001b[0m\u001b[0;34m)\u001b[0m\u001b[0;34m\u001b[0m\u001b[0;34m\u001b[0m\u001b[0m\n",
            "\u001b[0;32m/usr/local/lib/python3.10/dist-packages/tensorflow/python/util/traceback_utils.py\u001b[0m in \u001b[0;36merror_handler\u001b[0;34m(*args, **kwargs)\u001b[0m\n\u001b[1;32m    148\u001b[0m     \u001b[0mfiltered_tb\u001b[0m \u001b[0;34m=\u001b[0m \u001b[0;32mNone\u001b[0m\u001b[0;34m\u001b[0m\u001b[0;34m\u001b[0m\u001b[0m\n\u001b[1;32m    149\u001b[0m     \u001b[0;32mtry\u001b[0m\u001b[0;34m:\u001b[0m\u001b[0;34m\u001b[0m\u001b[0;34m\u001b[0m\u001b[0m\n\u001b[0;32m--> 150\u001b[0;31m       \u001b[0;32mreturn\u001b[0m \u001b[0mfn\u001b[0m\u001b[0;34m(\u001b[0m\u001b[0;34m*\u001b[0m\u001b[0margs\u001b[0m\u001b[0;34m,\u001b[0m \u001b[0;34m**\u001b[0m\u001b[0mkwargs\u001b[0m\u001b[0;34m)\u001b[0m\u001b[0;34m\u001b[0m\u001b[0;34m\u001b[0m\u001b[0m\n\u001b[0m\u001b[1;32m    151\u001b[0m     \u001b[0;32mexcept\u001b[0m \u001b[0mException\u001b[0m \u001b[0;32mas\u001b[0m \u001b[0me\u001b[0m\u001b[0;34m:\u001b[0m\u001b[0;34m\u001b[0m\u001b[0;34m\u001b[0m\u001b[0m\n\u001b[1;32m    152\u001b[0m       \u001b[0mfiltered_tb\u001b[0m \u001b[0;34m=\u001b[0m \u001b[0m_process_traceback_frames\u001b[0m\u001b[0;34m(\u001b[0m\u001b[0me\u001b[0m\u001b[0;34m.\u001b[0m\u001b[0m__traceback__\u001b[0m\u001b[0;34m)\u001b[0m\u001b[0;34m\u001b[0m\u001b[0;34m\u001b[0m\u001b[0m\n",
            "\u001b[0;32m/usr/local/lib/python3.10/dist-packages/tensorflow/python/eager/polymorphic_function/polymorphic_function.py\u001b[0m in \u001b[0;36m__call__\u001b[0;34m(self, *args, **kwds)\u001b[0m\n\u001b[1;32m    892\u001b[0m \u001b[0;34m\u001b[0m\u001b[0m\n\u001b[1;32m    893\u001b[0m       \u001b[0;32mwith\u001b[0m \u001b[0mOptionalXlaContext\u001b[0m\u001b[0;34m(\u001b[0m\u001b[0mself\u001b[0m\u001b[0;34m.\u001b[0m\u001b[0m_jit_compile\u001b[0m\u001b[0;34m)\u001b[0m\u001b[0;34m:\u001b[0m\u001b[0;34m\u001b[0m\u001b[0;34m\u001b[0m\u001b[0m\n\u001b[0;32m--> 894\u001b[0;31m         \u001b[0mresult\u001b[0m \u001b[0;34m=\u001b[0m \u001b[0mself\u001b[0m\u001b[0;34m.\u001b[0m\u001b[0m_call\u001b[0m\u001b[0;34m(\u001b[0m\u001b[0;34m*\u001b[0m\u001b[0margs\u001b[0m\u001b[0;34m,\u001b[0m \u001b[0;34m**\u001b[0m\u001b[0mkwds\u001b[0m\u001b[0;34m)\u001b[0m\u001b[0;34m\u001b[0m\u001b[0;34m\u001b[0m\u001b[0m\n\u001b[0m\u001b[1;32m    895\u001b[0m \u001b[0;34m\u001b[0m\u001b[0m\n\u001b[1;32m    896\u001b[0m       \u001b[0mnew_tracing_count\u001b[0m \u001b[0;34m=\u001b[0m \u001b[0mself\u001b[0m\u001b[0;34m.\u001b[0m\u001b[0mexperimental_get_tracing_count\u001b[0m\u001b[0;34m(\u001b[0m\u001b[0;34m)\u001b[0m\u001b[0;34m\u001b[0m\u001b[0;34m\u001b[0m\u001b[0m\n",
            "\u001b[0;32m/usr/local/lib/python3.10/dist-packages/tensorflow/python/eager/polymorphic_function/polymorphic_function.py\u001b[0m in \u001b[0;36m_call\u001b[0;34m(self, *args, **kwds)\u001b[0m\n\u001b[1;32m    924\u001b[0m       \u001b[0;31m# In this case we have created variables on the first call, so we run the\u001b[0m\u001b[0;34m\u001b[0m\u001b[0;34m\u001b[0m\u001b[0m\n\u001b[1;32m    925\u001b[0m       \u001b[0;31m# defunned version which is guaranteed to never create variables.\u001b[0m\u001b[0;34m\u001b[0m\u001b[0;34m\u001b[0m\u001b[0m\n\u001b[0;32m--> 926\u001b[0;31m       \u001b[0;32mreturn\u001b[0m \u001b[0mself\u001b[0m\u001b[0;34m.\u001b[0m\u001b[0m_no_variable_creation_fn\u001b[0m\u001b[0;34m(\u001b[0m\u001b[0;34m*\u001b[0m\u001b[0margs\u001b[0m\u001b[0;34m,\u001b[0m \u001b[0;34m**\u001b[0m\u001b[0mkwds\u001b[0m\u001b[0;34m)\u001b[0m  \u001b[0;31m# pylint: disable=not-callable\u001b[0m\u001b[0;34m\u001b[0m\u001b[0;34m\u001b[0m\u001b[0m\n\u001b[0m\u001b[1;32m    927\u001b[0m     \u001b[0;32melif\u001b[0m \u001b[0mself\u001b[0m\u001b[0;34m.\u001b[0m\u001b[0m_variable_creation_fn\u001b[0m \u001b[0;32mis\u001b[0m \u001b[0;32mnot\u001b[0m \u001b[0;32mNone\u001b[0m\u001b[0;34m:\u001b[0m\u001b[0;34m\u001b[0m\u001b[0;34m\u001b[0m\u001b[0m\n\u001b[1;32m    928\u001b[0m       \u001b[0;31m# Release the lock early so that multiple threads can perform the call\u001b[0m\u001b[0;34m\u001b[0m\u001b[0;34m\u001b[0m\u001b[0m\n",
            "\u001b[0;32m/usr/local/lib/python3.10/dist-packages/tensorflow/python/eager/polymorphic_function/tracing_compiler.py\u001b[0m in \u001b[0;36m__call__\u001b[0;34m(self, *args, **kwargs)\u001b[0m\n\u001b[1;32m    141\u001b[0m       (concrete_function,\n\u001b[1;32m    142\u001b[0m        filtered_flat_args) = self._maybe_define_function(args, kwargs)\n\u001b[0;32m--> 143\u001b[0;31m     return concrete_function._call_flat(\n\u001b[0m\u001b[1;32m    144\u001b[0m         filtered_flat_args, captured_inputs=concrete_function.captured_inputs)  # pylint: disable=protected-access\n\u001b[1;32m    145\u001b[0m \u001b[0;34m\u001b[0m\u001b[0m\n",
            "\u001b[0;32m/usr/local/lib/python3.10/dist-packages/tensorflow/python/eager/polymorphic_function/monomorphic_function.py\u001b[0m in \u001b[0;36m_call_flat\u001b[0;34m(self, args, captured_inputs, cancellation_manager)\u001b[0m\n\u001b[1;32m   1755\u001b[0m         and executing_eagerly):\n\u001b[1;32m   1756\u001b[0m       \u001b[0;31m# No tape is watching; skip to running the function.\u001b[0m\u001b[0;34m\u001b[0m\u001b[0;34m\u001b[0m\u001b[0m\n\u001b[0;32m-> 1757\u001b[0;31m       return self._build_call_outputs(self._inference_function.call(\n\u001b[0m\u001b[1;32m   1758\u001b[0m           ctx, args, cancellation_manager=cancellation_manager))\n\u001b[1;32m   1759\u001b[0m     forward_backward = self._select_forward_and_backward_functions(\n",
            "\u001b[0;32m/usr/local/lib/python3.10/dist-packages/tensorflow/python/eager/polymorphic_function/monomorphic_function.py\u001b[0m in \u001b[0;36mcall\u001b[0;34m(self, ctx, args, cancellation_manager)\u001b[0m\n\u001b[1;32m    379\u001b[0m       \u001b[0;32mwith\u001b[0m \u001b[0m_InterpolateFunctionError\u001b[0m\u001b[0;34m(\u001b[0m\u001b[0mself\u001b[0m\u001b[0;34m)\u001b[0m\u001b[0;34m:\u001b[0m\u001b[0;34m\u001b[0m\u001b[0;34m\u001b[0m\u001b[0m\n\u001b[1;32m    380\u001b[0m         \u001b[0;32mif\u001b[0m \u001b[0mcancellation_manager\u001b[0m \u001b[0;32mis\u001b[0m \u001b[0;32mNone\u001b[0m\u001b[0;34m:\u001b[0m\u001b[0;34m\u001b[0m\u001b[0;34m\u001b[0m\u001b[0m\n\u001b[0;32m--> 381\u001b[0;31m           outputs = execute.execute(\n\u001b[0m\u001b[1;32m    382\u001b[0m               \u001b[0mstr\u001b[0m\u001b[0;34m(\u001b[0m\u001b[0mself\u001b[0m\u001b[0;34m.\u001b[0m\u001b[0msignature\u001b[0m\u001b[0;34m.\u001b[0m\u001b[0mname\u001b[0m\u001b[0;34m)\u001b[0m\u001b[0;34m,\u001b[0m\u001b[0;34m\u001b[0m\u001b[0;34m\u001b[0m\u001b[0m\n\u001b[1;32m    383\u001b[0m               \u001b[0mnum_outputs\u001b[0m\u001b[0;34m=\u001b[0m\u001b[0mself\u001b[0m\u001b[0;34m.\u001b[0m\u001b[0m_num_outputs\u001b[0m\u001b[0;34m,\u001b[0m\u001b[0;34m\u001b[0m\u001b[0;34m\u001b[0m\u001b[0m\n",
            "\u001b[0;32m/usr/local/lib/python3.10/dist-packages/tensorflow/python/eager/execute.py\u001b[0m in \u001b[0;36mquick_execute\u001b[0;34m(op_name, num_outputs, inputs, attrs, ctx, name)\u001b[0m\n\u001b[1;32m     50\u001b[0m   \u001b[0;32mtry\u001b[0m\u001b[0;34m:\u001b[0m\u001b[0;34m\u001b[0m\u001b[0;34m\u001b[0m\u001b[0m\n\u001b[1;32m     51\u001b[0m     \u001b[0mctx\u001b[0m\u001b[0;34m.\u001b[0m\u001b[0mensure_initialized\u001b[0m\u001b[0;34m(\u001b[0m\u001b[0;34m)\u001b[0m\u001b[0;34m\u001b[0m\u001b[0;34m\u001b[0m\u001b[0m\n\u001b[0;32m---> 52\u001b[0;31m     tensors = pywrap_tfe.TFE_Py_Execute(ctx._handle, device_name, op_name,\n\u001b[0m\u001b[1;32m     53\u001b[0m                                         inputs, attrs, num_outputs)\n\u001b[1;32m     54\u001b[0m   \u001b[0;32mexcept\u001b[0m \u001b[0mcore\u001b[0m\u001b[0;34m.\u001b[0m\u001b[0m_NotOkStatusException\u001b[0m \u001b[0;32mas\u001b[0m \u001b[0me\u001b[0m\u001b[0;34m:\u001b[0m\u001b[0;34m\u001b[0m\u001b[0;34m\u001b[0m\u001b[0m\n",
            "\u001b[0;31mKeyboardInterrupt\u001b[0m: "
          ]
        }
      ],
      "source": [
        "regressor.fit(X_train, y_train, epochs = num_epochs, batch_size = batch_size)"
      ]
    },
    {
      "cell_type": "markdown",
      "metadata": {
        "id": "LW8ez5spfOeh"
      },
      "source": [
        "## Part 5 - Evaluating computational network performance"
      ]
    },
    {
      "cell_type": "markdown",
      "metadata": {
        "id": "Lm71CvMYhc7C"
      },
      "source": [
        " Medimos el costo computacional de la red observando el tiempo de entrenamiento necesario para cada configuración de hiperparámetros. La medición podríamos dividirla en: \n",
        " - Medición absoluta => Medimos el tiempo total de performance de la red\n",
        " - Medición por épcocas => Computamos el costo computacional por épocas"
      ]
    },
    {
      "cell_type": "markdown",
      "metadata": {
        "id": "TSWMvs8_h6fT"
      },
      "source": [
        "### 5.1) Medición absoluta"
      ]
    },
    {
      "cell_type": "code",
      "execution_count": null,
      "metadata": {
        "id": "PJTeMDxTh9rK"
      },
      "outputs": [],
      "source": [
        "import time\n",
        "\n",
        "start_time = time.time()\n",
        "#regressor.fit(X_train, y_train, epochs = num_epochs, batch_size = batch_size)\n",
        "end_time = time.time()"
      ]
    },
    {
      "cell_type": "code",
      "execution_count": 217,
      "metadata": {
        "id": "DtldO1nYjjDy",
        "colab": {
          "base_uri": "https://localhost:8080/"
        },
        "outputId": "0991e804-e98e-4881-d78f-9414661a7ff2"
      },
      "outputs": [
        {
          "output_type": "execute_result",
          "data": {
            "text/plain": [
              "141.9981472492218"
            ]
          },
          "metadata": {},
          "execution_count": 217
        }
      ],
      "source": [
        "total_time_performed = end_time - start_time\n",
        "total_time_performed"
      ]
    },
    {
      "cell_type": "markdown",
      "metadata": {
        "id": "3EjwOTSrjF4K"
      },
      "source": [
        "### 5.2) Medición relativa"
      ]
    },
    {
      "cell_type": "markdown",
      "metadata": {
        "id": "rfp0r-8Rj5fc"
      },
      "source": [
        "Primero definimos la clase **EpochTimer** que es un callback personalizado que registra el tiempo de inicio de cada época en el método on_epoch_begin y calcula la duración de la época en el método on_epoch_end. Luego, se crea una instancia de EpochTimer llamada epoch_timer y se pasa como un elemento de la lista de callbacks en el método fit().\n",
        "\n",
        "Durante el entrenamiento, se imprimirá el tiempo de ejecución de cada época en segundos."
      ]
    },
    {
      "cell_type": "code",
      "execution_count": null,
      "metadata": {
        "id": "f7mSQcPdj1kN"
      },
      "outputs": [],
      "source": [
        "'''import time\n",
        "from keras.callbacks import Callback\n",
        "\n",
        "class EpochTimer(Callback):\n",
        "    def on_epoch_begin(self, epoch, logs=None):\n",
        "        self.start_time = time.time()\n",
        "    \n",
        "    def on_epoch_end(self, epoch, logs=None):\n",
        "        end_time = time.time()\n",
        "        epoch_time = end_time - self.start_time\n",
        "        print(\"\\nTiempo de ejecución de la época\", epoch+1, \": \", round(epoch_time, 4), \" segundos\")\n",
        "\n",
        "# Crear una instancia de EpochTimer\n",
        "epoch_timer = EpochTimer()\n",
        "\n",
        "# Entrenamiento del modelo con el callback EpochTimer\n",
        "regressor.fit(X_train, y_train, epochs=num_epochs, batch_size=batch_size, callbacks=[epoch_timer])'''"
      ]
    },
    {
      "cell_type": "markdown",
      "metadata": {
        "id": "vTQ5P-dikTAK"
      },
      "source": [
        "En este segundo caso, generamos un array con los tiempos de ejecución de cada época para luego graficarlos y poder calcular la media y mediana de los tiempos. Utilizamos la misma clase EpochTimer que se mencionó anteriormente (pero ahora incorporamos como atributo de la clase a un array denominada epoch_times que contiene los tiempos de ejecución de cada época.)\n",
        "Se utiliza la lista epoch_times para graficar los tiempos de ejecución por época y luego se calcula la media y mediana de los tiempos utilizando las funciones np.mean() y np.median() respectivamente.\n",
        "\n",
        "En este código, se define una clase personalizada EpochTimer que hereda de la clase Callback de Keras. Dentro de esta clase, se implementan los métodos on_epoch_begin() y on_epoch_end() para registrar los tiempos de inicio y fin de cada época. Luego, se crea una instancia de esta clase y se pasa como argumento en el método fit() para registrar los tiempos de ejecución de cada época.\n",
        "\n"
      ]
    },
    {
      "cell_type": "code",
      "execution_count": 392,
      "metadata": {
        "id": "aQUtWGpzjTyB",
        "colab": {
          "base_uri": "https://localhost:8080/"
        },
        "outputId": "8119ff9a-6890-4bc5-b94b-ed031319d352"
      },
      "outputs": [
        {
          "output_type": "stream",
          "name": "stdout",
          "text": [
            "Epoch 1/50\n",
            "30/31 [============================>.] - ETA: 0s - loss: 0.0265\n",
            "Tiempo de ejecución de la época 1 :  3.155  segundos\n",
            "31/31 [==============================] - 3s 37ms/step - loss: 0.0263\n",
            "Epoch 2/50\n",
            "30/31 [============================>.] - ETA: 0s - loss: 0.0061\n",
            "Tiempo de ejecución de la época 2 :  1.3761  segundos\n",
            "31/31 [==============================] - 1s 45ms/step - loss: 0.0061\n",
            "Epoch 3/50\n",
            "30/31 [============================>.] - ETA: 0s - loss: 0.0041\n",
            "Tiempo de ejecución de la época 3 :  1.9836  segundos\n",
            "31/31 [==============================] - 2s 64ms/step - loss: 0.0041\n",
            "Epoch 4/50\n",
            "30/31 [============================>.] - ETA: 0s - loss: 0.0033\n",
            "Tiempo de ejecución de la época 4 :  1.3291  segundos\n",
            "31/31 [==============================] - 1s 42ms/step - loss: 0.0034\n",
            "Epoch 5/50\n",
            "31/31 [==============================] - ETA: 0s - loss: 0.0027\n",
            "Tiempo de ejecución de la época 5 :  1.107  segundos\n",
            "31/31 [==============================] - 1s 36ms/step - loss: 0.0027\n",
            "Epoch 6/50\n",
            "31/31 [==============================] - ETA: 0s - loss: 0.0024\n",
            "Tiempo de ejecución de la época 6 :  1.095  segundos\n",
            "31/31 [==============================] - 1s 35ms/step - loss: 0.0024\n",
            "Epoch 7/50\n",
            "31/31 [==============================] - ETA: 0s - loss: 0.0021\n",
            "Tiempo de ejecución de la época 7 :  1.1152  segundos\n",
            "31/31 [==============================] - 1s 36ms/step - loss: 0.0021\n",
            "Epoch 8/50\n",
            "31/31 [==============================] - ETA: 0s - loss: 0.0022\n",
            "Tiempo de ejecución de la época 8 :  1.0969  segundos\n",
            "31/31 [==============================] - 1s 35ms/step - loss: 0.0022\n",
            "Epoch 9/50\n",
            "30/31 [============================>.] - ETA: 0s - loss: 0.0019\n",
            "Tiempo de ejecución de la época 9 :  1.1382  segundos\n",
            "31/31 [==============================] - 1s 37ms/step - loss: 0.0019\n",
            "Epoch 10/50\n",
            "31/31 [==============================] - ETA: 0s - loss: 0.0018\n",
            "Tiempo de ejecución de la época 10 :  1.214  segundos\n",
            "31/31 [==============================] - 1s 39ms/step - loss: 0.0018\n",
            "Epoch 11/50\n",
            "30/31 [============================>.] - ETA: 0s - loss: 0.0016\n",
            "Tiempo de ejecución de la época 11 :  1.1063  segundos\n",
            "31/31 [==============================] - 1s 36ms/step - loss: 0.0016\n",
            "Epoch 12/50\n",
            "31/31 [==============================] - ETA: 0s - loss: 0.0015\n",
            "Tiempo de ejecución de la época 12 :  1.1073  segundos\n",
            "31/31 [==============================] - 1s 36ms/step - loss: 0.0015\n",
            "Epoch 13/50\n",
            "30/31 [============================>.] - ETA: 0s - loss: 0.0015\n",
            "Tiempo de ejecución de la época 13 :  1.778  segundos\n",
            "31/31 [==============================] - 2s 58ms/step - loss: 0.0015\n",
            "Epoch 14/50\n",
            "30/31 [============================>.] - ETA: 0s - loss: 0.0014\n",
            "Tiempo de ejecución de la época 14 :  1.7745  segundos\n",
            "31/31 [==============================] - 2s 57ms/step - loss: 0.0014\n",
            "Epoch 15/50\n",
            "31/31 [==============================] - ETA: 0s - loss: 0.0016\n",
            "Tiempo de ejecución de la época 15 :  1.1105  segundos\n",
            "31/31 [==============================] - 1s 36ms/step - loss: 0.0016\n",
            "Epoch 16/50\n",
            "30/31 [============================>.] - ETA: 0s - loss: 0.0014\n",
            "Tiempo de ejecución de la época 16 :  1.1101  segundos\n",
            "31/31 [==============================] - 1s 36ms/step - loss: 0.0015\n",
            "Epoch 17/50\n",
            "31/31 [==============================] - ETA: 0s - loss: 0.0016\n",
            "Tiempo de ejecución de la época 17 :  1.1321  segundos\n",
            "31/31 [==============================] - 1s 36ms/step - loss: 0.0016\n",
            "Epoch 18/50\n",
            "31/31 [==============================] - ETA: 0s - loss: 0.0013\n",
            "Tiempo de ejecución de la época 18 :  1.1015  segundos\n",
            "31/31 [==============================] - 1s 35ms/step - loss: 0.0013\n",
            "Epoch 19/50\n",
            "31/31 [==============================] - ETA: 0s - loss: 0.0013\n",
            "Tiempo de ejecución de la época 19 :  1.1199  segundos\n",
            "31/31 [==============================] - 1s 36ms/step - loss: 0.0013\n",
            "Epoch 20/50\n",
            "31/31 [==============================] - ETA: 0s - loss: 0.0013\n",
            "Tiempo de ejecución de la época 20 :  1.1147  segundos\n",
            "31/31 [==============================] - 1s 36ms/step - loss: 0.0013\n",
            "Epoch 21/50\n",
            "31/31 [==============================] - ETA: 0s - loss: 0.0012\n",
            "Tiempo de ejecución de la época 21 :  1.1459  segundos\n",
            "31/31 [==============================] - 1s 37ms/step - loss: 0.0012\n",
            "Epoch 22/50\n",
            "31/31 [==============================] - ETA: 0s - loss: 0.0012\n",
            "Tiempo de ejecución de la época 22 :  1.1244  segundos\n",
            "31/31 [==============================] - 1s 36ms/step - loss: 0.0012\n",
            "Epoch 23/50\n",
            "31/31 [==============================] - ETA: 0s - loss: 0.0012\n",
            "Tiempo de ejecución de la época 23 :  1.5009  segundos\n",
            "31/31 [==============================] - 2s 49ms/step - loss: 0.0012\n",
            "Epoch 24/50\n",
            "30/31 [============================>.] - ETA: 0s - loss: 0.0013\n",
            "Tiempo de ejecución de la época 24 :  1.9118  segundos\n",
            "31/31 [==============================] - 2s 62ms/step - loss: 0.0013\n",
            "Epoch 25/50\n",
            "31/31 [==============================] - ETA: 0s - loss: 0.0011\n",
            "Tiempo de ejecución de la época 25 :  1.401  segundos\n",
            "31/31 [==============================] - 1s 45ms/step - loss: 0.0011\n",
            "Epoch 26/50\n",
            "31/31 [==============================] - ETA: 0s - loss: 0.0010\n",
            "Tiempo de ejecución de la época 26 :  1.1218  segundos\n",
            "31/31 [==============================] - 1s 36ms/step - loss: 0.0010\n",
            "Epoch 27/50\n",
            "31/31 [==============================] - ETA: 0s - loss: 0.0010\n",
            "Tiempo de ejecución de la época 27 :  1.1202  segundos\n",
            "31/31 [==============================] - 1s 36ms/step - loss: 0.0010\n",
            "Epoch 28/50\n",
            "31/31 [==============================] - ETA: 0s - loss: 0.0011\n",
            "Tiempo de ejecución de la época 28 :  1.1129  segundos\n",
            "31/31 [==============================] - 1s 36ms/step - loss: 0.0011\n",
            "Epoch 29/50\n",
            "31/31 [==============================] - ETA: 0s - loss: 9.7830e-04\n",
            "Tiempo de ejecución de la época 29 :  1.1082  segundos\n",
            "31/31 [==============================] - 1s 36ms/step - loss: 9.7830e-04\n",
            "Epoch 30/50\n",
            "31/31 [==============================] - ETA: 0s - loss: 0.0010\n",
            "Tiempo de ejecución de la época 30 :  1.1631  segundos\n",
            "31/31 [==============================] - 1s 37ms/step - loss: 0.0010\n",
            "Epoch 31/50\n",
            "31/31 [==============================] - ETA: 0s - loss: 9.8989e-04\n",
            "Tiempo de ejecución de la época 31 :  1.1296  segundos\n",
            "31/31 [==============================] - 1s 36ms/step - loss: 9.8989e-04\n",
            "Epoch 32/50\n",
            "31/31 [==============================] - ETA: 0s - loss: 0.0010\n",
            "Tiempo de ejecución de la época 32 :  1.1209  segundos\n",
            "31/31 [==============================] - 1s 36ms/step - loss: 0.0010\n",
            "Epoch 33/50\n",
            "31/31 [==============================] - ETA: 0s - loss: 9.4627e-04\n",
            "Tiempo de ejecución de la época 33 :  1.1324  segundos\n",
            "31/31 [==============================] - 1s 37ms/step - loss: 9.4627e-04\n",
            "Epoch 34/50\n",
            "30/31 [============================>.] - ETA: 0s - loss: 9.8757e-04\n",
            "Tiempo de ejecución de la época 34 :  1.8168  segundos\n",
            "31/31 [==============================] - 2s 59ms/step - loss: 9.8906e-04\n",
            "Epoch 35/50\n",
            "30/31 [============================>.] - ETA: 0s - loss: 9.3561e-04\n",
            "Tiempo de ejecución de la época 35 :  1.7627  segundos\n",
            "31/31 [==============================] - 2s 57ms/step - loss: 9.3851e-04\n",
            "Epoch 36/50\n",
            "30/31 [============================>.] - ETA: 0s - loss: 9.4539e-04\n",
            "Tiempo de ejecución de la época 36 :  1.1603  segundos\n",
            "31/31 [==============================] - 1s 37ms/step - loss: 9.4591e-04\n",
            "Epoch 37/50\n",
            "31/31 [==============================] - ETA: 0s - loss: 9.5600e-04\n",
            "Tiempo de ejecución de la época 37 :  1.1458  segundos\n",
            "31/31 [==============================] - 1s 37ms/step - loss: 9.5600e-04\n",
            "Epoch 38/50\n",
            "31/31 [==============================] - ETA: 0s - loss: 8.7050e-04\n",
            "Tiempo de ejecución de la época 38 :  1.1897  segundos\n",
            "31/31 [==============================] - 1s 38ms/step - loss: 8.7050e-04\n",
            "Epoch 39/50\n",
            "31/31 [==============================] - ETA: 0s - loss: 9.6960e-04\n",
            "Tiempo de ejecución de la época 39 :  1.1343  segundos\n",
            "31/31 [==============================] - 1s 37ms/step - loss: 9.6960e-04\n",
            "Epoch 40/50\n",
            "30/31 [============================>.] - ETA: 0s - loss: 9.1495e-04\n",
            "Tiempo de ejecución de la época 40 :  1.1774  segundos\n",
            "31/31 [==============================] - 1s 38ms/step - loss: 9.1199e-04\n",
            "Epoch 41/50\n",
            "31/31 [==============================] - ETA: 0s - loss: 8.7686e-04\n",
            "Tiempo de ejecución de la época 41 :  1.2055  segundos\n",
            "31/31 [==============================] - 1s 39ms/step - loss: 8.7686e-04\n",
            "Epoch 42/50\n",
            "31/31 [==============================] - ETA: 0s - loss: 8.4025e-04\n",
            "Tiempo de ejecución de la época 42 :  1.126  segundos\n",
            "31/31 [==============================] - 1s 36ms/step - loss: 8.4025e-04\n",
            "Epoch 43/50\n",
            "31/31 [==============================] - ETA: 0s - loss: 9.7132e-04\n",
            "Tiempo de ejecución de la época 43 :  1.1198  segundos\n",
            "31/31 [==============================] - 1s 36ms/step - loss: 9.7132e-04\n",
            "Epoch 44/50\n",
            "30/31 [============================>.] - ETA: 0s - loss: 9.7361e-04\n",
            "Tiempo de ejecución de la época 44 :  1.593  segundos\n",
            "31/31 [==============================] - 2s 52ms/step - loss: 9.7298e-04\n",
            "Epoch 45/50\n",
            "30/31 [============================>.] - ETA: 0s - loss: 8.2071e-04\n",
            "Tiempo de ejecución de la época 45 :  1.9139  segundos\n",
            "31/31 [==============================] - 2s 62ms/step - loss: 8.1680e-04\n",
            "Epoch 46/50\n",
            "30/31 [============================>.] - ETA: 0s - loss: 8.5648e-04\n",
            "Tiempo de ejecución de la época 46 :  1.2343  segundos\n",
            "31/31 [==============================] - 1s 39ms/step - loss: 8.5390e-04\n",
            "Epoch 47/50\n",
            "31/31 [==============================] - ETA: 0s - loss: 8.3408e-04\n",
            "Tiempo de ejecución de la época 47 :  1.1624  segundos\n",
            "31/31 [==============================] - 1s 37ms/step - loss: 8.3408e-04\n",
            "Epoch 48/50\n",
            "30/31 [============================>.] - ETA: 0s - loss: 7.8782e-04\n",
            "Tiempo de ejecución de la época 48 :  1.7099  segundos\n",
            "31/31 [==============================] - 2s 56ms/step - loss: 7.8284e-04\n",
            "Epoch 49/50\n",
            "31/31 [==============================] - ETA: 0s - loss: 8.1190e-04\n",
            "Tiempo de ejecución de la época 49 :  1.1369  segundos\n",
            "31/31 [==============================] - 1s 37ms/step - loss: 8.1190e-04\n",
            "Epoch 50/50\n",
            "31/31 [==============================] - ETA: 0s - loss: 7.6273e-04\n",
            "Tiempo de ejecución de la época 50 :  1.1315  segundos\n",
            "31/31 [==============================] - 1s 37ms/step - loss: 7.6273e-04\n"
          ]
        }
      ],
      "source": [
        "import numpy as np\n",
        "import matplotlib.pyplot as plt\n",
        "from keras.callbacks import Callback\n",
        "import time\n",
        "\n",
        "# Definir una clase personalizada que herede de Callback\n",
        "class EpochTimer(Callback):\n",
        "    def on_train_begin(self, logs=None):\n",
        "        self.epoch_times = []\n",
        "\n",
        "    def on_epoch_begin(self, epoch, logs=None):\n",
        "        self.epoch_start_time = time.time()\n",
        "\n",
        "    def on_epoch_end(self, epoch, logs=None):\n",
        "        epoch_time = time.time() - self.epoch_start_time\n",
        "        self.epoch_times.append(epoch_time)\n",
        "        print(\"\\nTiempo de ejecución de la época\", epoch+1, \": \", round(epoch_time, 4), \" segundos\")\n",
        "\n",
        "# Crear una instancia de la clase EpochTimer\n",
        "epoch_timer = EpochTimer()\n",
        "\n",
        "# Entrenar el modelo y registrar los tiempos de ejecución de cada época\n",
        "history = regressor.fit(X_train, y_train, epochs=num_epochs, batch_size=batch_size, callbacks=[epoch_timer])\n",
        "\n",
        "# Obtener los tiempos de ejecución de cada época\n",
        "epoch_times = epoch_timer.epoch_times\n",
        "\n",
        "# Graficar los tiempos de ejecución por época\n",
        "#plt.plot(range(1, num_epochs+1), epoch_times)\n",
        "#plt.xlabel('Época')\n",
        "#plt.ylabel('Tiempo de ejecución (segundos)')\n",
        "#plt.title('Tiempos de ejecución por época')"
      ]
    },
    {
      "cell_type": "code",
      "source": [
        "# Calcular la media y mediana de los tiempos de ejecución\n",
        "mean_time = np.mean(epoch_times)\n",
        "median_time = np.median(epoch_times)\n",
        "total_time = mean_time*num_epochs\n",
        "print('Tiempo de ejecución medio: {:.2f} segundos'.format(mean_time))\n",
        "print('Tiempo de ejecución mediano: {:.2f} segundos'.format(median_time))\n",
        "print('Tiempo de ejecución total: {:.2f} segundos'.format(total_time))"
      ],
      "metadata": {
        "colab": {
          "base_uri": "https://localhost:8080/"
        },
        "id": "ukVIP_6Q1H59",
        "outputId": "08fb3caf-457d-4df6-fe22-b7fae5b5767b"
      },
      "execution_count": 393,
      "outputs": [
        {
          "output_type": "stream",
          "name": "stdout",
          "text": [
            "Tiempo de ejecución medio: 1.32 segundos\n",
            "Tiempo de ejecución mediano: 1.14 segundos\n",
            "Tiempo de ejecución total: 65.88 segundos\n"
          ]
        }
      ]
    },
    {
      "cell_type": "markdown",
      "metadata": {
        "id": "jPU_ozxmRHjI"
      },
      "source": [
        "## Part 6 - Making predictions"
      ]
    },
    {
      "cell_type": "markdown",
      "metadata": {
        "id": "5XUel90aRMa7"
      },
      "source": [
        "### Step 1: Getting real stock prices "
      ]
    },
    {
      "cell_type": "markdown",
      "metadata": {
        "id": "ye0juNXYRgJT"
      },
      "source": [
        "Para obtener los precios reales del ticker (y los que contrastaremos contra las estimaciones) debemos usar el DF de testeo. La columna que necesitamos es la de precios de cierre (\"Close_Price\") que es la primer columna del DF."
      ]
    },
    {
      "cell_type": "code",
      "execution_count": 394,
      "metadata": {
        "id": "fHOGB5zQr-jM",
        "colab": {
          "base_uri": "https://localhost:8080/",
          "height": 0
        },
        "outputId": "795477cc-df31-4c27-efd1-245291fac50b"
      },
      "outputs": [
        {
          "output_type": "execute_result",
          "data": {
            "text/plain": [
              "            Close_Price_JPM    Volume  High_Price   Low_Price  \\\n",
              "Date                                                            \n",
              "2018-01-05       108.339996  14155000  109.550003  107.779999   \n",
              "2018-01-08       108.500000  12466500  108.680000  107.699997   \n",
              "2018-01-09       109.050003  13292300  109.629997  108.489998   \n",
              "2018-01-10       110.250000  15834500  110.699997  109.389999   \n",
              "2018-01-11       110.839996  13676800  110.930000  110.050003   \n",
              "...                     ...       ...         ...         ...   \n",
              "2019-12-24       137.580002   3324300  137.630005  137.059998   \n",
              "2019-12-26       139.039993   6770900  139.100006  137.779999   \n",
              "2019-12-27       139.139999   7868200  139.770004  138.669998   \n",
              "2019-12-30       138.630005   6963000  140.080002  138.470001   \n",
              "2019-12-31       139.399994   7201600  139.479996  138.289993   \n",
              "\n",
              "            Close_Price_SPY    JPM_rsi     JPM_sma  \n",
              "Date                                                \n",
              "2018-01-05       273.420013  62.553673  106.829000  \n",
              "2018-01-08       273.920013  63.141804  107.023000  \n",
              "2018-01-09       274.540009  65.167038  107.179000  \n",
              "2018-01-10       274.119995  69.149918  107.410500  \n",
              "2018-01-11       276.119995  70.911038  107.610000  \n",
              "...                     ...        ...         ...  \n",
              "2019-12-24       321.230011  68.430560  134.901498  \n",
              "2019-12-26       322.940002  72.464635  135.269998  \n",
              "2019-12-27       322.859985  72.721765  135.623998  \n",
              "2019-12-30       321.079987  69.174194  135.967499  \n",
              "2019-12-31       321.859985  71.439545  136.363998  \n",
              "\n",
              "[500 rows x 7 columns]"
            ],
            "text/html": [
              "\n",
              "  <div id=\"df-16fb1939-1a67-4c99-840c-6a9639d4fb8b\">\n",
              "    <div class=\"colab-df-container\">\n",
              "      <div>\n",
              "<style scoped>\n",
              "    .dataframe tbody tr th:only-of-type {\n",
              "        vertical-align: middle;\n",
              "    }\n",
              "\n",
              "    .dataframe tbody tr th {\n",
              "        vertical-align: top;\n",
              "    }\n",
              "\n",
              "    .dataframe thead th {\n",
              "        text-align: right;\n",
              "    }\n",
              "</style>\n",
              "<table border=\"1\" class=\"dataframe\">\n",
              "  <thead>\n",
              "    <tr style=\"text-align: right;\">\n",
              "      <th></th>\n",
              "      <th>Close_Price_JPM</th>\n",
              "      <th>Volume</th>\n",
              "      <th>High_Price</th>\n",
              "      <th>Low_Price</th>\n",
              "      <th>Close_Price_SPY</th>\n",
              "      <th>JPM_rsi</th>\n",
              "      <th>JPM_sma</th>\n",
              "    </tr>\n",
              "    <tr>\n",
              "      <th>Date</th>\n",
              "      <th></th>\n",
              "      <th></th>\n",
              "      <th></th>\n",
              "      <th></th>\n",
              "      <th></th>\n",
              "      <th></th>\n",
              "      <th></th>\n",
              "    </tr>\n",
              "  </thead>\n",
              "  <tbody>\n",
              "    <tr>\n",
              "      <th>2018-01-05</th>\n",
              "      <td>108.339996</td>\n",
              "      <td>14155000</td>\n",
              "      <td>109.550003</td>\n",
              "      <td>107.779999</td>\n",
              "      <td>273.420013</td>\n",
              "      <td>62.553673</td>\n",
              "      <td>106.829000</td>\n",
              "    </tr>\n",
              "    <tr>\n",
              "      <th>2018-01-08</th>\n",
              "      <td>108.500000</td>\n",
              "      <td>12466500</td>\n",
              "      <td>108.680000</td>\n",
              "      <td>107.699997</td>\n",
              "      <td>273.920013</td>\n",
              "      <td>63.141804</td>\n",
              "      <td>107.023000</td>\n",
              "    </tr>\n",
              "    <tr>\n",
              "      <th>2018-01-09</th>\n",
              "      <td>109.050003</td>\n",
              "      <td>13292300</td>\n",
              "      <td>109.629997</td>\n",
              "      <td>108.489998</td>\n",
              "      <td>274.540009</td>\n",
              "      <td>65.167038</td>\n",
              "      <td>107.179000</td>\n",
              "    </tr>\n",
              "    <tr>\n",
              "      <th>2018-01-10</th>\n",
              "      <td>110.250000</td>\n",
              "      <td>15834500</td>\n",
              "      <td>110.699997</td>\n",
              "      <td>109.389999</td>\n",
              "      <td>274.119995</td>\n",
              "      <td>69.149918</td>\n",
              "      <td>107.410500</td>\n",
              "    </tr>\n",
              "    <tr>\n",
              "      <th>2018-01-11</th>\n",
              "      <td>110.839996</td>\n",
              "      <td>13676800</td>\n",
              "      <td>110.930000</td>\n",
              "      <td>110.050003</td>\n",
              "      <td>276.119995</td>\n",
              "      <td>70.911038</td>\n",
              "      <td>107.610000</td>\n",
              "    </tr>\n",
              "    <tr>\n",
              "      <th>...</th>\n",
              "      <td>...</td>\n",
              "      <td>...</td>\n",
              "      <td>...</td>\n",
              "      <td>...</td>\n",
              "      <td>...</td>\n",
              "      <td>...</td>\n",
              "      <td>...</td>\n",
              "    </tr>\n",
              "    <tr>\n",
              "      <th>2019-12-24</th>\n",
              "      <td>137.580002</td>\n",
              "      <td>3324300</td>\n",
              "      <td>137.630005</td>\n",
              "      <td>137.059998</td>\n",
              "      <td>321.230011</td>\n",
              "      <td>68.430560</td>\n",
              "      <td>134.901498</td>\n",
              "    </tr>\n",
              "    <tr>\n",
              "      <th>2019-12-26</th>\n",
              "      <td>139.039993</td>\n",
              "      <td>6770900</td>\n",
              "      <td>139.100006</td>\n",
              "      <td>137.779999</td>\n",
              "      <td>322.940002</td>\n",
              "      <td>72.464635</td>\n",
              "      <td>135.269998</td>\n",
              "    </tr>\n",
              "    <tr>\n",
              "      <th>2019-12-27</th>\n",
              "      <td>139.139999</td>\n",
              "      <td>7868200</td>\n",
              "      <td>139.770004</td>\n",
              "      <td>138.669998</td>\n",
              "      <td>322.859985</td>\n",
              "      <td>72.721765</td>\n",
              "      <td>135.623998</td>\n",
              "    </tr>\n",
              "    <tr>\n",
              "      <th>2019-12-30</th>\n",
              "      <td>138.630005</td>\n",
              "      <td>6963000</td>\n",
              "      <td>140.080002</td>\n",
              "      <td>138.470001</td>\n",
              "      <td>321.079987</td>\n",
              "      <td>69.174194</td>\n",
              "      <td>135.967499</td>\n",
              "    </tr>\n",
              "    <tr>\n",
              "      <th>2019-12-31</th>\n",
              "      <td>139.399994</td>\n",
              "      <td>7201600</td>\n",
              "      <td>139.479996</td>\n",
              "      <td>138.289993</td>\n",
              "      <td>321.859985</td>\n",
              "      <td>71.439545</td>\n",
              "      <td>136.363998</td>\n",
              "    </tr>\n",
              "  </tbody>\n",
              "</table>\n",
              "<p>500 rows × 7 columns</p>\n",
              "</div>\n",
              "      <button class=\"colab-df-convert\" onclick=\"convertToInteractive('df-16fb1939-1a67-4c99-840c-6a9639d4fb8b')\"\n",
              "              title=\"Convert this dataframe to an interactive table.\"\n",
              "              style=\"display:none;\">\n",
              "        \n",
              "  <svg xmlns=\"http://www.w3.org/2000/svg\" height=\"24px\"viewBox=\"0 0 24 24\"\n",
              "       width=\"24px\">\n",
              "    <path d=\"M0 0h24v24H0V0z\" fill=\"none\"/>\n",
              "    <path d=\"M18.56 5.44l.94 2.06.94-2.06 2.06-.94-2.06-.94-.94-2.06-.94 2.06-2.06.94zm-11 1L8.5 8.5l.94-2.06 2.06-.94-2.06-.94L8.5 2.5l-.94 2.06-2.06.94zm10 10l.94 2.06.94-2.06 2.06-.94-2.06-.94-.94-2.06-.94 2.06-2.06.94z\"/><path d=\"M17.41 7.96l-1.37-1.37c-.4-.4-.92-.59-1.43-.59-.52 0-1.04.2-1.43.59L10.3 9.45l-7.72 7.72c-.78.78-.78 2.05 0 2.83L4 21.41c.39.39.9.59 1.41.59.51 0 1.02-.2 1.41-.59l7.78-7.78 2.81-2.81c.8-.78.8-2.07 0-2.86zM5.41 20L4 18.59l7.72-7.72 1.47 1.35L5.41 20z\"/>\n",
              "  </svg>\n",
              "      </button>\n",
              "      \n",
              "  <style>\n",
              "    .colab-df-container {\n",
              "      display:flex;\n",
              "      flex-wrap:wrap;\n",
              "      gap: 12px;\n",
              "    }\n",
              "\n",
              "    .colab-df-convert {\n",
              "      background-color: #E8F0FE;\n",
              "      border: none;\n",
              "      border-radius: 50%;\n",
              "      cursor: pointer;\n",
              "      display: none;\n",
              "      fill: #1967D2;\n",
              "      height: 32px;\n",
              "      padding: 0 0 0 0;\n",
              "      width: 32px;\n",
              "    }\n",
              "\n",
              "    .colab-df-convert:hover {\n",
              "      background-color: #E2EBFA;\n",
              "      box-shadow: 0px 1px 2px rgba(60, 64, 67, 0.3), 0px 1px 3px 1px rgba(60, 64, 67, 0.15);\n",
              "      fill: #174EA6;\n",
              "    }\n",
              "\n",
              "    [theme=dark] .colab-df-convert {\n",
              "      background-color: #3B4455;\n",
              "      fill: #D2E3FC;\n",
              "    }\n",
              "\n",
              "    [theme=dark] .colab-df-convert:hover {\n",
              "      background-color: #434B5C;\n",
              "      box-shadow: 0px 1px 3px 1px rgba(0, 0, 0, 0.15);\n",
              "      filter: drop-shadow(0px 1px 2px rgba(0, 0, 0, 0.3));\n",
              "      fill: #FFFFFF;\n",
              "    }\n",
              "  </style>\n",
              "\n",
              "      <script>\n",
              "        const buttonEl =\n",
              "          document.querySelector('#df-16fb1939-1a67-4c99-840c-6a9639d4fb8b button.colab-df-convert');\n",
              "        buttonEl.style.display =\n",
              "          google.colab.kernel.accessAllowed ? 'block' : 'none';\n",
              "\n",
              "        async function convertToInteractive(key) {\n",
              "          const element = document.querySelector('#df-16fb1939-1a67-4c99-840c-6a9639d4fb8b');\n",
              "          const dataTable =\n",
              "            await google.colab.kernel.invokeFunction('convertToInteractive',\n",
              "                                                     [key], {});\n",
              "          if (!dataTable) return;\n",
              "\n",
              "          const docLinkHtml = 'Like what you see? Visit the ' +\n",
              "            '<a target=\"_blank\" href=https://colab.research.google.com/notebooks/data_table.ipynb>data table notebook</a>'\n",
              "            + ' to learn more about interactive tables.';\n",
              "          element.innerHTML = '';\n",
              "          dataTable['output_type'] = 'display_data';\n",
              "          await google.colab.output.renderOutput(dataTable, element);\n",
              "          const docLink = document.createElement('div');\n",
              "          docLink.innerHTML = docLinkHtml;\n",
              "          element.appendChild(docLink);\n",
              "        }\n",
              "      </script>\n",
              "    </div>\n",
              "  </div>\n",
              "  "
            ]
          },
          "metadata": {},
          "execution_count": 394
        }
      ],
      "source": [
        "test_df"
      ]
    },
    {
      "cell_type": "code",
      "execution_count": 395,
      "metadata": {
        "id": "yGbOrB-YR-sB"
      },
      "outputs": [],
      "source": [
        "real_stock_prices = test_df.iloc[:,0:1].values"
      ]
    },
    {
      "cell_type": "markdown",
      "metadata": {
        "id": "uGkL8SpBS2UN"
      },
      "source": [
        "### Step 2: Getting predicted stock prices"
      ]
    },
    {
      "cell_type": "code",
      "execution_count": 396,
      "metadata": {
        "colab": {
          "base_uri": "https://localhost:8080/",
          "height": 0
        },
        "id": "V6_IhY2nzjqx",
        "outputId": "335f842f-d460-4cdb-b3ce-2473fdc6e6a1"
      },
      "outputs": [
        {
          "output_type": "execute_result",
          "data": {
            "text/plain": [
              "            Close_Price_JPM    Volume  High_Price   Low_Price  \\\n",
              "Date                                                            \n",
              "2010-02-01        39.630001  37408200   39.930000   38.950001   \n",
              "2010-02-02        40.549999  45968500   40.680000   39.700001   \n",
              "2010-02-03        40.290001  37373300   41.099998   40.169998   \n",
              "2010-02-04        38.349998  57211800   39.919998   38.349998   \n",
              "2010-02-05        38.299999  75224100   38.880001   37.029999   \n",
              "...                     ...       ...         ...         ...   \n",
              "2019-12-24       137.580002   3324300  137.630005  137.059998   \n",
              "2019-12-26       139.039993   6770900  139.100006  137.779999   \n",
              "2019-12-27       139.139999   7868200  139.770004  138.669998   \n",
              "2019-12-30       138.630005   6963000  140.080002  138.470001   \n",
              "2019-12-31       139.399994   7201600  139.479996  138.289993   \n",
              "\n",
              "            Close_Price_SPY    JPM_rsi     JPM_sma  \n",
              "Date                                                \n",
              "2010-02-01       109.059998  35.773063   42.098500  \n",
              "2010-02-02       110.379997  43.244476   41.983500  \n",
              "2010-02-03       109.830002  41.765795   41.814000  \n",
              "2010-02-04       106.440002  32.763543   41.535500  \n",
              "2010-02-05       106.660004  32.568703   41.211000  \n",
              "...                     ...        ...         ...  \n",
              "2019-12-24       321.230011  68.430560  134.901498  \n",
              "2019-12-26       322.940002  72.464635  135.269998  \n",
              "2019-12-27       322.859985  72.721765  135.623998  \n",
              "2019-12-30       321.079987  69.174194  135.967499  \n",
              "2019-12-31       321.859985  71.439545  136.363998  \n",
              "\n",
              "[2497 rows x 7 columns]"
            ],
            "text/html": [
              "\n",
              "  <div id=\"df-ed0c9148-bcc9-460a-8faa-d0074eaf7308\">\n",
              "    <div class=\"colab-df-container\">\n",
              "      <div>\n",
              "<style scoped>\n",
              "    .dataframe tbody tr th:only-of-type {\n",
              "        vertical-align: middle;\n",
              "    }\n",
              "\n",
              "    .dataframe tbody tr th {\n",
              "        vertical-align: top;\n",
              "    }\n",
              "\n",
              "    .dataframe thead th {\n",
              "        text-align: right;\n",
              "    }\n",
              "</style>\n",
              "<table border=\"1\" class=\"dataframe\">\n",
              "  <thead>\n",
              "    <tr style=\"text-align: right;\">\n",
              "      <th></th>\n",
              "      <th>Close_Price_JPM</th>\n",
              "      <th>Volume</th>\n",
              "      <th>High_Price</th>\n",
              "      <th>Low_Price</th>\n",
              "      <th>Close_Price_SPY</th>\n",
              "      <th>JPM_rsi</th>\n",
              "      <th>JPM_sma</th>\n",
              "    </tr>\n",
              "    <tr>\n",
              "      <th>Date</th>\n",
              "      <th></th>\n",
              "      <th></th>\n",
              "      <th></th>\n",
              "      <th></th>\n",
              "      <th></th>\n",
              "      <th></th>\n",
              "      <th></th>\n",
              "    </tr>\n",
              "  </thead>\n",
              "  <tbody>\n",
              "    <tr>\n",
              "      <th>2010-02-01</th>\n",
              "      <td>39.630001</td>\n",
              "      <td>37408200</td>\n",
              "      <td>39.930000</td>\n",
              "      <td>38.950001</td>\n",
              "      <td>109.059998</td>\n",
              "      <td>35.773063</td>\n",
              "      <td>42.098500</td>\n",
              "    </tr>\n",
              "    <tr>\n",
              "      <th>2010-02-02</th>\n",
              "      <td>40.549999</td>\n",
              "      <td>45968500</td>\n",
              "      <td>40.680000</td>\n",
              "      <td>39.700001</td>\n",
              "      <td>110.379997</td>\n",
              "      <td>43.244476</td>\n",
              "      <td>41.983500</td>\n",
              "    </tr>\n",
              "    <tr>\n",
              "      <th>2010-02-03</th>\n",
              "      <td>40.290001</td>\n",
              "      <td>37373300</td>\n",
              "      <td>41.099998</td>\n",
              "      <td>40.169998</td>\n",
              "      <td>109.830002</td>\n",
              "      <td>41.765795</td>\n",
              "      <td>41.814000</td>\n",
              "    </tr>\n",
              "    <tr>\n",
              "      <th>2010-02-04</th>\n",
              "      <td>38.349998</td>\n",
              "      <td>57211800</td>\n",
              "      <td>39.919998</td>\n",
              "      <td>38.349998</td>\n",
              "      <td>106.440002</td>\n",
              "      <td>32.763543</td>\n",
              "      <td>41.535500</td>\n",
              "    </tr>\n",
              "    <tr>\n",
              "      <th>2010-02-05</th>\n",
              "      <td>38.299999</td>\n",
              "      <td>75224100</td>\n",
              "      <td>38.880001</td>\n",
              "      <td>37.029999</td>\n",
              "      <td>106.660004</td>\n",
              "      <td>32.568703</td>\n",
              "      <td>41.211000</td>\n",
              "    </tr>\n",
              "    <tr>\n",
              "      <th>...</th>\n",
              "      <td>...</td>\n",
              "      <td>...</td>\n",
              "      <td>...</td>\n",
              "      <td>...</td>\n",
              "      <td>...</td>\n",
              "      <td>...</td>\n",
              "      <td>...</td>\n",
              "    </tr>\n",
              "    <tr>\n",
              "      <th>2019-12-24</th>\n",
              "      <td>137.580002</td>\n",
              "      <td>3324300</td>\n",
              "      <td>137.630005</td>\n",
              "      <td>137.059998</td>\n",
              "      <td>321.230011</td>\n",
              "      <td>68.430560</td>\n",
              "      <td>134.901498</td>\n",
              "    </tr>\n",
              "    <tr>\n",
              "      <th>2019-12-26</th>\n",
              "      <td>139.039993</td>\n",
              "      <td>6770900</td>\n",
              "      <td>139.100006</td>\n",
              "      <td>137.779999</td>\n",
              "      <td>322.940002</td>\n",
              "      <td>72.464635</td>\n",
              "      <td>135.269998</td>\n",
              "    </tr>\n",
              "    <tr>\n",
              "      <th>2019-12-27</th>\n",
              "      <td>139.139999</td>\n",
              "      <td>7868200</td>\n",
              "      <td>139.770004</td>\n",
              "      <td>138.669998</td>\n",
              "      <td>322.859985</td>\n",
              "      <td>72.721765</td>\n",
              "      <td>135.623998</td>\n",
              "    </tr>\n",
              "    <tr>\n",
              "      <th>2019-12-30</th>\n",
              "      <td>138.630005</td>\n",
              "      <td>6963000</td>\n",
              "      <td>140.080002</td>\n",
              "      <td>138.470001</td>\n",
              "      <td>321.079987</td>\n",
              "      <td>69.174194</td>\n",
              "      <td>135.967499</td>\n",
              "    </tr>\n",
              "    <tr>\n",
              "      <th>2019-12-31</th>\n",
              "      <td>139.399994</td>\n",
              "      <td>7201600</td>\n",
              "      <td>139.479996</td>\n",
              "      <td>138.289993</td>\n",
              "      <td>321.859985</td>\n",
              "      <td>71.439545</td>\n",
              "      <td>136.363998</td>\n",
              "    </tr>\n",
              "  </tbody>\n",
              "</table>\n",
              "<p>2497 rows × 7 columns</p>\n",
              "</div>\n",
              "      <button class=\"colab-df-convert\" onclick=\"convertToInteractive('df-ed0c9148-bcc9-460a-8faa-d0074eaf7308')\"\n",
              "              title=\"Convert this dataframe to an interactive table.\"\n",
              "              style=\"display:none;\">\n",
              "        \n",
              "  <svg xmlns=\"http://www.w3.org/2000/svg\" height=\"24px\"viewBox=\"0 0 24 24\"\n",
              "       width=\"24px\">\n",
              "    <path d=\"M0 0h24v24H0V0z\" fill=\"none\"/>\n",
              "    <path d=\"M18.56 5.44l.94 2.06.94-2.06 2.06-.94-2.06-.94-.94-2.06-.94 2.06-2.06.94zm-11 1L8.5 8.5l.94-2.06 2.06-.94-2.06-.94L8.5 2.5l-.94 2.06-2.06.94zm10 10l.94 2.06.94-2.06 2.06-.94-2.06-.94-.94-2.06-.94 2.06-2.06.94z\"/><path d=\"M17.41 7.96l-1.37-1.37c-.4-.4-.92-.59-1.43-.59-.52 0-1.04.2-1.43.59L10.3 9.45l-7.72 7.72c-.78.78-.78 2.05 0 2.83L4 21.41c.39.39.9.59 1.41.59.51 0 1.02-.2 1.41-.59l7.78-7.78 2.81-2.81c.8-.78.8-2.07 0-2.86zM5.41 20L4 18.59l7.72-7.72 1.47 1.35L5.41 20z\"/>\n",
              "  </svg>\n",
              "      </button>\n",
              "      \n",
              "  <style>\n",
              "    .colab-df-container {\n",
              "      display:flex;\n",
              "      flex-wrap:wrap;\n",
              "      gap: 12px;\n",
              "    }\n",
              "\n",
              "    .colab-df-convert {\n",
              "      background-color: #E8F0FE;\n",
              "      border: none;\n",
              "      border-radius: 50%;\n",
              "      cursor: pointer;\n",
              "      display: none;\n",
              "      fill: #1967D2;\n",
              "      height: 32px;\n",
              "      padding: 0 0 0 0;\n",
              "      width: 32px;\n",
              "    }\n",
              "\n",
              "    .colab-df-convert:hover {\n",
              "      background-color: #E2EBFA;\n",
              "      box-shadow: 0px 1px 2px rgba(60, 64, 67, 0.3), 0px 1px 3px 1px rgba(60, 64, 67, 0.15);\n",
              "      fill: #174EA6;\n",
              "    }\n",
              "\n",
              "    [theme=dark] .colab-df-convert {\n",
              "      background-color: #3B4455;\n",
              "      fill: #D2E3FC;\n",
              "    }\n",
              "\n",
              "    [theme=dark] .colab-df-convert:hover {\n",
              "      background-color: #434B5C;\n",
              "      box-shadow: 0px 1px 3px 1px rgba(0, 0, 0, 0.15);\n",
              "      filter: drop-shadow(0px 1px 2px rgba(0, 0, 0, 0.3));\n",
              "      fill: #FFFFFF;\n",
              "    }\n",
              "  </style>\n",
              "\n",
              "      <script>\n",
              "        const buttonEl =\n",
              "          document.querySelector('#df-ed0c9148-bcc9-460a-8faa-d0074eaf7308 button.colab-df-convert');\n",
              "        buttonEl.style.display =\n",
              "          google.colab.kernel.accessAllowed ? 'block' : 'none';\n",
              "\n",
              "        async function convertToInteractive(key) {\n",
              "          const element = document.querySelector('#df-ed0c9148-bcc9-460a-8faa-d0074eaf7308');\n",
              "          const dataTable =\n",
              "            await google.colab.kernel.invokeFunction('convertToInteractive',\n",
              "                                                     [key], {});\n",
              "          if (!dataTable) return;\n",
              "\n",
              "          const docLinkHtml = 'Like what you see? Visit the ' +\n",
              "            '<a target=\"_blank\" href=https://colab.research.google.com/notebooks/data_table.ipynb>data table notebook</a>'\n",
              "            + ' to learn more about interactive tables.';\n",
              "          element.innerHTML = '';\n",
              "          dataTable['output_type'] = 'display_data';\n",
              "          await google.colab.output.renderOutput(dataTable, element);\n",
              "          const docLink = document.createElement('div');\n",
              "          docLink.innerHTML = docLinkHtml;\n",
              "          element.appendChild(docLink);\n",
              "        }\n",
              "      </script>\n",
              "    </div>\n",
              "  </div>\n",
              "  "
            ]
          },
          "metadata": {},
          "execution_count": 396
        }
      ],
      "source": [
        "ticker_df_final"
      ]
    },
    {
      "cell_type": "code",
      "execution_count": 397,
      "metadata": {
        "id": "G1SvUa78zRWm"
      },
      "outputs": [],
      "source": [
        "def generate_inputs_list(df, timesteps, values_to_predict=1):\n",
        "  '''\n",
        "  This function gets a df (best if this DF is already normalized) and generates an array with a length of the values to predict + total timesteps.\n",
        "  Each row of that array will have a length like the total features.\n",
        "  '''\n",
        "  inputs = df[len(df) - values_to_predict - timesteps:]\n",
        "  return inputs"
      ]
    },
    {
      "cell_type": "code",
      "execution_count": 398,
      "metadata": {
        "id": "_im5mYlmUOrY"
      },
      "outputs": [],
      "source": [
        "input_scaler = MinMaxScaler(feature_range = (0, 1))\n",
        "df_normalizated = make_normalization(ticker_df_final, input_scaler)\n",
        "inputs = generate_inputs_list(df_normalizated, 60, len(test_df))"
      ]
    },
    {
      "cell_type": "markdown",
      "metadata": {
        "id": "9k--MkT9YTNl"
      },
      "source": [
        "Para realizar ahora las predicciones necesitamos crear una lista / array de listas, donde cada una de esa lista contendrá los 60 previos stock prices de las acciones del JPMorgan y demás variables necesarias para estimar el precio en el momento T+1. Así nuestra lista de testeo contendrá 500 listas (porque son 50 valores lo que vamos a intentar estimar) cada una con 60 elementos de 7 elementos cada uno :)."
      ]
    },
    {
      "cell_type": "code",
      "execution_count": 399,
      "metadata": {
        "id": "YU3BobpRiSOe"
      },
      "outputs": [],
      "source": [
        "def generate_list_to_predict(inputs, timesteps=60):\n",
        "  '''\n",
        "  - Inputs es una lista de lista. Cada lista contiene un renglón del df_final_normalizado.\n",
        "  - X_test es una lista de listas. Cada lista tendrá 60 renglones (el número de timesteps) donde cada uno de esos renglones representa un renglón del df normalizado\n",
        "  '''\n",
        "  X_test = []\n",
        "  total_inputs = len(inputs)\n",
        "  for i in range(timesteps, total_inputs): \n",
        "      X_test.append(inputs[i-timesteps:i, :])\n",
        "  X_test = np.array(X_test) # Debemos obtener un nparray\n",
        "  return np.reshape(X_test, (X_test.shape[0], X_test.shape[1], X_test.shape[2]))"
      ]
    },
    {
      "cell_type": "code",
      "execution_count": 400,
      "metadata": {
        "id": "8Vc4gxVGfeXS"
      },
      "outputs": [],
      "source": [
        "X_test = generate_list_to_predict(inputs)"
      ]
    },
    {
      "cell_type": "code",
      "execution_count": 401,
      "metadata": {
        "id": "C4X9CqhE2tA7",
        "colab": {
          "base_uri": "https://localhost:8080/"
        },
        "outputId": "2feddb52-ba4e-4f86-bced-ac99b4559a89"
      },
      "outputs": [
        {
          "output_type": "execute_result",
          "data": {
            "text/plain": [
              "array([[[0.6192578 , 0.0341506 , 0.61333934, ..., 0.69049558,\n",
              "         0.69200378, 0.60578997],\n",
              "        [0.61664565, 0.05121889, 0.61180713, ..., 0.69230771,\n",
              "         0.66183642, 0.60849169],\n",
              "        [0.60898939, 0.06976355, 0.61622352, ..., 0.6905862 ,\n",
              "         0.57839973, 0.61087529],\n",
              "        ...,\n",
              "        [0.71671772, 0.04792497, 0.71104097, ..., 0.75459812,\n",
              "         0.66085191, 0.71580108],\n",
              "        [0.71770854, 0.04008368, 0.71527712, ..., 0.76229954,\n",
              "         0.66617409, 0.71632813],\n",
              "        [0.72653581, 0.04500353, 0.72915726, ..., 0.76746391,\n",
              "         0.71215625, 0.71790454]],\n",
              "\n",
              "       [[0.61664565, 0.05121889, 0.61180713, ..., 0.69230771,\n",
              "         0.66183642, 0.60849169],\n",
              "        [0.60898939, 0.06976355, 0.61622352, ..., 0.6905862 ,\n",
              "         0.57839973, 0.61087529],\n",
              "        [0.60781845, 0.04611069, 0.60910318, ..., 0.69199056,\n",
              "         0.56613899, 0.61288852],\n",
              "        ...,\n",
              "        [0.71770854, 0.04008368, 0.71527712, ..., 0.76229954,\n",
              "         0.66617409, 0.71632813],\n",
              "        [0.72653581, 0.04500353, 0.72915726, ..., 0.76746391,\n",
              "         0.71215625, 0.71790454],\n",
              "        [0.7202306 , 0.05061787, 0.72483102, ..., 0.77566373,\n",
              "         0.65135326, 0.71952367]],\n",
              "\n",
              "       [[0.60898939, 0.06976355, 0.61622352, ..., 0.6905862 ,\n",
              "         0.57839973, 0.61087529],\n",
              "        [0.60781845, 0.04611069, 0.60910318, ..., 0.69199056,\n",
              "         0.56613899, 0.61288852],\n",
              "        [0.62565304, 0.04257468, 0.62027937, ..., 0.69353082,\n",
              "         0.68822796, 0.61522464],\n",
              "        ...,\n",
              "        [0.72653581, 0.04500353, 0.72915726, ..., 0.76746391,\n",
              "         0.71215625, 0.71790454],\n",
              "        [0.7202306 , 0.05061787, 0.72483102, ..., 0.77566373,\n",
              "         0.65135326, 0.71952367],\n",
              "        [0.72167181, 0.04272657, 0.71698963, ..., 0.77792884,\n",
              "         0.6596006 , 0.72136597]],\n",
              "\n",
              "       ...,\n",
              "\n",
              "       [[0.7644569 , 0.04311074, 0.77305093, ..., 0.84198603,\n",
              "         0.37664341, 0.81791594],\n",
              "        [0.75490909, 0.04398235, 0.75511494, ..., 0.85267741,\n",
              "         0.33717008, 0.81783048],\n",
              "        [0.77679704, 0.02864328, 0.77341146, ..., 0.87048113,\n",
              "         0.45402538, 0.81878487],\n",
              "        ...,\n",
              "        [0.98018378, 0.02997665, 0.98044166, ..., 0.99220802,\n",
              "         0.71751398, 0.98321985],\n",
              "        [0.98360663, 0.        , 0.97791801, ..., 0.99225337,\n",
              "         0.73376461, 0.98611151],\n",
              "        [0.99675734, 0.01610787, 0.99116723, ..., 1.        ,\n",
              "         0.79033428, 0.98961093]],\n",
              "\n",
              "       [[0.75490909, 0.04398235, 0.75511494, ..., 0.85267741,\n",
              "         0.33717008, 0.81783048],\n",
              "        [0.77679704, 0.02864328, 0.77341146, ..., 0.87048113,\n",
              "         0.45402538, 0.81878487],\n",
              "        [0.7745452 , 0.01611114, 0.77845875, ..., 0.86472767,\n",
              "         0.44369717, 0.8182958 ],\n",
              "        ...,\n",
              "        [0.98360663, 0.        , 0.97791801, ..., 0.99225337,\n",
              "         0.73376461, 0.98611151],\n",
              "        [0.99675734, 0.01610787, 0.99116723, ..., 1.        ,\n",
              "         0.79033428, 0.98961093],\n",
              "        [0.99765813, 0.02123616, 0.99720597, ..., 0.99963751,\n",
              "         0.79394001, 0.99297266]],\n",
              "\n",
              "       [[0.77679704, 0.02864328, 0.77341146, ..., 0.87048113,\n",
              "         0.45402538, 0.81878487],\n",
              "        [0.7745452 , 0.01611114, 0.77845875, ..., 0.86472767,\n",
              "         0.44369717, 0.8182958 ],\n",
              "        [0.75157633, 0.03496754, 0.75646684, ..., 0.84411524,\n",
              "         0.34794739, 0.81589796],\n",
              "        ...,\n",
              "        [0.99675734, 0.01610787, 0.99116723, ..., 1.        ,\n",
              "         0.79033428, 0.98961093],\n",
              "        [0.99765813, 0.02123616, 0.99720597, ..., 0.99963751,\n",
              "         0.79394001, 0.99297266],\n",
              "        [0.99306441, 0.01700566, 1.        , ..., 0.99157373,\n",
              "         0.74419257, 0.99623468]]])"
            ]
          },
          "metadata": {},
          "execution_count": 401
        }
      ],
      "source": [
        "X_test"
      ]
    },
    {
      "cell_type": "code",
      "execution_count": 402,
      "metadata": {
        "colab": {
          "base_uri": "https://localhost:8080/"
        },
        "id": "0ygAkhjde9HB",
        "outputId": "3b1e8571-38ff-4782-cfe6-af5842e29d6e"
      },
      "outputs": [
        {
          "output_type": "stream",
          "name": "stdout",
          "text": [
            "Reshaping test matrix.\n",
            "The first value is the number of values to predict, the second value is the timesteps and the third value is the indicators.\n",
            "   X_test.shape[0] = 500 \n",
            "   X_test.shape[1] = 60\n",
            "   X_test.shape[2] = 7\n"
          ]
        }
      ],
      "source": [
        "reshapingMsg = \"Reshaping test matrix.\\nThe first value is the number of values to predict, the second value is the timesteps and the third value is the indicators.\\n   X_test.shape[0] = {shape_cero} \\n   X_test.shape[1] = {shape_one}\\n   X_test.shape[2] = {shape_two}\".format(shape_cero=X_test.shape[0], shape_one = X_test.shape[1], shape_two=X_test.shape[2])\n",
        "print(f\"{reshapingMsg}\")"
      ]
    },
    {
      "cell_type": "markdown",
      "metadata": {
        "id": "w9Ul8-e6iTKt"
      },
      "source": [
        "Finalmente podremos realizar nuestra predicción usando, obviamente, el predictor previamente inicializado. Además necesitaremos hace una transformación inversa ya que los datos estaban normalizados."
      ]
    },
    {
      "cell_type": "code",
      "execution_count": 403,
      "metadata": {
        "id": "oG4Rcpju9JXE"
      },
      "outputs": [],
      "source": [
        "def make_desnormalization(df_to_desnormalize, parameter_df_desnormalize , scaler):\n",
        "  print(\"df to desnomalize: %s\" % df_to_desnormalize)\n",
        "  print(\"parameter df desnormalized: %s\" % parameter_df_desnormalize)\n",
        "\n",
        "  df_to_desnormalize = np.concatenate((df_to_desnormalize, np.zeros((df_to_desnormalize.shape[0], parameter_df_desnormalize.shape[1]-1))), axis=1)\n",
        "  df_to_desnormalize = scaler.inverse_transform(df_to_desnormalize)\n",
        "  print(\"df desnomalizeed: %s\" % df_to_desnormalize)\n",
        "  return df_to_desnormalize[:,0]"
      ]
    },
    {
      "cell_type": "code",
      "execution_count": 404,
      "metadata": {
        "id": "myBeI3ia7wlR"
      },
      "outputs": [],
      "source": [
        "def make_predictions(list_to_predict, reference_df, predictor, ticker_name, scaler):\n",
        "  '''\n",
        "  Dado que el predictor trabaja con los valores del dataset de entrenamiento, la desnormalización la tengo que hacer tomando como referencia los precios de dicho dataframe\n",
        "  '''\n",
        "  predicted_stock_prices_normalizated = predictor.predict(list_to_predict)\n",
        "  predicted_stock_prices = make_desnormalization(predicted_stock_prices_normalizated, reference_df, scaler)\n",
        "  return np.array(predicted_stock_prices).flatten(), np.array(predicted_stock_prices_normalizated).flatten()"
      ]
    },
    {
      "cell_type": "code",
      "execution_count": 405,
      "metadata": {
        "id": "xdXehTYTaCot",
        "colab": {
          "base_uri": "https://localhost:8080/"
        },
        "outputId": "f5c702cb-40d1-4a53-af6a-8666819bf73f"
      },
      "outputs": [
        {
          "output_type": "stream",
          "name": "stdout",
          "text": [
            "16/16 [==============================] - 1s 14ms/step\n",
            "df to desnomalize: [[0.72978926]\n",
            " [0.7304789 ]\n",
            " [0.73156786]\n",
            " [0.7350558 ]\n",
            " [0.74177456]\n",
            " [0.7487272 ]\n",
            " [0.75902766]\n",
            " [0.7632714 ]\n",
            " [0.76901156]\n",
            " [0.7736506 ]\n",
            " [0.7756764 ]\n",
            " [0.7812229 ]\n",
            " [0.78442466]\n",
            " [0.79107594]\n",
            " [0.7962063 ]\n",
            " [0.80176234]\n",
            " [0.80529314]\n",
            " [0.7982845 ]\n",
            " [0.796999  ]\n",
            " [0.80021644]\n",
            " [0.78600776]\n",
            " [0.7523422 ]\n",
            " [0.74312186]\n",
            " [0.7435448 ]\n",
            " [0.7299074 ]\n",
            " [0.7269724 ]\n",
            " [0.7335028 ]\n",
            " [0.7409736 ]\n",
            " [0.75479025]\n",
            " [0.76762456]\n",
            " [0.77462834]\n",
            " [0.77864456]\n",
            " [0.78338295]\n",
            " [0.7854043 ]\n",
            " [0.7938626 ]\n",
            " [0.8042045 ]\n",
            " [0.8059847 ]\n",
            " [0.80012417]\n",
            " [0.78804797]\n",
            " [0.77768564]\n",
            " [0.77719015]\n",
            " [0.7781216 ]\n",
            " [0.7766571 ]\n",
            " [0.77634203]\n",
            " [0.78801364]\n",
            " [0.79592425]\n",
            " [0.79589045]\n",
            " [0.7906142 ]\n",
            " [0.78797716]\n",
            " [0.7866822 ]\n",
            " [0.78129035]\n",
            " [0.7787886 ]\n",
            " [0.7778819 ]\n",
            " [0.75932205]\n",
            " [0.7384454 ]\n",
            " [0.7369894 ]\n",
            " [0.73071307]\n",
            " [0.7242044 ]\n",
            " [0.7272435 ]\n",
            " [0.7226144 ]\n",
            " [0.7238961 ]\n",
            " [0.7295437 ]\n",
            " [0.73822963]\n",
            " [0.73473424]\n",
            " [0.73737735]\n",
            " [0.74531525]\n",
            " [0.7450891 ]\n",
            " [0.7525771 ]\n",
            " [0.74958235]\n",
            " [0.74766856]\n",
            " [0.7464864 ]\n",
            " [0.74243385]\n",
            " [0.74500555]\n",
            " [0.7462917 ]\n",
            " [0.7453441 ]\n",
            " [0.74228865]\n",
            " [0.737779  ]\n",
            " [0.7359623 ]\n",
            " [0.73243976]\n",
            " [0.7277984 ]\n",
            " [0.7239333 ]\n",
            " [0.7188324 ]\n",
            " [0.7116169 ]\n",
            " [0.71294826]\n",
            " [0.7187264 ]\n",
            " [0.728891  ]\n",
            " [0.7445818 ]\n",
            " [0.75862116]\n",
            " [0.7667154 ]\n",
            " [0.7721187 ]\n",
            " [0.77035934]\n",
            " [0.7702388 ]\n",
            " [0.76771337]\n",
            " [0.7579702 ]\n",
            " [0.7564061 ]\n",
            " [0.7591027 ]\n",
            " [0.7580271 ]\n",
            " [0.75193757]\n",
            " [0.7459152 ]\n",
            " [0.72532964]\n",
            " [0.7221212 ]\n",
            " [0.7159583 ]\n",
            " [0.7180508 ]\n",
            " [0.7204162 ]\n",
            " [0.7194662 ]\n",
            " [0.72825074]\n",
            " [0.73632073]\n",
            " [0.742495  ]\n",
            " [0.7459852 ]\n",
            " [0.74527353]\n",
            " [0.74364525]\n",
            " [0.7351413 ]\n",
            " [0.7268063 ]\n",
            " [0.7228259 ]\n",
            " [0.71694493]\n",
            " [0.71406704]\n",
            " [0.71108764]\n",
            " [0.7034512 ]\n",
            " [0.6937075 ]\n",
            " [0.6870029 ]\n",
            " [0.6787263 ]\n",
            " [0.6817968 ]\n",
            " [0.6826645 ]\n",
            " [0.6863454 ]\n",
            " [0.68444926]\n",
            " [0.68289274]\n",
            " [0.68284017]\n",
            " [0.6973843 ]\n",
            " [0.70547485]\n",
            " [0.7084597 ]\n",
            " [0.7118015 ]\n",
            " [0.71078664]\n",
            " [0.7243867 ]\n",
            " [0.73415375]\n",
            " [0.74352837]\n",
            " [0.7417818 ]\n",
            " [0.7446878 ]\n",
            " [0.7526116 ]\n",
            " [0.7615487 ]\n",
            " [0.7707078 ]\n",
            " [0.7760874 ]\n",
            " [0.7824529 ]\n",
            " [0.78924733]\n",
            " [0.7861061 ]\n",
            " [0.78694797]\n",
            " [0.7889294 ]\n",
            " [0.7940943 ]\n",
            " [0.79871154]\n",
            " [0.80440027]\n",
            " [0.80925083]\n",
            " [0.8072855 ]\n",
            " [0.798792  ]\n",
            " [0.7861439 ]\n",
            " [0.7814349 ]\n",
            " [0.7743753 ]\n",
            " [0.775947  ]\n",
            " [0.7779162 ]\n",
            " [0.77924573]\n",
            " [0.78432137]\n",
            " [0.78591543]\n",
            " [0.78558064]\n",
            " [0.78567505]\n",
            " [0.7952901 ]\n",
            " [0.7988362 ]\n",
            " [0.7989288 ]\n",
            " [0.79533863]\n",
            " [0.78883594]\n",
            " [0.78737456]\n",
            " [0.7838003 ]\n",
            " [0.7786051 ]\n",
            " [0.7765326 ]\n",
            " [0.77286613]\n",
            " [0.7744322 ]\n",
            " [0.76934874]\n",
            " [0.7687601 ]\n",
            " [0.76895523]\n",
            " [0.7708185 ]\n",
            " [0.7750722 ]\n",
            " [0.79275036]\n",
            " [0.8091612 ]\n",
            " [0.8142478 ]\n",
            " [0.81125945]\n",
            " [0.80724674]\n",
            " [0.79681104]\n",
            " [0.7878748 ]\n",
            " [0.7748598 ]\n",
            " [0.7707941 ]\n",
            " [0.76980007]\n",
            " [0.7752961 ]\n",
            " [0.7801295 ]\n",
            " [0.77996004]\n",
            " [0.78231615]\n",
            " [0.7796871 ]\n",
            " [0.76454157]\n",
            " [0.74255925]\n",
            " [0.72615534]\n",
            " [0.7139983 ]\n",
            " [0.71634644]\n",
            " [0.7235931 ]\n",
            " [0.7229503 ]\n",
            " [0.72131884]\n",
            " [0.7152657 ]\n",
            " [0.7058133 ]\n",
            " [0.6926215 ]\n",
            " [0.6908282 ]\n",
            " [0.68410814]\n",
            " [0.68502206]\n",
            " [0.69237506]\n",
            " [0.70669645]\n",
            " [0.7171193 ]\n",
            " [0.72139406]\n",
            " [0.7260267 ]\n",
            " [0.7297815 ]\n",
            " [0.73928523]\n",
            " [0.7483673 ]\n",
            " [0.749426  ]\n",
            " [0.74078304]\n",
            " [0.7365961 ]\n",
            " [0.7259174 ]\n",
            " [0.7267421 ]\n",
            " [0.7284085 ]\n",
            " [0.7313965 ]\n",
            " [0.7250772 ]\n",
            " [0.7194848 ]\n",
            " [0.7115355 ]\n",
            " [0.7157899 ]\n",
            " [0.72108287]\n",
            " [0.72991663]\n",
            " [0.7336527 ]\n",
            " [0.7394258 ]\n",
            " [0.7485811 ]\n",
            " [0.73697805]\n",
            " [0.72020525]\n",
            " [0.70481473]\n",
            " [0.68748343]\n",
            " [0.674617  ]\n",
            " [0.6669897 ]\n",
            " [0.66216177]\n",
            " [0.65588456]\n",
            " [0.64694476]\n",
            " [0.6402628 ]\n",
            " [0.63180083]\n",
            " [0.6222076 ]\n",
            " [0.6099725 ]\n",
            " [0.5960475 ]\n",
            " [0.5996032 ]\n",
            " [0.60583586]\n",
            " [0.6108628 ]\n",
            " [0.61717695]\n",
            " [0.6253457 ]\n",
            " [0.62419295]\n",
            " [0.63446933]\n",
            " [0.6422848 ]\n",
            " [0.64733636]\n",
            " [0.64994866]\n",
            " [0.6505888 ]\n",
            " [0.64858115]\n",
            " [0.6494572 ]\n",
            " [0.65258396]\n",
            " [0.6590134 ]\n",
            " [0.6649765 ]\n",
            " [0.67468786]\n",
            " [0.6734221 ]\n",
            " [0.6721361 ]\n",
            " [0.6710179 ]\n",
            " [0.67356724]\n",
            " [0.67644715]\n",
            " [0.6802628 ]\n",
            " [0.6846257 ]\n",
            " [0.68278545]\n",
            " [0.6843648 ]\n",
            " [0.6867243 ]\n",
            " [0.6863415 ]\n",
            " [0.6863335 ]\n",
            " [0.67799884]\n",
            " [0.667957  ]\n",
            " [0.66031986]\n",
            " [0.66497797]\n",
            " [0.67148733]\n",
            " [0.672005  ]\n",
            " [0.6856344 ]\n",
            " [0.6927917 ]\n",
            " [0.69957024]\n",
            " [0.702487  ]\n",
            " [0.7021397 ]\n",
            " [0.70654356]\n",
            " [0.7034779 ]\n",
            " [0.7012908 ]\n",
            " [0.69556415]\n",
            " [0.6934746 ]\n",
            " [0.690828  ]\n",
            " [0.68830204]\n",
            " [0.6847786 ]\n",
            " [0.677507  ]\n",
            " [0.67325187]\n",
            " [0.6800483 ]\n",
            " [0.6833428 ]\n",
            " [0.6880094 ]\n",
            " [0.6961656 ]\n",
            " [0.7060067 ]\n",
            " [0.7160819 ]\n",
            " [0.719718  ]\n",
            " [0.70791405]\n",
            " [0.69241256]\n",
            " [0.6707132 ]\n",
            " [0.65438414]\n",
            " [0.64886886]\n",
            " [0.64457816]\n",
            " [0.6474725 ]\n",
            " [0.65286446]\n",
            " [0.6702615 ]\n",
            " [0.6844152 ]\n",
            " [0.6945445 ]\n",
            " [0.7008093 ]\n",
            " [0.70385414]\n",
            " [0.70606387]\n",
            " [0.70242465]\n",
            " [0.70185196]\n",
            " [0.70518744]\n",
            " [0.7231412 ]\n",
            " [0.7303164 ]\n",
            " [0.7385894 ]\n",
            " [0.75135076]\n",
            " [0.75871146]\n",
            " [0.7641353 ]\n",
            " [0.7691591 ]\n",
            " [0.7717457 ]\n",
            " [0.7737937 ]\n",
            " [0.7783237 ]\n",
            " [0.78639686]\n",
            " [0.79240525]\n",
            " [0.79197925]\n",
            " [0.79234457]\n",
            " [0.796302  ]\n",
            " [0.7920101 ]\n",
            " [0.7788581 ]\n",
            " [0.7694372 ]\n",
            " [0.76232034]\n",
            " [0.7588623 ]\n",
            " [0.74299973]\n",
            " [0.739036  ]\n",
            " [0.7356151 ]\n",
            " [0.7417535 ]\n",
            " [0.74363536]\n",
            " [0.7473642 ]\n",
            " [0.75231373]\n",
            " [0.7515873 ]\n",
            " [0.74061394]\n",
            " [0.73881125]\n",
            " [0.73275304]\n",
            " [0.72631   ]\n",
            " [0.7191083 ]\n",
            " [0.70880705]\n",
            " [0.7041826 ]\n",
            " [0.7166764 ]\n",
            " [0.7274509 ]\n",
            " [0.73569894]\n",
            " [0.73672146]\n",
            " [0.7424259 ]\n",
            " [0.74705744]\n",
            " [0.74363893]\n",
            " [0.7419351 ]\n",
            " [0.7410456 ]\n",
            " [0.73813045]\n",
            " [0.7425613 ]\n",
            " [0.74263847]\n",
            " [0.7438686 ]\n",
            " [0.74095744]\n",
            " [0.7359793 ]\n",
            " [0.72776705]\n",
            " [0.7263561 ]\n",
            " [0.72714293]\n",
            " [0.7406182 ]\n",
            " [0.7575641 ]\n",
            " [0.76886743]\n",
            " [0.7716148 ]\n",
            " [0.7753371 ]\n",
            " [0.77369356]\n",
            " [0.7736868 ]\n",
            " [0.7726706 ]\n",
            " [0.7760217 ]\n",
            " [0.78277665]\n",
            " [0.78061503]\n",
            " [0.7827394 ]\n",
            " [0.77932686]\n",
            " [0.7801483 ]\n",
            " [0.77592593]\n",
            " [0.77584773]\n",
            " [0.78419405]\n",
            " [0.7922236 ]\n",
            " [0.7928669 ]\n",
            " [0.79550076]\n",
            " [0.7965722 ]\n",
            " [0.7953344 ]\n",
            " [0.7951333 ]\n",
            " [0.782099  ]\n",
            " [0.77210766]\n",
            " [0.75165814]\n",
            " [0.7428423 ]\n",
            " [0.72925574]\n",
            " [0.73060757]\n",
            " [0.7311007 ]\n",
            " [0.7249486 ]\n",
            " [0.7280258 ]\n",
            " [0.7162477 ]\n",
            " [0.7091811 ]\n",
            " [0.71328634]\n",
            " [0.721041  ]\n",
            " [0.7215354 ]\n",
            " [0.7228391 ]\n",
            " [0.72677666]\n",
            " [0.71986365]\n",
            " [0.71738094]\n",
            " [0.7118802 ]\n",
            " [0.7112184 ]\n",
            " [0.7198688 ]\n",
            " [0.7279516 ]\n",
            " [0.7277988 ]\n",
            " [0.73246914]\n",
            " [0.7442974 ]\n",
            " [0.7530684 ]\n",
            " [0.76639205]\n",
            " [0.77956   ]\n",
            " [0.7895196 ]\n",
            " [0.79825944]\n",
            " [0.8099993 ]\n",
            " [0.814068  ]\n",
            " [0.81428444]\n",
            " [0.81792593]\n",
            " [0.8201347 ]\n",
            " [0.8193783 ]\n",
            " [0.8192295 ]\n",
            " [0.8125762 ]\n",
            " [0.8109261 ]\n",
            " [0.8064057 ]\n",
            " [0.80638826]\n",
            " [0.8073726 ]\n",
            " [0.7995855 ]\n",
            " [0.7845807 ]\n",
            " [0.77109563]\n",
            " [0.77285594]\n",
            " [0.7745199 ]\n",
            " [0.7663932 ]\n",
            " [0.7648733 ]\n",
            " [0.7703673 ]\n",
            " [0.7825821 ]\n",
            " [0.7913954 ]\n",
            " [0.80839777]\n",
            " [0.81965387]\n",
            " [0.82919323]\n",
            " [0.83499396]\n",
            " [0.84692484]\n",
            " [0.8577146 ]\n",
            " [0.8662883 ]\n",
            " [0.87189215]\n",
            " [0.87844896]\n",
            " [0.885216  ]\n",
            " [0.889485  ]\n",
            " [0.88818645]\n",
            " [0.8827028 ]\n",
            " [0.8887367 ]\n",
            " [0.8974861 ]\n",
            " [0.90508205]\n",
            " [0.91119486]\n",
            " [0.91865504]\n",
            " [0.9244081 ]\n",
            " [0.92538303]\n",
            " [0.92251784]\n",
            " [0.91621006]\n",
            " [0.9133196 ]\n",
            " [0.9158061 ]\n",
            " [0.9217691 ]\n",
            " [0.9267247 ]\n",
            " [0.9235301 ]\n",
            " [0.92382133]\n",
            " [0.92779833]\n",
            " [0.9340699 ]\n",
            " [0.93878317]\n",
            " [0.9445141 ]\n",
            " [0.9456746 ]\n",
            " [0.944032  ]\n",
            " [0.92930156]\n",
            " [0.9324714 ]\n",
            " [0.9384994 ]\n",
            " [0.95135075]\n",
            " [0.9566235 ]\n",
            " [0.9600515 ]\n",
            " [0.9614143 ]\n",
            " [0.9740202 ]\n",
            " [0.9776603 ]\n",
            " [0.98363787]\n",
            " [0.990037  ]\n",
            " [0.99436253]\n",
            " [0.9934158 ]\n",
            " [0.99223375]\n",
            " [0.9928009 ]\n",
            " [0.9942525 ]\n",
            " [1.0003636 ]\n",
            " [1.0052559 ]\n",
            " [1.0049108 ]]\n",
            "parameter df desnormalized:             Close_Price_JPM    Volume  High_Price   Low_Price  \\\n",
            "Date                                                            \n",
            "2010-02-01        39.630001  37408200   39.930000   38.950001   \n",
            "2010-02-02        40.549999  45968500   40.680000   39.700001   \n",
            "2010-02-03        40.290001  37373300   41.099998   40.169998   \n",
            "2010-02-04        38.349998  57211800   39.919998   38.349998   \n",
            "2010-02-05        38.299999  75224100   38.880001   37.029999   \n",
            "...                     ...       ...         ...         ...   \n",
            "2019-12-24       137.580002   3324300  137.630005  137.059998   \n",
            "2019-12-26       139.039993   6770900  139.100006  137.779999   \n",
            "2019-12-27       139.139999   7868200  139.770004  138.669998   \n",
            "2019-12-30       138.630005   6963000  140.080002  138.470001   \n",
            "2019-12-31       139.399994   7201600  139.479996  138.289993   \n",
            "\n",
            "            Close_Price_SPY    JPM_rsi     JPM_sma  \n",
            "Date                                                \n",
            "2010-02-01       109.059998  35.773063   42.098500  \n",
            "2010-02-02       110.379997  43.244476   41.983500  \n",
            "2010-02-03       109.830002  41.765795   41.814000  \n",
            "2010-02-04       106.440002  32.763543   41.535500  \n",
            "2010-02-05       106.660004  32.568703   41.211000  \n",
            "...                     ...        ...         ...  \n",
            "2019-12-24       321.230011  68.430560  134.901498  \n",
            "2019-12-26       322.940002  72.464635  135.269998  \n",
            "2019-12-27       322.859985  72.721765  135.623998  \n",
            "2019-12-30       321.079987  69.174194  135.967499  \n",
            "2019-12-31       321.859985  71.439545  136.363998  \n",
            "\n",
            "[2497 rows x 7 columns]\n",
            "df desnomalizeed: [[1.09401199e+02 3.32430000e+06 2.91299992e+01 ... 1.02199997e+02\n",
            "  1.61046146e+01 3.10610000e+01]\n",
            " [1.09477761e+02 3.32430000e+06 2.91299992e+01 ... 1.02199997e+02\n",
            "  1.61046146e+01 3.10610000e+01]\n",
            " [1.09598659e+02 3.32430000e+06 2.91299992e+01 ... 1.02199997e+02\n",
            "  1.61046146e+01 3.10610000e+01]\n",
            " ...\n",
            " [1.39440359e+02 3.32430000e+06 2.91299992e+01 ... 1.02199997e+02\n",
            "  1.61046146e+01 3.10610000e+01]\n",
            " [1.39983508e+02 3.32430000e+06 2.91299992e+01 ... 1.02199997e+02\n",
            "  1.61046146e+01 3.10610000e+01]\n",
            " [1.39945194e+02 3.32430000e+06 2.91299992e+01 ... 1.02199997e+02\n",
            "  1.61046146e+01 3.10610000e+01]]\n"
          ]
        }
      ],
      "source": [
        "predicted_stock_prices, predicted_stock_prices_normalizated = make_predictions(X_test, ticker_df_final, regressor, ticker_name, input_scaler)"
      ]
    },
    {
      "cell_type": "code",
      "execution_count": 406,
      "metadata": {
        "id": "NYKN742b-Os2"
      },
      "outputs": [],
      "source": [
        "def get_real_prices(test_df, ticker_name, scaler):\n",
        "  normalizated_df = scaler.transform(test_df)\n",
        "  df = test_df.loc[:, ['Close_Price_%s' % ticker_name]]\n",
        "  return np.array(df).flatten(), normalizated_df[:,0]"
      ]
    },
    {
      "cell_type": "code",
      "execution_count": 407,
      "metadata": {
        "id": "FeLM1p9GakSj"
      },
      "outputs": [],
      "source": [
        "real_stock_prices, real_stock_prices_normalizated = get_real_prices(test_df, \"JPM\", input_scaler)"
      ]
    },
    {
      "cell_type": "code",
      "execution_count": 408,
      "metadata": {
        "id": "sBbFJJwZ-v5E"
      },
      "outputs": [],
      "source": [
        "def get_df_predicted_vs_real(list_of_real_prices, list_of_predicted_prices, normalizated=False):\n",
        "  if normalizated:\n",
        "    return pd.DataFrame({'Real price normalizated': list_of_real_prices, 'Predicted Price normalizated': list_of_predicted_prices})\n",
        "  else:\n",
        "    return pd.DataFrame({'Real price': list_of_real_prices, 'Predicted Price': list_of_predicted_prices})"
      ]
    },
    {
      "cell_type": "code",
      "execution_count": 409,
      "metadata": {
        "id": "P6rhrJGbahMt"
      },
      "outputs": [],
      "source": [
        "predicted_vs_real = get_df_predicted_vs_real(real_stock_prices, predicted_stock_prices)"
      ]
    },
    {
      "cell_type": "code",
      "execution_count": 410,
      "metadata": {
        "id": "Czz3tF9NcCpX",
        "colab": {
          "base_uri": "https://localhost:8080/",
          "height": 0
        },
        "outputId": "351f5312-9573-4012-c496-d8ed9e39bb0c"
      },
      "outputs": [
        {
          "output_type": "execute_result",
          "data": {
            "text/plain": [
              "     Real price  Predicted Price\n",
              "0    108.339996       109.401199\n",
              "1    108.500000       109.477761\n",
              "2    109.050003       109.598659\n",
              "3    110.250000       109.985891\n",
              "4    110.839996       110.731807\n",
              "..          ...              ...\n",
              "495  137.580002       138.600749\n",
              "496  139.039993       138.761907\n",
              "497  139.139999       139.440359\n",
              "498  138.630005       139.983508\n",
              "499  139.399994       139.945194\n",
              "\n",
              "[500 rows x 2 columns]"
            ],
            "text/html": [
              "\n",
              "  <div id=\"df-c829c1e0-6524-4a00-9454-49feffbe93be\">\n",
              "    <div class=\"colab-df-container\">\n",
              "      <div>\n",
              "<style scoped>\n",
              "    .dataframe tbody tr th:only-of-type {\n",
              "        vertical-align: middle;\n",
              "    }\n",
              "\n",
              "    .dataframe tbody tr th {\n",
              "        vertical-align: top;\n",
              "    }\n",
              "\n",
              "    .dataframe thead th {\n",
              "        text-align: right;\n",
              "    }\n",
              "</style>\n",
              "<table border=\"1\" class=\"dataframe\">\n",
              "  <thead>\n",
              "    <tr style=\"text-align: right;\">\n",
              "      <th></th>\n",
              "      <th>Real price</th>\n",
              "      <th>Predicted Price</th>\n",
              "    </tr>\n",
              "  </thead>\n",
              "  <tbody>\n",
              "    <tr>\n",
              "      <th>0</th>\n",
              "      <td>108.339996</td>\n",
              "      <td>109.401199</td>\n",
              "    </tr>\n",
              "    <tr>\n",
              "      <th>1</th>\n",
              "      <td>108.500000</td>\n",
              "      <td>109.477761</td>\n",
              "    </tr>\n",
              "    <tr>\n",
              "      <th>2</th>\n",
              "      <td>109.050003</td>\n",
              "      <td>109.598659</td>\n",
              "    </tr>\n",
              "    <tr>\n",
              "      <th>3</th>\n",
              "      <td>110.250000</td>\n",
              "      <td>109.985891</td>\n",
              "    </tr>\n",
              "    <tr>\n",
              "      <th>4</th>\n",
              "      <td>110.839996</td>\n",
              "      <td>110.731807</td>\n",
              "    </tr>\n",
              "    <tr>\n",
              "      <th>...</th>\n",
              "      <td>...</td>\n",
              "      <td>...</td>\n",
              "    </tr>\n",
              "    <tr>\n",
              "      <th>495</th>\n",
              "      <td>137.580002</td>\n",
              "      <td>138.600749</td>\n",
              "    </tr>\n",
              "    <tr>\n",
              "      <th>496</th>\n",
              "      <td>139.039993</td>\n",
              "      <td>138.761907</td>\n",
              "    </tr>\n",
              "    <tr>\n",
              "      <th>497</th>\n",
              "      <td>139.139999</td>\n",
              "      <td>139.440359</td>\n",
              "    </tr>\n",
              "    <tr>\n",
              "      <th>498</th>\n",
              "      <td>138.630005</td>\n",
              "      <td>139.983508</td>\n",
              "    </tr>\n",
              "    <tr>\n",
              "      <th>499</th>\n",
              "      <td>139.399994</td>\n",
              "      <td>139.945194</td>\n",
              "    </tr>\n",
              "  </tbody>\n",
              "</table>\n",
              "<p>500 rows × 2 columns</p>\n",
              "</div>\n",
              "      <button class=\"colab-df-convert\" onclick=\"convertToInteractive('df-c829c1e0-6524-4a00-9454-49feffbe93be')\"\n",
              "              title=\"Convert this dataframe to an interactive table.\"\n",
              "              style=\"display:none;\">\n",
              "        \n",
              "  <svg xmlns=\"http://www.w3.org/2000/svg\" height=\"24px\"viewBox=\"0 0 24 24\"\n",
              "       width=\"24px\">\n",
              "    <path d=\"M0 0h24v24H0V0z\" fill=\"none\"/>\n",
              "    <path d=\"M18.56 5.44l.94 2.06.94-2.06 2.06-.94-2.06-.94-.94-2.06-.94 2.06-2.06.94zm-11 1L8.5 8.5l.94-2.06 2.06-.94-2.06-.94L8.5 2.5l-.94 2.06-2.06.94zm10 10l.94 2.06.94-2.06 2.06-.94-2.06-.94-.94-2.06-.94 2.06-2.06.94z\"/><path d=\"M17.41 7.96l-1.37-1.37c-.4-.4-.92-.59-1.43-.59-.52 0-1.04.2-1.43.59L10.3 9.45l-7.72 7.72c-.78.78-.78 2.05 0 2.83L4 21.41c.39.39.9.59 1.41.59.51 0 1.02-.2 1.41-.59l7.78-7.78 2.81-2.81c.8-.78.8-2.07 0-2.86zM5.41 20L4 18.59l7.72-7.72 1.47 1.35L5.41 20z\"/>\n",
              "  </svg>\n",
              "      </button>\n",
              "      \n",
              "  <style>\n",
              "    .colab-df-container {\n",
              "      display:flex;\n",
              "      flex-wrap:wrap;\n",
              "      gap: 12px;\n",
              "    }\n",
              "\n",
              "    .colab-df-convert {\n",
              "      background-color: #E8F0FE;\n",
              "      border: none;\n",
              "      border-radius: 50%;\n",
              "      cursor: pointer;\n",
              "      display: none;\n",
              "      fill: #1967D2;\n",
              "      height: 32px;\n",
              "      padding: 0 0 0 0;\n",
              "      width: 32px;\n",
              "    }\n",
              "\n",
              "    .colab-df-convert:hover {\n",
              "      background-color: #E2EBFA;\n",
              "      box-shadow: 0px 1px 2px rgba(60, 64, 67, 0.3), 0px 1px 3px 1px rgba(60, 64, 67, 0.15);\n",
              "      fill: #174EA6;\n",
              "    }\n",
              "\n",
              "    [theme=dark] .colab-df-convert {\n",
              "      background-color: #3B4455;\n",
              "      fill: #D2E3FC;\n",
              "    }\n",
              "\n",
              "    [theme=dark] .colab-df-convert:hover {\n",
              "      background-color: #434B5C;\n",
              "      box-shadow: 0px 1px 3px 1px rgba(0, 0, 0, 0.15);\n",
              "      filter: drop-shadow(0px 1px 2px rgba(0, 0, 0, 0.3));\n",
              "      fill: #FFFFFF;\n",
              "    }\n",
              "  </style>\n",
              "\n",
              "      <script>\n",
              "        const buttonEl =\n",
              "          document.querySelector('#df-c829c1e0-6524-4a00-9454-49feffbe93be button.colab-df-convert');\n",
              "        buttonEl.style.display =\n",
              "          google.colab.kernel.accessAllowed ? 'block' : 'none';\n",
              "\n",
              "        async function convertToInteractive(key) {\n",
              "          const element = document.querySelector('#df-c829c1e0-6524-4a00-9454-49feffbe93be');\n",
              "          const dataTable =\n",
              "            await google.colab.kernel.invokeFunction('convertToInteractive',\n",
              "                                                     [key], {});\n",
              "          if (!dataTable) return;\n",
              "\n",
              "          const docLinkHtml = 'Like what you see? Visit the ' +\n",
              "            '<a target=\"_blank\" href=https://colab.research.google.com/notebooks/data_table.ipynb>data table notebook</a>'\n",
              "            + ' to learn more about interactive tables.';\n",
              "          element.innerHTML = '';\n",
              "          dataTable['output_type'] = 'display_data';\n",
              "          await google.colab.output.renderOutput(dataTable, element);\n",
              "          const docLink = document.createElement('div');\n",
              "          docLink.innerHTML = docLinkHtml;\n",
              "          element.appendChild(docLink);\n",
              "        }\n",
              "      </script>\n",
              "    </div>\n",
              "  </div>\n",
              "  "
            ]
          },
          "metadata": {},
          "execution_count": 410
        }
      ],
      "source": [
        "predicted_vs_real"
      ]
    },
    {
      "cell_type": "code",
      "execution_count": 411,
      "metadata": {
        "id": "DLhO9pIg1kt8"
      },
      "outputs": [],
      "source": [
        "predicted_vs_real_normalizated = get_df_predicted_vs_real(real_stock_prices_normalizated, predicted_stock_prices_normalizated, True)"
      ]
    },
    {
      "cell_type": "markdown",
      "metadata": {
        "id": "7c7HBL75jl7Z"
      },
      "source": [
        "## Part 7 - Visualising results"
      ]
    },
    {
      "cell_type": "code",
      "execution_count": 412,
      "metadata": {
        "colab": {
          "base_uri": "https://localhost:8080/",
          "height": 472
        },
        "id": "2Wt8rbG_joYm",
        "outputId": "64476aad-2d2a-4974-f640-99ad584ee3f6"
      },
      "outputs": [
        {
          "output_type": "display_data",
          "data": {
            "text/plain": [
              "<Figure size 640x480 with 1 Axes>"
            ],
            "image/png": "[encoded data removed]"
          },
          "metadata": {}
        }
      ],
      "source": [
        "plt.plot(predicted_vs_real['Real price'], color = 'red', label = 'Real Stock Price')\n",
        "plt.plot(predicted_vs_real['Predicted Price'], color = 'blue', label = 'Predicted Stock Price')\n",
        "plt.title('Stock Price Prediction')\n",
        "plt.xlabel('Time')\n",
        "plt.ylabel('Stock Price')\n",
        "plt.legend()\n",
        "plt.show()"
      ]
    },
    {
      "cell_type": "code",
      "execution_count": 413,
      "metadata": {
        "colab": {
          "base_uri": "https://localhost:8080/",
          "height": 472
        },
        "id": "ErjgkH6C1xb5",
        "outputId": "d1fe312d-58fa-4adb-9aeb-9bdb613ba450"
      },
      "outputs": [
        {
          "output_type": "display_data",
          "data": {
            "text/plain": [
              "<Figure size 640x480 with 1 Axes>"
            ],
            "image/png": "[encoded data removed]"
          },
          "metadata": {}
        }
      ],
      "source": [
        "plt.plot(predicted_vs_real_normalizated['Real price normalizated'], color = 'red', label = 'Real Stock Price Normalizated')\n",
        "plt.plot(predicted_vs_real_normalizated['Predicted Price normalizated'], color = 'blue', label = 'Predicted Stock Price Normalizated')\n",
        "plt.title('Stock Normalizated Prices Prediction')\n",
        "plt.xlabel('Time')\n",
        "plt.ylabel('Stock Price')\n",
        "plt.legend()\n",
        "plt.show()"
      ]
    },
    {
      "cell_type": "markdown",
      "metadata": {
        "id": "e93RYHBvf1Hc"
      },
      "source": [
        "## Part 8 - Evaluating network performance"
      ]
    },
    {
      "cell_type": "markdown",
      "metadata": {
        "id": "ey1JTZUth9q4"
      },
      "source": [
        "Primero vamos a obtener como arrays separados, la lista de precios reales y la de precios predichos. "
      ]
    },
    {
      "cell_type": "code",
      "execution_count": 414,
      "metadata": {
        "colab": {
          "base_uri": "https://localhost:8080/",
          "height": 424
        },
        "id": "k-X3XmIAfxyi",
        "outputId": "9b68108c-fbbc-4e53-848f-0d6974f79173"
      },
      "outputs": [
        {
          "output_type": "execute_result",
          "data": {
            "text/plain": [
              "     Real price  Predicted Price\n",
              "0    108.339996       109.401199\n",
              "1    108.500000       109.477761\n",
              "2    109.050003       109.598659\n",
              "3    110.250000       109.985891\n",
              "4    110.839996       110.731807\n",
              "..          ...              ...\n",
              "495  137.580002       138.600749\n",
              "496  139.039993       138.761907\n",
              "497  139.139999       139.440359\n",
              "498  138.630005       139.983508\n",
              "499  139.399994       139.945194\n",
              "\n",
              "[500 rows x 2 columns]"
            ],
            "text/html": [
              "\n",
              "  <div id=\"df-52e1ab8b-53c6-4dfb-af4b-e34a54d1d1b5\">\n",
              "    <div class=\"colab-df-container\">\n",
              "      <div>\n",
              "<style scoped>\n",
              "    .dataframe tbody tr th:only-of-type {\n",
              "        vertical-align: middle;\n",
              "    }\n",
              "\n",
              "    .dataframe tbody tr th {\n",
              "        vertical-align: top;\n",
              "    }\n",
              "\n",
              "    .dataframe thead th {\n",
              "        text-align: right;\n",
              "    }\n",
              "</style>\n",
              "<table border=\"1\" class=\"dataframe\">\n",
              "  <thead>\n",
              "    <tr style=\"text-align: right;\">\n",
              "      <th></th>\n",
              "      <th>Real price</th>\n",
              "      <th>Predicted Price</th>\n",
              "    </tr>\n",
              "  </thead>\n",
              "  <tbody>\n",
              "    <tr>\n",
              "      <th>0</th>\n",
              "      <td>108.339996</td>\n",
              "      <td>109.401199</td>\n",
              "    </tr>\n",
              "    <tr>\n",
              "      <th>1</th>\n",
              "      <td>108.500000</td>\n",
              "      <td>109.477761</td>\n",
              "    </tr>\n",
              "    <tr>\n",
              "      <th>2</th>\n",
              "      <td>109.050003</td>\n",
              "      <td>109.598659</td>\n",
              "    </tr>\n",
              "    <tr>\n",
              "      <th>3</th>\n",
              "      <td>110.250000</td>\n",
              "      <td>109.985891</td>\n",
              "    </tr>\n",
              "    <tr>\n",
              "      <th>4</th>\n",
              "      <td>110.839996</td>\n",
              "      <td>110.731807</td>\n",
              "    </tr>\n",
              "    <tr>\n",
              "      <th>...</th>\n",
              "      <td>...</td>\n",
              "      <td>...</td>\n",
              "    </tr>\n",
              "    <tr>\n",
              "      <th>495</th>\n",
              "      <td>137.580002</td>\n",
              "      <td>138.600749</td>\n",
              "    </tr>\n",
              "    <tr>\n",
              "      <th>496</th>\n",
              "      <td>139.039993</td>\n",
              "      <td>138.761907</td>\n",
              "    </tr>\n",
              "    <tr>\n",
              "      <th>497</th>\n",
              "      <td>139.139999</td>\n",
              "      <td>139.440359</td>\n",
              "    </tr>\n",
              "    <tr>\n",
              "      <th>498</th>\n",
              "      <td>138.630005</td>\n",
              "      <td>139.983508</td>\n",
              "    </tr>\n",
              "    <tr>\n",
              "      <th>499</th>\n",
              "      <td>139.399994</td>\n",
              "      <td>139.945194</td>\n",
              "    </tr>\n",
              "  </tbody>\n",
              "</table>\n",
              "<p>500 rows × 2 columns</p>\n",
              "</div>\n",
              "      <button class=\"colab-df-convert\" onclick=\"convertToInteractive('df-52e1ab8b-53c6-4dfb-af4b-e34a54d1d1b5')\"\n",
              "              title=\"Convert this dataframe to an interactive table.\"\n",
              "              style=\"display:none;\">\n",
              "        \n",
              "  <svg xmlns=\"http://www.w3.org/2000/svg\" height=\"24px\"viewBox=\"0 0 24 24\"\n",
              "       width=\"24px\">\n",
              "    <path d=\"M0 0h24v24H0V0z\" fill=\"none\"/>\n",
              "    <path d=\"M18.56 5.44l.94 2.06.94-2.06 2.06-.94-2.06-.94-.94-2.06-.94 2.06-2.06.94zm-11 1L8.5 8.5l.94-2.06 2.06-.94-2.06-.94L8.5 2.5l-.94 2.06-2.06.94zm10 10l.94 2.06.94-2.06 2.06-.94-2.06-.94-.94-2.06-.94 2.06-2.06.94z\"/><path d=\"M17.41 7.96l-1.37-1.37c-.4-.4-.92-.59-1.43-.59-.52 0-1.04.2-1.43.59L10.3 9.45l-7.72 7.72c-.78.78-.78 2.05 0 2.83L4 21.41c.39.39.9.59 1.41.59.51 0 1.02-.2 1.41-.59l7.78-7.78 2.81-2.81c.8-.78.8-2.07 0-2.86zM5.41 20L4 18.59l7.72-7.72 1.47 1.35L5.41 20z\"/>\n",
              "  </svg>\n",
              "      </button>\n",
              "      \n",
              "  <style>\n",
              "    .colab-df-container {\n",
              "      display:flex;\n",
              "      flex-wrap:wrap;\n",
              "      gap: 12px;\n",
              "    }\n",
              "\n",
              "    .colab-df-convert {\n",
              "      background-color: #E8F0FE;\n",
              "      border: none;\n",
              "      border-radius: 50%;\n",
              "      cursor: pointer;\n",
              "      display: none;\n",
              "      fill: #1967D2;\n",
              "      height: 32px;\n",
              "      padding: 0 0 0 0;\n",
              "      width: 32px;\n",
              "    }\n",
              "\n",
              "    .colab-df-convert:hover {\n",
              "      background-color: #E2EBFA;\n",
              "      box-shadow: 0px 1px 2px rgba(60, 64, 67, 0.3), 0px 1px 3px 1px rgba(60, 64, 67, 0.15);\n",
              "      fill: #174EA6;\n",
              "    }\n",
              "\n",
              "    [theme=dark] .colab-df-convert {\n",
              "      background-color: #3B4455;\n",
              "      fill: #D2E3FC;\n",
              "    }\n",
              "\n",
              "    [theme=dark] .colab-df-convert:hover {\n",
              "      background-color: #434B5C;\n",
              "      box-shadow: 0px 1px 3px 1px rgba(0, 0, 0, 0.15);\n",
              "      filter: drop-shadow(0px 1px 2px rgba(0, 0, 0, 0.3));\n",
              "      fill: #FFFFFF;\n",
              "    }\n",
              "  </style>\n",
              "\n",
              "      <script>\n",
              "        const buttonEl =\n",
              "          document.querySelector('#df-52e1ab8b-53c6-4dfb-af4b-e34a54d1d1b5 button.colab-df-convert');\n",
              "        buttonEl.style.display =\n",
              "          google.colab.kernel.accessAllowed ? 'block' : 'none';\n",
              "\n",
              "        async function convertToInteractive(key) {\n",
              "          const element = document.querySelector('#df-52e1ab8b-53c6-4dfb-af4b-e34a54d1d1b5');\n",
              "          const dataTable =\n",
              "            await google.colab.kernel.invokeFunction('convertToInteractive',\n",
              "                                                     [key], {});\n",
              "          if (!dataTable) return;\n",
              "\n",
              "          const docLinkHtml = 'Like what you see? Visit the ' +\n",
              "            '<a target=\"_blank\" href=https://colab.research.google.com/notebooks/data_table.ipynb>data table notebook</a>'\n",
              "            + ' to learn more about interactive tables.';\n",
              "          element.innerHTML = '';\n",
              "          dataTable['output_type'] = 'display_data';\n",
              "          await google.colab.output.renderOutput(dataTable, element);\n",
              "          const docLink = document.createElement('div');\n",
              "          docLink.innerHTML = docLinkHtml;\n",
              "          element.appendChild(docLink);\n",
              "        }\n",
              "      </script>\n",
              "    </div>\n",
              "  </div>\n",
              "  "
            ]
          },
          "metadata": {},
          "execution_count": 414
        }
      ],
      "source": [
        "predicted_vs_real"
      ]
    },
    {
      "cell_type": "code",
      "execution_count": 415,
      "metadata": {
        "id": "JhoTuEClgaRB"
      },
      "outputs": [],
      "source": [
        "y_real = predicted_vs_real['Real price']\n",
        "y_pred = predicted_vs_real['Predicted Price']"
      ]
    },
    {
      "cell_type": "markdown",
      "metadata": {
        "id": "sk5jh3Z9fk_B"
      },
      "source": [
        "### 8.1) Calculating coefficient of determination (R^2)"
      ]
    },
    {
      "cell_type": "markdown",
      "metadata": {
        "id": "LzMrm0TSlyE1"
      },
      "source": [
        "El coeficiente de determinación o R^2 es un indicador que varía entre 0 y 1, donde cuanto más tienda a 1 el valor, mejor será la cappacidad de predicción del modelo."
      ]
    },
    {
      "cell_type": "code",
      "execution_count": 416,
      "metadata": {
        "colab": {
          "base_uri": "https://localhost:8080/"
        },
        "id": "-A8Qw5FGgdwV",
        "outputId": "3a5c27d9-69d6-4d42-877e-0966b550c59e"
      },
      "outputs": [
        {
          "output_type": "stream",
          "name": "stdout",
          "text": [
            "Coeficiente de determinación (R^2): 0.9532381910951111\n"
          ]
        }
      ],
      "source": [
        "r2 = r2_score(y_real, y_pred)\n",
        "print(\"Coeficiente de determinación (R^2):\", r2)"
      ]
    },
    {
      "cell_type": "markdown",
      "metadata": {
        "id": "sb3l-qVOmCa0"
      },
      "source": [
        "### 8.2) Calculating mean-squared-error (MSE)"
      ]
    },
    {
      "cell_type": "markdown",
      "metadata": {
        "id": "iOVy-pDSmHFv"
      },
      "source": [
        "El error cuadrático medio o MSE, mide el promedio de los errores al cuadrador entre las predicciones y los valores reales. Mientras más bajo el valor, mayor es la precisión del modelo"
      ]
    },
    {
      "cell_type": "code",
      "execution_count": 417,
      "metadata": {
        "colab": {
          "base_uri": "https://localhost:8080/"
        },
        "id": "Ci_r5VI8mbPD",
        "outputId": "7e21e4f7-e7a1-41d1-a554-e9ae27e2e164"
      },
      "outputs": [
        {
          "output_type": "stream",
          "name": "stdout",
          "text": [
            "Error cuadrático medio (MSE): 3.202225658487021\n"
          ]
        }
      ],
      "source": [
        "mse = mean_squared_error(y_real, y_pred)\n",
        "print(\"Error cuadrático medio (MSE):\", mse)"
      ]
    }
  ],
  "metadata": {
    "colab": {
      "collapsed_sections": [
        "kqo1ZaA2_O7E",
        "V6FFj5K-H0eU",
        "fy1rbjxzJAO2",
        "htMv506HJS0G",
        "5XUel90aRMa7",
        "7c7HBL75jl7Z",
        "e93RYHBvf1Hc"
      ],
      "provenance": [],
      "authorship_tag": "ABX9TyPixQyl4NYweuGsDwGDaRMy",
      "include_colab_link": true
    },
    "kernelspec": {
      "display_name": "Python 3",
      "name": "python3"
    },
    "language_info": {
      "name": "python"
    }
  },
  "nbformat": 4,
  "nbformat_minor": 0
}