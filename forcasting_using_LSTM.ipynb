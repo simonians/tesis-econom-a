{
  "cells": [
    {
      "cell_type": "markdown",
      "metadata": {
        "id": "view-in-github",
        "colab_type": "text"
      },
      "source": [
        "<a href=\"https://colab.research.google.com/github/simonians/tesis-economia-fce-unc/blob/colab-project/forcasting_using_LSTM.ipynb\" target=\"_parent\"><img src=\"https://colab.research.google.com/assets/colab-badge.svg\" alt=\"Open In Colab\"/></a>"
      ]
    },
    {
      "cell_type": "markdown",
      "metadata": {
        "id": "TuY-SuKdMMpt"
      },
      "source": [
        "# Stock market forcasting using LSTM Recurrent Neural Networks "
      ]
    },
    {
      "cell_type": "code",
      "execution_count": null,
      "metadata": {
        "id": "4RZa5VQ_ZeCO"
      },
      "outputs": [],
      "source": [
        "import pandas as pd\n",
        "import numpy as np\n",
        "import matplotlib.pyplot as plt\n",
        "import yfinance as yf"
      ]
    },
    {
      "cell_type": "markdown",
      "metadata": {
        "id": "JB3hoRZYMyie"
      },
      "source": [
        "## Part 1: Data preparing"
      ]
    },
    {
      "cell_type": "markdown",
      "metadata": {
        "id": "yUct8umXNBTH"
      },
      "source": [
        "Primero definimos los tickers que utilizaremos a lo largo del proyecto. Para la estimación y pruebas de la performance de la red, elegiremos 4 tickers de algunas de las empresas más grandes e importantes de diferentes industrias. Los tickers seleccionados son: \n",
        "- GOOGL => Google de la industria tecnológica\n",
        "- JPM => JPMorgan Chase & Co. de la indsutria bancaria\n",
        "- MCD => McDonald's de la industria de comida rápida y real estate\n",
        "- HYG => iShares iBoxx $ High Yield Corporate Bond ETF es un ETF que busca replicar los resultados de inversión de un índice compuesto por bonos corporativos de alto rendimiento denominados en dólares de EE.UU."
      ]
    },
    {
      "cell_type": "code",
      "execution_count": null,
      "metadata": {
        "id": "vgfLXSB9MGjK"
      },
      "outputs": [],
      "source": [
        "DEFAULT_TICKERS = ['GOOG', 'JPM', 'MCD', \"HYG\"]\n",
        "START, END = \"2010-01-01\", \"2020-01-01\""
      ]
    },
    {
      "cell_type": "markdown",
      "metadata": {
        "id": "Ism_iCbEalWC"
      },
      "source": [
        "Para las estimaciones trabajaremos con los precios ajustados (adj close).\n",
        "**\"The adjusted closing price amends a stock's closing price to reflect that stock's value after accounting for any corporate actions.\"**"
      ]
    },
    {
      "cell_type": "code",
      "execution_count": null,
      "metadata": {
        "id": "zdjLeJ2AMw1-"
      },
      "outputs": [],
      "source": [
        "# Use load_ticker to load the ticker information sent as parameter and the industry information price\n",
        "def load_ticker(ticker, industry='SPY', start=START, end=END):\n",
        "    ticker_data = yf.download(ticker, start=start, end=end)\n",
        "    \n",
        "    ticker_data = ticker_data[['Close', 'Volume', 'High', 'Low']].rename(columns={'Close': 'Close_Price_%s' % (ticker), 'Volume': 'Volume', 'High': 'High_Price', 'Low': 'Low_Price'}) \n",
        "    industry_data = yf.download(industry, start=START, end=END)[['Close']].rename(columns={'Close': 'Close_Price_%s'% (industry)})\n",
        "    ticker_data = pd.merge(ticker_data, industry_data, how='left', on='Date')\n",
        "    return ticker_data\n",
        "\n",
        "# Nix returns a list without the VALUE sent as parameter\n",
        "def nix(value, list):\n",
        "    return [x for x in list if x!=value]"
      ]
    },
    {
      "cell_type": "code",
      "execution_count": null,
      "metadata": {
        "id": "Rqh_-JrX5mRa"
      },
      "outputs": [],
      "source": [
        "def calculate_sma(days, df, ticker):\n",
        "  sma_df = df['Close_Price_%s' % (ticker)].rolling(window=days).mean().to_frame()\n",
        "  return sma_df.rename(columns={'Close_Price_%s' % (ticker):'%s_sma' % (ticker)})"
      ]
    },
    {
      "cell_type": "code",
      "execution_count": null,
      "metadata": {
        "id": "q6Fp4apVaA3m"
      },
      "outputs": [],
      "source": [
        "def calculate_rsi(df, ticker):\n",
        "    delta = df['Close_Price_%s' % (ticker)].diff()\n",
        "    positive = delta.clip(lower=0)\n",
        "    negative = -delta.clip(upper=0)\n",
        "    ema_positive = positive.ewm(alpha=1/14, min_periods=14).mean()\n",
        "    ema_negative = negative.ewm(alpha=1/14, min_periods=14).mean()\n",
        "    rsi = 100 - 100 / (1 + ema_positive / ema_negative)\n",
        "    rsi = rsi.to_frame()\n",
        "    return rsi.rename(columns={'Close_Price_%s' % (ticker):'%s_rsi' % (ticker)})"
      ]
    },
    {
      "cell_type": "code",
      "execution_count": null,
      "metadata": {
        "colab": {
          "base_uri": "https://localhost:8080/"
        },
        "id": "DVXp8s7baJL_",
        "outputId": "51533465-df5b-47f6-c087-d3a6fe24737a"
      },
      "outputs": [
        {
          "output_type": "stream",
          "name": "stdout",
          "text": [
            "[*********************100%***********************]  1 of 1 completed\n",
            "[*********************100%***********************]  1 of 1 completed\n"
          ]
        }
      ],
      "source": [
        "ticker = 'JPM'\n",
        "jpm = load_ticker(ticker)\n",
        "jpm_rsi = calculate_rsi(jpm, \"JPM\")\n",
        "jpm_sma = calculate_sma(20, jpm, \"JPM\")"
      ]
    },
    {
      "cell_type": "code",
      "source": [
        "from functools import reduce\n",
        "\n",
        "def merge_dfs(dfs_list):\n",
        "  merged_df = reduce(lambda left, right: pd.merge(left, right, on='Date'), dfs_list)\n",
        "  return merged_df.dropna()"
      ],
      "metadata": {
        "id": "BtZDe0OE5URL"
      },
      "execution_count": null,
      "outputs": []
    },
    {
      "cell_type": "code",
      "execution_count": null,
      "metadata": {
        "id": "X8IDyHnsjGpC"
      },
      "outputs": [],
      "source": [
        "jpm_final = merge_dfs([jpm, jpm_rsi, jpm_sma])"
      ]
    },
    {
      "cell_type": "markdown",
      "source": [
        "## Part 2: Data processing"
      ],
      "metadata": {
        "id": "SeFhg0EZ63_7"
      }
    },
    {
      "cell_type": "markdown",
      "source": [
        "### Parte 1: División conjunto de entrenamiento y test"
      ],
      "metadata": {
        "id": "L6UoHjKe7LdG"
      }
    },
    {
      "cell_type": "markdown",
      "source": [
        "Primer punto es la separación del total de datos en un conjunto de entrenamiento y uno para testeo / pruebas. Para esto definimos una función que recibe como parámetro el dataframe a separar y un valor (entre 0-1) que representa el porcentaje del df que queremos utilizar para entrenamiento."
      ],
      "metadata": {
        "id": "0FVuDNRu8B6y"
      }
    },
    {
      "cell_type": "code",
      "source": [
        "def train_test_split(df, percentage_for_training=0.8):\n",
        "  if percentage_for_training<0 or percentage_for_training>1:\n",
        "    #LANZAR UNA EXCEPCIÓN\n",
        "    print(\"Acá lanzar excepción\")\n",
        "    return\n",
        "  # Cálculo del índice correspondiente al 80% de las filas\n",
        "  index_percentage = int(len(df) * percentage_for_training)\n",
        "\n",
        "  # División del DataFrame en dos partes: entrenamiento y prueba\n",
        "  train_df = df[:index_percentage]\n",
        "  test_df = df[index_percentage:]\n",
        "  return train_df, test_df"
      ],
      "metadata": {
        "id": "7YGIV69b68gG"
      },
      "execution_count": null,
      "outputs": []
    },
    {
      "cell_type": "code",
      "source": [
        "jpm_train, jpm_test = train_test_split(jpm_final)"
      ],
      "metadata": {
        "id": "DGJmUClL7zCg"
      },
      "execution_count": null,
      "outputs": []
    },
    {
      "cell_type": "markdown",
      "source": [
        "### Parte 2: Feature scaling"
      ],
      "metadata": {
        "id": "O3HWmgBxBN7o"
      }
    },
    {
      "cell_type": "markdown",
      "source": [
        "Normalización del df de entrenamiento. Creamos una función que retornará, para cada fila del df pasado por parámetro, el valor valor normalizado, es decir:\n",
        "  - Para cada columna de la fila del df, restarle el mínimo y devidirlo por la diferencia entre el maximo y el mínimo del conjunto (de la columna bajo análisis).\n",
        "Para esto, creamos una función que la denominamos normalization(), que recibe por parámetro un dataframe a normalizar. Utiliza como método de normalización el MinMaxScaler de la librería sklearn."
      ],
      "metadata": {
        "id": "hEHFILSoEziu"
      }
    },
    {
      "cell_type": "code",
      "source": [
        "from sklearn.preprocessing import MinMaxScaler\n",
        "\n",
        "def normalization(df):\n",
        "  sc = MinMaxScaler(feature_range = (0, 1))\n",
        "  return sc.fit_transform(df)"
      ],
      "metadata": {
        "id": "4afhdGyXBThu"
      },
      "execution_count": null,
      "outputs": []
    },
    {
      "cell_type": "code",
      "source": [
        "training_set_scaled = normalization(jpm_train)"
      ],
      "metadata": {
        "id": "nF0WextxCDxK"
      },
      "execution_count": null,
      "outputs": []
    },
    {
      "cell_type": "code",
      "source": [
        "jpm_train"
      ],
      "metadata": {
        "colab": {
          "base_uri": "https://localhost:8080/",
          "height": 693
        },
        "id": "3VKfcGjnmw8U",
        "outputId": "fa354e5e-10e0-4702-93d5-373debc9c8bd"
      },
      "execution_count": null,
      "outputs": [
        {
          "output_type": "execute_result",
          "data": {
            "text/plain": [
              "            Close_Price_JPM    Volume  High_Price   Low_Price  \\\n",
              "Date                                                            \n",
              "2010-02-01        39.630001  37408200   39.930000   38.950001   \n",
              "2010-02-02        40.549999  45968500   40.680000   39.700001   \n",
              "2010-02-03        40.290001  37373300   41.099998   40.169998   \n",
              "2010-02-04        38.349998  57211800   39.919998   38.349998   \n",
              "2010-02-05        38.299999  75224100   38.880001   37.029999   \n",
              "...                     ...       ...         ...         ...   \n",
              "2017-12-28       107.790001   7440600  107.839996  107.160004   \n",
              "2017-12-29       106.940002   8925700  108.279999  106.940002   \n",
              "2018-01-02       107.949997  13578800  108.019997  106.809998   \n",
              "2018-01-03       108.059998  11901000  108.489998  107.480003   \n",
              "2018-01-04       109.040001  12953700  110.029999  108.199997   \n",
              "\n",
              "            Close_Price_SPY    JPM_rsi   JPM_sma  \n",
              "Date                                              \n",
              "2010-02-01       109.059998  35.773063   42.0985  \n",
              "2010-02-02       110.379997  43.244476   41.9835  \n",
              "2010-02-03       109.830002  41.765795   41.8140  \n",
              "2010-02-04       106.440002  32.763543   41.5355  \n",
              "2010-02-05       106.660004  32.568703   41.2110  \n",
              "...                     ...        ...       ...  \n",
              "2017-12-28       267.869995  64.567063  106.1580  \n",
              "2017-12-29       266.859985  59.642311  106.2790  \n",
              "2018-01-02       268.769989  63.231037  106.4370  \n",
              "2018-01-03       270.470001  63.610570  106.4925  \n",
              "2018-01-04       271.609985  66.889632  106.6585  \n",
              "\n",
              "[1997 rows x 7 columns]"
            ],
            "text/html": [
              "\n",
              "  <div id=\"df-8359c1a5-2e02-4278-9671-0c56c9033158\">\n",
              "    <div class=\"colab-df-container\">\n",
              "      <div>\n",
              "<style scoped>\n",
              "    .dataframe tbody tr th:only-of-type {\n",
              "        vertical-align: middle;\n",
              "    }\n",
              "\n",
              "    .dataframe tbody tr th {\n",
              "        vertical-align: top;\n",
              "    }\n",
              "\n",
              "    .dataframe thead th {\n",
              "        text-align: right;\n",
              "    }\n",
              "</style>\n",
              "<table border=\"1\" class=\"dataframe\">\n",
              "  <thead>\n",
              "    <tr style=\"text-align: right;\">\n",
              "      <th></th>\n",
              "      <th>Close_Price_JPM</th>\n",
              "      <th>Volume</th>\n",
              "      <th>High_Price</th>\n",
              "      <th>Low_Price</th>\n",
              "      <th>Close_Price_SPY</th>\n",
              "      <th>JPM_rsi</th>\n",
              "      <th>JPM_sma</th>\n",
              "    </tr>\n",
              "    <tr>\n",
              "      <th>Date</th>\n",
              "      <th></th>\n",
              "      <th></th>\n",
              "      <th></th>\n",
              "      <th></th>\n",
              "      <th></th>\n",
              "      <th></th>\n",
              "      <th></th>\n",
              "    </tr>\n",
              "  </thead>\n",
              "  <tbody>\n",
              "    <tr>\n",
              "      <th>2010-02-01</th>\n",
              "      <td>39.630001</td>\n",
              "      <td>37408200</td>\n",
              "      <td>39.930000</td>\n",
              "      <td>38.950001</td>\n",
              "      <td>109.059998</td>\n",
              "      <td>35.773063</td>\n",
              "      <td>42.0985</td>\n",
              "    </tr>\n",
              "    <tr>\n",
              "      <th>2010-02-02</th>\n",
              "      <td>40.549999</td>\n",
              "      <td>45968500</td>\n",
              "      <td>40.680000</td>\n",
              "      <td>39.700001</td>\n",
              "      <td>110.379997</td>\n",
              "      <td>43.244476</td>\n",
              "      <td>41.9835</td>\n",
              "    </tr>\n",
              "    <tr>\n",
              "      <th>2010-02-03</th>\n",
              "      <td>40.290001</td>\n",
              "      <td>37373300</td>\n",
              "      <td>41.099998</td>\n",
              "      <td>40.169998</td>\n",
              "      <td>109.830002</td>\n",
              "      <td>41.765795</td>\n",
              "      <td>41.8140</td>\n",
              "    </tr>\n",
              "    <tr>\n",
              "      <th>2010-02-04</th>\n",
              "      <td>38.349998</td>\n",
              "      <td>57211800</td>\n",
              "      <td>39.919998</td>\n",
              "      <td>38.349998</td>\n",
              "      <td>106.440002</td>\n",
              "      <td>32.763543</td>\n",
              "      <td>41.5355</td>\n",
              "    </tr>\n",
              "    <tr>\n",
              "      <th>2010-02-05</th>\n",
              "      <td>38.299999</td>\n",
              "      <td>75224100</td>\n",
              "      <td>38.880001</td>\n",
              "      <td>37.029999</td>\n",
              "      <td>106.660004</td>\n",
              "      <td>32.568703</td>\n",
              "      <td>41.2110</td>\n",
              "    </tr>\n",
              "    <tr>\n",
              "      <th>...</th>\n",
              "      <td>...</td>\n",
              "      <td>...</td>\n",
              "      <td>...</td>\n",
              "      <td>...</td>\n",
              "      <td>...</td>\n",
              "      <td>...</td>\n",
              "      <td>...</td>\n",
              "    </tr>\n",
              "    <tr>\n",
              "      <th>2017-12-28</th>\n",
              "      <td>107.790001</td>\n",
              "      <td>7440600</td>\n",
              "      <td>107.839996</td>\n",
              "      <td>107.160004</td>\n",
              "      <td>267.869995</td>\n",
              "      <td>64.567063</td>\n",
              "      <td>106.1580</td>\n",
              "    </tr>\n",
              "    <tr>\n",
              "      <th>2017-12-29</th>\n",
              "      <td>106.940002</td>\n",
              "      <td>8925700</td>\n",
              "      <td>108.279999</td>\n",
              "      <td>106.940002</td>\n",
              "      <td>266.859985</td>\n",
              "      <td>59.642311</td>\n",
              "      <td>106.2790</td>\n",
              "    </tr>\n",
              "    <tr>\n",
              "      <th>2018-01-02</th>\n",
              "      <td>107.949997</td>\n",
              "      <td>13578800</td>\n",
              "      <td>108.019997</td>\n",
              "      <td>106.809998</td>\n",
              "      <td>268.769989</td>\n",
              "      <td>63.231037</td>\n",
              "      <td>106.4370</td>\n",
              "    </tr>\n",
              "    <tr>\n",
              "      <th>2018-01-03</th>\n",
              "      <td>108.059998</td>\n",
              "      <td>11901000</td>\n",
              "      <td>108.489998</td>\n",
              "      <td>107.480003</td>\n",
              "      <td>270.470001</td>\n",
              "      <td>63.610570</td>\n",
              "      <td>106.4925</td>\n",
              "    </tr>\n",
              "    <tr>\n",
              "      <th>2018-01-04</th>\n",
              "      <td>109.040001</td>\n",
              "      <td>12953700</td>\n",
              "      <td>110.029999</td>\n",
              "      <td>108.199997</td>\n",
              "      <td>271.609985</td>\n",
              "      <td>66.889632</td>\n",
              "      <td>106.6585</td>\n",
              "    </tr>\n",
              "  </tbody>\n",
              "</table>\n",
              "<p>1997 rows × 7 columns</p>\n",
              "</div>\n",
              "      <button class=\"colab-df-convert\" onclick=\"convertToInteractive('df-8359c1a5-2e02-4278-9671-0c56c9033158')\"\n",
              "              title=\"Convert this dataframe to an interactive table.\"\n",
              "              style=\"display:none;\">\n",
              "        \n",
              "  <svg xmlns=\"http://www.w3.org/2000/svg\" height=\"24px\"viewBox=\"0 0 24 24\"\n",
              "       width=\"24px\">\n",
              "    <path d=\"M0 0h24v24H0V0z\" fill=\"none\"/>\n",
              "    <path d=\"M18.56 5.44l.94 2.06.94-2.06 2.06-.94-2.06-.94-.94-2.06-.94 2.06-2.06.94zm-11 1L8.5 8.5l.94-2.06 2.06-.94-2.06-.94L8.5 2.5l-.94 2.06-2.06.94zm10 10l.94 2.06.94-2.06 2.06-.94-2.06-.94-.94-2.06-.94 2.06-2.06.94z\"/><path d=\"M17.41 7.96l-1.37-1.37c-.4-.4-.92-.59-1.43-.59-.52 0-1.04.2-1.43.59L10.3 9.45l-7.72 7.72c-.78.78-.78 2.05 0 2.83L4 21.41c.39.39.9.59 1.41.59.51 0 1.02-.2 1.41-.59l7.78-7.78 2.81-2.81c.8-.78.8-2.07 0-2.86zM5.41 20L4 18.59l7.72-7.72 1.47 1.35L5.41 20z\"/>\n",
              "  </svg>\n",
              "      </button>\n",
              "      \n",
              "  <style>\n",
              "    .colab-df-container {\n",
              "      display:flex;\n",
              "      flex-wrap:wrap;\n",
              "      gap: 12px;\n",
              "    }\n",
              "\n",
              "    .colab-df-convert {\n",
              "      background-color: #E8F0FE;\n",
              "      border: none;\n",
              "      border-radius: 50%;\n",
              "      cursor: pointer;\n",
              "      display: none;\n",
              "      fill: #1967D2;\n",
              "      height: 32px;\n",
              "      padding: 0 0 0 0;\n",
              "      width: 32px;\n",
              "    }\n",
              "\n",
              "    .colab-df-convert:hover {\n",
              "      background-color: #E2EBFA;\n",
              "      box-shadow: 0px 1px 2px rgba(60, 64, 67, 0.3), 0px 1px 3px 1px rgba(60, 64, 67, 0.15);\n",
              "      fill: #174EA6;\n",
              "    }\n",
              "\n",
              "    [theme=dark] .colab-df-convert {\n",
              "      background-color: #3B4455;\n",
              "      fill: #D2E3FC;\n",
              "    }\n",
              "\n",
              "    [theme=dark] .colab-df-convert:hover {\n",
              "      background-color: #434B5C;\n",
              "      box-shadow: 0px 1px 3px 1px rgba(0, 0, 0, 0.15);\n",
              "      filter: drop-shadow(0px 1px 2px rgba(0, 0, 0, 0.3));\n",
              "      fill: #FFFFFF;\n",
              "    }\n",
              "  </style>\n",
              "\n",
              "      <script>\n",
              "        const buttonEl =\n",
              "          document.querySelector('#df-8359c1a5-2e02-4278-9671-0c56c9033158 button.colab-df-convert');\n",
              "        buttonEl.style.display =\n",
              "          google.colab.kernel.accessAllowed ? 'block' : 'none';\n",
              "\n",
              "        async function convertToInteractive(key) {\n",
              "          const element = document.querySelector('#df-8359c1a5-2e02-4278-9671-0c56c9033158');\n",
              "          const dataTable =\n",
              "            await google.colab.kernel.invokeFunction('convertToInteractive',\n",
              "                                                     [key], {});\n",
              "          if (!dataTable) return;\n",
              "\n",
              "          const docLinkHtml = 'Like what you see? Visit the ' +\n",
              "            '<a target=\"_blank\" href=https://colab.research.google.com/notebooks/data_table.ipynb>data table notebook</a>'\n",
              "            + ' to learn more about interactive tables.';\n",
              "          element.innerHTML = '';\n",
              "          dataTable['output_type'] = 'display_data';\n",
              "          await google.colab.output.renderOutput(dataTable, element);\n",
              "          const docLink = document.createElement('div');\n",
              "          docLink.innerHTML = docLinkHtml;\n",
              "          element.appendChild(docLink);\n",
              "        }\n",
              "      </script>\n",
              "    </div>\n",
              "  </div>\n",
              "  "
            ]
          },
          "metadata": {},
          "execution_count": 14
        }
      ]
    },
    {
      "cell_type": "markdown",
      "source": [
        "### Parte 3: Creatring data structure - feature matrix and target vector"
      ],
      "metadata": {
        "id": "N3f_z4WzFODU"
      }
    },
    {
      "cell_type": "markdown",
      "source": [
        "Al crear la estructura de datos lo que hacemos es crear dos arrays, X_train, y_train, donde:\n",
        "- X_train => es un vector de tantos elementos como el conjunto de entrenamiento, donde cada elemento representa 60 jornadas previas operadas que se utilizarán como input para el calculo del output del precio de la jornada estimada. Entre los inputs se encuentra el precio de cierre, volumen operado, precio máximo de la jornada, precio mínimo de la jornada, precio de cierre del SPY, el valor del RSI y SMA.  \n",
        "- y_train => array donde cada elemento representa el valor del precio de la acción en la jornada estimada, es decir el precio de cierre del día siguiente para cada fila del conjunto de entrenamiento"
      ],
      "metadata": {
        "id": "Rd7sTnIRKxGw"
      }
    },
    {
      "cell_type": "code",
      "source": [
        "def feature_matrix_target_vector_split(training_set):\n",
        "    X_train = []\n",
        "    y_train = []\n",
        "    timesteps = 60\n",
        "    total_times = len(training_set)\n",
        "    for step in range(timesteps, total_times):\n",
        "        X_train.append(training_set[step-timesteps:step, :]) # appendo los 60 valores de las variables independientes previas al precio que estoy estimando\n",
        "        y_train.append(training_set[step, 0]) # appendo el precio de la estimación\n",
        "    X_train, y_train = np.array(X_train), np.array(y_train)\n",
        "    return X_train, y_train"
      ],
      "metadata": {
        "id": "TKSIPPbPGooP"
      },
      "execution_count": null,
      "outputs": []
    },
    {
      "cell_type": "code",
      "source": [
        "jpm_X_train, jpm_y_train = feature_matrix_target_vector_split(training_set_scaled)"
      ],
      "metadata": {
        "id": "nrn21lgbMJub"
      },
      "execution_count": null,
      "outputs": []
    },
    {
      "cell_type": "code",
      "source": [
        "print(jpm_X_train)"
      ],
      "metadata": {
        "colab": {
          "base_uri": "https://localhost:8080/"
        },
        "id": "_Vi0qVr-apyi",
        "outputId": "9b19e9c2-3762-47a8-d38b-586dde31e70a"
      },
      "execution_count": null,
      "outputs": [
        {
          "output_type": "stream",
          "name": "stdout",
          "text": [
            "[[[0.13947436 0.15789306 0.13349816 ... 0.04049348 0.27580986 0.1460035 ]\n",
            "  [0.15088024 0.19796671 0.14276887 ... 0.04828523 0.38058118 0.14448229]\n",
            "  [0.14765685 0.15772968 0.14796044 ... 0.0450387  0.35984569 0.14224015]\n",
            "  ...\n",
            "  [0.20530621 0.13484029 0.19703338 ... 0.11575469 0.46931523 0.19234102]\n",
            "  [0.19228862 0.18355194 0.19381956 ... 0.11303939 0.37229119 0.19159364]\n",
            "  [0.17394    0.29312705 0.18838071 ... 0.09609827 0.26772371 0.18997321]]\n",
            "\n",
            " [[0.15088024 0.19796671 0.14276887 ... 0.04828523 0.38058118 0.14448229]\n",
            "  [0.14765685 0.15772968 0.14796044 ... 0.0450387  0.35984569 0.14224015]\n",
            "  [0.12360525 0.25060038 0.13337452 ... 0.02502807 0.23360747 0.13855617]\n",
            "  ...\n",
            "  [0.19228862 0.18355194 0.19381956 ... 0.11303939 0.37229119 0.19159364]\n",
            "  [0.17394    0.29312705 0.18838071 ... 0.09609827 0.26772371 0.18997321]\n",
            "  [0.18695759 0.21018687 0.1802225  ... 0.10141079 0.37480307 0.18923244]]\n",
            "\n",
            " [[0.14765685 0.15772968 0.14796044 ... 0.0450387  0.35984569 0.14224015]\n",
            "  [0.12360525 0.25060038 0.13337452 ... 0.02502807 0.23360747 0.13855617]\n",
            "  [0.12298537 0.33492202 0.12051918 ... 0.0263267  0.23087525 0.1342637 ]\n",
            "  ...\n",
            "  [0.17394    0.29312705 0.18838071 ... 0.09609827 0.26772371 0.18997321]\n",
            "  [0.18695759 0.21018687 0.1802225  ... 0.10141079 0.37480307 0.18923244]\n",
            "  [0.19365237 0.1537365  0.18788631 ... 0.11014701 0.4239154  0.1887364 ]]\n",
            "\n",
            " ...\n",
            "\n",
            " [[0.85184721 0.04941713 0.84388137 ... 0.89994698 0.72008039 0.82970336]\n",
            "  [0.84973962 0.03067165 0.84684797 ... 0.8982351  0.70274037 0.83532524]\n",
            "  [0.84341685 0.01912373 0.83980224 ... 0.89575592 0.65082067 0.83970369]\n",
            "  ...\n",
            "  [0.97743616 0.027229   0.96613105 ... 0.97467695 0.65265468 0.99069414]\n",
            "  [0.98450285 0.01760463 0.97292951 ... 0.97792344 0.67958694 0.99337941]\n",
            "  [0.97396481 0.02455689 0.97836836 ... 0.97196151 0.61052736 0.99498   ]]\n",
            "\n",
            " [[0.84973962 0.03067165 0.84684797 ... 0.8982351  0.70274037 0.83532524]\n",
            "  [0.84341685 0.01912373 0.83980224 ... 0.89575592 0.65082067 0.83970369]\n",
            "  [0.85234313 0.03254231 0.84116195 ... 0.89971081 0.69200378 0.84383081]\n",
            "  ...\n",
            "  [0.98450285 0.01760463 0.97292951 ... 0.97792344 0.67958694 0.99337941]\n",
            "  [0.97396481 0.02455689 0.97836836 ... 0.97196151 0.61052736 0.99498   ]\n",
            "  [0.98648644 0.04633962 0.97515449 ... 0.98323596 0.66085191 0.99707001]]\n",
            "\n",
            " [[0.84341685 0.01912373 0.83980224 ... 0.89575592 0.65082067 0.83970369]\n",
            "  [0.85234313 0.03254231 0.84116195 ... 0.89971081 0.69200378 0.84383081]\n",
            "  [0.84874778 0.04963902 0.83906061 ... 0.902072   0.66183642 0.84759416]\n",
            "  ...\n",
            "  [0.97396481 0.02455689 0.97836836 ... 0.97196151 0.61052736 0.99498   ]\n",
            "  [0.98648644 0.04633962 0.97515449 ... 0.98323596 0.66085191 0.99707001]\n",
            "  [0.98785019 0.03848527 0.98096414 ... 0.99327086 0.66617409 0.99780416]]]\n"
          ]
        }
      ]
    },
    {
      "cell_type": "code",
      "source": [
        "print(jpm_y_train)"
      ],
      "metadata": {
        "colab": {
          "base_uri": "https://localhost:8080/"
        },
        "id": "YMoblwcClXVm",
        "outputId": "4069c469-9d9c-4394-b77f-c4824fa4c9d0"
      },
      "execution_count": null,
      "outputs": [
        {
          "output_type": "stream",
          "name": "stdout",
          "text": [
            "[0.18695759 0.19365237 0.17604764 ... 0.98648644 0.98785019 1.        ]\n"
          ]
        }
      ]
    },
    {
      "cell_type": "markdown",
      "source": [
        "### Parte 4: Reshaping data"
      ],
      "metadata": {
        "id": "S73dzH23Mjhi"
      }
    },
    {
      "cell_type": "markdown",
      "source": [
        "El objetivo de esta sección es transformar los valores de entrada y salida (matríz de características y el vector de etiquetas) en un formato adecuado para poder ser procesdos por la red. Así en nuestro caso tendremos lo siguiente:\n",
        "- La matriz de características (jpm_X_train) debe tener tres dimensiones: número de observaciones, timestep y número de variables de entrada. En este caso, tenemos X_train con forma (número de observaciones, 60, 7) que representa la información de las 60 jornadas previas con 7 variables de entrada para cada observación.\n",
        "- La matriz de etiquetas (jpm_y_train) debe tener dos dimensiones: número de observaciones y número de variables de salida. En este caso, tenemos y_train con forma (número de observaciones, 1) que representa el valor del precio de cierre para cada observación."
      ],
      "metadata": {
        "id": "wrPeRkGJdqD-"
      }
    },
    {
      "cell_type": "code",
      "source": [
        "jpm_X_train = np.reshape(jpm_X_train, (jpm_X_train.shape[0], jpm_X_train.shape[1], 7))\n",
        "reshapingMsg = \"Reshaping feature matrix.\\nThe first value is the batch size, the second value is the timesteps and the third value is the indicators.\\n   jpm_X_train.shape[0] = {shape_cero} \\n   jpm_X_train.shape[1] = {shape_one}\\n   jpm_X_train.shape[2] = {shape_two}\".format(shape_cero=jpm_X_train.shape[0], shape_one = jpm_X_train.shape[1], shape_two=jpm_X_train.shape[2])\n",
        "print(f\"{reshapingMsg}\")"
      ],
      "metadata": {
        "colab": {
          "base_uri": "https://localhost:8080/"
        },
        "id": "9UzF-HJTdnGz",
        "outputId": "784c768f-2d75-433a-bef6-0ed936d5bb4f"
      },
      "execution_count": null,
      "outputs": [
        {
          "output_type": "stream",
          "name": "stdout",
          "text": [
            "Reshaping feature matrix.\n",
            "The first value is the batch size, the second value is the timesteps and the third value is the indicators.\n",
            "   jpm_X_train.shape[0] = 1937 \n",
            "   jpm_X_train.shape[1] = 60\n",
            "   jpm_X_train.shape[2] = 7\n"
          ]
        }
      ]
    },
    {
      "cell_type": "code",
      "source": [
        "jpm_y_train = np.reshape(jpm_y_train, (jpm_y_train.shape[0], 1))\n",
        "reshapingMsg = \"Reshaping target vector.\\nThe first value is the batch size and the second is the number of outputs.\\n   jpm_y_train.shape[0] = {shape_cero} \\n   jpm_y_train.shape[1] = {shape_one}\".format(shape_cero=jpm_y_train.shape[0], shape_one = jpm_y_train.shape[1])\n",
        "print(f\"{reshapingMsg}\")"
      ],
      "metadata": {
        "colab": {
          "base_uri": "https://localhost:8080/"
        },
        "id": "Ymwc_rpYfHJd",
        "outputId": "5c41ab93-81c8-4714-8548-98589c95be7e"
      },
      "execution_count": null,
      "outputs": [
        {
          "output_type": "stream",
          "name": "stdout",
          "text": [
            "Reshaping target vector.\n",
            "The first value is the batch size and the second is the number of outputs.\n",
            "   jpm_y_train.shape[0] = 1937 \n",
            "   jpm_y_train.shape[1] = 1\n"
          ]
        }
      ]
    },
    {
      "cell_type": "markdown",
      "source": [
        "## Part 3: Building the RNN"
      ],
      "metadata": {
        "id": "kqo1ZaA2_O7E"
      }
    },
    {
      "cell_type": "markdown",
      "source": [
        "### First step: Importing libraries"
      ],
      "metadata": {
        "id": "ceD1qPQ5BvB-"
      }
    },
    {
      "cell_type": "markdown",
      "source": [
        "Para la construcción de la arquitectura de nuestra RNN importaremos: \n",
        "\n",
        "\n",
        "*   Sequential => Nos permitirá crear un objeto de red neuronal que simule una secuencia de capas (hidden layers)\n",
        "*   Dense => Es la clase que permite confeccionar la capa de salida (output layer). Es una fully connected layer y nos permite ajustar la salida de la red al tamaño deseado.\n",
        "*   LSTM => Para añadir las capas LSTM. \n",
        "*   Dropout => Regularización de droput, usado para evitar el overfitting. "
      ],
      "metadata": {
        "id": "bOz-BWFN_VdU"
      }
    },
    {
      "cell_type": "code",
      "source": [
        "from keras.models import Sequential\n",
        "from keras.layers import Dense\n",
        "from keras.layers import LSTM\n",
        "from keras.layers import Dropout"
      ],
      "metadata": {
        "id": "xPxmiBaEA7V2"
      },
      "execution_count": null,
      "outputs": []
    },
    {
      "cell_type": "markdown",
      "source": [
        "### Second step: Initialising the RNN"
      ],
      "metadata": {
        "id": "SNaosWtcB0_A"
      }
    },
    {
      "cell_type": "markdown",
      "source": [
        "El regressor es un objeto de una capa Secuencial. A diferencia de las ANN o CNN, en RNN a este objeto lo llamamos Regressor y no Clasificator porque lo que buscamos es predecir un valor continuo (en nuestro caso el precio de una acción) y no una clasificación de objetos."
      ],
      "metadata": {
        "id": "IWw_OX_8B_dD"
      }
    },
    {
      "cell_type": "code",
      "source": [
        "regressor = Sequential()"
      ],
      "metadata": {
        "id": "gWS7WiTgCAL_"
      },
      "execution_count": null,
      "outputs": []
    },
    {
      "cell_type": "markdown",
      "source": [
        "### Third step: Adding the first hidden layer"
      ],
      "metadata": {
        "id": "udGKD7AwF4qz"
      }
    },
    {
      "cell_type": "markdown",
      "source": [
        "El paso siguiente es añadir la primera capa a la secuencia de capas definidas previamente (junto con un poco de regularización para evitar el overfitting). \n",
        "Esta primera capa será una LSTM layer. Sobre esta primera capa deberemos definir:\n",
        "\n",
        "*   El primer argumento es el número de unidades de memoria (más conocidas como neuronas) que tendrá la primera capa. Como captar las tendencias de la cotización de una acción es bastante complejo, necesitaremos tener una alta dimensionalidad y por ende un alto numero de neuronas en cada una de las capas LSTM. Por esta razón el número elegido será 50. De utilizar un número bajo de neuronas (por ej 5) no serían bien captados los movimientos ascendentes y descendentes del precio de las acciones. \n",
        "*   El segundo es un booleano (return_sequences) que básicamente indica si habrá una nueva capa LSTM próxima, por ende lo colocaremos en TRUE (utlizaremos una red neuronal LSTM apilada o stack neural networks)\n",
        "*   El tercer parámetro es el input_shape que básciamente es la forma de entrada que se creo con el reshape previo por ende contendrá el número de observaciones, steptimes y las características. \n",
        "Luego de agregado de la capa LSTM hay que agregar la regularización de abandono (dropout) que cuenta únicamente con un argumento que es la tasa de dropout y que indica el número de neuronas que se están dispuestas a eliminar para hacer esa regularización (se recominda usar una tasa del 20%) lo que implicará que el 20% de las neuronas, en nuestro caso 10, se dejarán de lado para el forwardpropagation y el backpropagation. Esas neuronas que se eliminan son seleccionadas aleatoriamente. Con esto se busca que la red sea menos sensible a pequeñas perturbaciones y ayuda a prevenir el sobreajuste. Esta técnica ayuda a la red a generalizar mejor los datos de prueba, lo que significa que puede realizar mejores predicciones en datos que no ha visto antes."
      ],
      "metadata": {
        "id": "yl34mzNnGFbQ"
      }
    },
    {
      "cell_type": "code",
      "source": [
        "regressor.add(LSTM(units = 50, return_sequences = True, input_shape = (jpm_X_train.shape[1], jpm_X_train.shape[2])))\n",
        "regressor.add(Dropout(0.2))"
      ],
      "metadata": {
        "id": "krnwiELlGGrL"
      },
      "execution_count": null,
      "outputs": []
    },
    {
      "cell_type": "markdown",
      "source": [
        "### Fourth step: Adding the rest hidden layers"
      ],
      "metadata": {
        "id": "V6FFj5K-H0eU"
      }
    },
    {
      "cell_type": "markdown",
      "source": [
        "Como estas son capas intermediasm no hará falta añadir input_layers ya que se añaden automáticamente con el compilado de capas"
      ],
      "metadata": {
        "id": "XUuL29pjIPLT"
      }
    },
    {
      "cell_type": "code",
      "source": [
        "hidden_layers_to_add = 2\n",
        "for i in range(hidden_layers_to_add):\n",
        "  regressor.add(LSTM(units = 50, return_sequences = True))\n",
        "  regressor.add(Dropout(0.2))"
      ],
      "metadata": {
        "id": "iWJaavQ-IZ9k"
      },
      "execution_count": null,
      "outputs": []
    },
    {
      "cell_type": "markdown",
      "source": [
        "### Fifth step: Adding the last hidden layer "
      ],
      "metadata": {
        "id": "fy1rbjxzJAO2"
      }
    },
    {
      "cell_type": "markdown",
      "source": [
        "La última capa sólo se elimina el return_sequences, ya que ahora toma el valor FALSE (valor por defecto) ya que no se añadirá otra LSTM layer sino que únicamente se añadirá una capa de salida. "
      ],
      "metadata": {
        "id": "EnwNjZavJNcP"
      }
    },
    {
      "cell_type": "code",
      "source": [
        "regressor.add(LSTM(units = 50))\n",
        "regressor.add(Dropout(0.2))"
      ],
      "metadata": {
        "id": "enSJ5BKVJKI4"
      },
      "execution_count": null,
      "outputs": []
    },
    {
      "cell_type": "markdown",
      "source": [
        "### Sixth step: Adding output layer"
      ],
      "metadata": {
        "id": "htMv506HJS0G"
      }
    },
    {
      "cell_type": "markdown",
      "source": [
        "Como capa de salida usamos una fully connected layer porque la capa de salida está totalmente conectada a la última LSTM y usaremos la clase Dense de Keras. \n",
        "El argumento que hay que pasar es el número de unidades (units) que básicamente son la cantidad de neuronas. Dado que lo que estamos intentando predecir es un precio, un valor continuo y único, el número de neuronas será igual a la unidad (tiene una única dimensión)."
      ],
      "metadata": {
        "id": "dpuiijwibv4p"
      }
    },
    {
      "cell_type": "code",
      "source": [
        "regressor.add(Dense(units = 1))"
      ],
      "metadata": {
        "id": "ai9E4Bnfbw7x"
      },
      "execution_count": null,
      "outputs": []
    },
    {
      "cell_type": "markdown",
      "source": [
        "### Last step: Compiling the RNN"
      ],
      "metadata": {
        "id": "vOLBuwRIJXK5"
      }
    },
    {
      "cell_type": "markdown",
      "source": [
        "En la compilación necesitamos elegir el optimizer y la función de pérdida utilizada para calcular el error.\n",
        "\n",
        "Keras nos surgiere utilizar como algorítmo de optimización RMSProp, pero probando descrubirmos que para nuestro problema una mejor opción era utilizar el algorítmo ADAM (es muy potente y seguro).\n",
        "En este caso para la loss-function no se utiliza la entropía cruzda, ya que estamos ante un problema de regresión y necesitamos predecir un valor continuo y la loss-function correcta es la mean_squared_error.\n",
        "\n",
        "El algoritmo de optimización Adam es popular debido a que combina las ventajas del algoritmo de descenso de gradiente estocástico (SGD) y el algoritmo Adagrad. Además, se adapta a la tasa de aprendizaje de forma adaptativa y mantiene una estimación de momento de primer y segundo orden de los gradientes.\n",
        "\n",
        "La función de pérdida MSE es una buena opción para problemas de regresión ya que penaliza fuertemente las grandes diferencias entre las predicciones y las etiquetas, lo que puede llevar a una mejor convergencia del modelo."
      ],
      "metadata": {
        "id": "rD9AJcN-ceDg"
      }
    },
    {
      "cell_type": "code",
      "source": [
        "regressor.compile(optimizer = 'adam', loss = 'mean_squared_error')"
      ],
      "metadata": {
        "id": "yZ-69kd0cevC"
      },
      "execution_count": null,
      "outputs": []
    },
    {
      "cell_type": "markdown",
      "source": [
        "## Part 4: Fitting the RNN"
      ],
      "metadata": {
        "id": "ZgvOOtDeNeYD"
      }
    },
    {
      "cell_type": "markdown",
      "source": [
        "Para el fitting de la red neuronal necesitamos pasar 4 atributos:\n",
        "\n",
        "- El conjunto de entrenamiento (en nuestor caso la lista de precios de apertura normalizada)\n",
        "- El segundo atributo son los outputs para el conjunto de entrenamiento, es decir el resultante en T+1 para los 60 valores previamente operados.\n",
        "- El tercer valor es el número de veces que se presentará todo el conjunto de datos de entrenamiento a la red neuronal durante el entrenamiento. Si el número de épocas es demasiado bajo, la red neuronal puede no haber tenido suficiente tiempo para aprender patrones en los datos. Por otro lado, si el número de épocas es demasiado alto, la red neuronal puede ajustarse demasiado a los datos de entrenamiento y no generalizar bien a los datos nuevos\n",
        "- Por último para entrenar la red necesitamos definir el batch_size o cantidad de lotes, que se refiere a la cantidad de ejemplos de entrenamiento que se propagan a través de la red neuronal antes de que se actualicen los pesos. Un tamaño de lote demasiado grande puede hacer que la memoria de la computadora se llene y ralentizar el entrenamiento, mientras que un tamaño de lote demasiado pequeño puede hacer que el entrenamiento sea ineficiente."
      ],
      "metadata": {
        "id": "Pf_rrTjFNmpf"
      }
    },
    {
      "cell_type": "code",
      "source": [
        "regressor.fit(jpm_X_train, jpm_y_train, epochs = 50, batch_size = 40)"
      ],
      "metadata": {
        "id": "BRlqBFC7OjLj"
      },
      "execution_count": null,
      "outputs": []
    },
    {
      "cell_type": "markdown",
      "source": [
        "## Part 5 - Making predictions"
      ],
      "metadata": {
        "id": "jPU_ozxmRHjI"
      }
    },
    {
      "cell_type": "markdown",
      "source": [
        "### Step 1: Getting real stock prices "
      ],
      "metadata": {
        "id": "5XUel90aRMa7"
      }
    },
    {
      "cell_type": "markdown",
      "source": [
        "Para obtener los precios reales del JPM (y los que contrastaremos contra las estimaciones) debemos usar el DF de testeo. La columna que necesitamos es la de precios de cierre (\"Close_Price\")."
      ],
      "metadata": {
        "id": "ye0juNXYRgJT"
      }
    },
    {
      "cell_type": "code",
      "source": [
        "jpm_real_stock_prices = jpm_test.iloc[:,0:1].values"
      ],
      "metadata": {
        "id": "yGbOrB-YR-sB"
      },
      "execution_count": null,
      "outputs": []
    },
    {
      "cell_type": "markdown",
      "source": [
        "### Step 2: Getting predicted stock prices"
      ],
      "metadata": {
        "id": "uGkL8SpBS2UN"
      }
    },
    {
      "cell_type": "code",
      "source": [
        "jpm_final_normalizated = normalization(jpm_final)"
      ],
      "metadata": {
        "id": "_im5mYlmUOrY"
      },
      "execution_count": null,
      "outputs": []
    },
    {
      "cell_type": "code",
      "source": [
        "len(jpm_final_normalizated)"
      ],
      "metadata": {
        "colab": {
          "base_uri": "https://localhost:8080/"
        },
        "id": "YpV97V7pcvCr",
        "outputId": "dd5a4514-ea2b-42ab-93f9-832f888ee35e"
      },
      "execution_count": null,
      "outputs": [
        {
          "output_type": "execute_result",
          "data": {
            "text/plain": [
              "2497"
            ]
          },
          "metadata": {},
          "execution_count": 82
        }
      ]
    },
    {
      "cell_type": "code",
      "source": [
        "inputs = jpm_final_normalizated[len(jpm_final_normalizated) - len(jpm_test) - 60:]\n"
      ],
      "metadata": {
        "id": "HU0pVbsfUNCo"
      },
      "execution_count": null,
      "outputs": []
    },
    {
      "cell_type": "code",
      "source": [
        "print(len(jpm_final_normalizated) - len(jpm_test) - 60)"
      ],
      "metadata": {
        "colab": {
          "base_uri": "https://localhost:8080/"
        },
        "id": "dJNsEhHEdexp",
        "outputId": "e69ea291-8961-496b-9d5f-8e986852b6a5"
      },
      "execution_count": null,
      "outputs": [
        {
          "output_type": "stream",
          "name": "stdout",
          "text": [
            "1937\n"
          ]
        }
      ]
    },
    {
      "cell_type": "code",
      "source": [
        "len(inputs)"
      ],
      "metadata": {
        "colab": {
          "base_uri": "https://localhost:8080/"
        },
        "id": "XCx8Kqvgcy1v",
        "outputId": "5405e4f7-95a7-4409-c46d-d9368453a455"
      },
      "execution_count": null,
      "outputs": [
        {
          "output_type": "execute_result",
          "data": {
            "text/plain": [
              "560"
            ]
          },
          "metadata": {},
          "execution_count": 80
        }
      ]
    },
    {
      "cell_type": "markdown",
      "source": [
        "Para realizar ahora las predicciones necesitamos crear una lista / array de listas, donde cada una de esa lista contendrá los 60 previos stock prices de las acciones del JPMorgan y demás variables necesarias para estimar el precio en el momento T+1. Así nuestra lista de testeo contendrá 500 listas (porque son 50 valores lo que vamos a intentar estimar) cada una con 60 elementos de 7 elementos cada uno :)."
      ],
      "metadata": {
        "id": "9k--MkT9YTNl"
      }
    },
    {
      "cell_type": "code",
      "source": [
        "inputs[0,:]"
      ],
      "metadata": {
        "colab": {
          "base_uri": "https://localhost:8080/"
        },
        "id": "M7JhpEqXgzWU",
        "outputId": "aa0d88fa-1469-4897-ea00-11794fb01600"
      },
      "execution_count": null,
      "outputs": [
        {
          "output_type": "execute_result",
          "data": {
            "text/plain": [
              "array([0.6192578 , 0.0341506 , 0.61333934, 0.61712686, 0.69049558,\n",
              "       0.69200378, 0.60578997])"
            ]
          },
          "metadata": {},
          "execution_count": 107
        }
      ]
    },
    {
      "cell_type": "code",
      "source": [
        "jpm_X_test = []\n",
        "for i in range(60, len(inputs)): \n",
        "    jpm_X_test.append(inputs[i-60:i, :])"
      ],
      "metadata": {
        "id": "VJeJ96v-YUKE"
      },
      "execution_count": null,
      "outputs": []
    },
    {
      "cell_type": "code",
      "source": [
        "len(jpm_X_test)"
      ],
      "metadata": {
        "colab": {
          "base_uri": "https://localhost:8080/"
        },
        "id": "8Vc4gxVGfeXS",
        "outputId": "29f2d78d-bef9-49df-c3fb-294e60c6cc86"
      },
      "execution_count": null,
      "outputs": [
        {
          "output_type": "execute_result",
          "data": {
            "text/plain": [
              "500"
            ]
          },
          "metadata": {},
          "execution_count": 112
        }
      ]
    },
    {
      "cell_type": "code",
      "source": [
        "jpm_X_test = np.array(jpm_X_test)\n",
        "jpm_X_test = np.reshape(jpm_X_test, (jpm_X_test.shape[0], jpm_X_test.shape[1], 7))"
      ],
      "metadata": {
        "id": "0ygAkhjde9HB"
      },
      "execution_count": null,
      "outputs": []
    },
    {
      "cell_type": "code",
      "source": [
        "toPrint = \"finally jpm_X_test after to be reshaped and which will use to predict stock prices values => {jpm_X_test}\".format(jpm_X_test=jpm_X_test)\n",
        "print(toPrint)"
      ],
      "metadata": {
        "id": "69iR8cLzhk69"
      },
      "execution_count": null,
      "outputs": []
    },
    {
      "cell_type": "markdown",
      "source": [
        "Finalmente podremos realizar nuestra predicción usando, obviamente, el predictor previamente inicializado. Además necesitaremos hace una transformación inversa ya que los datos estaban normalizados."
      ],
      "metadata": {
        "id": "w9Ul8-e6iTKt"
      }
    },
    {
      "cell_type": "code",
      "source": [
        "predicted_stock_prices = regressor.predict(jpm_X_test)"
      ],
      "metadata": {
        "colab": {
          "base_uri": "https://localhost:8080/"
        },
        "id": "za67Szo6iX3q",
        "outputId": "c10ef155-2b53-42f8-9c0d-9f18e307e248"
      },
      "execution_count": null,
      "outputs": [
        {
          "output_type": "stream",
          "name": "stdout",
          "text": [
            "16/16 [==============================] - 2s 26ms/step\n"
          ]
        }
      ]
    },
    {
      "cell_type": "code",
      "source": [
        "len(jpm_final_normalizated)"
      ],
      "metadata": {
        "colab": {
          "base_uri": "https://localhost:8080/"
        },
        "id": "R5xHKb18kxFr",
        "outputId": "1dba6797-4ff6-4d19-a818-bb931f3d2da1"
      },
      "execution_count": null,
      "outputs": [
        {
          "output_type": "execute_result",
          "data": {
            "text/plain": [
              "2497"
            ]
          },
          "metadata": {},
          "execution_count": 127
        }
      ]
    },
    {
      "cell_type": "code",
      "source": [
        "jpm_final_normalizated[1997, 0]"
      ],
      "metadata": {
        "colab": {
          "base_uri": "https://localhost:8080/"
        },
        "id": "lIS99MZpkr-x",
        "outputId": "efea0033-33c6-4f90-977b-833fe4107108"
      },
      "execution_count": null,
      "outputs": [
        {
          "output_type": "execute_result",
          "data": {
            "text/plain": [
              "0.720230597807793"
            ]
          },
          "metadata": {},
          "execution_count": 129
        }
      ]
    },
    {
      "cell_type": "code",
      "source": [
        "real_normalized_stock_prices = []\n",
        "for i in range(len(jpm_final_normalizated)-500, len(jpm_final_normalizated)): \n",
        "    real_normalized_stock_prices.append(jpm_final_normalizated[i, 0])"
      ],
      "metadata": {
        "id": "qznEgQPEjF_T"
      },
      "execution_count": null,
      "outputs": []
    },
    {
      "cell_type": "markdown",
      "source": [
        "## Visualising results"
      ],
      "metadata": {
        "id": "7c7HBL75jl7Z"
      }
    },
    {
      "cell_type": "code",
      "source": [
        "len(predicted_stock_prices)"
      ],
      "metadata": {
        "colab": {
          "base_uri": "https://localhost:8080/"
        },
        "id": "KcNcw3_PkEGZ",
        "outputId": "4bc86259-6e46-4255-ac32-a21ef27a097c"
      },
      "execution_count": null,
      "outputs": [
        {
          "output_type": "execute_result",
          "data": {
            "text/plain": [
              "500"
            ]
          },
          "metadata": {},
          "execution_count": 134
        }
      ]
    },
    {
      "cell_type": "code",
      "source": [
        "len(real_normalized_stock_prices)"
      ],
      "metadata": {
        "colab": {
          "base_uri": "https://localhost:8080/"
        },
        "id": "vcTNI0nikHR0",
        "outputId": "c22300ed-7cbc-4037-cb68-6403759355ff"
      },
      "execution_count": null,
      "outputs": [
        {
          "output_type": "execute_result",
          "data": {
            "text/plain": [
              "500"
            ]
          },
          "metadata": {},
          "execution_count": 133
        }
      ]
    },
    {
      "cell_type": "code",
      "source": [
        "plt.plot(real_normalized_stock_prices, color = 'red', label = 'Real JPM Stock Price - Normalized')\n",
        "plt.plot(predicted_stock_prices, color = 'blue', label = 'Predicted JPM Stock Price - Normalized')\n",
        "plt.title('jpm Stock Price Prediction')\n",
        "plt.xlabel('Time')\n",
        "plt.ylabel('jpm Stock Price')\n",
        "plt.legend()\n",
        "plt.show()"
      ],
      "metadata": {
        "colab": {
          "base_uri": "https://localhost:8080/",
          "height": 472
        },
        "id": "2Wt8rbG_joYm",
        "outputId": "c4566c32-686b-4550-96c2-c5276cb2dd9d"
      },
      "execution_count": null,
      "outputs": [
        {
          "output_type": "display_data",
          "data": {
            "text/plain": [
              "<Figure size 640x480 with 1 Axes>"
            ],
            "image/png": "[encoded data removed]"
          },
          "metadata": {}
        }
      ]
    }
  ],
  "metadata": {
    "colab": {
      "provenance": [],
      "collapsed_sections": [
        "SeFhg0EZ63_7",
        "S73dzH23Mjhi",
        "ceD1qPQ5BvB-",
        "ZgvOOtDeNeYD",
        "5XUel90aRMa7"
      ],
      "authorship_tag": "ABX9TyMdU86CyQG0MxWglEtDEGfn",
      "include_colab_link": true
    },
    "kernelspec": {
      "display_name": "Python 3",
      "name": "python3"
    },
    "language_info": {
      "name": "python"
    }
  },
  "nbformat": 4,
  "nbformat_minor": 0
}