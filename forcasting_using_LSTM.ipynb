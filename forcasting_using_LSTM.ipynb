{
  "cells": [
    {
      "cell_type": "markdown",
      "metadata": {
        "id": "view-in-github",
        "colab_type": "text"
      },
      "source": [
        "<a href=\"https://colab.research.google.com/github/simonians/tesis-economia-fce-unc/blob/colab-project/forcasting_using_LSTM.ipynb\" target=\"_parent\"><img src=\"https://colab.research.google.com/assets/colab-badge.svg\" alt=\"Open In Colab\"/></a>"
      ]
    },
    {
      "cell_type": "markdown",
      "metadata": {
        "id": "TuY-SuKdMMpt"
      },
      "source": [
        "# Stock market forcasting using LSTM Recurrent Neural Networks "
      ]
    },
    {
      "cell_type": "code",
      "execution_count": 1,
      "metadata": {
        "id": "4RZa5VQ_ZeCO"
      },
      "outputs": [],
      "source": [
        "import pandas as pd\n",
        "import numpy as np\n",
        "import matplotlib.pyplot as plt\n",
        "import yfinance as yf\n",
        "import random\n",
        "from functools import reduce\n",
        "from sklearn.preprocessing import MinMaxScaler\n",
        "from sklearn.metrics import r2_score, mean_squared_error"
      ]
    },
    {
      "cell_type": "markdown",
      "metadata": {
        "id": "JB3hoRZYMyie"
      },
      "source": [
        "## Part 1: Data preparing"
      ]
    },
    {
      "cell_type": "markdown",
      "metadata": {
        "id": "yUct8umXNBTH"
      },
      "source": [
        "Primero definimos los tickers que utilizaremos a lo largo del proyecto. Para la estimación y pruebas de la performance de la red, elegiremos 4 tickers de algunas de las empresas más grandes e importantes de diferentes industrias. Los tickers seleccionados son: \n",
        "- GOOGL => Google de la industria tecnológica\n",
        "- JPM => JPMorgan Chase & Co. de la indsutria bancaria\n",
        "- MCD => McDonald's de la industria de comida rápida y real estate\n",
        "- HYG => iShares iBoxx $ High Yield Corporate Bond ETF es un ETF que busca replicar los resultados de inversión de un índice compuesto por bonos corporativos de alto rendimiento denominados en dólares de EE.UU."
      ]
    },
    {
      "cell_type": "code",
      "execution_count": 2,
      "metadata": {
        "id": "vgfLXSB9MGjK"
      },
      "outputs": [],
      "source": [
        "DEFAULT_TICKERS = ['JPM'] #, 'JPM', 'MCD', \"HYG\"\n",
        "START, END = \"2010-01-01\", \"2020-01-01\" # TEMP "
      ]
    },
    {
      "cell_type": "markdown",
      "metadata": {
        "id": "Ism_iCbEalWC"
      },
      "source": [
        "Para las estimaciones trabajaremos con los precios ajustados (adj close).\n",
        "**\"The adjusted closing price amends a stock's closing price to reflect that stock's value after accounting for any corporate actions.\"**"
      ]
    },
    {
      "cell_type": "code",
      "execution_count": 3,
      "metadata": {
        "id": "zdjLeJ2AMw1-"
      },
      "outputs": [],
      "source": [
        "# Use load_ticker to load the ticker information sent as parameter and the industry information price\n",
        "def load_ticker(ticker, industry='SPY', use_industry=False, start=START, end=END):\n",
        "    ticker_data = yf.download(ticker, start=start, end=end)\n",
        "    if use_industry:\n",
        "      ticker_data = ticker_data[['Close', 'Volume', 'High', 'Low']].rename(columns={'Close': 'Close_Price_%s' % (ticker), 'Volume': 'Volume', 'High': 'High_Price', 'Low': 'Low_Price'}) \n",
        "      industry_data = yf.download(industry, start=START, end=END)[['Close']].rename(columns={'Close': 'Close_Price_%s'% (industry)})\n",
        "      ticker_data = pd.merge(ticker_data, industry_data, how='left', on='Date')\n",
        "    else:\n",
        "      ticker_data = ticker_data[['Close', 'Volume', 'High', 'Low']].rename(columns={'Close': 'Close_Price_%s' % (ticker), 'Volume': 'Volume', 'High': 'High_Price', 'Low': 'Low_Price'}) \n",
        "    return ticker_data"
      ]
    },
    {
      "cell_type": "code",
      "execution_count": 4,
      "metadata": {
        "id": "Rqh_-JrX5mRa"
      },
      "outputs": [],
      "source": [
        "def calculate_sma(days, df, ticker):\n",
        "  sma_df = df['Close_Price_%s' % (ticker)].rolling(window=days).mean().to_frame()\n",
        "  return sma_df.rename(columns={'Close_Price_%s' % (ticker):'%s_sma' % (ticker)})"
      ]
    },
    {
      "cell_type": "code",
      "execution_count": 5,
      "metadata": {
        "id": "q6Fp4apVaA3m"
      },
      "outputs": [],
      "source": [
        "def calculate_rsi(df, ticker):\n",
        "    delta = df['Close_Price_%s' % (ticker)].diff()\n",
        "    positive = delta.clip(lower=0)\n",
        "    negative = -delta.clip(upper=0)\n",
        "    ema_positive = positive.ewm(alpha=1/14, min_periods=14).mean()\n",
        "    ema_negative = negative.ewm(alpha=1/14, min_periods=14).mean()\n",
        "    rsi = 100 - 100 / (1 + ema_positive / ema_negative)\n",
        "    rsi = rsi.to_frame()\n",
        "    return rsi.rename(columns={'Close_Price_%s' % (ticker):'%s_rsi' % (ticker)})"
      ]
    },
    {
      "cell_type": "code",
      "execution_count": 6,
      "metadata": {
        "id": "7JXIxlLZaug2"
      },
      "outputs": [],
      "source": [
        "def get_random_ticker(tickers):\n",
        "    \"\"\"\n",
        "    Recibe una lista de tickers y devuelve uno aleatorio.\n",
        "    \"\"\"\n",
        "    return random.choice(tickers)"
      ]
    },
    {
      "cell_type": "code",
      "execution_count": 7,
      "metadata": {
        "colab": {
          "base_uri": "https://localhost:8080/"
        },
        "id": "DVXp8s7baJL_",
        "outputId": "257f31f3-75cd-4eec-f933-f7a3a31f8f8e"
      },
      "outputs": [
        {
          "output_type": "stream",
          "name": "stdout",
          "text": [
            "[*********************100%***********************]  1 of 1 completed\n",
            "[*********************100%***********************]  1 of 1 completed\n"
          ]
        }
      ],
      "source": [
        "ticker_name = get_random_ticker(DEFAULT_TICKERS)\n",
        "ticker = load_ticker(ticker_name, use_industry=True)\n",
        "rsi = calculate_rsi(ticker, ticker_name)\n",
        "sma = calculate_sma(20, ticker, ticker_name)"
      ]
    },
    {
      "cell_type": "code",
      "execution_count": 8,
      "metadata": {
        "id": "BtZDe0OE5URL"
      },
      "outputs": [],
      "source": [
        "def merge_dfs(dfs_list):\n",
        "  merged_df = reduce(lambda left, right: pd.merge(left, right, on='Date'), dfs_list)\n",
        "  return merged_df.dropna()"
      ]
    },
    {
      "cell_type": "code",
      "execution_count": 9,
      "metadata": {
        "id": "X8IDyHnsjGpC"
      },
      "outputs": [],
      "source": [
        "ticker_df_final = merge_dfs([ticker, rsi, sma])"
      ]
    },
    {
      "cell_type": "code",
      "execution_count": 10,
      "metadata": {
        "colab": {
          "base_uri": "https://localhost:8080/",
          "height": 455
        },
        "id": "6dVJp3BRbb15",
        "outputId": "5cf385aa-2314-4381-da78-a1e45db84b4d"
      },
      "outputs": [
        {
          "output_type": "execute_result",
          "data": {
            "text/plain": [
              "            Close_Price_JPM    Volume  High_Price   Low_Price  \\\n",
              "Date                                                            \n",
              "2010-02-01        39.630001  37408200   39.930000   38.950001   \n",
              "2010-02-02        40.549999  45968500   40.680000   39.700001   \n",
              "2010-02-03        40.290001  37373300   41.099998   40.169998   \n",
              "2010-02-04        38.349998  57211800   39.919998   38.349998   \n",
              "2010-02-05        38.299999  75224100   38.880001   37.029999   \n",
              "...                     ...       ...         ...         ...   \n",
              "2019-12-24       137.580002   3324300  137.630005  137.059998   \n",
              "2019-12-26       139.039993   6770900  139.100006  137.779999   \n",
              "2019-12-27       139.139999   7868200  139.770004  138.669998   \n",
              "2019-12-30       138.630005   6963000  140.080002  138.470001   \n",
              "2019-12-31       139.399994   7201600  139.479996  138.289993   \n",
              "\n",
              "            Close_Price_SPY    JPM_rsi     JPM_sma  \n",
              "Date                                                \n",
              "2010-02-01       109.059998  35.773063   42.098500  \n",
              "2010-02-02       110.379997  43.244476   41.983500  \n",
              "2010-02-03       109.830002  41.765795   41.814000  \n",
              "2010-02-04       106.440002  32.763543   41.535500  \n",
              "2010-02-05       106.660004  32.568703   41.211000  \n",
              "...                     ...        ...         ...  \n",
              "2019-12-24       321.230011  68.430560  134.901498  \n",
              "2019-12-26       322.940002  72.464635  135.269998  \n",
              "2019-12-27       322.859985  72.721765  135.623998  \n",
              "2019-12-30       321.079987  69.174194  135.967499  \n",
              "2019-12-31       321.859985  71.439545  136.363998  \n",
              "\n",
              "[2497 rows x 7 columns]"
            ],
            "text/html": [
              "\n",
              "  <div id=\"df-e8d6e5ba-1ab6-4308-b6b9-332dcab4c6e3\">\n",
              "    <div class=\"colab-df-container\">\n",
              "      <div>\n",
              "<style scoped>\n",
              "    .dataframe tbody tr th:only-of-type {\n",
              "        vertical-align: middle;\n",
              "    }\n",
              "\n",
              "    .dataframe tbody tr th {\n",
              "        vertical-align: top;\n",
              "    }\n",
              "\n",
              "    .dataframe thead th {\n",
              "        text-align: right;\n",
              "    }\n",
              "</style>\n",
              "<table border=\"1\" class=\"dataframe\">\n",
              "  <thead>\n",
              "    <tr style=\"text-align: right;\">\n",
              "      <th></th>\n",
              "      <th>Close_Price_JPM</th>\n",
              "      <th>Volume</th>\n",
              "      <th>High_Price</th>\n",
              "      <th>Low_Price</th>\n",
              "      <th>Close_Price_SPY</th>\n",
              "      <th>JPM_rsi</th>\n",
              "      <th>JPM_sma</th>\n",
              "    </tr>\n",
              "    <tr>\n",
              "      <th>Date</th>\n",
              "      <th></th>\n",
              "      <th></th>\n",
              "      <th></th>\n",
              "      <th></th>\n",
              "      <th></th>\n",
              "      <th></th>\n",
              "      <th></th>\n",
              "    </tr>\n",
              "  </thead>\n",
              "  <tbody>\n",
              "    <tr>\n",
              "      <th>2010-02-01</th>\n",
              "      <td>39.630001</td>\n",
              "      <td>37408200</td>\n",
              "      <td>39.930000</td>\n",
              "      <td>38.950001</td>\n",
              "      <td>109.059998</td>\n",
              "      <td>35.773063</td>\n",
              "      <td>42.098500</td>\n",
              "    </tr>\n",
              "    <tr>\n",
              "      <th>2010-02-02</th>\n",
              "      <td>40.549999</td>\n",
              "      <td>45968500</td>\n",
              "      <td>40.680000</td>\n",
              "      <td>39.700001</td>\n",
              "      <td>110.379997</td>\n",
              "      <td>43.244476</td>\n",
              "      <td>41.983500</td>\n",
              "    </tr>\n",
              "    <tr>\n",
              "      <th>2010-02-03</th>\n",
              "      <td>40.290001</td>\n",
              "      <td>37373300</td>\n",
              "      <td>41.099998</td>\n",
              "      <td>40.169998</td>\n",
              "      <td>109.830002</td>\n",
              "      <td>41.765795</td>\n",
              "      <td>41.814000</td>\n",
              "    </tr>\n",
              "    <tr>\n",
              "      <th>2010-02-04</th>\n",
              "      <td>38.349998</td>\n",
              "      <td>57211800</td>\n",
              "      <td>39.919998</td>\n",
              "      <td>38.349998</td>\n",
              "      <td>106.440002</td>\n",
              "      <td>32.763543</td>\n",
              "      <td>41.535500</td>\n",
              "    </tr>\n",
              "    <tr>\n",
              "      <th>2010-02-05</th>\n",
              "      <td>38.299999</td>\n",
              "      <td>75224100</td>\n",
              "      <td>38.880001</td>\n",
              "      <td>37.029999</td>\n",
              "      <td>106.660004</td>\n",
              "      <td>32.568703</td>\n",
              "      <td>41.211000</td>\n",
              "    </tr>\n",
              "    <tr>\n",
              "      <th>...</th>\n",
              "      <td>...</td>\n",
              "      <td>...</td>\n",
              "      <td>...</td>\n",
              "      <td>...</td>\n",
              "      <td>...</td>\n",
              "      <td>...</td>\n",
              "      <td>...</td>\n",
              "    </tr>\n",
              "    <tr>\n",
              "      <th>2019-12-24</th>\n",
              "      <td>137.580002</td>\n",
              "      <td>3324300</td>\n",
              "      <td>137.630005</td>\n",
              "      <td>137.059998</td>\n",
              "      <td>321.230011</td>\n",
              "      <td>68.430560</td>\n",
              "      <td>134.901498</td>\n",
              "    </tr>\n",
              "    <tr>\n",
              "      <th>2019-12-26</th>\n",
              "      <td>139.039993</td>\n",
              "      <td>6770900</td>\n",
              "      <td>139.100006</td>\n",
              "      <td>137.779999</td>\n",
              "      <td>322.940002</td>\n",
              "      <td>72.464635</td>\n",
              "      <td>135.269998</td>\n",
              "    </tr>\n",
              "    <tr>\n",
              "      <th>2019-12-27</th>\n",
              "      <td>139.139999</td>\n",
              "      <td>7868200</td>\n",
              "      <td>139.770004</td>\n",
              "      <td>138.669998</td>\n",
              "      <td>322.859985</td>\n",
              "      <td>72.721765</td>\n",
              "      <td>135.623998</td>\n",
              "    </tr>\n",
              "    <tr>\n",
              "      <th>2019-12-30</th>\n",
              "      <td>138.630005</td>\n",
              "      <td>6963000</td>\n",
              "      <td>140.080002</td>\n",
              "      <td>138.470001</td>\n",
              "      <td>321.079987</td>\n",
              "      <td>69.174194</td>\n",
              "      <td>135.967499</td>\n",
              "    </tr>\n",
              "    <tr>\n",
              "      <th>2019-12-31</th>\n",
              "      <td>139.399994</td>\n",
              "      <td>7201600</td>\n",
              "      <td>139.479996</td>\n",
              "      <td>138.289993</td>\n",
              "      <td>321.859985</td>\n",
              "      <td>71.439545</td>\n",
              "      <td>136.363998</td>\n",
              "    </tr>\n",
              "  </tbody>\n",
              "</table>\n",
              "<p>2497 rows × 7 columns</p>\n",
              "</div>\n",
              "      <button class=\"colab-df-convert\" onclick=\"convertToInteractive('df-e8d6e5ba-1ab6-4308-b6b9-332dcab4c6e3')\"\n",
              "              title=\"Convert this dataframe to an interactive table.\"\n",
              "              style=\"display:none;\">\n",
              "        \n",
              "  <svg xmlns=\"http://www.w3.org/2000/svg\" height=\"24px\"viewBox=\"0 0 24 24\"\n",
              "       width=\"24px\">\n",
              "    <path d=\"M0 0h24v24H0V0z\" fill=\"none\"/>\n",
              "    <path d=\"M18.56 5.44l.94 2.06.94-2.06 2.06-.94-2.06-.94-.94-2.06-.94 2.06-2.06.94zm-11 1L8.5 8.5l.94-2.06 2.06-.94-2.06-.94L8.5 2.5l-.94 2.06-2.06.94zm10 10l.94 2.06.94-2.06 2.06-.94-2.06-.94-.94-2.06-.94 2.06-2.06.94z\"/><path d=\"M17.41 7.96l-1.37-1.37c-.4-.4-.92-.59-1.43-.59-.52 0-1.04.2-1.43.59L10.3 9.45l-7.72 7.72c-.78.78-.78 2.05 0 2.83L4 21.41c.39.39.9.59 1.41.59.51 0 1.02-.2 1.41-.59l7.78-7.78 2.81-2.81c.8-.78.8-2.07 0-2.86zM5.41 20L4 18.59l7.72-7.72 1.47 1.35L5.41 20z\"/>\n",
              "  </svg>\n",
              "      </button>\n",
              "      \n",
              "  <style>\n",
              "    .colab-df-container {\n",
              "      display:flex;\n",
              "      flex-wrap:wrap;\n",
              "      gap: 12px;\n",
              "    }\n",
              "\n",
              "    .colab-df-convert {\n",
              "      background-color: #E8F0FE;\n",
              "      border: none;\n",
              "      border-radius: 50%;\n",
              "      cursor: pointer;\n",
              "      display: none;\n",
              "      fill: #1967D2;\n",
              "      height: 32px;\n",
              "      padding: 0 0 0 0;\n",
              "      width: 32px;\n",
              "    }\n",
              "\n",
              "    .colab-df-convert:hover {\n",
              "      background-color: #E2EBFA;\n",
              "      box-shadow: 0px 1px 2px rgba(60, 64, 67, 0.3), 0px 1px 3px 1px rgba(60, 64, 67, 0.15);\n",
              "      fill: #174EA6;\n",
              "    }\n",
              "\n",
              "    [theme=dark] .colab-df-convert {\n",
              "      background-color: #3B4455;\n",
              "      fill: #D2E3FC;\n",
              "    }\n",
              "\n",
              "    [theme=dark] .colab-df-convert:hover {\n",
              "      background-color: #434B5C;\n",
              "      box-shadow: 0px 1px 3px 1px rgba(0, 0, 0, 0.15);\n",
              "      filter: drop-shadow(0px 1px 2px rgba(0, 0, 0, 0.3));\n",
              "      fill: #FFFFFF;\n",
              "    }\n",
              "  </style>\n",
              "\n",
              "      <script>\n",
              "        const buttonEl =\n",
              "          document.querySelector('#df-e8d6e5ba-1ab6-4308-b6b9-332dcab4c6e3 button.colab-df-convert');\n",
              "        buttonEl.style.display =\n",
              "          google.colab.kernel.accessAllowed ? 'block' : 'none';\n",
              "\n",
              "        async function convertToInteractive(key) {\n",
              "          const element = document.querySelector('#df-e8d6e5ba-1ab6-4308-b6b9-332dcab4c6e3');\n",
              "          const dataTable =\n",
              "            await google.colab.kernel.invokeFunction('convertToInteractive',\n",
              "                                                     [key], {});\n",
              "          if (!dataTable) return;\n",
              "\n",
              "          const docLinkHtml = 'Like what you see? Visit the ' +\n",
              "            '<a target=\"_blank\" href=https://colab.research.google.com/notebooks/data_table.ipynb>data table notebook</a>'\n",
              "            + ' to learn more about interactive tables.';\n",
              "          element.innerHTML = '';\n",
              "          dataTable['output_type'] = 'display_data';\n",
              "          await google.colab.output.renderOutput(dataTable, element);\n",
              "          const docLink = document.createElement('div');\n",
              "          docLink.innerHTML = docLinkHtml;\n",
              "          element.appendChild(docLink);\n",
              "        }\n",
              "      </script>\n",
              "    </div>\n",
              "  </div>\n",
              "  "
            ]
          },
          "metadata": {},
          "execution_count": 10
        }
      ],
      "source": [
        "ticker_df_final"
      ]
    },
    {
      "cell_type": "markdown",
      "metadata": {
        "id": "SeFhg0EZ63_7"
      },
      "source": [
        "## Part 2: Data processing"
      ]
    },
    {
      "cell_type": "markdown",
      "metadata": {
        "id": "L6UoHjKe7LdG"
      },
      "source": [
        "### Step 1: División conjunto de entrenamiento y test"
      ]
    },
    {
      "cell_type": "markdown",
      "metadata": {
        "id": "0FVuDNRu8B6y"
      },
      "source": [
        "Primer punto es la separación del total de datos en un conjunto de entrenamiento y uno para testeo / pruebas. Para esto definimos una función que recibe como parámetro el dataframe a separar y un valor (entre 0-1) que representa el porcentaje del df que queremos utilizar para entrenamiento."
      ]
    },
    {
      "cell_type": "code",
      "execution_count": 11,
      "metadata": {
        "id": "7YGIV69b68gG"
      },
      "outputs": [],
      "source": [
        "def train_test_split(df, percentage_for_training=0.8):\n",
        "  # Cálculo del índice correspondiente al 80% de las filas\n",
        "  index_percentage = int(len(df) * percentage_for_training)\n",
        "\n",
        "  # División del DataFrame en dos partes: entrenamiento y prueba\n",
        "  train_df = df[:index_percentage]\n",
        "  test_df = df[index_percentage:]\n",
        "  return train_df, test_df"
      ]
    },
    {
      "cell_type": "code",
      "execution_count": 12,
      "metadata": {
        "id": "DGJmUClL7zCg"
      },
      "outputs": [],
      "source": [
        "train_df, test_df = train_test_split(ticker_df_final)"
      ]
    },
    {
      "cell_type": "code",
      "execution_count": 13,
      "metadata": {
        "colab": {
          "base_uri": "https://localhost:8080/",
          "height": 472
        },
        "id": "5eofdsyBGtLq",
        "outputId": "55d20210-e332-44d5-9ac1-1d376b6ef6cc"
      },
      "outputs": [
        {
          "output_type": "display_data",
          "data": {
            "text/plain": [
              "<Figure size 640x480 with 1 Axes>"
            ],
            "image/png": "[encoded data removed]"
          },
          "metadata": {}
        }
      ],
      "source": [
        "plt.plot(train_df['Close_Price_%s' % (ticker_name)], color = 'red', label = 'Train DF')\n",
        "plt.plot(test_df['Close_Price_%s' % (ticker_name)], color = 'blue', label = 'Test DF')\n",
        "plt.title('Stock Price Visualization')\n",
        "plt.xlabel('Time')\n",
        "plt.ylabel('jpm Stock Price')\n",
        "plt.legend()\n",
        "plt.show()"
      ]
    },
    {
      "cell_type": "markdown",
      "metadata": {
        "id": "O3HWmgBxBN7o"
      },
      "source": [
        "### Step 2: Feature scaling"
      ]
    },
    {
      "cell_type": "code",
      "execution_count": 14,
      "metadata": {
        "id": "g2tqH8yw1UJP"
      },
      "outputs": [],
      "source": [
        "scaler = MinMaxScaler(feature_range = (0,1))"
      ]
    },
    {
      "cell_type": "code",
      "execution_count": 15,
      "metadata": {
        "id": "ec2_1gv65XVQ"
      },
      "outputs": [],
      "source": [
        "def make_normalization(df_to_normalize, scaler):\n",
        "  return scaler.fit_transform(df_to_normalize)"
      ]
    },
    {
      "cell_type": "markdown",
      "metadata": {
        "id": "hEHFILSoEziu"
      },
      "source": [
        "Normalización del df de entrenamiento. Creamos una función que retornará, para cada fila del df pasado por parámetro, el valor valor normalizado, es decir:\n",
        "  - Para cada columna de la fila del df, restarle el mínimo y devidirlo por la diferencia entre el maximo y el mínimo del conjunto (de la columna bajo análisis).\n",
        "Para esto, creamos una función que la denominamos normalization(), que recibe por parámetro un dataframe a normalizar. Utiliza como método de normalización el MinMaxScaler de la librería sklearn."
      ]
    },
    {
      "cell_type": "code",
      "execution_count": 16,
      "metadata": {
        "id": "4afhdGyXBThu"
      },
      "outputs": [],
      "source": [
        "training_set_scaled = make_normalization(train_df, scaler)"
      ]
    },
    {
      "cell_type": "code",
      "execution_count": 17,
      "metadata": {
        "colab": {
          "base_uri": "https://localhost:8080/",
          "height": 455
        },
        "id": "3VKfcGjnmw8U",
        "outputId": "7d51696b-f936-416e-fc1c-bec8a8cc9222"
      },
      "outputs": [
        {
          "output_type": "execute_result",
          "data": {
            "text/plain": [
              "            Close_Price_JPM    Volume  High_Price   Low_Price  \\\n",
              "Date                                                            \n",
              "2010-02-01        39.630001  37408200   39.930000   38.950001   \n",
              "2010-02-02        40.549999  45968500   40.680000   39.700001   \n",
              "2010-02-03        40.290001  37373300   41.099998   40.169998   \n",
              "2010-02-04        38.349998  57211800   39.919998   38.349998   \n",
              "2010-02-05        38.299999  75224100   38.880001   37.029999   \n",
              "...                     ...       ...         ...         ...   \n",
              "2017-12-28       107.790001   7440600  107.839996  107.160004   \n",
              "2017-12-29       106.940002   8925700  108.279999  106.940002   \n",
              "2018-01-02       107.949997  13578800  108.019997  106.809998   \n",
              "2018-01-03       108.059998  11901000  108.489998  107.480003   \n",
              "2018-01-04       109.040001  12953700  110.029999  108.199997   \n",
              "\n",
              "            Close_Price_SPY    JPM_rsi   JPM_sma  \n",
              "Date                                              \n",
              "2010-02-01       109.059998  35.773063   42.0985  \n",
              "2010-02-02       110.379997  43.244476   41.9835  \n",
              "2010-02-03       109.830002  41.765795   41.8140  \n",
              "2010-02-04       106.440002  32.763543   41.5355  \n",
              "2010-02-05       106.660004  32.568703   41.2110  \n",
              "...                     ...        ...       ...  \n",
              "2017-12-28       267.869995  64.567063  106.1580  \n",
              "2017-12-29       266.859985  59.642311  106.2790  \n",
              "2018-01-02       268.769989  63.231037  106.4370  \n",
              "2018-01-03       270.470001  63.610570  106.4925  \n",
              "2018-01-04       271.609985  66.889632  106.6585  \n",
              "\n",
              "[1997 rows x 7 columns]"
            ],
            "text/html": [
              "\n",
              "  <div id=\"df-907e4bc0-2ff3-4c13-9e3a-38260d58196f\">\n",
              "    <div class=\"colab-df-container\">\n",
              "      <div>\n",
              "<style scoped>\n",
              "    .dataframe tbody tr th:only-of-type {\n",
              "        vertical-align: middle;\n",
              "    }\n",
              "\n",
              "    .dataframe tbody tr th {\n",
              "        vertical-align: top;\n",
              "    }\n",
              "\n",
              "    .dataframe thead th {\n",
              "        text-align: right;\n",
              "    }\n",
              "</style>\n",
              "<table border=\"1\" class=\"dataframe\">\n",
              "  <thead>\n",
              "    <tr style=\"text-align: right;\">\n",
              "      <th></th>\n",
              "      <th>Close_Price_JPM</th>\n",
              "      <th>Volume</th>\n",
              "      <th>High_Price</th>\n",
              "      <th>Low_Price</th>\n",
              "      <th>Close_Price_SPY</th>\n",
              "      <th>JPM_rsi</th>\n",
              "      <th>JPM_sma</th>\n",
              "    </tr>\n",
              "    <tr>\n",
              "      <th>Date</th>\n",
              "      <th></th>\n",
              "      <th></th>\n",
              "      <th></th>\n",
              "      <th></th>\n",
              "      <th></th>\n",
              "      <th></th>\n",
              "      <th></th>\n",
              "    </tr>\n",
              "  </thead>\n",
              "  <tbody>\n",
              "    <tr>\n",
              "      <th>2010-02-01</th>\n",
              "      <td>39.630001</td>\n",
              "      <td>37408200</td>\n",
              "      <td>39.930000</td>\n",
              "      <td>38.950001</td>\n",
              "      <td>109.059998</td>\n",
              "      <td>35.773063</td>\n",
              "      <td>42.0985</td>\n",
              "    </tr>\n",
              "    <tr>\n",
              "      <th>2010-02-02</th>\n",
              "      <td>40.549999</td>\n",
              "      <td>45968500</td>\n",
              "      <td>40.680000</td>\n",
              "      <td>39.700001</td>\n",
              "      <td>110.379997</td>\n",
              "      <td>43.244476</td>\n",
              "      <td>41.9835</td>\n",
              "    </tr>\n",
              "    <tr>\n",
              "      <th>2010-02-03</th>\n",
              "      <td>40.290001</td>\n",
              "      <td>37373300</td>\n",
              "      <td>41.099998</td>\n",
              "      <td>40.169998</td>\n",
              "      <td>109.830002</td>\n",
              "      <td>41.765795</td>\n",
              "      <td>41.8140</td>\n",
              "    </tr>\n",
              "    <tr>\n",
              "      <th>2010-02-04</th>\n",
              "      <td>38.349998</td>\n",
              "      <td>57211800</td>\n",
              "      <td>39.919998</td>\n",
              "      <td>38.349998</td>\n",
              "      <td>106.440002</td>\n",
              "      <td>32.763543</td>\n",
              "      <td>41.5355</td>\n",
              "    </tr>\n",
              "    <tr>\n",
              "      <th>2010-02-05</th>\n",
              "      <td>38.299999</td>\n",
              "      <td>75224100</td>\n",
              "      <td>38.880001</td>\n",
              "      <td>37.029999</td>\n",
              "      <td>106.660004</td>\n",
              "      <td>32.568703</td>\n",
              "      <td>41.2110</td>\n",
              "    </tr>\n",
              "    <tr>\n",
              "      <th>...</th>\n",
              "      <td>...</td>\n",
              "      <td>...</td>\n",
              "      <td>...</td>\n",
              "      <td>...</td>\n",
              "      <td>...</td>\n",
              "      <td>...</td>\n",
              "      <td>...</td>\n",
              "    </tr>\n",
              "    <tr>\n",
              "      <th>2017-12-28</th>\n",
              "      <td>107.790001</td>\n",
              "      <td>7440600</td>\n",
              "      <td>107.839996</td>\n",
              "      <td>107.160004</td>\n",
              "      <td>267.869995</td>\n",
              "      <td>64.567063</td>\n",
              "      <td>106.1580</td>\n",
              "    </tr>\n",
              "    <tr>\n",
              "      <th>2017-12-29</th>\n",
              "      <td>106.940002</td>\n",
              "      <td>8925700</td>\n",
              "      <td>108.279999</td>\n",
              "      <td>106.940002</td>\n",
              "      <td>266.859985</td>\n",
              "      <td>59.642311</td>\n",
              "      <td>106.2790</td>\n",
              "    </tr>\n",
              "    <tr>\n",
              "      <th>2018-01-02</th>\n",
              "      <td>107.949997</td>\n",
              "      <td>13578800</td>\n",
              "      <td>108.019997</td>\n",
              "      <td>106.809998</td>\n",
              "      <td>268.769989</td>\n",
              "      <td>63.231037</td>\n",
              "      <td>106.4370</td>\n",
              "    </tr>\n",
              "    <tr>\n",
              "      <th>2018-01-03</th>\n",
              "      <td>108.059998</td>\n",
              "      <td>11901000</td>\n",
              "      <td>108.489998</td>\n",
              "      <td>107.480003</td>\n",
              "      <td>270.470001</td>\n",
              "      <td>63.610570</td>\n",
              "      <td>106.4925</td>\n",
              "    </tr>\n",
              "    <tr>\n",
              "      <th>2018-01-04</th>\n",
              "      <td>109.040001</td>\n",
              "      <td>12953700</td>\n",
              "      <td>110.029999</td>\n",
              "      <td>108.199997</td>\n",
              "      <td>271.609985</td>\n",
              "      <td>66.889632</td>\n",
              "      <td>106.6585</td>\n",
              "    </tr>\n",
              "  </tbody>\n",
              "</table>\n",
              "<p>1997 rows × 7 columns</p>\n",
              "</div>\n",
              "      <button class=\"colab-df-convert\" onclick=\"convertToInteractive('df-907e4bc0-2ff3-4c13-9e3a-38260d58196f')\"\n",
              "              title=\"Convert this dataframe to an interactive table.\"\n",
              "              style=\"display:none;\">\n",
              "        \n",
              "  <svg xmlns=\"http://www.w3.org/2000/svg\" height=\"24px\"viewBox=\"0 0 24 24\"\n",
              "       width=\"24px\">\n",
              "    <path d=\"M0 0h24v24H0V0z\" fill=\"none\"/>\n",
              "    <path d=\"M18.56 5.44l.94 2.06.94-2.06 2.06-.94-2.06-.94-.94-2.06-.94 2.06-2.06.94zm-11 1L8.5 8.5l.94-2.06 2.06-.94-2.06-.94L8.5 2.5l-.94 2.06-2.06.94zm10 10l.94 2.06.94-2.06 2.06-.94-2.06-.94-.94-2.06-.94 2.06-2.06.94z\"/><path d=\"M17.41 7.96l-1.37-1.37c-.4-.4-.92-.59-1.43-.59-.52 0-1.04.2-1.43.59L10.3 9.45l-7.72 7.72c-.78.78-.78 2.05 0 2.83L4 21.41c.39.39.9.59 1.41.59.51 0 1.02-.2 1.41-.59l7.78-7.78 2.81-2.81c.8-.78.8-2.07 0-2.86zM5.41 20L4 18.59l7.72-7.72 1.47 1.35L5.41 20z\"/>\n",
              "  </svg>\n",
              "      </button>\n",
              "      \n",
              "  <style>\n",
              "    .colab-df-container {\n",
              "      display:flex;\n",
              "      flex-wrap:wrap;\n",
              "      gap: 12px;\n",
              "    }\n",
              "\n",
              "    .colab-df-convert {\n",
              "      background-color: #E8F0FE;\n",
              "      border: none;\n",
              "      border-radius: 50%;\n",
              "      cursor: pointer;\n",
              "      display: none;\n",
              "      fill: #1967D2;\n",
              "      height: 32px;\n",
              "      padding: 0 0 0 0;\n",
              "      width: 32px;\n",
              "    }\n",
              "\n",
              "    .colab-df-convert:hover {\n",
              "      background-color: #E2EBFA;\n",
              "      box-shadow: 0px 1px 2px rgba(60, 64, 67, 0.3), 0px 1px 3px 1px rgba(60, 64, 67, 0.15);\n",
              "      fill: #174EA6;\n",
              "    }\n",
              "\n",
              "    [theme=dark] .colab-df-convert {\n",
              "      background-color: #3B4455;\n",
              "      fill: #D2E3FC;\n",
              "    }\n",
              "\n",
              "    [theme=dark] .colab-df-convert:hover {\n",
              "      background-color: #434B5C;\n",
              "      box-shadow: 0px 1px 3px 1px rgba(0, 0, 0, 0.15);\n",
              "      filter: drop-shadow(0px 1px 2px rgba(0, 0, 0, 0.3));\n",
              "      fill: #FFFFFF;\n",
              "    }\n",
              "  </style>\n",
              "\n",
              "      <script>\n",
              "        const buttonEl =\n",
              "          document.querySelector('#df-907e4bc0-2ff3-4c13-9e3a-38260d58196f button.colab-df-convert');\n",
              "        buttonEl.style.display =\n",
              "          google.colab.kernel.accessAllowed ? 'block' : 'none';\n",
              "\n",
              "        async function convertToInteractive(key) {\n",
              "          const element = document.querySelector('#df-907e4bc0-2ff3-4c13-9e3a-38260d58196f');\n",
              "          const dataTable =\n",
              "            await google.colab.kernel.invokeFunction('convertToInteractive',\n",
              "                                                     [key], {});\n",
              "          if (!dataTable) return;\n",
              "\n",
              "          const docLinkHtml = 'Like what you see? Visit the ' +\n",
              "            '<a target=\"_blank\" href=https://colab.research.google.com/notebooks/data_table.ipynb>data table notebook</a>'\n",
              "            + ' to learn more about interactive tables.';\n",
              "          element.innerHTML = '';\n",
              "          dataTable['output_type'] = 'display_data';\n",
              "          await google.colab.output.renderOutput(dataTable, element);\n",
              "          const docLink = document.createElement('div');\n",
              "          docLink.innerHTML = docLinkHtml;\n",
              "          element.appendChild(docLink);\n",
              "        }\n",
              "      </script>\n",
              "    </div>\n",
              "  </div>\n",
              "  "
            ]
          },
          "metadata": {},
          "execution_count": 17
        }
      ],
      "source": [
        "train_df"
      ]
    },
    {
      "cell_type": "code",
      "execution_count": 18,
      "metadata": {
        "colab": {
          "base_uri": "https://localhost:8080/",
          "height": 424
        },
        "id": "YtEl7lfiJFsx",
        "outputId": "8b3e6f3f-603c-4a17-db84-7686f0e4d811"
      },
      "outputs": [
        {
          "output_type": "execute_result",
          "data": {
            "text/plain": [
              "      Close_Price    Volume  High_Price  Low_Price  Close_Price_Industry  \\\n",
              "0        0.139474  0.157893    0.133498   0.138146              0.040493   \n",
              "1        0.150880  0.197967    0.142769   0.147480              0.048285   \n",
              "2        0.147657  0.157730    0.147960   0.153329              0.045039   \n",
              "3        0.123605  0.250600    0.133375   0.130678              0.025028   \n",
              "4        0.122985  0.334922    0.120519   0.114250              0.026327   \n",
              "...           ...       ...         ...        ...                   ...   \n",
              "1992     0.984503  0.017605    0.972930   0.987057              0.977923   \n",
              "1993     0.973965  0.024557    0.978368   0.984319              0.971962   \n",
              "1994     0.986486  0.046340    0.975154   0.982701              0.983236   \n",
              "1995     0.987850  0.038485    0.980964   0.991039              0.993271   \n",
              "1996     1.000000  0.043413    1.000000   1.000000              1.000000   \n",
              "\n",
              "           rsi       sma  \n",
              "0     0.275810  0.146004  \n",
              "1     0.380581  0.144482  \n",
              "2     0.359846  0.142240  \n",
              "3     0.233607  0.138556  \n",
              "4     0.230875  0.134264  \n",
              "...        ...       ...  \n",
              "1992  0.679587  0.993379  \n",
              "1993  0.610527  0.994980  \n",
              "1994  0.660852  0.997070  \n",
              "1995  0.666174  0.997804  \n",
              "1996  0.712156  1.000000  \n",
              "\n",
              "[1997 rows x 7 columns]"
            ],
            "text/html": [
              "\n",
              "  <div id=\"df-5f6f5ef6-fda7-4711-9ce9-e9ec4aa57806\">\n",
              "    <div class=\"colab-df-container\">\n",
              "      <div>\n",
              "<style scoped>\n",
              "    .dataframe tbody tr th:only-of-type {\n",
              "        vertical-align: middle;\n",
              "    }\n",
              "\n",
              "    .dataframe tbody tr th {\n",
              "        vertical-align: top;\n",
              "    }\n",
              "\n",
              "    .dataframe thead th {\n",
              "        text-align: right;\n",
              "    }\n",
              "</style>\n",
              "<table border=\"1\" class=\"dataframe\">\n",
              "  <thead>\n",
              "    <tr style=\"text-align: right;\">\n",
              "      <th></th>\n",
              "      <th>Close_Price</th>\n",
              "      <th>Volume</th>\n",
              "      <th>High_Price</th>\n",
              "      <th>Low_Price</th>\n",
              "      <th>Close_Price_Industry</th>\n",
              "      <th>rsi</th>\n",
              "      <th>sma</th>\n",
              "    </tr>\n",
              "  </thead>\n",
              "  <tbody>\n",
              "    <tr>\n",
              "      <th>0</th>\n",
              "      <td>0.139474</td>\n",
              "      <td>0.157893</td>\n",
              "      <td>0.133498</td>\n",
              "      <td>0.138146</td>\n",
              "      <td>0.040493</td>\n",
              "      <td>0.275810</td>\n",
              "      <td>0.146004</td>\n",
              "    </tr>\n",
              "    <tr>\n",
              "      <th>1</th>\n",
              "      <td>0.150880</td>\n",
              "      <td>0.197967</td>\n",
              "      <td>0.142769</td>\n",
              "      <td>0.147480</td>\n",
              "      <td>0.048285</td>\n",
              "      <td>0.380581</td>\n",
              "      <td>0.144482</td>\n",
              "    </tr>\n",
              "    <tr>\n",
              "      <th>2</th>\n",
              "      <td>0.147657</td>\n",
              "      <td>0.157730</td>\n",
              "      <td>0.147960</td>\n",
              "      <td>0.153329</td>\n",
              "      <td>0.045039</td>\n",
              "      <td>0.359846</td>\n",
              "      <td>0.142240</td>\n",
              "    </tr>\n",
              "    <tr>\n",
              "      <th>3</th>\n",
              "      <td>0.123605</td>\n",
              "      <td>0.250600</td>\n",
              "      <td>0.133375</td>\n",
              "      <td>0.130678</td>\n",
              "      <td>0.025028</td>\n",
              "      <td>0.233607</td>\n",
              "      <td>0.138556</td>\n",
              "    </tr>\n",
              "    <tr>\n",
              "      <th>4</th>\n",
              "      <td>0.122985</td>\n",
              "      <td>0.334922</td>\n",
              "      <td>0.120519</td>\n",
              "      <td>0.114250</td>\n",
              "      <td>0.026327</td>\n",
              "      <td>0.230875</td>\n",
              "      <td>0.134264</td>\n",
              "    </tr>\n",
              "    <tr>\n",
              "      <th>...</th>\n",
              "      <td>...</td>\n",
              "      <td>...</td>\n",
              "      <td>...</td>\n",
              "      <td>...</td>\n",
              "      <td>...</td>\n",
              "      <td>...</td>\n",
              "      <td>...</td>\n",
              "    </tr>\n",
              "    <tr>\n",
              "      <th>1992</th>\n",
              "      <td>0.984503</td>\n",
              "      <td>0.017605</td>\n",
              "      <td>0.972930</td>\n",
              "      <td>0.987057</td>\n",
              "      <td>0.977923</td>\n",
              "      <td>0.679587</td>\n",
              "      <td>0.993379</td>\n",
              "    </tr>\n",
              "    <tr>\n",
              "      <th>1993</th>\n",
              "      <td>0.973965</td>\n",
              "      <td>0.024557</td>\n",
              "      <td>0.978368</td>\n",
              "      <td>0.984319</td>\n",
              "      <td>0.971962</td>\n",
              "      <td>0.610527</td>\n",
              "      <td>0.994980</td>\n",
              "    </tr>\n",
              "    <tr>\n",
              "      <th>1994</th>\n",
              "      <td>0.986486</td>\n",
              "      <td>0.046340</td>\n",
              "      <td>0.975154</td>\n",
              "      <td>0.982701</td>\n",
              "      <td>0.983236</td>\n",
              "      <td>0.660852</td>\n",
              "      <td>0.997070</td>\n",
              "    </tr>\n",
              "    <tr>\n",
              "      <th>1995</th>\n",
              "      <td>0.987850</td>\n",
              "      <td>0.038485</td>\n",
              "      <td>0.980964</td>\n",
              "      <td>0.991039</td>\n",
              "      <td>0.993271</td>\n",
              "      <td>0.666174</td>\n",
              "      <td>0.997804</td>\n",
              "    </tr>\n",
              "    <tr>\n",
              "      <th>1996</th>\n",
              "      <td>1.000000</td>\n",
              "      <td>0.043413</td>\n",
              "      <td>1.000000</td>\n",
              "      <td>1.000000</td>\n",
              "      <td>1.000000</td>\n",
              "      <td>0.712156</td>\n",
              "      <td>1.000000</td>\n",
              "    </tr>\n",
              "  </tbody>\n",
              "</table>\n",
              "<p>1997 rows × 7 columns</p>\n",
              "</div>\n",
              "      <button class=\"colab-df-convert\" onclick=\"convertToInteractive('df-5f6f5ef6-fda7-4711-9ce9-e9ec4aa57806')\"\n",
              "              title=\"Convert this dataframe to an interactive table.\"\n",
              "              style=\"display:none;\">\n",
              "        \n",
              "  <svg xmlns=\"http://www.w3.org/2000/svg\" height=\"24px\"viewBox=\"0 0 24 24\"\n",
              "       width=\"24px\">\n",
              "    <path d=\"M0 0h24v24H0V0z\" fill=\"none\"/>\n",
              "    <path d=\"M18.56 5.44l.94 2.06.94-2.06 2.06-.94-2.06-.94-.94-2.06-.94 2.06-2.06.94zm-11 1L8.5 8.5l.94-2.06 2.06-.94-2.06-.94L8.5 2.5l-.94 2.06-2.06.94zm10 10l.94 2.06.94-2.06 2.06-.94-2.06-.94-.94-2.06-.94 2.06-2.06.94z\"/><path d=\"M17.41 7.96l-1.37-1.37c-.4-.4-.92-.59-1.43-.59-.52 0-1.04.2-1.43.59L10.3 9.45l-7.72 7.72c-.78.78-.78 2.05 0 2.83L4 21.41c.39.39.9.59 1.41.59.51 0 1.02-.2 1.41-.59l7.78-7.78 2.81-2.81c.8-.78.8-2.07 0-2.86zM5.41 20L4 18.59l7.72-7.72 1.47 1.35L5.41 20z\"/>\n",
              "  </svg>\n",
              "      </button>\n",
              "      \n",
              "  <style>\n",
              "    .colab-df-container {\n",
              "      display:flex;\n",
              "      flex-wrap:wrap;\n",
              "      gap: 12px;\n",
              "    }\n",
              "\n",
              "    .colab-df-convert {\n",
              "      background-color: #E8F0FE;\n",
              "      border: none;\n",
              "      border-radius: 50%;\n",
              "      cursor: pointer;\n",
              "      display: none;\n",
              "      fill: #1967D2;\n",
              "      height: 32px;\n",
              "      padding: 0 0 0 0;\n",
              "      width: 32px;\n",
              "    }\n",
              "\n",
              "    .colab-df-convert:hover {\n",
              "      background-color: #E2EBFA;\n",
              "      box-shadow: 0px 1px 2px rgba(60, 64, 67, 0.3), 0px 1px 3px 1px rgba(60, 64, 67, 0.15);\n",
              "      fill: #174EA6;\n",
              "    }\n",
              "\n",
              "    [theme=dark] .colab-df-convert {\n",
              "      background-color: #3B4455;\n",
              "      fill: #D2E3FC;\n",
              "    }\n",
              "\n",
              "    [theme=dark] .colab-df-convert:hover {\n",
              "      background-color: #434B5C;\n",
              "      box-shadow: 0px 1px 3px 1px rgba(0, 0, 0, 0.15);\n",
              "      filter: drop-shadow(0px 1px 2px rgba(0, 0, 0, 0.3));\n",
              "      fill: #FFFFFF;\n",
              "    }\n",
              "  </style>\n",
              "\n",
              "      <script>\n",
              "        const buttonEl =\n",
              "          document.querySelector('#df-5f6f5ef6-fda7-4711-9ce9-e9ec4aa57806 button.colab-df-convert');\n",
              "        buttonEl.style.display =\n",
              "          google.colab.kernel.accessAllowed ? 'block' : 'none';\n",
              "\n",
              "        async function convertToInteractive(key) {\n",
              "          const element = document.querySelector('#df-5f6f5ef6-fda7-4711-9ce9-e9ec4aa57806');\n",
              "          const dataTable =\n",
              "            await google.colab.kernel.invokeFunction('convertToInteractive',\n",
              "                                                     [key], {});\n",
              "          if (!dataTable) return;\n",
              "\n",
              "          const docLinkHtml = 'Like what you see? Visit the ' +\n",
              "            '<a target=\"_blank\" href=https://colab.research.google.com/notebooks/data_table.ipynb>data table notebook</a>'\n",
              "            + ' to learn more about interactive tables.';\n",
              "          element.innerHTML = '';\n",
              "          dataTable['output_type'] = 'display_data';\n",
              "          await google.colab.output.renderOutput(dataTable, element);\n",
              "          const docLink = document.createElement('div');\n",
              "          docLink.innerHTML = docLinkHtml;\n",
              "          element.appendChild(docLink);\n",
              "        }\n",
              "      </script>\n",
              "    </div>\n",
              "  </div>\n",
              "  "
            ]
          },
          "metadata": {},
          "execution_count": 18
        }
      ],
      "source": [
        "column_names = ['Close_Price',\t'Volume',\t'High_Price',\t'Low_Price', 'Close_Price_Industry',\t'rsi',\t'sma']\n",
        "training_set_scaled_df = pd.DataFrame(training_set_scaled, columns=column_names)\n",
        "training_set_scaled_df"
      ]
    },
    {
      "cell_type": "markdown",
      "metadata": {
        "id": "N3f_z4WzFODU"
      },
      "source": [
        "### Step 3: Creatring data structure - feature matrix and target vector"
      ]
    },
    {
      "cell_type": "markdown",
      "metadata": {
        "id": "Rd7sTnIRKxGw"
      },
      "source": [
        "Al crear la estructura de datos lo que hacemos es crear dos arrays, X_train, y_train, donde:\n",
        "- X_train => es un vector de tantos elementos como el conjunto de entrenamiento, donde cada elemento representa 60 jornadas previas operadas que se utilizarán como input para el calculo del output del precio de la jornada estimada. Entre los inputs se encuentra el precio de cierre, volumen operado, precio máximo de la jornada, precio mínimo de la jornada, precio de cierre del SPY, el valor del RSI y SMA.  \n",
        "- y_train => array donde cada elemento representa el valor del precio de la acción en la jornada estimada, es decir el precio de cierre del día siguiente para cada fila del conjunto de entrenamiento"
      ]
    },
    {
      "cell_type": "code",
      "execution_count": 19,
      "metadata": {
        "id": "TKSIPPbPGooP"
      },
      "outputs": [],
      "source": [
        "def feature_matrix_target_vector_split(training_set):\n",
        "    X_train = []\n",
        "    y_train = []\n",
        "    timesteps = 60\n",
        "    total_times = len(training_set)\n",
        "    for step in range(timesteps, total_times):\n",
        "        X_train.append(training_set[step-timesteps:step, :]) # appendo los 60 valores de las variables independientes previas al precio que estoy estimando\n",
        "        y_train.append(training_set[step, 0]) # appendo el precio de la estimación\n",
        "    X_train, y_train = np.array(X_train), np.array(y_train)\n",
        "    return X_train, y_train"
      ]
    },
    {
      "cell_type": "code",
      "execution_count": 20,
      "metadata": {
        "id": "nrn21lgbMJub"
      },
      "outputs": [],
      "source": [
        "X_train, y_train = feature_matrix_target_vector_split(training_set_scaled)"
      ]
    },
    {
      "cell_type": "code",
      "execution_count": 21,
      "metadata": {
        "colab": {
          "base_uri": "https://localhost:8080/",
          "height": 424
        },
        "id": "_Vi0qVr-apyi",
        "outputId": "7863cbf6-68b1-4180-cf89-b75e501e8d1f"
      },
      "outputs": [
        {
          "output_type": "execute_result",
          "data": {
            "text/plain": [
              "    Close_Price    Volume  High_Price  Low_Price  Close_Price_Industry  \\\n",
              "0      0.139474  0.157893    0.133498   0.138146              0.040493   \n",
              "1      0.150880  0.197967    0.142769   0.147480              0.048285   \n",
              "2      0.147657  0.157730    0.147960   0.153329              0.045039   \n",
              "3      0.123605  0.250600    0.133375   0.130678              0.025028   \n",
              "4      0.122985  0.334922    0.120519   0.114250              0.026327   \n",
              "..          ...       ...         ...        ...                   ...   \n",
              "56     0.202827  0.278525    0.197651   0.201369              0.111091   \n",
              "57     0.205306  0.134840    0.197033   0.204107              0.115755   \n",
              "58     0.192289  0.183552    0.193820   0.197635              0.113039   \n",
              "59     0.173940  0.293127    0.188381   0.179838              0.096098   \n",
              "60     0.186958  0.210187    0.180222   0.185812              0.101411   \n",
              "\n",
              "         rsi       sma  \n",
              "0   0.275810  0.146004  \n",
              "1   0.380581  0.144482  \n",
              "2   0.359846  0.142240  \n",
              "3   0.233607  0.138556  \n",
              "4   0.230875  0.134264  \n",
              "..       ...       ...  \n",
              "56  0.448428  0.192341  \n",
              "57  0.469315  0.192341  \n",
              "58  0.372291  0.191594  \n",
              "59  0.267724  0.189973  \n",
              "60  0.374803  0.189232  \n",
              "\n",
              "[61 rows x 7 columns]"
            ],
            "text/html": [
              "\n",
              "  <div id=\"df-e40d2d7f-7d1a-49c2-9377-e381276c0016\">\n",
              "    <div class=\"colab-df-container\">\n",
              "      <div>\n",
              "<style scoped>\n",
              "    .dataframe tbody tr th:only-of-type {\n",
              "        vertical-align: middle;\n",
              "    }\n",
              "\n",
              "    .dataframe tbody tr th {\n",
              "        vertical-align: top;\n",
              "    }\n",
              "\n",
              "    .dataframe thead th {\n",
              "        text-align: right;\n",
              "    }\n",
              "</style>\n",
              "<table border=\"1\" class=\"dataframe\">\n",
              "  <thead>\n",
              "    <tr style=\"text-align: right;\">\n",
              "      <th></th>\n",
              "      <th>Close_Price</th>\n",
              "      <th>Volume</th>\n",
              "      <th>High_Price</th>\n",
              "      <th>Low_Price</th>\n",
              "      <th>Close_Price_Industry</th>\n",
              "      <th>rsi</th>\n",
              "      <th>sma</th>\n",
              "    </tr>\n",
              "  </thead>\n",
              "  <tbody>\n",
              "    <tr>\n",
              "      <th>0</th>\n",
              "      <td>0.139474</td>\n",
              "      <td>0.157893</td>\n",
              "      <td>0.133498</td>\n",
              "      <td>0.138146</td>\n",
              "      <td>0.040493</td>\n",
              "      <td>0.275810</td>\n",
              "      <td>0.146004</td>\n",
              "    </tr>\n",
              "    <tr>\n",
              "      <th>1</th>\n",
              "      <td>0.150880</td>\n",
              "      <td>0.197967</td>\n",
              "      <td>0.142769</td>\n",
              "      <td>0.147480</td>\n",
              "      <td>0.048285</td>\n",
              "      <td>0.380581</td>\n",
              "      <td>0.144482</td>\n",
              "    </tr>\n",
              "    <tr>\n",
              "      <th>2</th>\n",
              "      <td>0.147657</td>\n",
              "      <td>0.157730</td>\n",
              "      <td>0.147960</td>\n",
              "      <td>0.153329</td>\n",
              "      <td>0.045039</td>\n",
              "      <td>0.359846</td>\n",
              "      <td>0.142240</td>\n",
              "    </tr>\n",
              "    <tr>\n",
              "      <th>3</th>\n",
              "      <td>0.123605</td>\n",
              "      <td>0.250600</td>\n",
              "      <td>0.133375</td>\n",
              "      <td>0.130678</td>\n",
              "      <td>0.025028</td>\n",
              "      <td>0.233607</td>\n",
              "      <td>0.138556</td>\n",
              "    </tr>\n",
              "    <tr>\n",
              "      <th>4</th>\n",
              "      <td>0.122985</td>\n",
              "      <td>0.334922</td>\n",
              "      <td>0.120519</td>\n",
              "      <td>0.114250</td>\n",
              "      <td>0.026327</td>\n",
              "      <td>0.230875</td>\n",
              "      <td>0.134264</td>\n",
              "    </tr>\n",
              "    <tr>\n",
              "      <th>...</th>\n",
              "      <td>...</td>\n",
              "      <td>...</td>\n",
              "      <td>...</td>\n",
              "      <td>...</td>\n",
              "      <td>...</td>\n",
              "      <td>...</td>\n",
              "      <td>...</td>\n",
              "    </tr>\n",
              "    <tr>\n",
              "      <th>56</th>\n",
              "      <td>0.202827</td>\n",
              "      <td>0.278525</td>\n",
              "      <td>0.197651</td>\n",
              "      <td>0.201369</td>\n",
              "      <td>0.111091</td>\n",
              "      <td>0.448428</td>\n",
              "      <td>0.192341</td>\n",
              "    </tr>\n",
              "    <tr>\n",
              "      <th>57</th>\n",
              "      <td>0.205306</td>\n",
              "      <td>0.134840</td>\n",
              "      <td>0.197033</td>\n",
              "      <td>0.204107</td>\n",
              "      <td>0.115755</td>\n",
              "      <td>0.469315</td>\n",
              "      <td>0.192341</td>\n",
              "    </tr>\n",
              "    <tr>\n",
              "      <th>58</th>\n",
              "      <td>0.192289</td>\n",
              "      <td>0.183552</td>\n",
              "      <td>0.193820</td>\n",
              "      <td>0.197635</td>\n",
              "      <td>0.113039</td>\n",
              "      <td>0.372291</td>\n",
              "      <td>0.191594</td>\n",
              "    </tr>\n",
              "    <tr>\n",
              "      <th>59</th>\n",
              "      <td>0.173940</td>\n",
              "      <td>0.293127</td>\n",
              "      <td>0.188381</td>\n",
              "      <td>0.179838</td>\n",
              "      <td>0.096098</td>\n",
              "      <td>0.267724</td>\n",
              "      <td>0.189973</td>\n",
              "    </tr>\n",
              "    <tr>\n",
              "      <th>60</th>\n",
              "      <td>0.186958</td>\n",
              "      <td>0.210187</td>\n",
              "      <td>0.180222</td>\n",
              "      <td>0.185812</td>\n",
              "      <td>0.101411</td>\n",
              "      <td>0.374803</td>\n",
              "      <td>0.189232</td>\n",
              "    </tr>\n",
              "  </tbody>\n",
              "</table>\n",
              "<p>61 rows × 7 columns</p>\n",
              "</div>\n",
              "      <button class=\"colab-df-convert\" onclick=\"convertToInteractive('df-e40d2d7f-7d1a-49c2-9377-e381276c0016')\"\n",
              "              title=\"Convert this dataframe to an interactive table.\"\n",
              "              style=\"display:none;\">\n",
              "        \n",
              "  <svg xmlns=\"http://www.w3.org/2000/svg\" height=\"24px\"viewBox=\"0 0 24 24\"\n",
              "       width=\"24px\">\n",
              "    <path d=\"M0 0h24v24H0V0z\" fill=\"none\"/>\n",
              "    <path d=\"M18.56 5.44l.94 2.06.94-2.06 2.06-.94-2.06-.94-.94-2.06-.94 2.06-2.06.94zm-11 1L8.5 8.5l.94-2.06 2.06-.94-2.06-.94L8.5 2.5l-.94 2.06-2.06.94zm10 10l.94 2.06.94-2.06 2.06-.94-2.06-.94-.94-2.06-.94 2.06-2.06.94z\"/><path d=\"M17.41 7.96l-1.37-1.37c-.4-.4-.92-.59-1.43-.59-.52 0-1.04.2-1.43.59L10.3 9.45l-7.72 7.72c-.78.78-.78 2.05 0 2.83L4 21.41c.39.39.9.59 1.41.59.51 0 1.02-.2 1.41-.59l7.78-7.78 2.81-2.81c.8-.78.8-2.07 0-2.86zM5.41 20L4 18.59l7.72-7.72 1.47 1.35L5.41 20z\"/>\n",
              "  </svg>\n",
              "      </button>\n",
              "      \n",
              "  <style>\n",
              "    .colab-df-container {\n",
              "      display:flex;\n",
              "      flex-wrap:wrap;\n",
              "      gap: 12px;\n",
              "    }\n",
              "\n",
              "    .colab-df-convert {\n",
              "      background-color: #E8F0FE;\n",
              "      border: none;\n",
              "      border-radius: 50%;\n",
              "      cursor: pointer;\n",
              "      display: none;\n",
              "      fill: #1967D2;\n",
              "      height: 32px;\n",
              "      padding: 0 0 0 0;\n",
              "      width: 32px;\n",
              "    }\n",
              "\n",
              "    .colab-df-convert:hover {\n",
              "      background-color: #E2EBFA;\n",
              "      box-shadow: 0px 1px 2px rgba(60, 64, 67, 0.3), 0px 1px 3px 1px rgba(60, 64, 67, 0.15);\n",
              "      fill: #174EA6;\n",
              "    }\n",
              "\n",
              "    [theme=dark] .colab-df-convert {\n",
              "      background-color: #3B4455;\n",
              "      fill: #D2E3FC;\n",
              "    }\n",
              "\n",
              "    [theme=dark] .colab-df-convert:hover {\n",
              "      background-color: #434B5C;\n",
              "      box-shadow: 0px 1px 3px 1px rgba(0, 0, 0, 0.15);\n",
              "      filter: drop-shadow(0px 1px 2px rgba(0, 0, 0, 0.3));\n",
              "      fill: #FFFFFF;\n",
              "    }\n",
              "  </style>\n",
              "\n",
              "      <script>\n",
              "        const buttonEl =\n",
              "          document.querySelector('#df-e40d2d7f-7d1a-49c2-9377-e381276c0016 button.colab-df-convert');\n",
              "        buttonEl.style.display =\n",
              "          google.colab.kernel.accessAllowed ? 'block' : 'none';\n",
              "\n",
              "        async function convertToInteractive(key) {\n",
              "          const element = document.querySelector('#df-e40d2d7f-7d1a-49c2-9377-e381276c0016');\n",
              "          const dataTable =\n",
              "            await google.colab.kernel.invokeFunction('convertToInteractive',\n",
              "                                                     [key], {});\n",
              "          if (!dataTable) return;\n",
              "\n",
              "          const docLinkHtml = 'Like what you see? Visit the ' +\n",
              "            '<a target=\"_blank\" href=https://colab.research.google.com/notebooks/data_table.ipynb>data table notebook</a>'\n",
              "            + ' to learn more about interactive tables.';\n",
              "          element.innerHTML = '';\n",
              "          dataTable['output_type'] = 'display_data';\n",
              "          await google.colab.output.renderOutput(dataTable, element);\n",
              "          const docLink = document.createElement('div');\n",
              "          docLink.innerHTML = docLinkHtml;\n",
              "          element.appendChild(docLink);\n",
              "        }\n",
              "      </script>\n",
              "    </div>\n",
              "  </div>\n",
              "  "
            ]
          },
          "metadata": {},
          "execution_count": 21
        }
      ],
      "source": [
        "training_set_scaled_df.head(61)"
      ]
    },
    {
      "cell_type": "code",
      "execution_count": 22,
      "metadata": {
        "colab": {
          "base_uri": "https://localhost:8080/"
        },
        "id": "DVqbMTeW4-Xh",
        "outputId": "e068b36b-5472-41d8-ccb5-bb249cef020f"
      },
      "outputs": [
        {
          "output_type": "execute_result",
          "data": {
            "text/plain": [
              "array([[[0.13947436, 0.15789306, 0.13349816, ..., 0.04049348,\n",
              "         0.27580986, 0.1460035 ],\n",
              "        [0.15088024, 0.19796671, 0.14276887, ..., 0.04828523,\n",
              "         0.38058118, 0.14448229],\n",
              "        [0.14765685, 0.15772968, 0.14796044, ..., 0.0450387 ,\n",
              "         0.35984569, 0.14224015],\n",
              "        ...,\n",
              "        [0.20530621, 0.13484029, 0.19703338, ..., 0.11575469,\n",
              "         0.46931523, 0.19234102],\n",
              "        [0.19228862, 0.18355194, 0.19381956, ..., 0.11303939,\n",
              "         0.37229119, 0.19159364],\n",
              "        [0.17394   , 0.29312705, 0.18838071, ..., 0.09609827,\n",
              "         0.26772371, 0.18997321]],\n",
              "\n",
              "       [[0.15088024, 0.19796671, 0.14276887, ..., 0.04828523,\n",
              "         0.38058118, 0.14448229],\n",
              "        [0.14765685, 0.15772968, 0.14796044, ..., 0.0450387 ,\n",
              "         0.35984569, 0.14224015],\n",
              "        [0.12360525, 0.25060038, 0.13337452, ..., 0.02502807,\n",
              "         0.23360747, 0.13855617],\n",
              "        ...,\n",
              "        [0.19228862, 0.18355194, 0.19381956, ..., 0.11303939,\n",
              "         0.37229119, 0.19159364],\n",
              "        [0.17394   , 0.29312705, 0.18838071, ..., 0.09609827,\n",
              "         0.26772371, 0.18997321],\n",
              "        [0.18695759, 0.21018687, 0.1802225 , ..., 0.10141079,\n",
              "         0.37480307, 0.18923244]],\n",
              "\n",
              "       [[0.14765685, 0.15772968, 0.14796044, ..., 0.0450387 ,\n",
              "         0.35984569, 0.14224015],\n",
              "        [0.12360525, 0.25060038, 0.13337452, ..., 0.02502807,\n",
              "         0.23360747, 0.13855617],\n",
              "        [0.12298537, 0.33492202, 0.12051918, ..., 0.0263267 ,\n",
              "         0.23087525, 0.1342637 ],\n",
              "        ...,\n",
              "        [0.17394   , 0.29312705, 0.18838071, ..., 0.09609827,\n",
              "         0.26772371, 0.18997321],\n",
              "        [0.18695759, 0.21018687, 0.1802225 , ..., 0.10141079,\n",
              "         0.37480307, 0.18923244],\n",
              "        [0.19365237, 0.1537365 , 0.18788631, ..., 0.11014701,\n",
              "         0.4239154 , 0.1887364 ]],\n",
              "\n",
              "       ...,\n",
              "\n",
              "       [[0.85184721, 0.04941713, 0.84388137, ..., 0.89994698,\n",
              "         0.72008039, 0.82970336],\n",
              "        [0.84973962, 0.03067165, 0.84684797, ..., 0.8982351 ,\n",
              "         0.70274037, 0.83532524],\n",
              "        [0.84341685, 0.01912373, 0.83980224, ..., 0.89575592,\n",
              "         0.65082067, 0.83970369],\n",
              "        ...,\n",
              "        [0.97743616, 0.027229  , 0.96613105, ..., 0.97467695,\n",
              "         0.65265468, 0.99069414],\n",
              "        [0.98450285, 0.01760463, 0.97292951, ..., 0.97792344,\n",
              "         0.67958694, 0.99337941],\n",
              "        [0.97396481, 0.02455689, 0.97836836, ..., 0.97196151,\n",
              "         0.61052736, 0.99498   ]],\n",
              "\n",
              "       [[0.84973962, 0.03067165, 0.84684797, ..., 0.8982351 ,\n",
              "         0.70274037, 0.83532524],\n",
              "        [0.84341685, 0.01912373, 0.83980224, ..., 0.89575592,\n",
              "         0.65082067, 0.83970369],\n",
              "        [0.85234313, 0.03254231, 0.84116195, ..., 0.89971081,\n",
              "         0.69200378, 0.84383081],\n",
              "        ...,\n",
              "        [0.98450285, 0.01760463, 0.97292951, ..., 0.97792344,\n",
              "         0.67958694, 0.99337941],\n",
              "        [0.97396481, 0.02455689, 0.97836836, ..., 0.97196151,\n",
              "         0.61052736, 0.99498   ],\n",
              "        [0.98648644, 0.04633962, 0.97515449, ..., 0.98323596,\n",
              "         0.66085191, 0.99707001]],\n",
              "\n",
              "       [[0.84341685, 0.01912373, 0.83980224, ..., 0.89575592,\n",
              "         0.65082067, 0.83970369],\n",
              "        [0.85234313, 0.03254231, 0.84116195, ..., 0.89971081,\n",
              "         0.69200378, 0.84383081],\n",
              "        [0.84874778, 0.04963902, 0.83906061, ..., 0.902072  ,\n",
              "         0.66183642, 0.84759416],\n",
              "        ...,\n",
              "        [0.97396481, 0.02455689, 0.97836836, ..., 0.97196151,\n",
              "         0.61052736, 0.99498   ],\n",
              "        [0.98648644, 0.04633962, 0.97515449, ..., 0.98323596,\n",
              "         0.66085191, 0.99707001],\n",
              "        [0.98785019, 0.03848527, 0.98096414, ..., 0.99327086,\n",
              "         0.66617409, 0.99780416]]])"
            ]
          },
          "metadata": {},
          "execution_count": 22
        }
      ],
      "source": [
        "X_train"
      ]
    },
    {
      "cell_type": "markdown",
      "metadata": {
        "id": "S73dzH23Mjhi"
      },
      "source": [
        "### Step 4: Reshaping data"
      ]
    },
    {
      "cell_type": "markdown",
      "metadata": {
        "id": "wrPeRkGJdqD-"
      },
      "source": [
        "El objetivo de esta sección es transformar los valores de entrada y salida (matríz de características y el vector de etiquetas) en un formato adecuado para poder ser procesdos por la red. Así en nuestro caso tendremos lo siguiente:\n",
        "- La matriz de características (jpm_X_train) debe tener tres dimensiones: número de observaciones, timestep y número de variables de entrada. En este caso, tenemos X_train con forma (número de observaciones, 60, 7) que representa la información de las 60 jornadas previas con 7 variables de entrada para cada observación.\n",
        "- La matriz de etiquetas (jpm_y_train) debe tener dos dimensiones: número de observaciones y número de variables de salida. En este caso, tenemos y_train con forma (número de observaciones, 1) que representa el valor del precio de cierre para cada observación."
      ]
    },
    {
      "cell_type": "code",
      "execution_count": 23,
      "metadata": {
        "colab": {
          "base_uri": "https://localhost:8080/"
        },
        "id": "9UzF-HJTdnGz",
        "outputId": "23db5bfb-9af3-4f2c-d96d-38e6a3d720d5"
      },
      "outputs": [
        {
          "output_type": "stream",
          "name": "stdout",
          "text": [
            "Reshaping feature matrix.\n",
            "The first value is the batch size, the second value is the timesteps and the third value is the indicators.\n",
            "   X_train.shape[0] = 1937 \n",
            "   X_train.shape[1] = 60\n",
            "   X_train.shape[2] = 7\n"
          ]
        }
      ],
      "source": [
        "X_train = np.reshape(X_train, (X_train.shape[0], X_train.shape[1], X_train.shape[2]))\n",
        "reshapingMsg = \"Reshaping feature matrix.\\nThe first value is the batch size, the second value is the timesteps and the third value is the indicators.\\n   X_train.shape[0] = {shape_cero} \\n   X_train.shape[1] = {shape_one}\\n   X_train.shape[2] = {shape_two}\".format(shape_cero=X_train.shape[0], shape_one = X_train.shape[1], shape_two=X_train.shape[2])\n",
        "print(f\"{reshapingMsg}\")"
      ]
    },
    {
      "cell_type": "code",
      "execution_count": 24,
      "metadata": {
        "colab": {
          "base_uri": "https://localhost:8080/"
        },
        "id": "Ymwc_rpYfHJd",
        "outputId": "b81a3764-390e-45fc-dd1e-1cfeee911342"
      },
      "outputs": [
        {
          "output_type": "stream",
          "name": "stdout",
          "text": [
            "Reshaping target vector.\n",
            "The first value is the batch size and the second is the number of outputs.\n",
            "   y_train.shape[0] = 1937 \n",
            "   y_train.shape[1] = 1\n"
          ]
        }
      ],
      "source": [
        "y_train = np.reshape(y_train, (y_train.shape[0], 1))\n",
        "reshapingMsg = \"Reshaping target vector.\\nThe first value is the batch size and the second is the number of outputs.\\n   y_train.shape[0] = {shape_cero} \\n   y_train.shape[1] = {shape_one}\".format(shape_cero=y_train.shape[0], shape_one = y_train.shape[1])\n",
        "print(f\"{reshapingMsg}\")"
      ]
    },
    {
      "cell_type": "markdown",
      "metadata": {
        "id": "kqo1ZaA2_O7E"
      },
      "source": [
        "## Part 3: Building the RNN"
      ]
    },
    {
      "cell_type": "markdown",
      "metadata": {
        "id": "ceD1qPQ5BvB-"
      },
      "source": [
        "### First step: Importing libraries"
      ]
    },
    {
      "cell_type": "markdown",
      "metadata": {
        "id": "bOz-BWFN_VdU"
      },
      "source": [
        "Para la construcción de la arquitectura de nuestra RNN importaremos: \n",
        "\n",
        "\n",
        "*   Sequential => Nos permitirá crear un objeto de red neuronal que simule una secuencia de capas (hidden layers)\n",
        "*   Dense => Es la clase que permite confeccionar la capa de salida (output layer). Es una fully connected layer y nos permite ajustar la salida de la red al tamaño deseado.\n",
        "*   LSTM => Para añadir las capas LSTM. \n",
        "*   Dropout => Regularización de droput, usado para evitar el overfitting. "
      ]
    },
    {
      "cell_type": "code",
      "execution_count": 25,
      "metadata": {
        "id": "xPxmiBaEA7V2"
      },
      "outputs": [],
      "source": [
        "from keras.models import Sequential\n",
        "from keras.layers import Dense\n",
        "from keras.layers import LSTM\n",
        "from keras.layers import Dropout\n",
        "from keras.optimizers import Adam,RMSprop,SGD"
      ]
    },
    {
      "cell_type": "markdown",
      "metadata": {
        "id": "SNaosWtcB0_A"
      },
      "source": [
        "### Second step: Initialising the RNN"
      ]
    },
    {
      "cell_type": "markdown",
      "metadata": {
        "id": "IWw_OX_8B_dD"
      },
      "source": [
        "El regressor es un objeto de una capa Secuencial. A diferencia de las ANN o CNN, en RNN a este objeto lo llamamos Regressor y no Clasificator porque lo que buscamos es predecir un valor continuo (en nuestro caso el precio de una acción) y no una clasificación de objetos."
      ]
    },
    {
      "cell_type": "code",
      "execution_count": 26,
      "metadata": {
        "id": "gWS7WiTgCAL_"
      },
      "outputs": [],
      "source": [
        "regressor = Sequential()"
      ]
    },
    {
      "cell_type": "markdown",
      "metadata": {
        "id": "udGKD7AwF4qz"
      },
      "source": [
        "### Third step: Adding the first hidden layer"
      ]
    },
    {
      "cell_type": "markdown",
      "metadata": {
        "id": "yl34mzNnGFbQ"
      },
      "source": [
        "El paso siguiente es añadir la primera capa a la secuencia de capas definidas previamente (junto con un poco de regularización para evitar el overfitting). \n",
        "Esta primera capa será una LSTM layer. Sobre esta primera capa deberemos definir:\n",
        "\n",
        "*   El primer argumento es el número de unidades de memoria (más conocidas como neuronas) que tendrá la primera capa. Como captar las tendencias de la cotización de una acción es bastante complejo, necesitaremos tener una alta dimensionalidad y por ende un alto numero de neuronas en cada una de las capas LSTM. Por esta razón el número elegido será 50. De utilizar un número bajo de neuronas (por ej 5) no serían bien captados los movimientos ascendentes y descendentes del precio de las acciones. \n",
        "*   El segundo es un booleano (return_sequences) que básicamente indica si habrá una nueva capa LSTM próxima, por ende lo colocaremos en TRUE (utlizaremos una red neuronal LSTM apilada o stack neural networks)\n",
        "*   El tercer parámetro es el input_shape que básciamente es la forma de entrada que se creo con el reshape previo por ende contendrá el número de observaciones, steptimes y las características. \n",
        "Luego de agregado de la capa LSTM hay que agregar la regularización de abandono (dropout) que cuenta únicamente con un argumento que es la tasa de dropout y que indica el número de neuronas que se están dispuestas a eliminar para hacer esa regularización (se recominda usar una tasa del 20%) lo que implicará que el 20% de las neuronas, en nuestro caso 10, se dejarán de lado para el forwardpropagation y el backpropagation. Esas neuronas que se eliminan son seleccionadas aleatoriamente. Con esto se busca que la red sea menos sensible a pequeñas perturbaciones y ayuda a prevenir el sobreajuste. Esta técnica ayuda a la red a generalizar mejor los datos de prueba, lo que significa que puede realizar mejores predicciones en datos que no ha visto antes."
      ]
    },
    {
      "cell_type": "code",
      "execution_count": 27,
      "metadata": {
        "id": "krnwiELlGGrL"
      },
      "outputs": [],
      "source": [
        "#regressor.add(LSTM(units = 50, return_sequences = True, input_shape = (X_train.shape[1], X_train.shape[2])))\n",
        "regressor.add(LSTM(units = 25, return_sequences = False, input_shape = (X_train.shape[1], X_train.shape[2])))\n",
        "regressor.add(Dropout(0.2))"
      ]
    },
    {
      "cell_type": "markdown",
      "metadata": {
        "id": "V6FFj5K-H0eU"
      },
      "source": [
        "### Fourth step: Adding the rest hidden layers"
      ]
    },
    {
      "cell_type": "markdown",
      "metadata": {
        "id": "XUuL29pjIPLT"
      },
      "source": [
        "Como estas son capas intermediasm no hará falta añadir input_layers ya que se añaden automáticamente con el compilado de capas"
      ]
    },
    {
      "cell_type": "code",
      "execution_count": 129,
      "metadata": {
        "id": "iWJaavQ-IZ9k"
      },
      "outputs": [],
      "source": [
        "#hidden_layers_to_add = 2\n",
        "#for i in range(hidden_layers_to_add):\n",
        "#  regressor.add(LSTM(units = 50, return_sequences = True))\n",
        "#  regressor.add(Dropout(0.2))"
      ]
    },
    {
      "cell_type": "markdown",
      "metadata": {
        "id": "fy1rbjxzJAO2"
      },
      "source": [
        "### Fifth step: Adding the last hidden layer "
      ]
    },
    {
      "cell_type": "markdown",
      "metadata": {
        "id": "EnwNjZavJNcP"
      },
      "source": [
        "La última capa sólo se elimina el return_sequences, ya que ahora toma el valor FALSE (valor por defecto) ya que no se añadirá otra LSTM layer sino que únicamente se añadirá una capa de salida. "
      ]
    },
    {
      "cell_type": "code",
      "execution_count": 130,
      "metadata": {
        "id": "enSJ5BKVJKI4"
      },
      "outputs": [],
      "source": [
        "#regressor.add(LSTM(units = 50))\n",
        "#regressor.add(Dropout(0.2))"
      ]
    },
    {
      "cell_type": "markdown",
      "metadata": {
        "id": "htMv506HJS0G"
      },
      "source": [
        "### Sixth step: Adding output layer"
      ]
    },
    {
      "cell_type": "markdown",
      "metadata": {
        "id": "dpuiijwibv4p"
      },
      "source": [
        "Como capa de salida usamos una fully connected layer porque la capa de salida está totalmente conectada a la última LSTM y usaremos la clase Dense de Keras. \n",
        "El argumento que hay que pasar es el número de unidades (units) que básicamente son la cantidad de neuronas. Dado que lo que estamos intentando predecir es un precio, un valor continuo y único, el número de neuronas será igual a la unidad (tiene una única dimensión)."
      ]
    },
    {
      "cell_type": "code",
      "execution_count": 28,
      "metadata": {
        "id": "ai9E4Bnfbw7x"
      },
      "outputs": [],
      "source": [
        "regressor.add(Dense(units = 1))"
      ]
    },
    {
      "cell_type": "markdown",
      "metadata": {
        "id": "vOLBuwRIJXK5"
      },
      "source": [
        "### Last step: Compiling the RNN"
      ]
    },
    {
      "cell_type": "markdown",
      "metadata": {
        "id": "rD9AJcN-ceDg"
      },
      "source": [
        "En la compilación necesitamos elegir el optimizer y la función de pérdida utilizada para calcular el error.\n",
        "\n",
        "Keras nos surgiere utilizar como algorítmo de optimización RMSProp, pero probando descrubirmos que para nuestro problema una mejor opción era utilizar el algorítmo ADAM (es muy potente y seguro).\n",
        "En este caso para la loss-function no se utiliza la entropía cruzda, ya que estamos ante un problema de regresión y necesitamos predecir un valor continuo y la loss-function correcta es la mean_squared_error.\n",
        "\n",
        "El algoritmo de optimización Adam es popular debido a que combina las ventajas del algoritmo de descenso de gradiente estocástico (SGD) y el algoritmo Adagrad. Además, se adapta a la tasa de aprendizaje de forma adaptativa y mantiene una estimación de momento de primer y segundo orden de los gradientes.\n",
        "\n",
        "La función de pérdida MSE es una buena opción para problemas de regresión ya que penaliza fuertemente las grandes diferencias entre las predicciones y las etiquetas, lo que puede llevar a una mejor convergencia del modelo."
      ]
    },
    {
      "cell_type": "code",
      "execution_count": 29,
      "metadata": {
        "id": "yZ-69kd0cevC"
      },
      "outputs": [],
      "source": [
        "lr = 0.001\n",
        "opt = Adam(learning_rate=lr)\n",
        "regressor.compile(optimizer = opt, loss = 'mean_squared_error')"
      ]
    },
    {
      "cell_type": "markdown",
      "metadata": {
        "id": "ZgvOOtDeNeYD"
      },
      "source": [
        "## Part 4: Fitting the RNN"
      ]
    },
    {
      "cell_type": "markdown",
      "metadata": {
        "id": "Pf_rrTjFNmpf"
      },
      "source": [
        "Para el fitting de la red neuronal necesitamos pasar 4 atributos:\n",
        "\n",
        "- El conjunto de entrenamiento (en nuestor caso la lista de precios de apertura normalizada)\n",
        "- El segundo atributo son los outputs para el conjunto de entrenamiento, es decir el resultante en T+1 para los 60 valores previamente operados.\n",
        "- El tercer valor es el número de veces que se presentará todo el conjunto de datos de entrenamiento a la red neuronal durante el entrenamiento. Si el número de épocas es demasiado bajo, la red neuronal puede no haber tenido suficiente tiempo para aprender patrones en los datos. Por otro lado, si el número de épocas es demasiado alto, la red neuronal puede ajustarse demasiado a los datos de entrenamiento y no generalizar bien a los datos nuevos\n",
        "- Por último para entrenar la red necesitamos definir el batch_size o cantidad de lotes, que se refiere a la cantidad de ejemplos de entrenamiento que se propagan a través de la red neuronal antes de que se actualicen los pesos. Un tamaño de lote demasiado grande puede hacer que la memoria de la computadora se llene y ralentizar el entrenamiento, mientras que un tamaño de lote demasiado pequeño puede hacer que el entrenamiento sea ineficiente."
      ]
    },
    {
      "cell_type": "markdown",
      "metadata": {
        "id": "TT6HSWLtk7v4"
      },
      "source": [
        "Setearemos inicialmente los valores del número de épocas y del tamaño de lotes"
      ]
    },
    {
      "cell_type": "code",
      "execution_count": 30,
      "metadata": {
        "id": "3kQHoJ1Dk2dU"
      },
      "outputs": [],
      "source": [
        "num_epochs = 50\n",
        "batch_size = 64"
      ]
    },
    {
      "cell_type": "markdown",
      "source": [
        "Corremos la red:"
      ],
      "metadata": {
        "id": "vpq31Rfb7qlp"
      }
    },
    {
      "cell_type": "code",
      "execution_count": null,
      "metadata": {
        "id": "BRlqBFC7OjLj"
      },
      "outputs": [],
      "source": [
        "regressor.fit(X_train, y_train, epochs = num_epochs, batch_size = batch_size)"
      ]
    },
    {
      "cell_type": "markdown",
      "metadata": {
        "id": "LW8ez5spfOeh"
      },
      "source": [
        "## Part 5 - Evaluating computational network performance"
      ]
    },
    {
      "cell_type": "markdown",
      "metadata": {
        "id": "Lm71CvMYhc7C"
      },
      "source": [
        " Medimos el costo computacional de la red observando el tiempo de entrenamiento necesario para cada configuración de hiperparámetros. La medición podríamos dividirla en: \n",
        " - Medición absoluta => Medimos el tiempo total de performance de la red\n",
        " - Medición por épcocas => Computamos el costo computacional por épocas"
      ]
    },
    {
      "cell_type": "markdown",
      "metadata": {
        "id": "TSWMvs8_h6fT"
      },
      "source": [
        "### 5.1) Medición absoluta"
      ]
    },
    {
      "cell_type": "code",
      "execution_count": 69,
      "metadata": {
        "id": "PJTeMDxTh9rK"
      },
      "outputs": [],
      "source": [
        "import time\n",
        "\n",
        "start_time = time.time()\n",
        "#regressor.fit(X_train, y_train, epochs = num_epochs, batch_size = batch_size)\n",
        "end_time = time.time()"
      ]
    },
    {
      "cell_type": "code",
      "execution_count": 70,
      "metadata": {
        "id": "DtldO1nYjjDy",
        "colab": {
          "base_uri": "https://localhost:8080/"
        },
        "outputId": "c3691ed0-acfb-4d34-ec76-26e6e9967d2e"
      },
      "outputs": [
        {
          "output_type": "execute_result",
          "data": {
            "text/plain": [
              "7.939338684082031e-05"
            ]
          },
          "metadata": {},
          "execution_count": 70
        }
      ],
      "source": [
        "total_time_performed = end_time - start_time\n",
        "total_time_performed"
      ]
    },
    {
      "cell_type": "markdown",
      "metadata": {
        "id": "3EjwOTSrjF4K"
      },
      "source": [
        "### 5.2) Medición relativa"
      ]
    },
    {
      "cell_type": "markdown",
      "metadata": {
        "id": "rfp0r-8Rj5fc"
      },
      "source": [
        "Primero definimos la clase **EpochTimer** que es un callback personalizado que registra el tiempo de inicio de cada época en el método on_epoch_begin y calcula la duración de la época en el método on_epoch_end. Luego, se crea una instancia de EpochTimer llamada epoch_timer y se pasa como un elemento de la lista de callbacks en el método fit(). Durante el entrenamiento, se imprimirá el tiempo de ejecución de cada época en segundos.\n",
        "Además dicha clase tiene un array de tiempos de ejecución por época, al que denominamos epoch_times, que nos servirá para luego graficar los tiempos y poder calcular la media y mediana de los mismos."
      ]
    },
    {
      "cell_type": "code",
      "execution_count": null,
      "metadata": {
        "id": "aQUtWGpzjTyB"
      },
      "outputs": [],
      "source": [
        "import numpy as np\n",
        "import matplotlib.pyplot as plt\n",
        "from keras.callbacks import Callback\n",
        "import time\n",
        "\n",
        "# Definir una clase personalizada que herede de Callback\n",
        "class EpochTimer(Callback):\n",
        "    def on_train_begin(self, logs=None):\n",
        "        self.epoch_times = []\n",
        "\n",
        "    def on_epoch_begin(self, epoch, logs=None):\n",
        "        self.epoch_start_time = time.time()\n",
        "\n",
        "    def on_epoch_end(self, epoch, logs=None):\n",
        "        epoch_time = time.time() - self.epoch_start_time\n",
        "        self.epoch_times.append(epoch_time)\n",
        "        print(\"\\nTiempo de ejecución de la época\", epoch+1, \": \", round(epoch_time, 4), \" segundos\")\n",
        "\n",
        "# Crear una instancia de la clase EpochTimer\n",
        "epoch_timer = EpochTimer()\n",
        "\n",
        "# Entrenar el modelo y registrar los tiempos de ejecución de cada época\n",
        "regressor.fit(X_train, y_train, epochs=num_epochs, batch_size=batch_size, callbacks=[epoch_timer])\n",
        "\n",
        "# Obtener los tiempos de ejecución de cada época\n",
        "epoch_times = epoch_timer.epoch_times\n",
        "\n",
        "# Graficar los tiempos de ejecución por época\n",
        "#plt.plot(range(1, num_epochs+1), epoch_times)\n",
        "#plt.xlabel('Época')\n",
        "#plt.ylabel('Tiempo de ejecución (segundos)')\n",
        "#plt.title('Tiempos de ejecución por época')"
      ]
    },
    {
      "cell_type": "code",
      "source": [
        "# Calcular la media y mediana de los tiempos de ejecución\n",
        "mean_time = np.mean(epoch_times)\n",
        "median_time = np.median(epoch_times)\n",
        "total_time = mean_time*num_epochs\n",
        "print('Tiempo de ejecución medio: {:.2f} segundos'.format(mean_time))\n",
        "print('Tiempo de ejecución mediano: {:.2f} segundos'.format(median_time))\n",
        "print('Tiempo de ejecución total: {:.2f} segundos'.format(total_time))"
      ],
      "metadata": {
        "colab": {
          "base_uri": "https://localhost:8080/"
        },
        "id": "ukVIP_6Q1H59",
        "outputId": "47a7e694-07f9-4a5e-a801-6d6318e48cdf"
      },
      "execution_count": 466,
      "outputs": [
        {
          "output_type": "stream",
          "name": "stdout",
          "text": [
            "Tiempo de ejecución medio: 2.46 segundos\n",
            "Tiempo de ejecución mediano: 2.19 segundos\n",
            "Tiempo de ejecución total: 123.09 segundos\n"
          ]
        }
      ]
    },
    {
      "cell_type": "markdown",
      "metadata": {
        "id": "jPU_ozxmRHjI"
      },
      "source": [
        "## Part 6 - Making predictions"
      ]
    },
    {
      "cell_type": "markdown",
      "metadata": {
        "id": "5XUel90aRMa7"
      },
      "source": [
        "### Step 1: Getting real stock prices "
      ]
    },
    {
      "cell_type": "markdown",
      "metadata": {
        "id": "ye0juNXYRgJT"
      },
      "source": [
        "Para obtener los precios reales del ticker (y los que contrastaremos contra las estimaciones) debemos usar el DF de testeo. La columna que necesitamos es la de precios de cierre (\"Close_Price\") que es la primer columna del DF."
      ]
    },
    {
      "cell_type": "code",
      "execution_count": 32,
      "metadata": {
        "id": "fHOGB5zQr-jM",
        "colab": {
          "base_uri": "https://localhost:8080/",
          "height": 0
        },
        "outputId": "0e642aa2-2b39-4ad0-b17b-59e58b7e836c"
      },
      "outputs": [
        {
          "output_type": "execute_result",
          "data": {
            "text/plain": [
              "            Close_Price_JPM    Volume  High_Price   Low_Price  \\\n",
              "Date                                                            \n",
              "2018-01-05       108.339996  14155000  109.550003  107.779999   \n",
              "2018-01-08       108.500000  12466500  108.680000  107.699997   \n",
              "2018-01-09       109.050003  13292300  109.629997  108.489998   \n",
              "2018-01-10       110.250000  15834500  110.699997  109.389999   \n",
              "2018-01-11       110.839996  13676800  110.930000  110.050003   \n",
              "...                     ...       ...         ...         ...   \n",
              "2019-12-24       137.580002   3324300  137.630005  137.059998   \n",
              "2019-12-26       139.039993   6770900  139.100006  137.779999   \n",
              "2019-12-27       139.139999   7868200  139.770004  138.669998   \n",
              "2019-12-30       138.630005   6963000  140.080002  138.470001   \n",
              "2019-12-31       139.399994   7201600  139.479996  138.289993   \n",
              "\n",
              "            Close_Price_SPY    JPM_rsi     JPM_sma  \n",
              "Date                                                \n",
              "2018-01-05       273.420013  62.553673  106.829000  \n",
              "2018-01-08       273.920013  63.141804  107.023000  \n",
              "2018-01-09       274.540009  65.167038  107.179000  \n",
              "2018-01-10       274.119995  69.149918  107.410500  \n",
              "2018-01-11       276.119995  70.911038  107.610000  \n",
              "...                     ...        ...         ...  \n",
              "2019-12-24       321.230011  68.430560  134.901498  \n",
              "2019-12-26       322.940002  72.464635  135.269998  \n",
              "2019-12-27       322.859985  72.721765  135.623998  \n",
              "2019-12-30       321.079987  69.174194  135.967499  \n",
              "2019-12-31       321.859985  71.439545  136.363998  \n",
              "\n",
              "[500 rows x 7 columns]"
            ],
            "text/html": [
              "\n",
              "  <div id=\"df-a7e959bf-272d-484a-b90f-d9c25c0400f5\">\n",
              "    <div class=\"colab-df-container\">\n",
              "      <div>\n",
              "<style scoped>\n",
              "    .dataframe tbody tr th:only-of-type {\n",
              "        vertical-align: middle;\n",
              "    }\n",
              "\n",
              "    .dataframe tbody tr th {\n",
              "        vertical-align: top;\n",
              "    }\n",
              "\n",
              "    .dataframe thead th {\n",
              "        text-align: right;\n",
              "    }\n",
              "</style>\n",
              "<table border=\"1\" class=\"dataframe\">\n",
              "  <thead>\n",
              "    <tr style=\"text-align: right;\">\n",
              "      <th></th>\n",
              "      <th>Close_Price_JPM</th>\n",
              "      <th>Volume</th>\n",
              "      <th>High_Price</th>\n",
              "      <th>Low_Price</th>\n",
              "      <th>Close_Price_SPY</th>\n",
              "      <th>JPM_rsi</th>\n",
              "      <th>JPM_sma</th>\n",
              "    </tr>\n",
              "    <tr>\n",
              "      <th>Date</th>\n",
              "      <th></th>\n",
              "      <th></th>\n",
              "      <th></th>\n",
              "      <th></th>\n",
              "      <th></th>\n",
              "      <th></th>\n",
              "      <th></th>\n",
              "    </tr>\n",
              "  </thead>\n",
              "  <tbody>\n",
              "    <tr>\n",
              "      <th>2018-01-05</th>\n",
              "      <td>108.339996</td>\n",
              "      <td>14155000</td>\n",
              "      <td>109.550003</td>\n",
              "      <td>107.779999</td>\n",
              "      <td>273.420013</td>\n",
              "      <td>62.553673</td>\n",
              "      <td>106.829000</td>\n",
              "    </tr>\n",
              "    <tr>\n",
              "      <th>2018-01-08</th>\n",
              "      <td>108.500000</td>\n",
              "      <td>12466500</td>\n",
              "      <td>108.680000</td>\n",
              "      <td>107.699997</td>\n",
              "      <td>273.920013</td>\n",
              "      <td>63.141804</td>\n",
              "      <td>107.023000</td>\n",
              "    </tr>\n",
              "    <tr>\n",
              "      <th>2018-01-09</th>\n",
              "      <td>109.050003</td>\n",
              "      <td>13292300</td>\n",
              "      <td>109.629997</td>\n",
              "      <td>108.489998</td>\n",
              "      <td>274.540009</td>\n",
              "      <td>65.167038</td>\n",
              "      <td>107.179000</td>\n",
              "    </tr>\n",
              "    <tr>\n",
              "      <th>2018-01-10</th>\n",
              "      <td>110.250000</td>\n",
              "      <td>15834500</td>\n",
              "      <td>110.699997</td>\n",
              "      <td>109.389999</td>\n",
              "      <td>274.119995</td>\n",
              "      <td>69.149918</td>\n",
              "      <td>107.410500</td>\n",
              "    </tr>\n",
              "    <tr>\n",
              "      <th>2018-01-11</th>\n",
              "      <td>110.839996</td>\n",
              "      <td>13676800</td>\n",
              "      <td>110.930000</td>\n",
              "      <td>110.050003</td>\n",
              "      <td>276.119995</td>\n",
              "      <td>70.911038</td>\n",
              "      <td>107.610000</td>\n",
              "    </tr>\n",
              "    <tr>\n",
              "      <th>...</th>\n",
              "      <td>...</td>\n",
              "      <td>...</td>\n",
              "      <td>...</td>\n",
              "      <td>...</td>\n",
              "      <td>...</td>\n",
              "      <td>...</td>\n",
              "      <td>...</td>\n",
              "    </tr>\n",
              "    <tr>\n",
              "      <th>2019-12-24</th>\n",
              "      <td>137.580002</td>\n",
              "      <td>3324300</td>\n",
              "      <td>137.630005</td>\n",
              "      <td>137.059998</td>\n",
              "      <td>321.230011</td>\n",
              "      <td>68.430560</td>\n",
              "      <td>134.901498</td>\n",
              "    </tr>\n",
              "    <tr>\n",
              "      <th>2019-12-26</th>\n",
              "      <td>139.039993</td>\n",
              "      <td>6770900</td>\n",
              "      <td>139.100006</td>\n",
              "      <td>137.779999</td>\n",
              "      <td>322.940002</td>\n",
              "      <td>72.464635</td>\n",
              "      <td>135.269998</td>\n",
              "    </tr>\n",
              "    <tr>\n",
              "      <th>2019-12-27</th>\n",
              "      <td>139.139999</td>\n",
              "      <td>7868200</td>\n",
              "      <td>139.770004</td>\n",
              "      <td>138.669998</td>\n",
              "      <td>322.859985</td>\n",
              "      <td>72.721765</td>\n",
              "      <td>135.623998</td>\n",
              "    </tr>\n",
              "    <tr>\n",
              "      <th>2019-12-30</th>\n",
              "      <td>138.630005</td>\n",
              "      <td>6963000</td>\n",
              "      <td>140.080002</td>\n",
              "      <td>138.470001</td>\n",
              "      <td>321.079987</td>\n",
              "      <td>69.174194</td>\n",
              "      <td>135.967499</td>\n",
              "    </tr>\n",
              "    <tr>\n",
              "      <th>2019-12-31</th>\n",
              "      <td>139.399994</td>\n",
              "      <td>7201600</td>\n",
              "      <td>139.479996</td>\n",
              "      <td>138.289993</td>\n",
              "      <td>321.859985</td>\n",
              "      <td>71.439545</td>\n",
              "      <td>136.363998</td>\n",
              "    </tr>\n",
              "  </tbody>\n",
              "</table>\n",
              "<p>500 rows × 7 columns</p>\n",
              "</div>\n",
              "      <button class=\"colab-df-convert\" onclick=\"convertToInteractive('df-a7e959bf-272d-484a-b90f-d9c25c0400f5')\"\n",
              "              title=\"Convert this dataframe to an interactive table.\"\n",
              "              style=\"display:none;\">\n",
              "        \n",
              "  <svg xmlns=\"http://www.w3.org/2000/svg\" height=\"24px\"viewBox=\"0 0 24 24\"\n",
              "       width=\"24px\">\n",
              "    <path d=\"M0 0h24v24H0V0z\" fill=\"none\"/>\n",
              "    <path d=\"M18.56 5.44l.94 2.06.94-2.06 2.06-.94-2.06-.94-.94-2.06-.94 2.06-2.06.94zm-11 1L8.5 8.5l.94-2.06 2.06-.94-2.06-.94L8.5 2.5l-.94 2.06-2.06.94zm10 10l.94 2.06.94-2.06 2.06-.94-2.06-.94-.94-2.06-.94 2.06-2.06.94z\"/><path d=\"M17.41 7.96l-1.37-1.37c-.4-.4-.92-.59-1.43-.59-.52 0-1.04.2-1.43.59L10.3 9.45l-7.72 7.72c-.78.78-.78 2.05 0 2.83L4 21.41c.39.39.9.59 1.41.59.51 0 1.02-.2 1.41-.59l7.78-7.78 2.81-2.81c.8-.78.8-2.07 0-2.86zM5.41 20L4 18.59l7.72-7.72 1.47 1.35L5.41 20z\"/>\n",
              "  </svg>\n",
              "      </button>\n",
              "      \n",
              "  <style>\n",
              "    .colab-df-container {\n",
              "      display:flex;\n",
              "      flex-wrap:wrap;\n",
              "      gap: 12px;\n",
              "    }\n",
              "\n",
              "    .colab-df-convert {\n",
              "      background-color: #E8F0FE;\n",
              "      border: none;\n",
              "      border-radius: 50%;\n",
              "      cursor: pointer;\n",
              "      display: none;\n",
              "      fill: #1967D2;\n",
              "      height: 32px;\n",
              "      padding: 0 0 0 0;\n",
              "      width: 32px;\n",
              "    }\n",
              "\n",
              "    .colab-df-convert:hover {\n",
              "      background-color: #E2EBFA;\n",
              "      box-shadow: 0px 1px 2px rgba(60, 64, 67, 0.3), 0px 1px 3px 1px rgba(60, 64, 67, 0.15);\n",
              "      fill: #174EA6;\n",
              "    }\n",
              "\n",
              "    [theme=dark] .colab-df-convert {\n",
              "      background-color: #3B4455;\n",
              "      fill: #D2E3FC;\n",
              "    }\n",
              "\n",
              "    [theme=dark] .colab-df-convert:hover {\n",
              "      background-color: #434B5C;\n",
              "      box-shadow: 0px 1px 3px 1px rgba(0, 0, 0, 0.15);\n",
              "      filter: drop-shadow(0px 1px 2px rgba(0, 0, 0, 0.3));\n",
              "      fill: #FFFFFF;\n",
              "    }\n",
              "  </style>\n",
              "\n",
              "      <script>\n",
              "        const buttonEl =\n",
              "          document.querySelector('#df-a7e959bf-272d-484a-b90f-d9c25c0400f5 button.colab-df-convert');\n",
              "        buttonEl.style.display =\n",
              "          google.colab.kernel.accessAllowed ? 'block' : 'none';\n",
              "\n",
              "        async function convertToInteractive(key) {\n",
              "          const element = document.querySelector('#df-a7e959bf-272d-484a-b90f-d9c25c0400f5');\n",
              "          const dataTable =\n",
              "            await google.colab.kernel.invokeFunction('convertToInteractive',\n",
              "                                                     [key], {});\n",
              "          if (!dataTable) return;\n",
              "\n",
              "          const docLinkHtml = 'Like what you see? Visit the ' +\n",
              "            '<a target=\"_blank\" href=https://colab.research.google.com/notebooks/data_table.ipynb>data table notebook</a>'\n",
              "            + ' to learn more about interactive tables.';\n",
              "          element.innerHTML = '';\n",
              "          dataTable['output_type'] = 'display_data';\n",
              "          await google.colab.output.renderOutput(dataTable, element);\n",
              "          const docLink = document.createElement('div');\n",
              "          docLink.innerHTML = docLinkHtml;\n",
              "          element.appendChild(docLink);\n",
              "        }\n",
              "      </script>\n",
              "    </div>\n",
              "  </div>\n",
              "  "
            ]
          },
          "metadata": {},
          "execution_count": 32
        }
      ],
      "source": [
        "test_df"
      ]
    },
    {
      "cell_type": "code",
      "execution_count": 33,
      "metadata": {
        "id": "yGbOrB-YR-sB"
      },
      "outputs": [],
      "source": [
        "real_stock_prices = test_df.iloc[:,0:1].values"
      ]
    },
    {
      "cell_type": "markdown",
      "metadata": {
        "id": "uGkL8SpBS2UN"
      },
      "source": [
        "### Step 2: Getting predicted stock prices"
      ]
    },
    {
      "cell_type": "code",
      "execution_count": 34,
      "metadata": {
        "colab": {
          "base_uri": "https://localhost:8080/",
          "height": 455
        },
        "id": "V6_IhY2nzjqx",
        "outputId": "6394aebc-a950-42b0-e06c-5c72bf8030ae"
      },
      "outputs": [
        {
          "output_type": "execute_result",
          "data": {
            "text/plain": [
              "            Close_Price_JPM    Volume  High_Price   Low_Price  \\\n",
              "Date                                                            \n",
              "2010-02-01        39.630001  37408200   39.930000   38.950001   \n",
              "2010-02-02        40.549999  45968500   40.680000   39.700001   \n",
              "2010-02-03        40.290001  37373300   41.099998   40.169998   \n",
              "2010-02-04        38.349998  57211800   39.919998   38.349998   \n",
              "2010-02-05        38.299999  75224100   38.880001   37.029999   \n",
              "...                     ...       ...         ...         ...   \n",
              "2019-12-24       137.580002   3324300  137.630005  137.059998   \n",
              "2019-12-26       139.039993   6770900  139.100006  137.779999   \n",
              "2019-12-27       139.139999   7868200  139.770004  138.669998   \n",
              "2019-12-30       138.630005   6963000  140.080002  138.470001   \n",
              "2019-12-31       139.399994   7201600  139.479996  138.289993   \n",
              "\n",
              "            Close_Price_SPY    JPM_rsi     JPM_sma  \n",
              "Date                                                \n",
              "2010-02-01       109.059998  35.773063   42.098500  \n",
              "2010-02-02       110.379997  43.244476   41.983500  \n",
              "2010-02-03       109.830002  41.765795   41.814000  \n",
              "2010-02-04       106.440002  32.763543   41.535500  \n",
              "2010-02-05       106.660004  32.568703   41.211000  \n",
              "...                     ...        ...         ...  \n",
              "2019-12-24       321.230011  68.430560  134.901498  \n",
              "2019-12-26       322.940002  72.464635  135.269998  \n",
              "2019-12-27       322.859985  72.721765  135.623998  \n",
              "2019-12-30       321.079987  69.174194  135.967499  \n",
              "2019-12-31       321.859985  71.439545  136.363998  \n",
              "\n",
              "[2497 rows x 7 columns]"
            ],
            "text/html": [
              "\n",
              "  <div id=\"df-562e3a88-ea5d-43f9-810d-6a5f39b34490\">\n",
              "    <div class=\"colab-df-container\">\n",
              "      <div>\n",
              "<style scoped>\n",
              "    .dataframe tbody tr th:only-of-type {\n",
              "        vertical-align: middle;\n",
              "    }\n",
              "\n",
              "    .dataframe tbody tr th {\n",
              "        vertical-align: top;\n",
              "    }\n",
              "\n",
              "    .dataframe thead th {\n",
              "        text-align: right;\n",
              "    }\n",
              "</style>\n",
              "<table border=\"1\" class=\"dataframe\">\n",
              "  <thead>\n",
              "    <tr style=\"text-align: right;\">\n",
              "      <th></th>\n",
              "      <th>Close_Price_JPM</th>\n",
              "      <th>Volume</th>\n",
              "      <th>High_Price</th>\n",
              "      <th>Low_Price</th>\n",
              "      <th>Close_Price_SPY</th>\n",
              "      <th>JPM_rsi</th>\n",
              "      <th>JPM_sma</th>\n",
              "    </tr>\n",
              "    <tr>\n",
              "      <th>Date</th>\n",
              "      <th></th>\n",
              "      <th></th>\n",
              "      <th></th>\n",
              "      <th></th>\n",
              "      <th></th>\n",
              "      <th></th>\n",
              "      <th></th>\n",
              "    </tr>\n",
              "  </thead>\n",
              "  <tbody>\n",
              "    <tr>\n",
              "      <th>2010-02-01</th>\n",
              "      <td>39.630001</td>\n",
              "      <td>37408200</td>\n",
              "      <td>39.930000</td>\n",
              "      <td>38.950001</td>\n",
              "      <td>109.059998</td>\n",
              "      <td>35.773063</td>\n",
              "      <td>42.098500</td>\n",
              "    </tr>\n",
              "    <tr>\n",
              "      <th>2010-02-02</th>\n",
              "      <td>40.549999</td>\n",
              "      <td>45968500</td>\n",
              "      <td>40.680000</td>\n",
              "      <td>39.700001</td>\n",
              "      <td>110.379997</td>\n",
              "      <td>43.244476</td>\n",
              "      <td>41.983500</td>\n",
              "    </tr>\n",
              "    <tr>\n",
              "      <th>2010-02-03</th>\n",
              "      <td>40.290001</td>\n",
              "      <td>37373300</td>\n",
              "      <td>41.099998</td>\n",
              "      <td>40.169998</td>\n",
              "      <td>109.830002</td>\n",
              "      <td>41.765795</td>\n",
              "      <td>41.814000</td>\n",
              "    </tr>\n",
              "    <tr>\n",
              "      <th>2010-02-04</th>\n",
              "      <td>38.349998</td>\n",
              "      <td>57211800</td>\n",
              "      <td>39.919998</td>\n",
              "      <td>38.349998</td>\n",
              "      <td>106.440002</td>\n",
              "      <td>32.763543</td>\n",
              "      <td>41.535500</td>\n",
              "    </tr>\n",
              "    <tr>\n",
              "      <th>2010-02-05</th>\n",
              "      <td>38.299999</td>\n",
              "      <td>75224100</td>\n",
              "      <td>38.880001</td>\n",
              "      <td>37.029999</td>\n",
              "      <td>106.660004</td>\n",
              "      <td>32.568703</td>\n",
              "      <td>41.211000</td>\n",
              "    </tr>\n",
              "    <tr>\n",
              "      <th>...</th>\n",
              "      <td>...</td>\n",
              "      <td>...</td>\n",
              "      <td>...</td>\n",
              "      <td>...</td>\n",
              "      <td>...</td>\n",
              "      <td>...</td>\n",
              "      <td>...</td>\n",
              "    </tr>\n",
              "    <tr>\n",
              "      <th>2019-12-24</th>\n",
              "      <td>137.580002</td>\n",
              "      <td>3324300</td>\n",
              "      <td>137.630005</td>\n",
              "      <td>137.059998</td>\n",
              "      <td>321.230011</td>\n",
              "      <td>68.430560</td>\n",
              "      <td>134.901498</td>\n",
              "    </tr>\n",
              "    <tr>\n",
              "      <th>2019-12-26</th>\n",
              "      <td>139.039993</td>\n",
              "      <td>6770900</td>\n",
              "      <td>139.100006</td>\n",
              "      <td>137.779999</td>\n",
              "      <td>322.940002</td>\n",
              "      <td>72.464635</td>\n",
              "      <td>135.269998</td>\n",
              "    </tr>\n",
              "    <tr>\n",
              "      <th>2019-12-27</th>\n",
              "      <td>139.139999</td>\n",
              "      <td>7868200</td>\n",
              "      <td>139.770004</td>\n",
              "      <td>138.669998</td>\n",
              "      <td>322.859985</td>\n",
              "      <td>72.721765</td>\n",
              "      <td>135.623998</td>\n",
              "    </tr>\n",
              "    <tr>\n",
              "      <th>2019-12-30</th>\n",
              "      <td>138.630005</td>\n",
              "      <td>6963000</td>\n",
              "      <td>140.080002</td>\n",
              "      <td>138.470001</td>\n",
              "      <td>321.079987</td>\n",
              "      <td>69.174194</td>\n",
              "      <td>135.967499</td>\n",
              "    </tr>\n",
              "    <tr>\n",
              "      <th>2019-12-31</th>\n",
              "      <td>139.399994</td>\n",
              "      <td>7201600</td>\n",
              "      <td>139.479996</td>\n",
              "      <td>138.289993</td>\n",
              "      <td>321.859985</td>\n",
              "      <td>71.439545</td>\n",
              "      <td>136.363998</td>\n",
              "    </tr>\n",
              "  </tbody>\n",
              "</table>\n",
              "<p>2497 rows × 7 columns</p>\n",
              "</div>\n",
              "      <button class=\"colab-df-convert\" onclick=\"convertToInteractive('df-562e3a88-ea5d-43f9-810d-6a5f39b34490')\"\n",
              "              title=\"Convert this dataframe to an interactive table.\"\n",
              "              style=\"display:none;\">\n",
              "        \n",
              "  <svg xmlns=\"http://www.w3.org/2000/svg\" height=\"24px\"viewBox=\"0 0 24 24\"\n",
              "       width=\"24px\">\n",
              "    <path d=\"M0 0h24v24H0V0z\" fill=\"none\"/>\n",
              "    <path d=\"M18.56 5.44l.94 2.06.94-2.06 2.06-.94-2.06-.94-.94-2.06-.94 2.06-2.06.94zm-11 1L8.5 8.5l.94-2.06 2.06-.94-2.06-.94L8.5 2.5l-.94 2.06-2.06.94zm10 10l.94 2.06.94-2.06 2.06-.94-2.06-.94-.94-2.06-.94 2.06-2.06.94z\"/><path d=\"M17.41 7.96l-1.37-1.37c-.4-.4-.92-.59-1.43-.59-.52 0-1.04.2-1.43.59L10.3 9.45l-7.72 7.72c-.78.78-.78 2.05 0 2.83L4 21.41c.39.39.9.59 1.41.59.51 0 1.02-.2 1.41-.59l7.78-7.78 2.81-2.81c.8-.78.8-2.07 0-2.86zM5.41 20L4 18.59l7.72-7.72 1.47 1.35L5.41 20z\"/>\n",
              "  </svg>\n",
              "      </button>\n",
              "      \n",
              "  <style>\n",
              "    .colab-df-container {\n",
              "      display:flex;\n",
              "      flex-wrap:wrap;\n",
              "      gap: 12px;\n",
              "    }\n",
              "\n",
              "    .colab-df-convert {\n",
              "      background-color: #E8F0FE;\n",
              "      border: none;\n",
              "      border-radius: 50%;\n",
              "      cursor: pointer;\n",
              "      display: none;\n",
              "      fill: #1967D2;\n",
              "      height: 32px;\n",
              "      padding: 0 0 0 0;\n",
              "      width: 32px;\n",
              "    }\n",
              "\n",
              "    .colab-df-convert:hover {\n",
              "      background-color: #E2EBFA;\n",
              "      box-shadow: 0px 1px 2px rgba(60, 64, 67, 0.3), 0px 1px 3px 1px rgba(60, 64, 67, 0.15);\n",
              "      fill: #174EA6;\n",
              "    }\n",
              "\n",
              "    [theme=dark] .colab-df-convert {\n",
              "      background-color: #3B4455;\n",
              "      fill: #D2E3FC;\n",
              "    }\n",
              "\n",
              "    [theme=dark] .colab-df-convert:hover {\n",
              "      background-color: #434B5C;\n",
              "      box-shadow: 0px 1px 3px 1px rgba(0, 0, 0, 0.15);\n",
              "      filter: drop-shadow(0px 1px 2px rgba(0, 0, 0, 0.3));\n",
              "      fill: #FFFFFF;\n",
              "    }\n",
              "  </style>\n",
              "\n",
              "      <script>\n",
              "        const buttonEl =\n",
              "          document.querySelector('#df-562e3a88-ea5d-43f9-810d-6a5f39b34490 button.colab-df-convert');\n",
              "        buttonEl.style.display =\n",
              "          google.colab.kernel.accessAllowed ? 'block' : 'none';\n",
              "\n",
              "        async function convertToInteractive(key) {\n",
              "          const element = document.querySelector('#df-562e3a88-ea5d-43f9-810d-6a5f39b34490');\n",
              "          const dataTable =\n",
              "            await google.colab.kernel.invokeFunction('convertToInteractive',\n",
              "                                                     [key], {});\n",
              "          if (!dataTable) return;\n",
              "\n",
              "          const docLinkHtml = 'Like what you see? Visit the ' +\n",
              "            '<a target=\"_blank\" href=https://colab.research.google.com/notebooks/data_table.ipynb>data table notebook</a>'\n",
              "            + ' to learn more about interactive tables.';\n",
              "          element.innerHTML = '';\n",
              "          dataTable['output_type'] = 'display_data';\n",
              "          await google.colab.output.renderOutput(dataTable, element);\n",
              "          const docLink = document.createElement('div');\n",
              "          docLink.innerHTML = docLinkHtml;\n",
              "          element.appendChild(docLink);\n",
              "        }\n",
              "      </script>\n",
              "    </div>\n",
              "  </div>\n",
              "  "
            ]
          },
          "metadata": {},
          "execution_count": 34
        }
      ],
      "source": [
        "ticker_df_final"
      ]
    },
    {
      "cell_type": "code",
      "execution_count": 35,
      "metadata": {
        "id": "G1SvUa78zRWm"
      },
      "outputs": [],
      "source": [
        "def generate_inputs_list(df, timesteps, values_to_predict=1):\n",
        "  '''\n",
        "  This function gets a df (best if this DF is already normalized) and generates an array with a length of the values to predict + total timesteps.\n",
        "  Each row of that array will have a length like the total features.\n",
        "  '''\n",
        "  inputs = df[len(df) - values_to_predict - timesteps:]\n",
        "  return inputs"
      ]
    },
    {
      "cell_type": "code",
      "execution_count": 36,
      "metadata": {
        "id": "_im5mYlmUOrY"
      },
      "outputs": [],
      "source": [
        "input_scaler = MinMaxScaler(feature_range = (0, 1))\n",
        "df_normalizated = make_normalization(ticker_df_final, input_scaler)\n",
        "inputs = generate_inputs_list(df_normalizated, 60, len(test_df))"
      ]
    },
    {
      "cell_type": "markdown",
      "metadata": {
        "id": "9k--MkT9YTNl"
      },
      "source": [
        "Para realizar ahora las predicciones necesitamos crear una lista / array de listas, donde cada una de esa lista contendrá los 60 previos stock prices de las acciones del JPMorgan y demás variables necesarias para estimar el precio en el momento T+1. Así nuestra lista de testeo contendrá 500 listas (porque son 50 valores lo que vamos a intentar estimar) cada una con 60 elementos de 7 elementos cada uno :)."
      ]
    },
    {
      "cell_type": "code",
      "execution_count": 37,
      "metadata": {
        "id": "YU3BobpRiSOe"
      },
      "outputs": [],
      "source": [
        "def generate_list_to_predict(inputs, timesteps=60):\n",
        "  '''\n",
        "  - Inputs es una lista de lista. Cada lista contiene un renglón del df_final_normalizado.\n",
        "  - X_test es una lista de listas. Cada lista tendrá 60 renglones (el número de timesteps) donde cada uno de esos renglones representa un renglón del df normalizado\n",
        "  '''\n",
        "  X_test = []\n",
        "  total_inputs = len(inputs)\n",
        "  for i in range(timesteps, total_inputs): \n",
        "      X_test.append(inputs[i-timesteps:i, :])\n",
        "  X_test = np.array(X_test) # Debemos obtener un nparray\n",
        "  return np.reshape(X_test, (X_test.shape[0], X_test.shape[1], X_test.shape[2]))"
      ]
    },
    {
      "cell_type": "code",
      "execution_count": 38,
      "metadata": {
        "id": "8Vc4gxVGfeXS"
      },
      "outputs": [],
      "source": [
        "X_test = generate_list_to_predict(inputs)"
      ]
    },
    {
      "cell_type": "code",
      "execution_count": null,
      "metadata": {
        "id": "C4X9CqhE2tA7"
      },
      "outputs": [],
      "source": [
        "X_test"
      ]
    },
    {
      "cell_type": "code",
      "execution_count": 40,
      "metadata": {
        "colab": {
          "base_uri": "https://localhost:8080/"
        },
        "id": "0ygAkhjde9HB",
        "outputId": "49fbb34e-d911-491e-e856-7bd6567ef0f0"
      },
      "outputs": [
        {
          "output_type": "stream",
          "name": "stdout",
          "text": [
            "Reshaping test matrix.\n",
            "The first value is the number of values to predict, the second value is the timesteps and the third value is the indicators.\n",
            "   X_test.shape[0] = 500 \n",
            "   X_test.shape[1] = 60\n",
            "   X_test.shape[2] = 7\n"
          ]
        }
      ],
      "source": [
        "reshapingMsg = \"Reshaping test matrix.\\nThe first value is the number of values to predict, the second value is the timesteps and the third value is the indicators.\\n   X_test.shape[0] = {shape_cero} \\n   X_test.shape[1] = {shape_one}\\n   X_test.shape[2] = {shape_two}\".format(shape_cero=X_test.shape[0], shape_one = X_test.shape[1], shape_two=X_test.shape[2])\n",
        "print(f\"{reshapingMsg}\")"
      ]
    },
    {
      "cell_type": "markdown",
      "metadata": {
        "id": "w9Ul8-e6iTKt"
      },
      "source": [
        "Finalmente podremos realizar nuestra predicción usando, obviamente, el predictor previamente inicializado. Además necesitaremos hace una transformación inversa ya que los datos estaban normalizados."
      ]
    },
    {
      "cell_type": "code",
      "execution_count": 41,
      "metadata": {
        "id": "oG4Rcpju9JXE"
      },
      "outputs": [],
      "source": [
        "def make_desnormalization(df_to_desnormalize, parameter_df_desnormalize , scaler):\n",
        "  df_to_desnormalize = np.concatenate((df_to_desnormalize, np.zeros((df_to_desnormalize.shape[0], parameter_df_desnormalize.shape[1]-1))), axis=1)\n",
        "  df_to_desnormalize = scaler.inverse_transform(df_to_desnormalize)\n",
        "  return df_to_desnormalize[:,0]"
      ]
    },
    {
      "cell_type": "code",
      "execution_count": 42,
      "metadata": {
        "id": "myBeI3ia7wlR"
      },
      "outputs": [],
      "source": [
        "def make_predictions(list_to_predict, reference_df, predictor, ticker_name, scaler):\n",
        "  '''\n",
        "  Dado que el predictor trabaja con los valores del dataset de entrenamiento, la desnormalización la tengo que hacer tomando como referencia los precios de dicho dataframe\n",
        "  '''\n",
        "  predicted_stock_prices_normalizated = predictor.predict(list_to_predict)\n",
        "  predicted_stock_prices = make_desnormalization(predicted_stock_prices_normalizated, reference_df, scaler)\n",
        "  return np.array(predicted_stock_prices).flatten(), np.array(predicted_stock_prices_normalizated).flatten()"
      ]
    },
    {
      "cell_type": "code",
      "execution_count": 43,
      "metadata": {
        "id": "xdXehTYTaCot",
        "colab": {
          "base_uri": "https://localhost:8080/"
        },
        "outputId": "32721281-39ea-42b7-fac4-7775e753444c"
      },
      "outputs": [
        {
          "output_type": "stream",
          "name": "stdout",
          "text": [
            "16/16 [==============================] - 1s 7ms/step\n"
          ]
        }
      ],
      "source": [
        "predicted_stock_prices, predicted_stock_prices_normalizated = make_predictions(X_test, ticker_df_final, regressor, ticker_name, input_scaler)"
      ]
    },
    {
      "cell_type": "code",
      "execution_count": 44,
      "metadata": {
        "id": "NYKN742b-Os2"
      },
      "outputs": [],
      "source": [
        "def get_real_prices(test_df, ticker_name, scaler):\n",
        "  normalizated_df = scaler.transform(test_df)\n",
        "  df = test_df.loc[:, ['Close_Price_%s' % ticker_name]]\n",
        "  return np.array(df).flatten(), normalizated_df[:,0]"
      ]
    },
    {
      "cell_type": "code",
      "execution_count": 45,
      "metadata": {
        "id": "FeLM1p9GakSj"
      },
      "outputs": [],
      "source": [
        "real_stock_prices, real_stock_prices_normalizated = get_real_prices(test_df, \"JPM\", input_scaler)"
      ]
    },
    {
      "cell_type": "code",
      "execution_count": 46,
      "metadata": {
        "id": "sBbFJJwZ-v5E"
      },
      "outputs": [],
      "source": [
        "def get_df_predicted_vs_real(list_of_real_prices, list_of_predicted_prices, normalizated=False):\n",
        "  if normalizated:\n",
        "    return pd.DataFrame({'Real price normalizated': list_of_real_prices, 'Predicted Price normalizated': list_of_predicted_prices})\n",
        "  else:\n",
        "    return pd.DataFrame({'Real price': list_of_real_prices, 'Predicted Price': list_of_predicted_prices})"
      ]
    },
    {
      "cell_type": "code",
      "execution_count": 47,
      "metadata": {
        "id": "P6rhrJGbahMt"
      },
      "outputs": [],
      "source": [
        "predicted_vs_real = get_df_predicted_vs_real(real_stock_prices, predicted_stock_prices)"
      ]
    },
    {
      "cell_type": "code",
      "execution_count": 48,
      "metadata": {
        "id": "Czz3tF9NcCpX",
        "colab": {
          "base_uri": "https://localhost:8080/",
          "height": 424
        },
        "outputId": "22838016-da3f-4bca-980d-39b71dd551f0"
      },
      "outputs": [
        {
          "output_type": "execute_result",
          "data": {
            "text/plain": [
              "     Real price  Predicted Price\n",
              "0    108.339996       109.037624\n",
              "1    108.500000       108.851373\n",
              "2    109.050003       108.902723\n",
              "3    110.250000       109.300510\n",
              "4    110.839996       110.104711\n",
              "..          ...              ...\n",
              "495  137.580002       137.146615\n",
              "496  139.039993       137.539286\n",
              "497  139.139999       138.279532\n",
              "498  138.630005       138.819074\n",
              "499  139.399994       138.785471\n",
              "\n",
              "[500 rows x 2 columns]"
            ],
            "text/html": [
              "\n",
              "  <div id=\"df-32be6ff2-ad76-47be-bbc0-b73af1248072\">\n",
              "    <div class=\"colab-df-container\">\n",
              "      <div>\n",
              "<style scoped>\n",
              "    .dataframe tbody tr th:only-of-type {\n",
              "        vertical-align: middle;\n",
              "    }\n",
              "\n",
              "    .dataframe tbody tr th {\n",
              "        vertical-align: top;\n",
              "    }\n",
              "\n",
              "    .dataframe thead th {\n",
              "        text-align: right;\n",
              "    }\n",
              "</style>\n",
              "<table border=\"1\" class=\"dataframe\">\n",
              "  <thead>\n",
              "    <tr style=\"text-align: right;\">\n",
              "      <th></th>\n",
              "      <th>Real price</th>\n",
              "      <th>Predicted Price</th>\n",
              "    </tr>\n",
              "  </thead>\n",
              "  <tbody>\n",
              "    <tr>\n",
              "      <th>0</th>\n",
              "      <td>108.339996</td>\n",
              "      <td>109.037624</td>\n",
              "    </tr>\n",
              "    <tr>\n",
              "      <th>1</th>\n",
              "      <td>108.500000</td>\n",
              "      <td>108.851373</td>\n",
              "    </tr>\n",
              "    <tr>\n",
              "      <th>2</th>\n",
              "      <td>109.050003</td>\n",
              "      <td>108.902723</td>\n",
              "    </tr>\n",
              "    <tr>\n",
              "      <th>3</th>\n",
              "      <td>110.250000</td>\n",
              "      <td>109.300510</td>\n",
              "    </tr>\n",
              "    <tr>\n",
              "      <th>4</th>\n",
              "      <td>110.839996</td>\n",
              "      <td>110.104711</td>\n",
              "    </tr>\n",
              "    <tr>\n",
              "      <th>...</th>\n",
              "      <td>...</td>\n",
              "      <td>...</td>\n",
              "    </tr>\n",
              "    <tr>\n",
              "      <th>495</th>\n",
              "      <td>137.580002</td>\n",
              "      <td>137.146615</td>\n",
              "    </tr>\n",
              "    <tr>\n",
              "      <th>496</th>\n",
              "      <td>139.039993</td>\n",
              "      <td>137.539286</td>\n",
              "    </tr>\n",
              "    <tr>\n",
              "      <th>497</th>\n",
              "      <td>139.139999</td>\n",
              "      <td>138.279532</td>\n",
              "    </tr>\n",
              "    <tr>\n",
              "      <th>498</th>\n",
              "      <td>138.630005</td>\n",
              "      <td>138.819074</td>\n",
              "    </tr>\n",
              "    <tr>\n",
              "      <th>499</th>\n",
              "      <td>139.399994</td>\n",
              "      <td>138.785471</td>\n",
              "    </tr>\n",
              "  </tbody>\n",
              "</table>\n",
              "<p>500 rows × 2 columns</p>\n",
              "</div>\n",
              "      <button class=\"colab-df-convert\" onclick=\"convertToInteractive('df-32be6ff2-ad76-47be-bbc0-b73af1248072')\"\n",
              "              title=\"Convert this dataframe to an interactive table.\"\n",
              "              style=\"display:none;\">\n",
              "        \n",
              "  <svg xmlns=\"http://www.w3.org/2000/svg\" height=\"24px\"viewBox=\"0 0 24 24\"\n",
              "       width=\"24px\">\n",
              "    <path d=\"M0 0h24v24H0V0z\" fill=\"none\"/>\n",
              "    <path d=\"M18.56 5.44l.94 2.06.94-2.06 2.06-.94-2.06-.94-.94-2.06-.94 2.06-2.06.94zm-11 1L8.5 8.5l.94-2.06 2.06-.94-2.06-.94L8.5 2.5l-.94 2.06-2.06.94zm10 10l.94 2.06.94-2.06 2.06-.94-2.06-.94-.94-2.06-.94 2.06-2.06.94z\"/><path d=\"M17.41 7.96l-1.37-1.37c-.4-.4-.92-.59-1.43-.59-.52 0-1.04.2-1.43.59L10.3 9.45l-7.72 7.72c-.78.78-.78 2.05 0 2.83L4 21.41c.39.39.9.59 1.41.59.51 0 1.02-.2 1.41-.59l7.78-7.78 2.81-2.81c.8-.78.8-2.07 0-2.86zM5.41 20L4 18.59l7.72-7.72 1.47 1.35L5.41 20z\"/>\n",
              "  </svg>\n",
              "      </button>\n",
              "      \n",
              "  <style>\n",
              "    .colab-df-container {\n",
              "      display:flex;\n",
              "      flex-wrap:wrap;\n",
              "      gap: 12px;\n",
              "    }\n",
              "\n",
              "    .colab-df-convert {\n",
              "      background-color: #E8F0FE;\n",
              "      border: none;\n",
              "      border-radius: 50%;\n",
              "      cursor: pointer;\n",
              "      display: none;\n",
              "      fill: #1967D2;\n",
              "      height: 32px;\n",
              "      padding: 0 0 0 0;\n",
              "      width: 32px;\n",
              "    }\n",
              "\n",
              "    .colab-df-convert:hover {\n",
              "      background-color: #E2EBFA;\n",
              "      box-shadow: 0px 1px 2px rgba(60, 64, 67, 0.3), 0px 1px 3px 1px rgba(60, 64, 67, 0.15);\n",
              "      fill: #174EA6;\n",
              "    }\n",
              "\n",
              "    [theme=dark] .colab-df-convert {\n",
              "      background-color: #3B4455;\n",
              "      fill: #D2E3FC;\n",
              "    }\n",
              "\n",
              "    [theme=dark] .colab-df-convert:hover {\n",
              "      background-color: #434B5C;\n",
              "      box-shadow: 0px 1px 3px 1px rgba(0, 0, 0, 0.15);\n",
              "      filter: drop-shadow(0px 1px 2px rgba(0, 0, 0, 0.3));\n",
              "      fill: #FFFFFF;\n",
              "    }\n",
              "  </style>\n",
              "\n",
              "      <script>\n",
              "        const buttonEl =\n",
              "          document.querySelector('#df-32be6ff2-ad76-47be-bbc0-b73af1248072 button.colab-df-convert');\n",
              "        buttonEl.style.display =\n",
              "          google.colab.kernel.accessAllowed ? 'block' : 'none';\n",
              "\n",
              "        async function convertToInteractive(key) {\n",
              "          const element = document.querySelector('#df-32be6ff2-ad76-47be-bbc0-b73af1248072');\n",
              "          const dataTable =\n",
              "            await google.colab.kernel.invokeFunction('convertToInteractive',\n",
              "                                                     [key], {});\n",
              "          if (!dataTable) return;\n",
              "\n",
              "          const docLinkHtml = 'Like what you see? Visit the ' +\n",
              "            '<a target=\"_blank\" href=https://colab.research.google.com/notebooks/data_table.ipynb>data table notebook</a>'\n",
              "            + ' to learn more about interactive tables.';\n",
              "          element.innerHTML = '';\n",
              "          dataTable['output_type'] = 'display_data';\n",
              "          await google.colab.output.renderOutput(dataTable, element);\n",
              "          const docLink = document.createElement('div');\n",
              "          docLink.innerHTML = docLinkHtml;\n",
              "          element.appendChild(docLink);\n",
              "        }\n",
              "      </script>\n",
              "    </div>\n",
              "  </div>\n",
              "  "
            ]
          },
          "metadata": {},
          "execution_count": 48
        }
      ],
      "source": [
        "predicted_vs_real"
      ]
    },
    {
      "cell_type": "code",
      "execution_count": 49,
      "metadata": {
        "id": "DLhO9pIg1kt8"
      },
      "outputs": [],
      "source": [
        "predicted_vs_real_normalizated = get_df_predicted_vs_real(real_stock_prices_normalizated, predicted_stock_prices_normalizated, True)"
      ]
    },
    {
      "cell_type": "markdown",
      "metadata": {
        "id": "7c7HBL75jl7Z"
      },
      "source": [
        "## Part 7 - Visualising results"
      ]
    },
    {
      "cell_type": "code",
      "execution_count": 50,
      "metadata": {
        "colab": {
          "base_uri": "https://localhost:8080/",
          "height": 472
        },
        "id": "2Wt8rbG_joYm",
        "outputId": "29069d8d-e6ab-4465-d73b-4192cd53c357"
      },
      "outputs": [
        {
          "output_type": "display_data",
          "data": {
            "text/plain": [
              "<Figure size 640x480 with 1 Axes>"
            ],
            "image/png": "[encoded data removed]"
          },
          "metadata": {}
        }
      ],
      "source": [
        "plt.plot(predicted_vs_real['Real price'], color = 'red', label = 'Real Stock Price')\n",
        "plt.plot(predicted_vs_real['Predicted Price'], color = 'blue', label = 'Predicted Stock Price')\n",
        "plt.title('Stock Price Prediction')\n",
        "plt.xlabel('Time')\n",
        "plt.ylabel('Stock Price')\n",
        "plt.legend()\n",
        "plt.show()"
      ]
    },
    {
      "cell_type": "code",
      "execution_count": 51,
      "metadata": {
        "colab": {
          "base_uri": "https://localhost:8080/",
          "height": 472
        },
        "id": "ErjgkH6C1xb5",
        "outputId": "456c753e-1ed4-428b-9c52-2eb1683366bf"
      },
      "outputs": [
        {
          "output_type": "display_data",
          "data": {
            "text/plain": [
              "<Figure size 640x480 with 1 Axes>"
            ],
            "image/png": "[encoded data removed]"
          },
          "metadata": {}
        }
      ],
      "source": [
        "plt.plot(predicted_vs_real_normalizated['Real price normalizated'], color = 'red', label = 'Real Stock Price Normalizated')\n",
        "plt.plot(predicted_vs_real_normalizated['Predicted Price normalizated'], color = 'blue', label = 'Predicted Stock Price Normalizated')\n",
        "plt.title('Stock Normalizated Prices Prediction')\n",
        "plt.xlabel('Time')\n",
        "plt.ylabel('Stock Price')\n",
        "plt.legend()\n",
        "plt.show()"
      ]
    },
    {
      "cell_type": "code",
      "source": [
        "y_real = predicted_vs_real['Real price']\n",
        "y_pred = predicted_vs_real['Predicted Price']"
      ],
      "metadata": {
        "id": "X0qsOJ5F191s"
      },
      "execution_count": 52,
      "outputs": []
    },
    {
      "cell_type": "code",
      "source": [
        "fig, ax = plt.subplots(figsize=(8, 6))\n",
        "ax.scatter(y_real, y_pred, color='b', alpha=0.7)\n",
        "\n",
        "# Personalizar el gráfico\n",
        "ax.set_xlabel('Real Price')\n",
        "ax.set_ylabel('Predicted Price')\n",
        "ax.set_title('Scatter Plot: Real vs. Predicted Price')\n",
        "ax.grid(True)\n",
        "\n",
        "# Añadir una línea de tendencia\n",
        "fit = np.polyfit(y_real, y_pred, deg=1)\n",
        "ax.plot(y_real, fit[0] * y_real + fit[1], color='r', linewidth=2)\n",
        "\n",
        "plt.show()"
      ],
      "metadata": {
        "colab": {
          "base_uri": "https://localhost:8080/",
          "height": 564
        },
        "id": "EUKZSNNN0Ryf",
        "outputId": "40fb9fe8-82e8-4b8e-f26b-1ca10699e27e"
      },
      "execution_count": 53,
      "outputs": [
        {
          "output_type": "display_data",
          "data": {
            "text/plain": [
              "<Figure size 800x600 with 1 Axes>"
            ],
            "image/png": "[encoded data removed]"
          },
          "metadata": {}
        }
      ]
    },
    {
      "cell_type": "markdown",
      "source": [
        "Gráfico de Líneas (Line Plot):\n",
        "\n",
        "*   El eje x representa el tiempo, mientras que el eje y muestra los valores de los precios.\n",
        "*   La línea negra representa los valores reales de los precios a lo largo del tiempo.\n",
        "*   La línea roja representa los valores predichos de los precios a lo largo del tiempo. \n",
        "*   Si los puntos de la línea roja siguen de cerca los puntos de la línea negra, indica que las predicciones están en línea con los valores reales.\n",
        "*   Si hay una discrepancia significativa entre las dos líneas, puede indicar que las predicciones no son precisas o que hay una diferencia entre los datos reales y los datos predichos.\n",
        "\n",
        "\n",
        "\n"
      ],
      "metadata": {
        "id": "3ZkCWwEBqQ_m"
      }
    },
    {
      "cell_type": "code",
      "source": [
        "# Crear gráfico de líneas\n",
        "fig, ax = plt.subplots(figsize=(8, 6))\n",
        "ax.plot(y_real, color='black', label='Real Price')\n",
        "ax.plot(y_pred, color='red', label='Predicted Price')\n",
        "\n",
        "# Personalizar el gráfico\n",
        "ax.set_xlabel('Time')\n",
        "ax.set_ylabel('Price')\n",
        "ax.set_title('Real vs. Predicted Price')\n",
        "ax.grid(True)\n",
        "ax.legend()\n",
        "\n",
        "plt.show()"
      ],
      "metadata": {
        "colab": {
          "base_uri": "https://localhost:8080/",
          "height": 564
        },
        "id": "d8MqZ4_317l9",
        "outputId": "6b0b80a4-8f80-4e76-af5b-73260735f15b"
      },
      "execution_count": 54,
      "outputs": [
        {
          "output_type": "display_data",
          "data": {
            "text/plain": [
              "<Figure size 800x600 with 1 Axes>"
            ],
            "image/png": "[encoded data removed]"
          },
          "metadata": {}
        }
      ]
    },
    {
      "cell_type": "code",
      "source": [
        "# Calcular los errores\n",
        "errors = y_real - y_pred\n",
        "\n",
        "# Crear gráfico de errores\n",
        "fig, ax = plt.subplots(figsize=(8, 6))\n",
        "ax.plot(errors, color='g')\n",
        "\n",
        "# Personalizar el gráfico\n",
        "ax.set_xlabel('Time')\n",
        "ax.set_ylabel('Error')\n",
        "ax.set_title('Prediction Errors')\n",
        "ax.grid(True)\n",
        "\n",
        "plt.show()"
      ],
      "metadata": {
        "colab": {
          "base_uri": "https://localhost:8080/",
          "height": 564
        },
        "id": "mkIEESG22TPy",
        "outputId": "1a7bda18-f219-4aea-8ded-7b3d325a106c"
      },
      "execution_count": 55,
      "outputs": [
        {
          "output_type": "display_data",
          "data": {
            "text/plain": [
              "<Figure size 800x600 with 1 Axes>"
            ],
            "image/png": "[encoded data removed]"
          },
          "metadata": {}
        }
      ]
    },
    {
      "cell_type": "markdown",
      "metadata": {
        "id": "e93RYHBvf1Hc"
      },
      "source": [
        "## Part 8 - Evaluating network performance"
      ]
    },
    {
      "cell_type": "markdown",
      "metadata": {
        "id": "ey1JTZUth9q4"
      },
      "source": [
        "Primero vamos a obtener como arrays separados, la lista de precios reales y la de precios predichos. "
      ]
    },
    {
      "cell_type": "code",
      "execution_count": null,
      "metadata": {
        "id": "k-X3XmIAfxyi"
      },
      "outputs": [],
      "source": [
        "predicted_vs_real"
      ]
    },
    {
      "cell_type": "code",
      "execution_count": 57,
      "metadata": {
        "id": "JhoTuEClgaRB"
      },
      "outputs": [],
      "source": [
        "y_real = predicted_vs_real['Real price']\n",
        "y_pred = predicted_vs_real['Predicted Price']"
      ]
    },
    {
      "cell_type": "markdown",
      "metadata": {
        "id": "sk5jh3Z9fk_B"
      },
      "source": [
        "### 8.1) Calculating coefficient of determination (R^2)"
      ]
    },
    {
      "cell_type": "markdown",
      "metadata": {
        "id": "LzMrm0TSlyE1"
      },
      "source": [
        "El coeficiente de determinación o R^2 es un indicador que varía entre 0 y 1, donde cuanto más tienda a 1 el valor, mejor será la cappacidad de predicción del modelo."
      ]
    },
    {
      "cell_type": "code",
      "execution_count": 58,
      "metadata": {
        "colab": {
          "base_uri": "https://localhost:8080/"
        },
        "id": "-A8Qw5FGgdwV",
        "outputId": "fc1f17dd-cc48-4eb9-9d02-3c30d3ce88bf"
      },
      "outputs": [
        {
          "output_type": "stream",
          "name": "stdout",
          "text": [
            "Coeficiente de determinación (R^2): 0.9585538144876384\n"
          ]
        }
      ],
      "source": [
        "r2 = r2_score(y_real, y_pred)\n",
        "print(\"Coeficiente de determinación (R^2):\", r2)"
      ]
    },
    {
      "cell_type": "markdown",
      "metadata": {
        "id": "sb3l-qVOmCa0"
      },
      "source": [
        "### 8.2) Calculating mean-squared-error (MSE)"
      ]
    },
    {
      "cell_type": "markdown",
      "metadata": {
        "id": "iOVy-pDSmHFv"
      },
      "source": [
        "El error cuadrático medio o MSE, mide el promedio de los errores al cuadrador entre las predicciones y los valores reales. Mientras más bajo el valor, mayor es la precisión del modelo"
      ]
    },
    {
      "cell_type": "code",
      "execution_count": 59,
      "metadata": {
        "colab": {
          "base_uri": "https://localhost:8080/"
        },
        "id": "Ci_r5VI8mbPD",
        "outputId": "204a8e60-a248-4a66-f92b-432617830dac"
      },
      "outputs": [
        {
          "output_type": "stream",
          "name": "stdout",
          "text": [
            "Error cuadrático medio (MSE): 2.838214384820802\n"
          ]
        }
      ],
      "source": [
        "mse = mean_squared_error(y_real, y_pred)\n",
        "print(\"Error cuadrático medio (MSE):\", mse)"
      ]
    },
    {
      "cell_type": "markdown",
      "source": [
        "## Bonus Track: Evaluar cada arquitectura de red con los valores óptimos de los hiperparámetros"
      ],
      "metadata": {
        "id": "vZyekmW0Yf_d"
      }
    },
    {
      "cell_type": "markdown",
      "source": [
        "1. Defino la arquitectura de la red"
      ],
      "metadata": {
        "id": "GEdm01LZcYx8"
      }
    },
    {
      "cell_type": "code",
      "source": [
        "regressor = Sequential()\n",
        "\n",
        "def init_network(regressor, lr, neurons):\n",
        "  regressor.add(LSTM(units = neurons, return_sequences = False, input_shape = (X_train.shape[1], X_train.shape[2])))\n",
        "  regressor.add(Dropout(0.2))\n",
        "  regressor.add(Dense(units = 1))\n",
        "  regressor.compile(optimizer = Adam(learning_rate=lr), loss = 'mean_squared_error')\n",
        "  return regressor"
      ],
      "metadata": {
        "id": "aJuvA6wVYs8V"
      },
      "execution_count": 57,
      "outputs": []
    },
    {
      "cell_type": "markdown",
      "source": [
        "2. Defino los métodos que se aplicarán en cada época de entrenamiento de la red"
      ],
      "metadata": {
        "id": "0WLCJoFPc0bT"
      }
    },
    {
      "cell_type": "code",
      "source": [
        "import numpy as np\n",
        "import matplotlib.pyplot as plt\n",
        "from keras.callbacks import Callback\n",
        "import time\n",
        "\n",
        "class EpochTimer(Callback):\n",
        "    def on_train_begin(self, logs=None):\n",
        "        self.epoch_times = []\n",
        "\n",
        "    def on_epoch_begin(self, epoch, logs=None):\n",
        "        self.epoch_start_time = time.time()\n",
        "\n",
        "    def on_epoch_end(self, epoch, logs=None):\n",
        "        epoch_time = time.time() - self.epoch_start_time\n",
        "        self.epoch_times.append(epoch_time)\n",
        "        print(\"\\nTiempo de ejecución de la época\", epoch+1, \": \", round(epoch_time, 4), \" segundos\")\n"
      ],
      "metadata": {
        "id": "cg-bvkNZc69U"
      },
      "execution_count": 56,
      "outputs": []
    },
    {
      "cell_type": "markdown",
      "source": [
        "3. Defino el iterador para correr la red N veces y computar los valores medios de cada indicador"
      ],
      "metadata": {
        "id": "cixYyTYfeqSH"
      }
    },
    {
      "cell_type": "code",
      "source": [
        "def start(lr, neurons, epochs, batch):\n",
        "  mse_values = []\n",
        "  r_values = []\n",
        "  performance_times = []\n",
        "  times = 10\n",
        "  regressor = Sequential()\n",
        "  regressor = init_network(regressor, lr, neurons)\n",
        "  for i in range(0,times): \n",
        "    print(\"\\nEmpezando la corrida numero: \", i, \", para la red de \", neurons, \" neuronas\")\n",
        "    # training \n",
        "    epoch_timer = EpochTimer()\n",
        "    history = regressor.fit(X_train, y_train, epochs=epochs, batch_size=batch, callbacks=[epoch_timer])\n",
        "\n",
        "    # predictions\n",
        "    predicted_stock_prices, predicted_stock_prices_normalizated = make_predictions(X_test, ticker_df_final, regressor, ticker_name, input_scaler)\n",
        "    real_stock_prices, real_stock_prices_normalizated = get_real_prices(test_df, ticker_name, input_scaler)\n",
        "    predicted_vs_real = get_df_predicted_vs_real(real_stock_prices, predicted_stock_prices)\n",
        "\n",
        "    # compute performance ratios\n",
        "    # computing performance \n",
        "    epoch_times = epoch_timer.epoch_times\n",
        "    mean_time = np.mean(epoch_times)\n",
        "    total_time = mean_time*num_epochs \n",
        "    performance_times.append(round(total_time, 3))\n",
        "\n",
        "    # network performance\n",
        "    y_real = predicted_vs_real['Real price']\n",
        "    y_pred = predicted_vs_real['Predicted Price']\n",
        "    mse = mean_squared_error(y_real, y_pred)\n",
        "    r2 = r2_score(y_real, y_pred)\n",
        "    mse_values.append(round(mse, 3))\n",
        "    r_values.append(round(r2, 3))\n",
        "\n",
        "  return mse_values, performance_times, r_values"
      ],
      "metadata": {
        "id": "yKK_T4H-e32U"
      },
      "execution_count": 67,
      "outputs": []
    },
    {
      "cell_type": "code",
      "source": [
        "from typing import NamedTuple\n",
        "from typing import List\n",
        "\n",
        "# Definir NamedTuple para representar la configuración\n",
        "class Config(NamedTuple):\n",
        "    hidden_units: int\n",
        "    lr: float\n",
        "    batch_size: int\n",
        "    num_epochs: int\n",
        "    MSE_values: List[float]\n",
        "    r2_values: List[float]\n",
        "    performance_time: List[float]\n",
        "\n",
        "num_epochs = 50\n",
        "rnn = Config(hidden_units=100, lr=0.001, batch_size=16, num_epochs=num_epochs, MSE_values=[], r2_values = [], performance_time=[])\n",
        "\n",
        "mse_values, times, r2_val = start(rnn.lr, rnn.hidden_units, rnn.num_epochs, rnn.batch_size)\n",
        "rnn = rnn._replace(MSE_values=mse_values, r2_values=r2_val, performance_time=times)"
      ],
      "metadata": {
        "id": "60SLSPaAnno5"
      },
      "execution_count": null,
      "outputs": []
    },
    {
      "cell_type": "code",
      "source": [
        "rnn"
      ],
      "metadata": {
        "colab": {
          "base_uri": "https://localhost:8080/"
        },
        "id": "-d1E2_TnrgIG",
        "outputId": "370a6d45-3d50-4b0a-ff48-5fef53d14fc9"
      },
      "execution_count": 81,
      "outputs": [
        {
          "output_type": "execute_result",
          "data": {
            "text/plain": [
              "Config(hidden_units=100, lr=0.001, batch_size=16, num_epochs=50, MSE_values=[2.915, 2.573, 2.28, 3.548, 2.574, 2.298, 7.942, 2.268, 2.204, 3.185], r2_values=[0.957, 0.962, 0.967, 0.948, 0.962, 0.966, 0.884, 0.967, 0.968, 0.953], performance_time=[260.379, 251.183, 252.146, 261.46, 263.478, 267.584, 272.196, 281.179, 282.427, 290.28])"
            ]
          },
          "metadata": {},
          "execution_count": 81
        }
      ]
    },
    {
      "cell_type": "code",
      "source": [
        "class RateSummary(NamedTuple):\n",
        "    min_value: float\n",
        "    max_value: float\n",
        "    average: float\n",
        "    median: float\n",
        "    std: float \n",
        "\n",
        "mse = rnn.MSE_values\n",
        "mse_summary = RateSummary(min_value=round(np.min(mse),3), max_value=round(np.max(mse),3), average=round(np.mean(mse),3), median=round(np.median(mse),3), std=round(np.std(mse),3))\n",
        "\n",
        "r2 = rnn.r2_values\n",
        "r2_summary = RateSummary(min_value=round(np.min(r2),3), max_value=round(np.max(r2),3), average=round(np.mean(r2),3), median=round(np.median(r2),3), std=round(np.std(r2),3))\n",
        "\n",
        "times = rnn.performance_time\n",
        "ptime_summary = RateSummary(min_value=round(np.min(times),3), max_value=round(np.max(times),3), average=round(np.mean(times),3), median=round(np.median(times),3), std=round(np.std(times),3))"
      ],
      "metadata": {
        "id": "NIHz6kAS7DqU"
      },
      "execution_count": 82,
      "outputs": []
    },
    {
      "cell_type": "code",
      "source": [
        "print(\"Summaries: \")\n",
        "print(\"- Performance Time summary: \", ptime_summary)\n",
        "print(\"- Mean Square Error summary: \", mse_summary)\n",
        "print(\"- R2: \", r2_summary)"
      ],
      "metadata": {
        "colab": {
          "base_uri": "https://localhost:8080/"
        },
        "id": "z9C6AzyxB7JM",
        "outputId": "43e57d1c-56ce-42ed-9ed7-f9078806f381"
      },
      "execution_count": 83,
      "outputs": [
        {
          "output_type": "stream",
          "name": "stdout",
          "text": [
            "Summaries: \n",
            "- Performance Time summary:  RateSummary(min_value=251.183, max_value=290.28, average=268.231, median=265.531, std=12.454)\n",
            "- Mean Square Error summary:  RateSummary(min_value=2.204, max_value=7.942, average=3.179, median=2.574, std=1.643)\n",
            "- R2:  RateSummary(min_value=0.884, max_value=0.968, average=0.953, median=0.962, std=0.024)\n"
          ]
        }
      ]
    }
  ],
  "metadata": {
    "colab": {
      "collapsed_sections": [
        "JB3hoRZYMyie",
        "SeFhg0EZ63_7",
        "S73dzH23Mjhi",
        "kqo1ZaA2_O7E",
        "ceD1qPQ5BvB-",
        "SNaosWtcB0_A",
        "udGKD7AwF4qz",
        "V6FFj5K-H0eU",
        "fy1rbjxzJAO2",
        "htMv506HJS0G",
        "ZgvOOtDeNeYD",
        "LW8ez5spfOeh",
        "TSWMvs8_h6fT",
        "jPU_ozxmRHjI",
        "5XUel90aRMa7",
        "7c7HBL75jl7Z"
      ],
      "provenance": [],
      "authorship_tag": "ABX9TyPqrwKfo7UDIgAhjwlb48Vu",
      "include_colab_link": true
    },
    "kernelspec": {
      "display_name": "Python 3",
      "name": "python3"
    },
    "language_info": {
      "name": "python"
    }
  },
  "nbformat": 4,
  "nbformat_minor": 0
}