{
  "nbformat": 4,
  "nbformat_minor": 0,
  "metadata": {
    "colab": {
      "provenance": [],
      "collapsed_sections": [
        "4JjN4JI0cNT3",
        "L7c2tRCDgpr8",
        "qLqHH6e9jtaF",
        "JBM7Xq3UiA3a",
        "kqo1ZaA2_O7E",
        "GMnbciKeP7VM",
        "gdMUf8MfR5-D",
        "7c7HBL75jl7Z",
        "e93RYHBvf1Hc",
        "vZyekmW0Yf_d"
      ],
      "authorship_tag": "ABX9TyN2NWNhy+sb0g0aH7MBiJg8",
      "include_colab_link": true
    },
    "kernelspec": {
      "name": "python3",
      "display_name": "Python 3"
    },
    "language_info": {
      "name": "python"
    }
  },
  "cells": [
    {
      "cell_type": "markdown",
      "metadata": {
        "id": "view-in-github",
        "colab_type": "text"
      },
      "source": [
        "<a href=\"https://colab.research.google.com/github/simonians/tesis-economia-fce-unc/blob/main/trabajo_final_econom%C3%ADa.ipynb\" target=\"_parent\"><img src=\"https://colab.research.google.com/assets/colab-badge.svg\" alt=\"Open In Colab\"/></a>"
      ]
    },
    {
      "cell_type": "markdown",
      "source": [
        "# Trabajo Final de la Lic. En Economía - En código 💻\n",
        "\n",
        "El modelado del trabajo está dividido en 7 secciones: \n",
        "\n",
        "\n",
        "*   En la **sección 1** se hace la preparación de los datos, se cargan los tickers a usar a lo largo del trabajo, se calculan indicadores y demás variables predictoras. El DoD de esta sección es dejar un DF final para en la sección posterior dividir el mismo en el conjunto de entrenamiento y de testeo\n",
        "*   En la **sección 2** se realiza el procesamiento del dataset. Se divida el mismo en el conjunto de entrenamiento y de testeo (por defecto se utilizan el 80% de las observaciones para entrenar la red LSTM). Se define la mejor forma de normalizar los datos y se genera la matríz de predictoras y el vector de variables predichas.\n",
        "*   En la **sección 3** se construye la single layer LSTM. \n",
        "*   En la **sección 4** se entena la red compilada en un paso previo. Además se define una clase para computar el tiempo de ejecución en cada época (parámetro usado como referencia del costo computacional de la red previamente definida). \n",
        "*   En la **sección 5** se realizan las predicciones con la red entrenada previamente. Estas predicciones se realizan sobre el dataset de testeo generado en la etapa 2.\n",
        "*   En la **sección 6** se visualizan los resultados de las predicciones realizadas en la sección previa. Para esto se generan 3 tipos de gráficos: Scatter-plot, Line-plot y un Error-Plot.\n",
        "*   En la **sección 7** se calculan los indicadores de Performance de la red. Para computar el costo computacional se calcula la media y mediana de cada epoch y el tiempo total de entrenamiento de la red. Para medir el rendimiento predictivo de la red se calculan el MSE (Mean-Square-Error) y el r2 (coeficiente de determinación).\n",
        "*   Finalmente  la última sección del trabajo, el **Bonus Track**, es usada para evaluar cada una de las arquitecturas de red LSTM definidas (con 25, 50, 75 y 100 neuronas en la capa oculta) con su configuración óptima de hiperparámetros previamente calculado. \n"
      ],
      "metadata": {
        "id": "7bS9DwCObKif"
      }
    },
    {
      "cell_type": "markdown",
      "source": [
        "# Parte 1: Preparación de los datos"
      ],
      "metadata": {
        "id": "4JjN4JI0cNT3"
      }
    },
    {
      "cell_type": "code",
      "source": [
        "import pandas as pd\n",
        "import numpy as np\n",
        "import matplotlib.pyplot as plt\n",
        "import yfinance as yf\n",
        "import random"
      ],
      "metadata": {
        "id": "yDIwhcBDe_mr"
      },
      "execution_count": 2,
      "outputs": []
    },
    {
      "cell_type": "markdown",
      "source": [
        "Primero definimos los tickers a usar a lo largo del proyecto y la fecha que nos interesará entrenar a la red."
      ],
      "metadata": {
        "id": "zpsI2HyRcqiw"
      }
    },
    {
      "cell_type": "code",
      "execution_count": 3,
      "metadata": {
        "id": "vgfLXSB9MGjK"
      },
      "outputs": [],
      "source": [
        "DEFAULT_TICKERS = ['JPM'] \n",
        "START, END = \"2010-01-01\", \"2020-01-01\"  "
      ]
    },
    {
      "cell_type": "markdown",
      "source": [
        "Luego definimos las funciones que utilizaremos para cargar los datos usando la biblioteca yfinance de python."
      ],
      "metadata": {
        "id": "QUWFU_T4edi2"
      }
    },
    {
      "cell_type": "code",
      "source": [
        "# Use load_ticker to load the ticker information sent as parameter and the industry information price.\n",
        "def load_ticker(ticker, industry='SPY', use_industry=False, start=START, end=END):\n",
        "    \"\"\"\n",
        "    Use load_ticker to load the ticker information sent as parameter and the industry information price.\n",
        "    \"\"\"\n",
        "    ticker_data = yf.download(ticker, start=start, end=end)\n",
        "    if use_industry:\n",
        "      ticker_data = ticker_data[['Close', 'Volume', 'High', 'Low']].rename(columns={'Close': 'Close_Price_%s' % (ticker), 'Volume': 'Volume', 'High': 'High_Price', 'Low': 'Low_Price'}) \n",
        "      industry_data = yf.download(industry, start=START, end=END)[['Close']].rename(columns={'Close': 'Close_Price_%s'% (industry)})\n",
        "      ticker_data = pd.merge(ticker_data, industry_data, how='left', on='Date')\n",
        "    else:\n",
        "      ticker_data = ticker_data[['Close', 'Volume', 'High', 'Low']].rename(columns={'Close': 'Close_Price_%s' % (ticker), 'Volume': 'Volume', 'High': 'High_Price', 'Low': 'Low_Price'}) \n",
        "    return ticker_data\n",
        "  \n",
        "def calculate_sma(days, df, ticker):\n",
        "    \"\"\"\n",
        "    To apply simple moving average (SMA) over a specific ticker and number of periods sent as parameters\n",
        "    \"\"\"\n",
        "    sma_df = df['Close_Price_%s' % (ticker)].rolling(window=days).mean().to_frame()\n",
        "    return sma_df.rename(columns={'Close_Price_%s' % (ticker):'%s_sma' % (ticker)})\n",
        "\n",
        "def calculate_rsi(df, ticker):\n",
        "    \"\"\"\n",
        "    To apply relative strength index (RSI) over a specific ticker sent as parameter\n",
        "    \"\"\"\n",
        "    delta = df['Close_Price_%s' % (ticker)].diff()\n",
        "    positive = delta.clip(lower=0)\n",
        "    negative = -delta.clip(upper=0)\n",
        "    ema_positive = positive.ewm(alpha=1/14, min_periods=14).mean()\n",
        "    ema_negative = negative.ewm(alpha=1/14, min_periods=14).mean()\n",
        "    rsi = 100 - 100 / (1 + ema_positive / ema_negative)\n",
        "    rsi = rsi.to_frame()\n",
        "    return rsi.rename(columns={'Close_Price_%s' % (ticker):'%s_rsi' % (ticker)})\n",
        "\n",
        "def get_random_ticker(tickers):\n",
        "    return random.choice(tickers)\n",
        "\n",
        "def merge_dfs(dfs_list):\n",
        "  merged_df = reduce(lambda left, right: pd.merge(left, right, on='Date'), dfs_list)\n",
        "  return merged_df.dropna()"
      ],
      "metadata": {
        "id": "empFQnlBc-s8"
      },
      "execution_count": 5,
      "outputs": []
    },
    {
      "cell_type": "code",
      "source": [
        "ticker_name = get_random_ticker(DEFAULT_TICKERS)\n",
        "ticker = load_ticker(ticker_name, use_industry=True)\n",
        "rsi = calculate_rsi(ticker, ticker_name)\n",
        "sma = calculate_sma(20, ticker, ticker_name)\n",
        "\n",
        "ticker_df_final = merge_dfs([ticker, rsi, sma])"
      ],
      "metadata": {
        "id": "J11-t7dVexnC"
      },
      "execution_count": null,
      "outputs": []
    },
    {
      "cell_type": "code",
      "source": [
        "ticker_df_final"
      ],
      "metadata": {
        "colab": {
          "base_uri": "https://localhost:8080/",
          "height": 455
        },
        "id": "8hsUm1OnfnKf",
        "outputId": "403cb032-7596-4707-823c-463ca10f1c78"
      },
      "execution_count": 14,
      "outputs": [
        {
          "output_type": "execute_result",
          "data": {
            "text/plain": [
              "            Close_Price_JPM    Volume  High_Price   Low_Price  \\\n",
              "Date                                                            \n",
              "2010-02-01        39.630001  37408200   39.930000   38.950001   \n",
              "2010-02-02        40.549999  45968500   40.680000   39.700001   \n",
              "2010-02-03        40.290001  37373300   41.099998   40.169998   \n",
              "2010-02-04        38.349998  57211800   39.919998   38.349998   \n",
              "2010-02-05        38.299999  75224100   38.880001   37.029999   \n",
              "...                     ...       ...         ...         ...   \n",
              "2019-12-24       137.580002   3324300  137.630005  137.059998   \n",
              "2019-12-26       139.039993   6770900  139.100006  137.779999   \n",
              "2019-12-27       139.139999   7868200  139.770004  138.669998   \n",
              "2019-12-30       138.630005   6963000  140.080002  138.470001   \n",
              "2019-12-31       139.399994   7201600  139.479996  138.289993   \n",
              "\n",
              "            Close_Price_SPY    JPM_rsi     JPM_sma  \n",
              "Date                                                \n",
              "2010-02-01       109.059998  35.773063   42.098500  \n",
              "2010-02-02       110.379997  43.244476   41.983500  \n",
              "2010-02-03       109.830002  41.765795   41.814000  \n",
              "2010-02-04       106.440002  32.763543   41.535500  \n",
              "2010-02-05       106.660004  32.568703   41.211000  \n",
              "...                     ...        ...         ...  \n",
              "2019-12-24       321.230011  68.430560  134.901498  \n",
              "2019-12-26       322.940002  72.464635  135.269998  \n",
              "2019-12-27       322.859985  72.721765  135.623998  \n",
              "2019-12-30       321.079987  69.174194  135.967499  \n",
              "2019-12-31       321.859985  71.439545  136.363998  \n",
              "\n",
              "[2497 rows x 7 columns]"
            ],
            "text/html": [
              "\n",
              "  <div id=\"df-834bedba-49f0-4bd4-b442-d3af86554a8a\">\n",
              "    <div class=\"colab-df-container\">\n",
              "      <div>\n",
              "<style scoped>\n",
              "    .dataframe tbody tr th:only-of-type {\n",
              "        vertical-align: middle;\n",
              "    }\n",
              "\n",
              "    .dataframe tbody tr th {\n",
              "        vertical-align: top;\n",
              "    }\n",
              "\n",
              "    .dataframe thead th {\n",
              "        text-align: right;\n",
              "    }\n",
              "</style>\n",
              "<table border=\"1\" class=\"dataframe\">\n",
              "  <thead>\n",
              "    <tr style=\"text-align: right;\">\n",
              "      <th></th>\n",
              "      <th>Close_Price_JPM</th>\n",
              "      <th>Volume</th>\n",
              "      <th>High_Price</th>\n",
              "      <th>Low_Price</th>\n",
              "      <th>Close_Price_SPY</th>\n",
              "      <th>JPM_rsi</th>\n",
              "      <th>JPM_sma</th>\n",
              "    </tr>\n",
              "    <tr>\n",
              "      <th>Date</th>\n",
              "      <th></th>\n",
              "      <th></th>\n",
              "      <th></th>\n",
              "      <th></th>\n",
              "      <th></th>\n",
              "      <th></th>\n",
              "      <th></th>\n",
              "    </tr>\n",
              "  </thead>\n",
              "  <tbody>\n",
              "    <tr>\n",
              "      <th>2010-02-01</th>\n",
              "      <td>39.630001</td>\n",
              "      <td>37408200</td>\n",
              "      <td>39.930000</td>\n",
              "      <td>38.950001</td>\n",
              "      <td>109.059998</td>\n",
              "      <td>35.773063</td>\n",
              "      <td>42.098500</td>\n",
              "    </tr>\n",
              "    <tr>\n",
              "      <th>2010-02-02</th>\n",
              "      <td>40.549999</td>\n",
              "      <td>45968500</td>\n",
              "      <td>40.680000</td>\n",
              "      <td>39.700001</td>\n",
              "      <td>110.379997</td>\n",
              "      <td>43.244476</td>\n",
              "      <td>41.983500</td>\n",
              "    </tr>\n",
              "    <tr>\n",
              "      <th>2010-02-03</th>\n",
              "      <td>40.290001</td>\n",
              "      <td>37373300</td>\n",
              "      <td>41.099998</td>\n",
              "      <td>40.169998</td>\n",
              "      <td>109.830002</td>\n",
              "      <td>41.765795</td>\n",
              "      <td>41.814000</td>\n",
              "    </tr>\n",
              "    <tr>\n",
              "      <th>2010-02-04</th>\n",
              "      <td>38.349998</td>\n",
              "      <td>57211800</td>\n",
              "      <td>39.919998</td>\n",
              "      <td>38.349998</td>\n",
              "      <td>106.440002</td>\n",
              "      <td>32.763543</td>\n",
              "      <td>41.535500</td>\n",
              "    </tr>\n",
              "    <tr>\n",
              "      <th>2010-02-05</th>\n",
              "      <td>38.299999</td>\n",
              "      <td>75224100</td>\n",
              "      <td>38.880001</td>\n",
              "      <td>37.029999</td>\n",
              "      <td>106.660004</td>\n",
              "      <td>32.568703</td>\n",
              "      <td>41.211000</td>\n",
              "    </tr>\n",
              "    <tr>\n",
              "      <th>...</th>\n",
              "      <td>...</td>\n",
              "      <td>...</td>\n",
              "      <td>...</td>\n",
              "      <td>...</td>\n",
              "      <td>...</td>\n",
              "      <td>...</td>\n",
              "      <td>...</td>\n",
              "    </tr>\n",
              "    <tr>\n",
              "      <th>2019-12-24</th>\n",
              "      <td>137.580002</td>\n",
              "      <td>3324300</td>\n",
              "      <td>137.630005</td>\n",
              "      <td>137.059998</td>\n",
              "      <td>321.230011</td>\n",
              "      <td>68.430560</td>\n",
              "      <td>134.901498</td>\n",
              "    </tr>\n",
              "    <tr>\n",
              "      <th>2019-12-26</th>\n",
              "      <td>139.039993</td>\n",
              "      <td>6770900</td>\n",
              "      <td>139.100006</td>\n",
              "      <td>137.779999</td>\n",
              "      <td>322.940002</td>\n",
              "      <td>72.464635</td>\n",
              "      <td>135.269998</td>\n",
              "    </tr>\n",
              "    <tr>\n",
              "      <th>2019-12-27</th>\n",
              "      <td>139.139999</td>\n",
              "      <td>7868200</td>\n",
              "      <td>139.770004</td>\n",
              "      <td>138.669998</td>\n",
              "      <td>322.859985</td>\n",
              "      <td>72.721765</td>\n",
              "      <td>135.623998</td>\n",
              "    </tr>\n",
              "    <tr>\n",
              "      <th>2019-12-30</th>\n",
              "      <td>138.630005</td>\n",
              "      <td>6963000</td>\n",
              "      <td>140.080002</td>\n",
              "      <td>138.470001</td>\n",
              "      <td>321.079987</td>\n",
              "      <td>69.174194</td>\n",
              "      <td>135.967499</td>\n",
              "    </tr>\n",
              "    <tr>\n",
              "      <th>2019-12-31</th>\n",
              "      <td>139.399994</td>\n",
              "      <td>7201600</td>\n",
              "      <td>139.479996</td>\n",
              "      <td>138.289993</td>\n",
              "      <td>321.859985</td>\n",
              "      <td>71.439545</td>\n",
              "      <td>136.363998</td>\n",
              "    </tr>\n",
              "  </tbody>\n",
              "</table>\n",
              "<p>2497 rows × 7 columns</p>\n",
              "</div>\n",
              "      <button class=\"colab-df-convert\" onclick=\"convertToInteractive('df-834bedba-49f0-4bd4-b442-d3af86554a8a')\"\n",
              "              title=\"Convert this dataframe to an interactive table.\"\n",
              "              style=\"display:none;\">\n",
              "        \n",
              "  <svg xmlns=\"http://www.w3.org/2000/svg\" height=\"24px\"viewBox=\"0 0 24 24\"\n",
              "       width=\"24px\">\n",
              "    <path d=\"M0 0h24v24H0V0z\" fill=\"none\"/>\n",
              "    <path d=\"M18.56 5.44l.94 2.06.94-2.06 2.06-.94-2.06-.94-.94-2.06-.94 2.06-2.06.94zm-11 1L8.5 8.5l.94-2.06 2.06-.94-2.06-.94L8.5 2.5l-.94 2.06-2.06.94zm10 10l.94 2.06.94-2.06 2.06-.94-2.06-.94-.94-2.06-.94 2.06-2.06.94z\"/><path d=\"M17.41 7.96l-1.37-1.37c-.4-.4-.92-.59-1.43-.59-.52 0-1.04.2-1.43.59L10.3 9.45l-7.72 7.72c-.78.78-.78 2.05 0 2.83L4 21.41c.39.39.9.59 1.41.59.51 0 1.02-.2 1.41-.59l7.78-7.78 2.81-2.81c.8-.78.8-2.07 0-2.86zM5.41 20L4 18.59l7.72-7.72 1.47 1.35L5.41 20z\"/>\n",
              "  </svg>\n",
              "      </button>\n",
              "      \n",
              "  <style>\n",
              "    .colab-df-container {\n",
              "      display:flex;\n",
              "      flex-wrap:wrap;\n",
              "      gap: 12px;\n",
              "    }\n",
              "\n",
              "    .colab-df-convert {\n",
              "      background-color: #E8F0FE;\n",
              "      border: none;\n",
              "      border-radius: 50%;\n",
              "      cursor: pointer;\n",
              "      display: none;\n",
              "      fill: #1967D2;\n",
              "      height: 32px;\n",
              "      padding: 0 0 0 0;\n",
              "      width: 32px;\n",
              "    }\n",
              "\n",
              "    .colab-df-convert:hover {\n",
              "      background-color: #E2EBFA;\n",
              "      box-shadow: 0px 1px 2px rgba(60, 64, 67, 0.3), 0px 1px 3px 1px rgba(60, 64, 67, 0.15);\n",
              "      fill: #174EA6;\n",
              "    }\n",
              "\n",
              "    [theme=dark] .colab-df-convert {\n",
              "      background-color: #3B4455;\n",
              "      fill: #D2E3FC;\n",
              "    }\n",
              "\n",
              "    [theme=dark] .colab-df-convert:hover {\n",
              "      background-color: #434B5C;\n",
              "      box-shadow: 0px 1px 3px 1px rgba(0, 0, 0, 0.15);\n",
              "      filter: drop-shadow(0px 1px 2px rgba(0, 0, 0, 0.3));\n",
              "      fill: #FFFFFF;\n",
              "    }\n",
              "  </style>\n",
              "\n",
              "      <script>\n",
              "        const buttonEl =\n",
              "          document.querySelector('#df-834bedba-49f0-4bd4-b442-d3af86554a8a button.colab-df-convert');\n",
              "        buttonEl.style.display =\n",
              "          google.colab.kernel.accessAllowed ? 'block' : 'none';\n",
              "\n",
              "        async function convertToInteractive(key) {\n",
              "          const element = document.querySelector('#df-834bedba-49f0-4bd4-b442-d3af86554a8a');\n",
              "          const dataTable =\n",
              "            await google.colab.kernel.invokeFunction('convertToInteractive',\n",
              "                                                     [key], {});\n",
              "          if (!dataTable) return;\n",
              "\n",
              "          const docLinkHtml = 'Like what you see? Visit the ' +\n",
              "            '<a target=\"_blank\" href=https://colab.research.google.com/notebooks/data_table.ipynb>data table notebook</a>'\n",
              "            + ' to learn more about interactive tables.';\n",
              "          element.innerHTML = '';\n",
              "          dataTable['output_type'] = 'display_data';\n",
              "          await google.colab.output.renderOutput(dataTable, element);\n",
              "          const docLink = document.createElement('div');\n",
              "          docLink.innerHTML = docLinkHtml;\n",
              "          element.appendChild(docLink);\n",
              "        }\n",
              "      </script>\n",
              "    </div>\n",
              "  </div>\n",
              "  "
            ]
          },
          "metadata": {},
          "execution_count": 14
        }
      ]
    },
    {
      "cell_type": "markdown",
      "source": [
        "# Parte 2: Procesamiento de los datos"
      ],
      "metadata": {
        "id": "L7c2tRCDgpr8"
      }
    },
    {
      "cell_type": "code",
      "source": [
        "import pandas as pd\n",
        "import numpy as np\n",
        "from functools import reduce\n",
        "from sklearn.preprocessing import MinMaxScaler\n",
        "from sklearn.metrics import r2_score, mean_squared_error"
      ],
      "metadata": {
        "id": "Wtpw_TRTmrwP"
      },
      "execution_count": 25,
      "outputs": []
    },
    {
      "cell_type": "markdown",
      "source": [
        "## Splitting"
      ],
      "metadata": {
        "id": "qLqHH6e9jtaF"
      }
    },
    {
      "cell_type": "markdown",
      "source": [
        "Primer punto es la separación del total de datos en un conjunto de entrenamiento y uno para testeo / pruebas. Para esto definimos una función que recibe como parámetro el dataframe a separar y un valor (entre 0-1) que representa el porcentaje del df que queremos utilizar para entrenamiento."
      ],
      "metadata": {
        "id": "G-aq4wyHgzi_"
      }
    },
    {
      "cell_type": "code",
      "source": [
        "def train_test_split(df, percentage_for_training=0.8):\n",
        "  '''\n",
        "  This function returns two data-frames: One df to train the network and the other to evaluate the performance of that network \n",
        "  '''\n",
        "  index_percentage = int(len(df) * percentage_for_training)\n",
        "  train_df = df[:index_percentage]\n",
        "  test_df = df[index_percentage:]\n",
        "  return train_df, test_df\n",
        "\n",
        "train_df, test_df = train_test_split(ticker_df_final)"
      ],
      "metadata": {
        "id": "YctZSEwlgw2c"
      },
      "execution_count": 15,
      "outputs": []
    },
    {
      "cell_type": "markdown",
      "source": [
        "## Feature scaling"
      ],
      "metadata": {
        "id": "JBM7Xq3UiA3a"
      }
    },
    {
      "cell_type": "markdown",
      "source": [
        "Normalización del df de entrenamiento. Creamos una función que retornará, para cada fila del df pasado por parámetro, el valor del df normalizado, es decir:\n",
        "\n",
        "- Para cada columna de la fila del df, restarle el mínimo y devidirlo por la \n",
        "diferencia entre el maximo y el mínimo del conjunto (de la columna bajo análisis). Para esto, creamos una función que la denominamos normalization(), que recibe por parámetro un dataframe a normalizar. Utiliza como método de normalización el MinMaxScaler de la librería sklearn."
      ],
      "metadata": {
        "id": "AQRaBppRjP96"
      }
    },
    {
      "cell_type": "code",
      "source": [
        "def make_normalization(df_to_normalize, scaler):\n",
        "  return scaler.fit_transform(df_to_normalize)\n",
        "  \n",
        "scaler = MinMaxScaler(feature_range = (0,1))\n",
        "training_set_scaled = make_normalization(train_df, scaler)"
      ],
      "metadata": {
        "id": "Dn6qk3EQg_C0"
      },
      "execution_count": 18,
      "outputs": []
    },
    {
      "cell_type": "markdown",
      "source": [
        "## Creating feature-matriz and target-vector"
      ],
      "metadata": {
        "id": "oRVvo_Vdjq4A"
      }
    },
    {
      "cell_type": "markdown",
      "source": [
        "- X_train => es un vector de tantos elementos como el conjunto de entrenamiento, donde cada elemento representa 60 jornadas previas operadas que se utilizarán como input para el calculo del output del precio de la jornada estimada. Entre los inputs se encuentra el precio de cierre, volumen operado, precio máximo de la jornada, precio mínimo de la jornada, precio de cierre del SPY, el valor del RSI y SMA.\n",
        "- y_train => array donde cada elemento representa el valor del precio de la acción en la jornada estimada, es decir el precio de cierre del día siguiente para cada fila del conjunto de entrenamiento"
      ],
      "metadata": {
        "id": "Kx2E5Q4HkVMa"
      }
    },
    {
      "cell_type": "code",
      "source": [
        "def feature_matrix_target_vector_split(training_set):\n",
        "    X_train = []\n",
        "    y_train = []\n",
        "    timesteps = 60\n",
        "    total_times = len(training_set)\n",
        "    for step in range(timesteps, total_times):\n",
        "        X_train.append(training_set[step-timesteps:step, :]) # appendo los 60 valores de las variables independientes previas al precio que estoy estimando\n",
        "        y_train.append(training_set[step, 0]) # appendo el precio de la estimación\n",
        "    X_train, y_train = np.array(X_train), np.array(y_train)\n",
        "    return X_train, y_train\n",
        "  \n",
        "X_train, y_train = feature_matrix_target_vector_split(training_set_scaled)"
      ],
      "metadata": {
        "id": "E6aZXNhKjZfw"
      },
      "execution_count": 20,
      "outputs": []
    },
    {
      "cell_type": "markdown",
      "source": [
        "## Reshaping"
      ],
      "metadata": {
        "id": "CxTE2-QVkhSs"
      }
    },
    {
      "cell_type": "markdown",
      "source": [
        "El objetivo de esta sección es transformar los valores de entrada y salida (matríz de características y el vector de etiquetas) en un formato adecuado para poder ser procesdos por la red. Así en nuestro caso tendremos lo siguiente:\n",
        "\n",
        "La matriz de características (jpm_X_train) debe tener tres dimensiones: número de observaciones, timestep y número de variables de entrada. En este caso, tenemos X_train con forma (número de observaciones, 60, 7) que representa la información de las 60 jornadas previas con 7 variables de entrada para cada observación.\n",
        "La matriz de etiquetas (jpm_y_train) debe tener dos dimensiones: número de observaciones y número de variables de salida. En este caso, tenemos y_train con forma (número de observaciones, 1) que representa el valor del precio de cierre para cada observación."
      ],
      "metadata": {
        "id": "AvShlLdEkj4K"
      }
    },
    {
      "cell_type": "code",
      "source": [
        "X_train = np.reshape(X_train, (X_train.shape[0], X_train.shape[1], X_train.shape[2]))\n",
        "reshapingMsg = \"Reshaping feature matrix.\\nThe first value is the batch size, the second the timesteps and the third the indicators.\\n   X_train.shape[0] = {shape_cero} \\n   X_train.shape[1] = {shape_one}\\n   X_train.shape[2] = {shape_two}\".format(shape_cero=X_train.shape[0], shape_one = X_train.shape[1], shape_two=X_train.shape[2])\n",
        "print(f\"{reshapingMsg}\")\n",
        "\n",
        "y_train = np.reshape(y_train, (y_train.shape[0], 1))\n",
        "reshapingMsg = \"\\nReshaping target vector.\\nThe first value is the batch size and the second the number of outputs.\\n   y_train.shape[0] = {shape_cero} \\n   y_train.shape[1] = {shape_one}\".format(shape_cero=y_train.shape[0], shape_one = y_train.shape[1])\n",
        "print(f\"{reshapingMsg}\")"
      ],
      "metadata": {
        "colab": {
          "base_uri": "https://localhost:8080/"
        },
        "id": "N7JRhpoPkmhE",
        "outputId": "2829f834-2384-4e5f-899c-4579bd9cd0bc"
      },
      "execution_count": 23,
      "outputs": [
        {
          "output_type": "stream",
          "name": "stdout",
          "text": [
            "Reshaping feature matrix.\n",
            "The first value is the batch size, the second the timesteps and the third the indicators.\n",
            "   X_train.shape[0] = 1937 \n",
            "   X_train.shape[1] = 60\n",
            "   X_train.shape[2] = 7\n",
            "\n",
            "Reshaping target vector.\n",
            "The first value is the batch size and the second the number of outputs.\n",
            "   y_train.shape[0] = 1937 \n",
            "   y_train.shape[1] = 1\n"
          ]
        }
      ]
    },
    {
      "cell_type": "markdown",
      "metadata": {
        "id": "kqo1ZaA2_O7E"
      },
      "source": [
        "# Parte 3: Construyendo la red LSTM"
      ]
    },
    {
      "cell_type": "markdown",
      "metadata": {
        "id": "bOz-BWFN_VdU"
      },
      "source": [
        "Para la construcción de la arquitectura de nuestra RNN importaremos: \n",
        "\n",
        "\n",
        "*   Sequential => Nos permitirá crear un objeto de red neuronal que simule una secuencia de capas (hidden layers)\n",
        "*   Dense => Es la clase que permite confeccionar la capa de salida (output layer). Es una fully connected layer y nos permite ajustar la salida de la red al tamaño deseado.\n",
        "*   LSTM => Para añadir las capas LSTM. \n",
        "*   Dropout => Regularización de droput, usado para evitar el overfitting. "
      ]
    },
    {
      "cell_type": "code",
      "execution_count": 67,
      "metadata": {
        "id": "xPxmiBaEA7V2"
      },
      "outputs": [],
      "source": [
        "from keras.models import Sequential\n",
        "from keras.layers import Dense\n",
        "from keras.layers import LSTM\n",
        "from keras.layers import Dropout\n",
        "from keras.optimizers import Adam,RMSprop,SGD"
      ]
    },
    {
      "cell_type": "markdown",
      "metadata": {
        "id": "SNaosWtcB0_A"
      },
      "source": [
        "### Initialising the RNN"
      ]
    },
    {
      "cell_type": "markdown",
      "metadata": {
        "id": "IWw_OX_8B_dD"
      },
      "source": [
        "El regressor es un objeto de una capa Secuencial. A diferencia de las ANN o CNN, en RNN a este objeto lo llamamos Regressor y no Clasificator porque lo que buscamos es predecir un valor continuo (en nuestro caso el precio de una acción) y no una clasificación de objetos."
      ]
    },
    {
      "cell_type": "code",
      "execution_count": 28,
      "metadata": {
        "id": "gWS7WiTgCAL_"
      },
      "outputs": [],
      "source": [
        "regressor = Sequential()"
      ]
    },
    {
      "cell_type": "markdown",
      "metadata": {
        "id": "udGKD7AwF4qz"
      },
      "source": [
        "### Making and compiling the RNN"
      ]
    },
    {
      "cell_type": "markdown",
      "metadata": {
        "id": "yl34mzNnGFbQ"
      },
      "source": [
        "En el paso siguiente definiremos la función init_network() que será la encargada de confeccionar la arquitectura de la single layer LSTM junto a la capa de salida y compilar la red. \n",
        "La capa LSTM tiene los siguientes argumentos:\n",
        "\n",
        "*   El primer argumento es el número de unidades de memoria (más conocidas como neuronas) que tendrá la primera capa. Probaremos 4 arquitecturas de red diferentes hasta elegir la más performante: \n",
        "\n",
        "> - Single-layer LSTM con 25 neuronas\n",
        "> - Single-layer LSTM con 50 neuronas\n",
        "> - Single-layer LSTM con 75 neuronas\n",
        "> - Single-layer LSTM con 100 neuronas\n",
        "\n",
        "*   El segundo es un booleano (return_sequences) que básicamente indica si habrá una nueva capa LSTM próxima, por ende lo colocaremos en FALSE (dado que nuestro trabajo evaluaremos únicamente una single-layer LSTM)\n",
        "*   El tercer parámetro es el input_shape que básciamente es la forma de entrada que contendrá el número de observaciones, steptimes y las características. \n",
        "Luego de agregado de la capa LSTM hay que agregar la regularización de abandono (dropout) que cuenta únicamente con un argumento que es la tasa de dropout y que indica el número de neuronas que se están dispuestas a eliminar para hacer esa regularización (se recominda usar una tasa del 20%) lo que implicará que el 20% de las neuronas se dejarán de lado para el forwardpropagation y el backpropagation. \n",
        "\n",
        "Para la confección de la **capa de salida** usamos la clase Dense de Keras. El argumento que hay que pasar es el número de unidades (units) que básicamente son la cantidad de neuronas. Dado que lo que estamos intentando predecir es un precio, es decir un valor continuo y único, el número de neuronas será igual a la unidad.\n",
        "\n",
        "En la **compilación** necesitamos elegir el optimizador, el learning_rate y la función de pérdida utilizada para calcular el error. Utilizaremos ADAM como optimizador (es bastante potente y seguro) y para la función de pérdida usaremos mean-square-error (dado que estamos ante un problema de regresión). En nuestro caso el learning rate será uno de los hiperparámetros que variaremos de valor hasta elegir el que mejor performance genera. \n",
        "\n"
      ]
    },
    {
      "cell_type": "code",
      "execution_count": 31,
      "metadata": {
        "id": "krnwiELlGGrL"
      },
      "outputs": [],
      "source": [
        "def init_network(regressor, lr, neurons):\n",
        "  '''\n",
        "  This function returns a compiled single-layer LSTM\n",
        "  '''\n",
        "  regressor.add(LSTM(units = neurons, return_sequences = False, input_shape = (X_train.shape[1], X_train.shape[2])))\n",
        "  regressor.add(Dropout(0.2))\n",
        "  regressor.add(Dense(units = 1))\n",
        "  regressor.compile(optimizer = Adam(learning_rate=lr), loss = 'mean_squared_error')\n",
        "  return regressor\n",
        "\n",
        "regressor = init_network(regressor, 0.001, 25)"
      ]
    },
    {
      "cell_type": "markdown",
      "source": [
        "# Parte 4: Entrenando la red LSTM"
      ],
      "metadata": {
        "id": "GMnbciKeP7VM"
      }
    },
    {
      "cell_type": "code",
      "source": [
        "import numpy as np\n",
        "import matplotlib.pyplot as plt\n",
        "from keras.callbacks import Callback\n",
        "import time"
      ],
      "metadata": {
        "id": "_a6dhb6sjN0z"
      },
      "execution_count": 80,
      "outputs": []
    },
    {
      "cell_type": "markdown",
      "source": [
        "Para entrenar la red neuronal necesitamos pasar 4 atributos:\n",
        "\n",
        "- El primer atributo es el conjunto de entrenamiento (en nuestor caso la lista de precios de apertura normalizada).\n",
        "- El segundo atributo son los outputs para el conjunto de entrenamiento, es decir la lista de precios para cada momento del tiempo T.\n",
        "- El tercer valor es el número de épocas, que representa el número de veces que se presenta todo el conjunto de datos de entrenamiento a la red neuronal durante el entrenamiento. Si el número de épocas es demasiado bajo, la red neuronal puede no haber tenido suficiente tiempo para aprender patrones en los datos. Por otro lado, si el número de épocas es demasiado alto, la red neuronal puede ajustarse demasiado a los datos de entrenamiento y no generalizar bien a los datos nuevos\n",
        "- Por último para entrenar la red necesitamos definir el batch_size o cantidad de lotes, que se refiere a la cantidad de ejemplos de entrenamiento que se propagan a través de la red neuronal antes de actualizar los pesos sinápticos. \n",
        "Setearemos inicialmente los valores del número de épocas y del tamaño de lotes.\n",
        "\n",
        "---\n",
        "\n",
        "Además para medir el costo computacional de la red LSTM mediremos lo que tarda cada época en correr. Oara esto crearemos la  clase **EpochTimer** que es un callback personalizado que registra el tiempo de inicio de cada época en el método **on_epoch_begin** y calcula la duración de la época en el método **on_epoch_end**. Luego, se crea una instancia de EpochTimer llamada epoch_timer y se pasa como un elemento de la lista de callbacks en el método fit() de entrenamiento. Durante el entrenamiento, se imprimirá el tiempo de ejecución de cada época en segundos. Además dicha clase tiene un array de tiempos de ejecución por época, al que denominamos epoch_times, que nos servirá para luego graficar los tiempos y poder calcular la media y mediana de los mismos.\n",
        "\n"
      ],
      "metadata": {
        "id": "ITpm3_SjQF0J"
      }
    },
    {
      "cell_type": "code",
      "source": [
        "class EpochTimer(Callback):\n",
        "    def on_train_begin(self, logs=None):\n",
        "        self.epoch_times = []\n",
        "\n",
        "    def on_epoch_begin(self, epoch, logs=None):\n",
        "        self.epoch_start_time = time.time()\n",
        "\n",
        "    def on_epoch_end(self, epoch, logs=None):\n",
        "        epoch_time = time.time() - self.epoch_start_time\n",
        "        self.epoch_times.append(epoch_time)\n",
        "        print(\"\\nTiempo de ejecución de la época\", epoch+1, \": \", round(epoch_time, 4), \" segundos\")"
      ],
      "metadata": {
        "id": "hTKqnqKmjTHe"
      },
      "execution_count": null,
      "outputs": []
    },
    {
      "cell_type": "code",
      "source": [
        "num_epochs = 50\n",
        "batch_size = 64\n",
        "epoch_timer = EpochTimer()\n",
        "regressor.fit(X_train, y_train, epochs=num_epochs, batch_size=batch_size, callbacks=[epoch_timer])"
      ],
      "metadata": {
        "colab": {
          "base_uri": "https://localhost:8080/"
        },
        "id": "tpIp4kShP_xV",
        "outputId": "e4e92ab9-bdec-4d7c-9aff-763acbd2d41a"
      },
      "execution_count": 91,
      "outputs": [
        {
          "output_type": "stream",
          "name": "stdout",
          "text": [
            "Epoch 1/50\n",
            "31/31 [==============================] - ETA: 0s - loss: 7.4249e-04\n",
            "Tiempo de ejecución de la época 1 :  0.7592  segundos\n",
            "31/31 [==============================] - 1s 24ms/step - loss: 7.4249e-04\n",
            "Epoch 2/50\n",
            "30/31 [============================>.] - ETA: 0s - loss: 7.1207e-04\n",
            "Tiempo de ejecución de la época 2 :  0.7574  segundos\n",
            "31/31 [==============================] - 1s 24ms/step - loss: 7.0787e-04\n",
            "Epoch 3/50\n",
            "29/31 [===========================>..] - ETA: 0s - loss: 7.3734e-04\n",
            "Tiempo de ejecución de la época 3 :  0.7408  segundos\n",
            "31/31 [==============================] - 1s 24ms/step - loss: 7.3949e-04\n",
            "Epoch 4/50\n",
            "29/31 [===========================>..] - ETA: 0s - loss: 6.9336e-04\n",
            "Tiempo de ejecución de la época 4 :  0.775  segundos\n",
            "31/31 [==============================] - 1s 25ms/step - loss: 6.9143e-04\n",
            "Epoch 5/50\n",
            "30/31 [============================>.] - ETA: 0s - loss: 7.6046e-04\n",
            "Tiempo de ejecución de la época 5 :  0.759  segundos\n",
            "31/31 [==============================] - 1s 24ms/step - loss: 7.5941e-04\n",
            "Epoch 6/50\n",
            "31/31 [==============================] - ETA: 0s - loss: 7.3883e-04\n",
            "Tiempo de ejecución de la época 6 :  0.7361  segundos\n",
            "31/31 [==============================] - 1s 24ms/step - loss: 7.3883e-04\n",
            "Epoch 7/50\n",
            "31/31 [==============================] - ETA: 0s - loss: 6.9425e-04\n",
            "Tiempo de ejecución de la época 7 :  0.7469  segundos\n",
            "31/31 [==============================] - 1s 24ms/step - loss: 6.9425e-04\n",
            "Epoch 8/50\n",
            "29/31 [===========================>..] - ETA: 0s - loss: 6.5044e-04\n",
            "Tiempo de ejecución de la época 8 :  0.7317  segundos\n",
            "31/31 [==============================] - 1s 24ms/step - loss: 6.4753e-04\n",
            "Epoch 9/50\n",
            "29/31 [===========================>..] - ETA: 0s - loss: 6.4366e-04\n",
            "Tiempo de ejecución de la época 9 :  0.7375  segundos\n",
            "31/31 [==============================] - 1s 24ms/step - loss: 6.4896e-04\n",
            "Epoch 10/50\n",
            "30/31 [============================>.] - ETA: 0s - loss: 6.2480e-04\n",
            "Tiempo de ejecución de la época 10 :  0.7332  segundos\n",
            "31/31 [==============================] - 1s 24ms/step - loss: 6.2415e-04\n",
            "Epoch 11/50\n",
            "30/31 [============================>.] - ETA: 0s - loss: 7.0575e-04\n",
            "Tiempo de ejecución de la época 11 :  0.7339  segundos\n",
            "31/31 [==============================] - 1s 24ms/step - loss: 7.0341e-04\n",
            "Epoch 12/50\n",
            "29/31 [===========================>..] - ETA: 0s - loss: 6.3839e-04\n",
            "Tiempo de ejecución de la época 12 :  0.7412  segundos\n",
            "31/31 [==============================] - 1s 24ms/step - loss: 6.3862e-04\n",
            "Epoch 13/50\n",
            "29/31 [===========================>..] - ETA: 0s - loss: 6.9703e-04\n",
            "Tiempo de ejecución de la época 13 :  0.7337  segundos\n",
            "31/31 [==============================] - 1s 24ms/step - loss: 6.9523e-04\n",
            "Epoch 14/50\n",
            "30/31 [============================>.] - ETA: 0s - loss: 7.1968e-04\n",
            "Tiempo de ejecución de la época 14 :  1.1446  segundos\n",
            "31/31 [==============================] - 1s 37ms/step - loss: 7.2787e-04\n",
            "Epoch 15/50\n",
            "31/31 [==============================] - ETA: 0s - loss: 6.4022e-04\n",
            "Tiempo de ejecución de la época 15 :  1.2549  segundos\n",
            "31/31 [==============================] - 1s 40ms/step - loss: 6.4022e-04\n",
            "Epoch 16/50\n",
            "30/31 [============================>.] - ETA: 0s - loss: 7.4519e-04\n",
            "Tiempo de ejecución de la época 16 :  1.0096  segundos\n",
            "31/31 [==============================] - 1s 32ms/step - loss: 7.4604e-04\n",
            "Epoch 17/50\n",
            "29/31 [===========================>..] - ETA: 0s - loss: 6.8038e-04\n",
            "Tiempo de ejecución de la época 17 :  0.7398  segundos\n",
            "31/31 [==============================] - 1s 24ms/step - loss: 6.7192e-04\n",
            "Epoch 18/50\n",
            "31/31 [==============================] - ETA: 0s - loss: 6.8352e-04\n",
            "Tiempo de ejecución de la época 18 :  0.7485  segundos\n",
            "31/31 [==============================] - 1s 24ms/step - loss: 6.8352e-04\n",
            "Epoch 19/50\n",
            "30/31 [============================>.] - ETA: 0s - loss: 7.3726e-04\n",
            "Tiempo de ejecución de la época 19 :  0.7296  segundos\n",
            "31/31 [==============================] - 1s 24ms/step - loss: 7.3383e-04\n",
            "Epoch 20/50\n",
            "31/31 [==============================] - ETA: 0s - loss: 6.7978e-04\n",
            "Tiempo de ejecución de la época 20 :  0.7446  segundos\n",
            "31/31 [==============================] - 1s 24ms/step - loss: 6.7978e-04\n",
            "Epoch 21/50\n",
            "30/31 [============================>.] - ETA: 0s - loss: 7.2186e-04\n",
            "Tiempo de ejecución de la época 21 :  0.7361  segundos\n",
            "31/31 [==============================] - 1s 24ms/step - loss: 7.1885e-04\n",
            "Epoch 22/50\n",
            "30/31 [============================>.] - ETA: 0s - loss: 6.3142e-04\n",
            "Tiempo de ejecución de la época 22 :  0.7283  segundos\n",
            "31/31 [==============================] - 1s 23ms/step - loss: 6.3284e-04\n",
            "Epoch 23/50\n",
            "29/31 [===========================>..] - ETA: 0s - loss: 6.9725e-04\n",
            "Tiempo de ejecución de la época 23 :  0.7489  segundos\n",
            "31/31 [==============================] - 1s 24ms/step - loss: 6.9435e-04\n",
            "Epoch 24/50\n",
            "30/31 [============================>.] - ETA: 0s - loss: 7.1676e-04\n",
            "Tiempo de ejecución de la época 24 :  0.7427  segundos\n",
            "31/31 [==============================] - 1s 24ms/step - loss: 7.1514e-04\n",
            "Epoch 25/50\n",
            "29/31 [===========================>..] - ETA: 0s - loss: 6.7523e-04\n",
            "Tiempo de ejecución de la época 25 :  0.7312  segundos\n",
            "31/31 [==============================] - 1s 23ms/step - loss: 6.6661e-04\n",
            "Epoch 26/50\n",
            "31/31 [==============================] - ETA: 0s - loss: 6.9943e-04\n",
            "Tiempo de ejecución de la época 26 :  0.7586  segundos\n",
            "31/31 [==============================] - 1s 24ms/step - loss: 6.9943e-04\n",
            "Epoch 27/50\n",
            "30/31 [============================>.] - ETA: 0s - loss: 6.6661e-04\n",
            "Tiempo de ejecución de la época 27 :  0.7488  segundos\n",
            "31/31 [==============================] - 1s 24ms/step - loss: 6.6623e-04\n",
            "Epoch 28/50\n",
            "31/31 [==============================] - ETA: 0s - loss: 6.6266e-04\n",
            "Tiempo de ejecución de la época 28 :  0.7511  segundos\n",
            "31/31 [==============================] - 1s 24ms/step - loss: 6.6266e-04\n",
            "Epoch 29/50\n",
            "30/31 [============================>.] - ETA: 0s - loss: 6.3016e-04\n",
            "Tiempo de ejecución de la época 29 :  0.7997  segundos\n",
            "31/31 [==============================] - 1s 26ms/step - loss: 6.3078e-04\n",
            "Epoch 30/50\n",
            "30/31 [============================>.] - ETA: 0s - loss: 5.9910e-04\n",
            "Tiempo de ejecución de la época 30 :  1.3101  segundos\n",
            "31/31 [==============================] - 1s 42ms/step - loss: 6.0366e-04\n",
            "Epoch 31/50\n",
            "31/31 [==============================] - ETA: 0s - loss: 7.1575e-04\n",
            "Tiempo de ejecución de la época 31 :  1.2811  segundos\n",
            "31/31 [==============================] - 1s 41ms/step - loss: 7.1575e-04\n",
            "Epoch 32/50\n",
            "31/31 [==============================] - ETA: 0s - loss: 7.1788e-04\n",
            "Tiempo de ejecución de la época 32 :  0.7759  segundos\n",
            "31/31 [==============================] - 1s 24ms/step - loss: 7.1788e-04\n",
            "Epoch 33/50\n",
            "29/31 [===========================>..] - ETA: 0s - loss: 6.5482e-04\n",
            "Tiempo de ejecución de la época 33 :  0.7338  segundos\n",
            "31/31 [==============================] - 1s 24ms/step - loss: 6.6162e-04\n",
            "Epoch 34/50\n",
            "31/31 [==============================] - ETA: 0s - loss: 7.0714e-04\n",
            "Tiempo de ejecución de la época 34 :  0.7515  segundos\n",
            "31/31 [==============================] - 1s 24ms/step - loss: 7.0714e-04\n",
            "Epoch 35/50\n",
            "29/31 [===========================>..] - ETA: 0s - loss: 6.6032e-04\n",
            "Tiempo de ejecución de la época 35 :  0.7483  segundos\n",
            "31/31 [==============================] - 1s 24ms/step - loss: 6.7914e-04\n",
            "Epoch 36/50\n",
            "29/31 [===========================>..] - ETA: 0s - loss: 6.8461e-04\n",
            "Tiempo de ejecución de la época 36 :  0.7358  segundos\n",
            "31/31 [==============================] - 1s 24ms/step - loss: 6.9094e-04\n",
            "Epoch 37/50\n",
            "31/31 [==============================] - ETA: 0s - loss: 7.7115e-04\n",
            "Tiempo de ejecución de la época 37 :  0.752  segundos\n",
            "31/31 [==============================] - 1s 24ms/step - loss: 7.7115e-04\n",
            "Epoch 38/50\n",
            "30/31 [============================>.] - ETA: 0s - loss: 6.8726e-04\n",
            "Tiempo de ejecución de la época 38 :  0.754  segundos\n",
            "31/31 [==============================] - 1s 24ms/step - loss: 6.8682e-04\n",
            "Epoch 39/50\n",
            "31/31 [==============================] - ETA: 0s - loss: 7.2658e-04\n",
            "Tiempo de ejecución de la época 39 :  0.7658  segundos\n",
            "31/31 [==============================] - 1s 25ms/step - loss: 7.2658e-04\n",
            "Epoch 40/50\n",
            "30/31 [============================>.] - ETA: 0s - loss: 6.4762e-04\n",
            "Tiempo de ejecución de la época 40 :  0.7372  segundos\n",
            "31/31 [==============================] - 1s 24ms/step - loss: 6.6632e-04\n",
            "Epoch 41/50\n",
            "30/31 [============================>.] - ETA: 0s - loss: 6.8371e-04\n",
            "Tiempo de ejecución de la época 41 :  0.7792  segundos\n",
            "31/31 [==============================] - 1s 25ms/step - loss: 6.8529e-04\n",
            "Epoch 42/50\n",
            "30/31 [============================>.] - ETA: 0s - loss: 6.7965e-04\n",
            "Tiempo de ejecución de la época 42 :  0.7798  segundos\n",
            "31/31 [==============================] - 1s 25ms/step - loss: 6.8802e-04\n",
            "Epoch 43/50\n",
            "30/31 [============================>.] - ETA: 0s - loss: 6.4967e-04\n",
            "Tiempo de ejecución de la época 43 :  0.7578  segundos\n",
            "31/31 [==============================] - 1s 24ms/step - loss: 6.4578e-04\n",
            "Epoch 44/50\n",
            "29/31 [===========================>..] - ETA: 0s - loss: 6.3764e-04\n",
            "Tiempo de ejecución de la época 44 :  0.7481  segundos\n",
            "31/31 [==============================] - 1s 24ms/step - loss: 6.2693e-04\n",
            "Epoch 45/50\n",
            "30/31 [============================>.] - ETA: 0s - loss: 6.4802e-04\n",
            "Tiempo de ejecución de la época 45 :  1.191  segundos\n",
            "31/31 [==============================] - 1s 39ms/step - loss: 6.4519e-04\n",
            "Epoch 46/50\n",
            "31/31 [==============================] - ETA: 0s - loss: 6.9077e-04\n",
            "Tiempo de ejecución de la época 46 :  1.2584  segundos\n",
            "31/31 [==============================] - 1s 41ms/step - loss: 6.9077e-04\n",
            "Epoch 47/50\n",
            "30/31 [============================>.] - ETA: 0s - loss: 6.5821e-04\n",
            "Tiempo de ejecución de la época 47 :  0.9871  segundos\n",
            "31/31 [==============================] - 1s 32ms/step - loss: 6.5753e-04\n",
            "Epoch 48/50\n",
            "31/31 [==============================] - ETA: 0s - loss: 7.1007e-04\n",
            "Tiempo de ejecución de la época 48 :  0.7454  segundos\n",
            "31/31 [==============================] - 1s 24ms/step - loss: 7.1007e-04\n",
            "Epoch 49/50\n",
            "29/31 [===========================>..] - ETA: 0s - loss: 5.9118e-04\n",
            "Tiempo de ejecución de la época 49 :  0.7444  segundos\n",
            "31/31 [==============================] - 1s 24ms/step - loss: 5.8656e-04\n",
            "Epoch 50/50\n",
            "29/31 [===========================>..] - ETA: 0s - loss: 7.4543e-04\n",
            "Tiempo de ejecución de la época 50 :  0.7341  segundos\n",
            "31/31 [==============================] - 1s 24ms/step - loss: 7.4338e-04\n"
          ]
        },
        {
          "output_type": "execute_result",
          "data": {
            "text/plain": [
              "<keras.callbacks.History at 0x7ff619406530>"
            ]
          },
          "metadata": {},
          "execution_count": 91
        }
      ]
    },
    {
      "cell_type": "markdown",
      "source": [
        "# Parte 5: Realizando predicciones"
      ],
      "metadata": {
        "id": "gdMUf8MfR5-D"
      }
    },
    {
      "cell_type": "markdown",
      "source": [
        "Primero definimos las funciones que serán necesarias para realizar predicciones de forma correcta"
      ],
      "metadata": {
        "id": "zvB7R5NTR-JP"
      }
    },
    {
      "cell_type": "code",
      "source": [
        "def generate_inputs_list(df, timesteps, values_to_predict=1):\n",
        "  '''\n",
        "  This function gets a df (best if this DF is already normalized) and generates an array with a length of the values to predict + total timesteps.\n",
        "  Each row of that array will have a length like the total features.\n",
        "  '''\n",
        "  inputs = df[len(df) - values_to_predict - timesteps:]\n",
        "  return inputs\n",
        "\n",
        "def generate_list_to_predict(inputs, timesteps=60):\n",
        "  X_test = []\n",
        "  total_inputs = len(inputs)\n",
        "  for i in range(timesteps, total_inputs): \n",
        "      X_test.append(inputs[i-timesteps:i, :])\n",
        "  X_test = np.array(X_test) # Debemos obtener un nparray\n",
        "  return np.reshape(X_test, (X_test.shape[0], X_test.shape[1], X_test.shape[2]))\n",
        "\n",
        "def make_predictions(list_to_predict, reference_df, predictor, ticker_name, scaler):\n",
        "  '''\n",
        "  This function returns two list: The first one contains the predicted prices, and the second one the normalizated predicted prices\n",
        "  '''\n",
        "  predicted_stock_prices_normalizated = predictor.predict(list_to_predict)\n",
        "  predicted_stock_prices = make_desnormalization(predicted_stock_prices_normalizated, reference_df, scaler)\n",
        "  return np.array(predicted_stock_prices).flatten(), np.array(predicted_stock_prices_normalizated).flatten()\n",
        "\n",
        "def make_desnormalization(df_to_desnormalize, parameter_df_desnormalize , scaler):\n",
        "  df_to_desnormalize = np.concatenate((df_to_desnormalize, np.zeros((df_to_desnormalize.shape[0], parameter_df_desnormalize.shape[1]-1))), axis=1)\n",
        "  df_to_desnormalize = scaler.inverse_transform(df_to_desnormalize)\n",
        "  return df_to_desnormalize[:,0]\n",
        "\n",
        "def get_real_prices(test_df, ticker_name, scaler):\n",
        "  normalizated_df = scaler.transform(test_df)\n",
        "  df = test_df.loc[:, ['Close_Price_%s' % ticker_name]]\n",
        "  return np.array(df).flatten(), normalizated_df[:,0]"
      ],
      "metadata": {
        "id": "6O1AHcrpSEaP"
      },
      "execution_count": 84,
      "outputs": []
    },
    {
      "cell_type": "markdown",
      "source": [
        "Para realizar ahora las predicciones necesitamos crear una lista / array de listas, donde cada una de esa lista contendrá los 60 previos precios del activo y demás variables necesarias para estimar el precio en el momento T+1. Para obtener esa lista necesitamos primero definir el objeto **inputs**, que es un array de listas que contiene un renglón del df_final normalizado. Una vez el objeto inputs, podemos generar el objeto **X_test** que es el array que utilizaremos para realizar las predicciones."
      ],
      "metadata": {
        "id": "3R-4r2ZaScKF"
      }
    },
    {
      "cell_type": "code",
      "source": [
        "input_scaler = MinMaxScaler(feature_range = (0, 1))\n",
        "df_normalizated = make_normalization(ticker_df_final, input_scaler)\n",
        "inputs = generate_inputs_list(df_normalizated, 60, len(test_df))\n",
        "X_test = generate_list_to_predict(inputs)"
      ],
      "metadata": {
        "id": "-poWnc8XSqBT"
      },
      "execution_count": 85,
      "outputs": []
    },
    {
      "cell_type": "markdown",
      "source": [
        "Usando la función *make_predictions()* obtenemos dos listas: Una lista de precios predichos normalizados y otra lista de precios predichos desnormalizados con el scaler pasado por parámetro. \n",
        "Luego con la función *get_real_prices()* obtenemos dos listas también, pero esta vez de los precios reales del activo."
      ],
      "metadata": {
        "id": "WfnCzlhRVCmK"
      }
    },
    {
      "cell_type": "code",
      "source": [
        "predicted_stock_prices, normalizated_predicted_stock_prices = make_predictions(X_test, ticker_df_final, regressor, ticker_name, input_scaler)\n",
        "real_stock_prices, real_stock_prices_normalizated = get_real_prices(test_df, ticker_name, input_scaler)"
      ],
      "metadata": {
        "colab": {
          "base_uri": "https://localhost:8080/"
        },
        "id": "P_XFo_gkU_2P",
        "outputId": "7df83532-cfdd-492b-dc06-b8a8c59c0498"
      },
      "execution_count": 86,
      "outputs": [
        {
          "output_type": "stream",
          "name": "stdout",
          "text": [
            "16/16 [==============================] - 0s 8ms/step\n"
          ]
        }
      ]
    },
    {
      "cell_type": "markdown",
      "source": [
        "Definimos una función para generar los DF de datos predichos vs reales:"
      ],
      "metadata": {
        "id": "HNXNoy5FXuS0"
      }
    },
    {
      "cell_type": "code",
      "source": [
        "def get_df_predicted_vs_real(list_of_real_prices, list_of_predicted_prices, normalizated=False):\n",
        "  if normalizated:\n",
        "    return pd.DataFrame({'Real price normalizated': list_of_real_prices, 'Predicted Price normalizated': list_of_predicted_prices})\n",
        "  else:\n",
        "    return pd.DataFrame({'Real price': list_of_real_prices, 'Predicted Price': list_of_predicted_prices})"
      ],
      "metadata": {
        "id": "YIfaqfNEXt4B"
      },
      "execution_count": 87,
      "outputs": []
    },
    {
      "cell_type": "code",
      "source": [
        "predicted_vs_real = get_df_predicted_vs_real(real_stock_prices, predicted_stock_prices)\n",
        "predicted_vs_real.index = test_df.index\n",
        "predicted_vs_real"
      ],
      "metadata": {
        "colab": {
          "base_uri": "https://localhost:8080/",
          "height": 455
        },
        "id": "JzKjIlTsYSsK",
        "outputId": "76fd2095-67c7-45a2-acca-3ae74337f0c1"
      },
      "execution_count": 88,
      "outputs": [
        {
          "output_type": "execute_result",
          "data": {
            "text/plain": [
              "            Real price  Predicted Price\n",
              "Date                                   \n",
              "2018-01-05  108.339996       108.310984\n",
              "2018-01-08  108.500000       108.344759\n",
              "2018-01-09  109.050003       108.407067\n",
              "2018-01-10  110.250000       108.778775\n",
              "2018-01-11  110.839996       109.557175\n",
              "...                ...              ...\n",
              "2019-12-24  137.580002       136.724345\n",
              "2019-12-26  139.039993       136.889593\n",
              "2019-12-27  139.139999       137.549815\n",
              "2019-12-30  138.630005       138.094154\n",
              "2019-12-31  139.399994       138.146874\n",
              "\n",
              "[500 rows x 2 columns]"
            ],
            "text/html": [
              "\n",
              "  <div id=\"df-3755e422-53be-443e-880b-5a093092ef1f\">\n",
              "    <div class=\"colab-df-container\">\n",
              "      <div>\n",
              "<style scoped>\n",
              "    .dataframe tbody tr th:only-of-type {\n",
              "        vertical-align: middle;\n",
              "    }\n",
              "\n",
              "    .dataframe tbody tr th {\n",
              "        vertical-align: top;\n",
              "    }\n",
              "\n",
              "    .dataframe thead th {\n",
              "        text-align: right;\n",
              "    }\n",
              "</style>\n",
              "<table border=\"1\" class=\"dataframe\">\n",
              "  <thead>\n",
              "    <tr style=\"text-align: right;\">\n",
              "      <th></th>\n",
              "      <th>Real price</th>\n",
              "      <th>Predicted Price</th>\n",
              "    </tr>\n",
              "    <tr>\n",
              "      <th>Date</th>\n",
              "      <th></th>\n",
              "      <th></th>\n",
              "    </tr>\n",
              "  </thead>\n",
              "  <tbody>\n",
              "    <tr>\n",
              "      <th>2018-01-05</th>\n",
              "      <td>108.339996</td>\n",
              "      <td>108.310984</td>\n",
              "    </tr>\n",
              "    <tr>\n",
              "      <th>2018-01-08</th>\n",
              "      <td>108.500000</td>\n",
              "      <td>108.344759</td>\n",
              "    </tr>\n",
              "    <tr>\n",
              "      <th>2018-01-09</th>\n",
              "      <td>109.050003</td>\n",
              "      <td>108.407067</td>\n",
              "    </tr>\n",
              "    <tr>\n",
              "      <th>2018-01-10</th>\n",
              "      <td>110.250000</td>\n",
              "      <td>108.778775</td>\n",
              "    </tr>\n",
              "    <tr>\n",
              "      <th>2018-01-11</th>\n",
              "      <td>110.839996</td>\n",
              "      <td>109.557175</td>\n",
              "    </tr>\n",
              "    <tr>\n",
              "      <th>...</th>\n",
              "      <td>...</td>\n",
              "      <td>...</td>\n",
              "    </tr>\n",
              "    <tr>\n",
              "      <th>2019-12-24</th>\n",
              "      <td>137.580002</td>\n",
              "      <td>136.724345</td>\n",
              "    </tr>\n",
              "    <tr>\n",
              "      <th>2019-12-26</th>\n",
              "      <td>139.039993</td>\n",
              "      <td>136.889593</td>\n",
              "    </tr>\n",
              "    <tr>\n",
              "      <th>2019-12-27</th>\n",
              "      <td>139.139999</td>\n",
              "      <td>137.549815</td>\n",
              "    </tr>\n",
              "    <tr>\n",
              "      <th>2019-12-30</th>\n",
              "      <td>138.630005</td>\n",
              "      <td>138.094154</td>\n",
              "    </tr>\n",
              "    <tr>\n",
              "      <th>2019-12-31</th>\n",
              "      <td>139.399994</td>\n",
              "      <td>138.146874</td>\n",
              "    </tr>\n",
              "  </tbody>\n",
              "</table>\n",
              "<p>500 rows × 2 columns</p>\n",
              "</div>\n",
              "      <button class=\"colab-df-convert\" onclick=\"convertToInteractive('df-3755e422-53be-443e-880b-5a093092ef1f')\"\n",
              "              title=\"Convert this dataframe to an interactive table.\"\n",
              "              style=\"display:none;\">\n",
              "        \n",
              "  <svg xmlns=\"http://www.w3.org/2000/svg\" height=\"24px\"viewBox=\"0 0 24 24\"\n",
              "       width=\"24px\">\n",
              "    <path d=\"M0 0h24v24H0V0z\" fill=\"none\"/>\n",
              "    <path d=\"M18.56 5.44l.94 2.06.94-2.06 2.06-.94-2.06-.94-.94-2.06-.94 2.06-2.06.94zm-11 1L8.5 8.5l.94-2.06 2.06-.94-2.06-.94L8.5 2.5l-.94 2.06-2.06.94zm10 10l.94 2.06.94-2.06 2.06-.94-2.06-.94-.94-2.06-.94 2.06-2.06.94z\"/><path d=\"M17.41 7.96l-1.37-1.37c-.4-.4-.92-.59-1.43-.59-.52 0-1.04.2-1.43.59L10.3 9.45l-7.72 7.72c-.78.78-.78 2.05 0 2.83L4 21.41c.39.39.9.59 1.41.59.51 0 1.02-.2 1.41-.59l7.78-7.78 2.81-2.81c.8-.78.8-2.07 0-2.86zM5.41 20L4 18.59l7.72-7.72 1.47 1.35L5.41 20z\"/>\n",
              "  </svg>\n",
              "      </button>\n",
              "      \n",
              "  <style>\n",
              "    .colab-df-container {\n",
              "      display:flex;\n",
              "      flex-wrap:wrap;\n",
              "      gap: 12px;\n",
              "    }\n",
              "\n",
              "    .colab-df-convert {\n",
              "      background-color: #E8F0FE;\n",
              "      border: none;\n",
              "      border-radius: 50%;\n",
              "      cursor: pointer;\n",
              "      display: none;\n",
              "      fill: #1967D2;\n",
              "      height: 32px;\n",
              "      padding: 0 0 0 0;\n",
              "      width: 32px;\n",
              "    }\n",
              "\n",
              "    .colab-df-convert:hover {\n",
              "      background-color: #E2EBFA;\n",
              "      box-shadow: 0px 1px 2px rgba(60, 64, 67, 0.3), 0px 1px 3px 1px rgba(60, 64, 67, 0.15);\n",
              "      fill: #174EA6;\n",
              "    }\n",
              "\n",
              "    [theme=dark] .colab-df-convert {\n",
              "      background-color: #3B4455;\n",
              "      fill: #D2E3FC;\n",
              "    }\n",
              "\n",
              "    [theme=dark] .colab-df-convert:hover {\n",
              "      background-color: #434B5C;\n",
              "      box-shadow: 0px 1px 3px 1px rgba(0, 0, 0, 0.15);\n",
              "      filter: drop-shadow(0px 1px 2px rgba(0, 0, 0, 0.3));\n",
              "      fill: #FFFFFF;\n",
              "    }\n",
              "  </style>\n",
              "\n",
              "      <script>\n",
              "        const buttonEl =\n",
              "          document.querySelector('#df-3755e422-53be-443e-880b-5a093092ef1f button.colab-df-convert');\n",
              "        buttonEl.style.display =\n",
              "          google.colab.kernel.accessAllowed ? 'block' : 'none';\n",
              "\n",
              "        async function convertToInteractive(key) {\n",
              "          const element = document.querySelector('#df-3755e422-53be-443e-880b-5a093092ef1f');\n",
              "          const dataTable =\n",
              "            await google.colab.kernel.invokeFunction('convertToInteractive',\n",
              "                                                     [key], {});\n",
              "          if (!dataTable) return;\n",
              "\n",
              "          const docLinkHtml = 'Like what you see? Visit the ' +\n",
              "            '<a target=\"_blank\" href=https://colab.research.google.com/notebooks/data_table.ipynb>data table notebook</a>'\n",
              "            + ' to learn more about interactive tables.';\n",
              "          element.innerHTML = '';\n",
              "          dataTable['output_type'] = 'display_data';\n",
              "          await google.colab.output.renderOutput(dataTable, element);\n",
              "          const docLink = document.createElement('div');\n",
              "          docLink.innerHTML = docLinkHtml;\n",
              "          element.appendChild(docLink);\n",
              "        }\n",
              "      </script>\n",
              "    </div>\n",
              "  </div>\n",
              "  "
            ]
          },
          "metadata": {},
          "execution_count": 88
        }
      ]
    },
    {
      "cell_type": "markdown",
      "metadata": {
        "id": "7c7HBL75jl7Z"
      },
      "source": [
        "# Part 6 - Visualizando los resultados"
      ]
    },
    {
      "cell_type": "code",
      "source": [
        "y_real = predicted_vs_real['Real price']\n",
        "y_pred = predicted_vs_real['Predicted Price']"
      ],
      "metadata": {
        "id": "X0qsOJ5F191s"
      },
      "execution_count": 95,
      "outputs": []
    },
    {
      "cell_type": "markdown",
      "source": [
        "### Gráfico de dispersión (scatter plot):\n",
        "\n",
        "*   Cada punto en el gráfico representa una observación, donde el eje x muestra los valores reales y el eje y muestra los valores predichos..\n",
        "*   Si los puntos están cerca de la línea diagonal que atraviesa el gráfico (línea de 45 grados), indica que las predicciones se alinean bien con los valores reales.\n",
        "*   Si los puntos se dispersan alrededor de la línea diagonal, indica cierta variabilidad en las predicciones. La dispersión puede ser esperada en algunos casos, especialmente cuando hay ruido o incertidumbre en los datos. \n",
        "*   Si los puntos se desvían significativamente de la línea diagonal o forman un patrón distinto, puede indicar un sesgo o error sistemático en las predicciones.\n",
        "\n",
        "\n",
        "> *Al interpretar el scatter-plot, es importante observar la distribución de los puntos y la relación general entre los valores reales y los valores predichos. Un gráfico donde los puntos se agrupan cerca de la línea diagonal y no muestran un patrón claro sugiere una buena calidad de predicción.*\n",
        "\n"
      ],
      "metadata": {
        "id": "8q0QMYpMeBWP"
      }
    },
    {
      "cell_type": "code",
      "source": [
        "fig, ax = plt.subplots(figsize=(8, 6))\n",
        "ax.scatter(y_real, y_pred, color='b', alpha=0.7)\n",
        "\n",
        "# Personalizar el gráfico\n",
        "ax.set_xlabel('Real Price')\n",
        "ax.set_ylabel('Predicted Price')\n",
        "ax.set_title('Scatter Plot: Real vs. Predicted Price')\n",
        "ax.grid(True)\n",
        "\n",
        "# Añadir una línea de tendencia\n",
        "fit = np.polyfit(y_real, y_pred, deg=1)\n",
        "ax.plot(y_real, fit[0] * y_real + fit[1], color='r', linewidth=2)\n",
        "\n",
        "plt.show()"
      ],
      "metadata": {
        "colab": {
          "base_uri": "https://localhost:8080/",
          "height": 0
        },
        "id": "EUKZSNNN0Ryf",
        "outputId": "10205bf6-7974-4138-8dd3-c9cdd542e7b7"
      },
      "execution_count": 96,
      "outputs": [
        {
          "output_type": "display_data",
          "data": {
            "text/plain": [
              "<Figure size 800x600 with 1 Axes>"
            ],
            "image/png": "[encoded data removed]"
          },
          "metadata": {}
        }
      ]
    },
    {
      "cell_type": "markdown",
      "source": [
        "### Gráfico de Líneas (Line Plot):\n",
        "\n",
        "*   El eje x representa el tiempo, mientras que el eje y muestra los valores de los precios.\n",
        "*   La línea negra representa los valores reales de los precios a lo largo del tiempo.\n",
        "*   La línea roja representa los valores predichos de los precios a lo largo del tiempo. \n",
        "*   Si los puntos de la línea roja siguen de cerca los puntos de la línea negra, indica que las predicciones están en línea con los valores reales.\n",
        "*   Si hay una discrepancia significativa entre las dos líneas, puede indicar que las predicciones no son precisas o que hay una diferencia entre los datos reales y los datos predichos.\n",
        "\n",
        "\n",
        "\n"
      ],
      "metadata": {
        "id": "3ZkCWwEBqQ_m"
      }
    },
    {
      "cell_type": "code",
      "source": [
        "# Crear gráfico de líneas\n",
        "fig, ax = plt.subplots(figsize=(8, 6))\n",
        "ax.plot(y_real, color='black', label='Real Price')\n",
        "ax.plot(y_pred, color='red', label='Predicted Price')\n",
        "\n",
        "# Personalizar el gráfico\n",
        "ax.set_xlabel('Time')\n",
        "ax.set_ylabel('Price')\n",
        "ax.set_title('Real vs. Predicted Price')\n",
        "ax.grid(True)\n",
        "ax.legend()\n",
        "\n",
        "plt.show()\n"
      ],
      "metadata": {
        "colab": {
          "base_uri": "https://localhost:8080/",
          "height": 0
        },
        "id": "d8MqZ4_317l9",
        "outputId": "b6f8bbf5-7a87-4507-cd57-7519c6b88b7f"
      },
      "execution_count": 97,
      "outputs": [
        {
          "output_type": "display_data",
          "data": {
            "text/plain": [
              "<Figure size 800x600 with 1 Axes>"
            ],
            "image/png": "[encoded data removed]"
          },
          "metadata": {}
        }
      ]
    },
    {
      "cell_type": "markdown",
      "source": [
        "### Gráfico de Errores (Error Plot):\n",
        "- El eje x representa el tiempo, mientras que el eje y muestra los errores de predicción.\n",
        "- Los errores son la diferencia entre los valores reales y los valores predichos\n",
        "\n",
        "> *Si los errores están cerca de cero o tienen una distribución aleatoria alrededor de cero, indica que las predicciones son precisas y están en línea con los valores reales.*\n",
        "\n"
      ],
      "metadata": {
        "id": "ZuWWEQiyeh-3"
      }
    },
    {
      "cell_type": "code",
      "source": [
        "# Calcular los errores\n",
        "errors = y_real - y_pred\n",
        "\n",
        "# Crear gráfico de errores\n",
        "fig, ax = plt.subplots(figsize=(8, 6))\n",
        "ax.plot(errors, color='g')\n",
        "\n",
        "# Personalizar el gráfico\n",
        "ax.set_xlabel('Time')\n",
        "ax.set_ylabel('Error')\n",
        "ax.set_title('Prediction Errors')\n",
        "ax.grid(True)\n",
        "\n",
        "plt.show()"
      ],
      "metadata": {
        "colab": {
          "base_uri": "https://localhost:8080/",
          "height": 0
        },
        "id": "mkIEESG22TPy",
        "outputId": "fd792002-6620-4b53-ac9d-87b6b911a9ca"
      },
      "execution_count": 98,
      "outputs": [
        {
          "output_type": "display_data",
          "data": {
            "text/plain": [
              "<Figure size 800x600 with 1 Axes>"
            ],
            "image/png": "[encoded data removed]"
          },
          "metadata": {}
        }
      ]
    },
    {
      "cell_type": "markdown",
      "metadata": {
        "id": "e93RYHBvf1Hc"
      },
      "source": [
        "# Part 7 - Evaluando la performance de la red"
      ]
    },
    {
      "cell_type": "markdown",
      "source": [
        "## 7.1) Midiendo el costo computacional\n",
        "\n",
        "Para medir el costo computacional calculamos:\n",
        "\n",
        "*   La media y la mediana del tiempo de ejecución de cada época\n",
        "*   Tiempo total de entrenamiento de la red\n",
        "\n"
      ],
      "metadata": {
        "id": "VjuqhZ_Qjhtm"
      }
    },
    {
      "cell_type": "code",
      "source": [
        "epoch_times = epoch_timer.epoch_times\n",
        "mean_time = np.mean(epoch_times)\n",
        "median_time = np.median(epoch_times)\n",
        "total_time = mean_time*num_epochs\n",
        "print('Tiempo de ejecución medio: {:.2f} segundos'.format(mean_time))\n",
        "print('Tiempo de ejecución mediano: {:.2f} segundos'.format(median_time))\n",
        "print('Tiempo de ejecución total: {:.2f} segundos'.format(total_time))"
      ],
      "metadata": {
        "colab": {
          "base_uri": "https://localhost:8080/"
        },
        "id": "5dCM9_7sjl8o",
        "outputId": "cd2721b0-c597-46d8-8727-3076119ac41d"
      },
      "execution_count": 92,
      "outputs": [
        {
          "output_type": "stream",
          "name": "stdout",
          "text": [
            "Tiempo de ejecución medio: 0.82 segundos\n",
            "Tiempo de ejecución mediano: 0.75 segundos\n",
            "Tiempo de ejecución total: 40.87 segundos\n"
          ]
        }
      ]
    },
    {
      "cell_type": "markdown",
      "metadata": {
        "id": "sk5jh3Z9fk_B"
      },
      "source": [
        "## 7.2) Midiendo el rendimiento de la red\n",
        "\n",
        "Para medir la performance de la red, calcularemos dos indicadores:\n",
        "\n",
        "\n",
        "*   Coeficiente de determinación => El coeficiente de determinación o R^2 es un indicador que varía entre 0 y 1, donde cuanto más tienda a 1 el valor, mejor será la cappacidad de predicción del modelo.\n",
        "*   Mean-squeare-error (MSE) => El error cuadrático medio o MSE, mide el promedio de los errores al cuadrador entre las predicciones y los valores reales. Mientras más bajo el valor, mayor es la precisión del model\n",
        "\n"
      ]
    },
    {
      "cell_type": "code",
      "execution_count": 99,
      "metadata": {
        "colab": {
          "base_uri": "https://localhost:8080/"
        },
        "id": "-A8Qw5FGgdwV",
        "outputId": "9723e98b-1787-4458-8c1d-10346c21db1c"
      },
      "outputs": [
        {
          "output_type": "stream",
          "name": "stdout",
          "text": [
            "Coeficiente de determinación (R^2): 0.9519831976529979\n"
          ]
        }
      ],
      "source": [
        "r2 = r2_score(y_real, y_pred)\n",
        "print(\"Coeficiente de determinación (R^2):\", r2)"
      ]
    },
    {
      "cell_type": "code",
      "execution_count": 100,
      "metadata": {
        "colab": {
          "base_uri": "https://localhost:8080/"
        },
        "id": "Ci_r5VI8mbPD",
        "outputId": "522384cb-5575-4354-8a2c-b87251fe665a"
      },
      "outputs": [
        {
          "output_type": "stream",
          "name": "stdout",
          "text": [
            "Error cuadrático medio (MSE): 3.2881669917177687\n"
          ]
        }
      ],
      "source": [
        "mse = mean_squared_error(y_real, y_pred)\n",
        "print(\"Error cuadrático medio (MSE):\", mse)"
      ]
    },
    {
      "cell_type": "markdown",
      "source": [
        "# Bonus Track: Evaluar cada arquitectura de red con los valores óptimos de los hiperparámetros"
      ],
      "metadata": {
        "id": "vZyekmW0Yf_d"
      }
    },
    {
      "cell_type": "markdown",
      "source": [
        "Defino la función start() que iterará 10 veces y en cada una de las iteracioes computa los valores de performance obtenidos (MSE,Coeficiente de determinación y el tiempo total de ejecución). "
      ],
      "metadata": {
        "id": "-aBSwwHFmp81"
      }
    },
    {
      "cell_type": "code",
      "source": [
        "def start(lr, neurons, epochs, batch):\n",
        "  mse_values = []\n",
        "  r_values = []\n",
        "  performance_times = []\n",
        "  times = 10\n",
        "  regressor = Sequential()\n",
        "  regressor = init_network(regressor, lr, neurons)\n",
        "  for i in range(0,times): \n",
        "    print(\"\\nEmpezando la corrida numero: \", i, \", para la red de \", neurons, \" neuronas\")\n",
        "    # training \n",
        "    epoch_timer = EpochTimer()\n",
        "    history = regressor.fit(X_train, y_train, epochs=epochs, batch_size=batch, callbacks=[epoch_timer])\n",
        "\n",
        "    # predictions\n",
        "    predicted_stock_prices, predicted_stock_prices_normalizated = make_predictions(X_test, ticker_df_final, regressor, ticker_name, input_scaler)\n",
        "    real_stock_prices, real_stock_prices_normalizated = get_real_prices(test_df, ticker_name, input_scaler)\n",
        "    predicted_vs_real = get_df_predicted_vs_real(real_stock_prices, predicted_stock_prices)\n",
        "\n",
        "    # compute performance ratios\n",
        "    # computing performance \n",
        "    epoch_times = epoch_timer.epoch_times\n",
        "    mean_time = np.mean(epoch_times)\n",
        "    total_time = mean_time*num_epochs \n",
        "    performance_times.append(round(total_time, 3))\n",
        "\n",
        "    # network performance\n",
        "    y_real = predicted_vs_real['Real price']\n",
        "    y_pred = predicted_vs_real['Predicted Price']\n",
        "    mse = mean_squared_error(y_real, y_pred)\n",
        "    r2 = r2_score(y_real, y_pred)\n",
        "    mse_values.append(round(mse, 3))\n",
        "    r_values.append(round(r2, 3))\n",
        "\n",
        "  return mse_values, performance_times, r_values"
      ],
      "metadata": {
        "id": "yKK_T4H-e32U"
      },
      "execution_count": null,
      "outputs": []
    },
    {
      "cell_type": "markdown",
      "source": [
        "La clase Config tiene cada una de las configuraciones de los hiperparámetros óptimas para cada una de las arquitecturas de red LSTM (de 25, 50, 75 y 100 hidden-units). Además para cada una de estas arquitecturas óptimas, agregamos 3 atributos de performance: MSE_values, r2_values y performance_time, donde en cada uno de estos, en cada iteración de la red, computaremos los resultados de dicha iteración-"
      ],
      "metadata": {
        "id": "xnrj8wBKnnX1"
      }
    },
    {
      "cell_type": "code",
      "source": [
        "from typing import NamedTuple\n",
        "from typing import List\n",
        "\n",
        "class Config(NamedTuple):\n",
        "    hidden_units: int\n",
        "    lr: float\n",
        "    batch_size: int\n",
        "    num_epochs: int\n",
        "    MSE_values: List[float]\n",
        "    r2_values: List[float]\n",
        "    performance_time: List[float]\n",
        "\n",
        "num_epochs = 50\n",
        "rnn = Config(hidden_units=100, lr=0.001, batch_size=16, num_epochs=num_epochs, MSE_values=[], r2_values = [], performance_time=[])\n",
        "\n",
        "mse_values, times, r2_val = start(rnn.lr, rnn.hidden_units, rnn.num_epochs, rnn.batch_size)\n",
        "rnn = rnn._replace(MSE_values=mse_values, r2_values=r2_val, performance_time=times)"
      ],
      "metadata": {
        "id": "60SLSPaAnno5"
      },
      "execution_count": null,
      "outputs": []
    },
    {
      "cell_type": "markdown",
      "source": [
        "RateSummary es la clase que usaremos para guardar los resultados de cada uno de los indicadores de performance de la red y de costo computacional para cada una de las configuraciones óptimas de los hiperparámetros de cada arquitectura de la Single-Layer LSTM."
      ],
      "metadata": {
        "id": "VPBY7882nJyl"
      }
    },
    {
      "cell_type": "code",
      "source": [
        "class RateSummary(NamedTuple):\n",
        "    min_value: float\n",
        "    max_value: float\n",
        "    average: float\n",
        "    median: float\n",
        "    std: float \n",
        "\n",
        "mse = rnn.MSE_values\n",
        "mse_summary = RateSummary(min_value=round(np.min(mse),3), max_value=round(np.max(mse),3), average=round(np.mean(mse),3), median=round(np.median(mse),3), std=round(np.std(mse),3))\n",
        "\n",
        "r2 = rnn.r2_values\n",
        "r2_summary = RateSummary(min_value=round(np.min(r2),3), max_value=round(np.max(r2),3), average=round(np.mean(r2),3), median=round(np.median(r2),3), std=round(np.std(r2),3))\n",
        "\n",
        "times = rnn.performance_time\n",
        "ptime_summary = RateSummary(min_value=round(np.min(times),3), max_value=round(np.max(times),3), average=round(np.mean(times),3), median=round(np.median(times),3), std=round(np.std(times),3))"
      ],
      "metadata": {
        "id": "NIHz6kAS7DqU"
      },
      "execution_count": null,
      "outputs": []
    },
    {
      "cell_type": "code",
      "source": [
        "print(\"Summaries: \")\n",
        "print(\"- Performance Time summary: \", ptime_summary)\n",
        "print(\"- Mean Square Error summary: \", mse_summary)\n",
        "print(\"- R2: \", r2_summary)"
      ],
      "metadata": {
        "colab": {
          "base_uri": "https://localhost:8080/"
        },
        "id": "z9C6AzyxB7JM",
        "outputId": "43e57d1c-56ce-42ed-9ed7-f9078806f381"
      },
      "execution_count": null,
      "outputs": [
        {
          "output_type": "stream",
          "name": "stdout",
          "text": [
            "Summaries: \n",
            "- Performance Time summary:  RateSummary(min_value=251.183, max_value=290.28, average=268.231, median=265.531, std=12.454)\n",
            "- Mean Square Error summary:  RateSummary(min_value=2.204, max_value=7.942, average=3.179, median=2.574, std=1.643)\n",
            "- R2:  RateSummary(min_value=0.884, max_value=0.968, average=0.953, median=0.962, std=0.024)\n"
          ]
        }
      ]
    }
  ]
}